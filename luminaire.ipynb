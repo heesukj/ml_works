{
  "cells": [
    {
      "cell_type": "code",
      "execution_count": null,
      "metadata": {
        "colab": {
          "base_uri": "https://localhost:8080/"
        },
        "id": "rVO43A4nSgAx",
        "outputId": "f4f93c4d-b1de-42d1-85d3-93086dc0ba37"
      },
      "outputs": [
        {
          "name": "stdout",
          "output_type": "stream",
          "text": [
            "Requirement already satisfied: luminaire in /usr/local/lib/python3.7/dist-packages (0.2.1)\n",
            "Requirement already satisfied: bayesian-changepoint-detection==0.2.dev1 in /usr/local/lib/python3.7/dist-packages (from luminaire) (0.2.dev1)\n",
            "Requirement already satisfied: scikit-learn==0.19.2 in /usr/local/lib/python3.7/dist-packages (from luminaire) (0.19.2)\n",
            "Requirement already satisfied: changepy==0.3.1 in /usr/local/lib/python3.7/dist-packages (from luminaire) (0.3.1)\n",
            "Requirement already satisfied: pykalman==0.9.5 in /usr/local/lib/python3.7/dist-packages (from luminaire) (0.9.5)\n",
            "Requirement already satisfied: hyperopt==0.1.2 in /usr/local/lib/python3.7/dist-packages (from luminaire) (0.1.2)\n",
            "Requirement already satisfied: scipy==1.2.3 in /usr/local/lib/python3.7/dist-packages (from luminaire) (1.2.3)\n",
            "Requirement already satisfied: numpy==1.17.5 in /usr/local/lib/python3.7/dist-packages (from luminaire) (1.17.5)\n",
            "Requirement already satisfied: statsmodels==0.10.2 in /usr/local/lib/python3.7/dist-packages (from luminaire) (0.10.2)\n",
            "Requirement already satisfied: pandas==0.25.3 in /usr/local/lib/python3.7/dist-packages (from luminaire) (0.25.3)\n",
            "Requirement already satisfied: networkx in /usr/local/lib/python3.7/dist-packages (from hyperopt==0.1.2->luminaire) (2.5.1)\n",
            "Requirement already satisfied: pymongo in /usr/local/lib/python3.7/dist-packages (from hyperopt==0.1.2->luminaire) (3.11.4)\n",
            "Requirement already satisfied: future in /usr/local/lib/python3.7/dist-packages (from hyperopt==0.1.2->luminaire) (0.16.0)\n",
            "Requirement already satisfied: tqdm in /usr/local/lib/python3.7/dist-packages (from hyperopt==0.1.2->luminaire) (4.41.1)\n",
            "Requirement already satisfied: six in /usr/local/lib/python3.7/dist-packages (from hyperopt==0.1.2->luminaire) (1.15.0)\n",
            "Requirement already satisfied: patsy>=0.4.0 in /usr/local/lib/python3.7/dist-packages (from statsmodels==0.10.2->luminaire) (0.5.1)\n",
            "Requirement already satisfied: pytz>=2017.2 in /usr/local/lib/python3.7/dist-packages (from pandas==0.25.3->luminaire) (2018.9)\n",
            "Requirement already satisfied: python-dateutil>=2.6.1 in /usr/local/lib/python3.7/dist-packages (from pandas==0.25.3->luminaire) (2.8.1)\n",
            "Requirement already satisfied: decorator<5,>=4.3 in /usr/local/lib/python3.7/dist-packages (from networkx->hyperopt==0.1.2->luminaire) (4.4.2)\n"
          ]
        }
      ],
      "source": [
        "!pip install luminaire"
      ]
    },
    {
      "cell_type": "code",
      "execution_count": null,
      "metadata": {
        "id": "Bs9NWO27S-VX"
      },
      "outputs": [],
      "source": [
        "import os\n",
        "import pandas as pd\n",
        "import numpy as np\n",
        "import datetime\n",
        "\n",
        "import itertools\n",
        "\n",
        "from sklearn.metrics import r2_score\n",
        "from sklearn.metrics import mean_squared_error, mean_absolute_error\n",
        "from sklearn.model_selection import train_test_split\n",
        "\n",
        "import matplotlib.pyplot as plt\n",
        "import seaborn as sns\n",
        "\n",
        "pd.set_option('display.float_format', lambda x: '{:.15f}'.format(x))"
      ]
    },
    {
      "cell_type": "code",
      "execution_count": null,
      "metadata": {
        "colab": {
          "base_uri": "https://localhost:8080/",
          "height": 419
        },
        "id": "kUKVjn0jSli8",
        "outputId": "8a5ab293-8d07-4097-b89a-0013f71b7ba2"
      },
      "outputs": [
        {
          "data": {
            "text/html": [
              "<div>\n",
              "<style scoped>\n",
              "    .dataframe tbody tr th:only-of-type {\n",
              "        vertical-align: middle;\n",
              "    }\n",
              "\n",
              "    .dataframe tbody tr th {\n",
              "        vertical-align: top;\n",
              "    }\n",
              "\n",
              "    .dataframe thead th {\n",
              "        text-align: right;\n",
              "    }\n",
              "</style>\n",
              "<table border=\"1\" class=\"dataframe\">\n",
              "  <thead>\n",
              "    <tr style=\"text-align: right;\">\n",
              "      <th></th>\n",
              "      <th>uch_level_g</th>\n",
              "      <th>basecode</th>\n",
              "      <th>generic_cust_item_id</th>\n",
              "      <th>fscl_wk_end_dt</th>\n",
              "      <th>dlv_units</th>\n",
              "    </tr>\n",
              "  </thead>\n",
              "  <tbody>\n",
              "    <tr>\n",
              "      <th>0</th>\n",
              "      <td>CA4000320</td>\n",
              "      <td>681000145500</td>\n",
              "      <td>0</td>\n",
              "      <td>2017-11-25</td>\n",
              "      <td>38</td>\n",
              "    </tr>\n",
              "    <tr>\n",
              "      <th>1</th>\n",
              "      <td>CA4000320</td>\n",
              "      <td>681000145500</td>\n",
              "      <td>0</td>\n",
              "      <td>2017-12-23</td>\n",
              "      <td>34</td>\n",
              "    </tr>\n",
              "    <tr>\n",
              "      <th>2</th>\n",
              "      <td>CA4000320</td>\n",
              "      <td>681000145500</td>\n",
              "      <td>0</td>\n",
              "      <td>2018-02-03</td>\n",
              "      <td>40</td>\n",
              "    </tr>\n",
              "    <tr>\n",
              "      <th>3</th>\n",
              "      <td>CA4000320</td>\n",
              "      <td>681000145500</td>\n",
              "      <td>0</td>\n",
              "      <td>2018-03-17</td>\n",
              "      <td>35</td>\n",
              "    </tr>\n",
              "    <tr>\n",
              "      <th>4</th>\n",
              "      <td>CA4000320</td>\n",
              "      <td>681000145500</td>\n",
              "      <td>0</td>\n",
              "      <td>2018-04-28</td>\n",
              "      <td>43</td>\n",
              "    </tr>\n",
              "    <tr>\n",
              "      <th>...</th>\n",
              "      <td>...</td>\n",
              "      <td>...</td>\n",
              "      <td>...</td>\n",
              "      <td>...</td>\n",
              "      <td>...</td>\n",
              "    </tr>\n",
              "    <tr>\n",
              "      <th>15419</th>\n",
              "      <td>CA4001315</td>\n",
              "      <td>681008965100</td>\n",
              "      <td>540</td>\n",
              "      <td>2021-03-13</td>\n",
              "      <td>120</td>\n",
              "    </tr>\n",
              "    <tr>\n",
              "      <th>15420</th>\n",
              "      <td>CA4001315</td>\n",
              "      <td>681008965100</td>\n",
              "      <td>540</td>\n",
              "      <td>2021-05-08</td>\n",
              "      <td>15</td>\n",
              "    </tr>\n",
              "    <tr>\n",
              "      <th>15421</th>\n",
              "      <td>CA4001315</td>\n",
              "      <td>681008965100</td>\n",
              "      <td>540</td>\n",
              "      <td>2021-05-22</td>\n",
              "      <td>60</td>\n",
              "    </tr>\n",
              "    <tr>\n",
              "      <th>15422</th>\n",
              "      <td>CA4001315</td>\n",
              "      <td>681008965100</td>\n",
              "      <td>540</td>\n",
              "      <td>2021-05-29</td>\n",
              "      <td>15</td>\n",
              "    </tr>\n",
              "    <tr>\n",
              "      <th>15423</th>\n",
              "      <td>CA4001315</td>\n",
              "      <td>681008965100</td>\n",
              "      <td>540</td>\n",
              "      <td>2021-06-26</td>\n",
              "      <td>90</td>\n",
              "    </tr>\n",
              "  </tbody>\n",
              "</table>\n",
              "<p>15424 rows × 5 columns</p>\n",
              "</div>"
            ],
            "text/plain": [
              "      uch_level_g      basecode  generic_cust_item_id fscl_wk_end_dt  dlv_units\n",
              "0       CA4000320  681000145500                     0     2017-11-25         38\n",
              "1       CA4000320  681000145500                     0     2017-12-23         34\n",
              "2       CA4000320  681000145500                     0     2018-02-03         40\n",
              "3       CA4000320  681000145500                     0     2018-03-17         35\n",
              "4       CA4000320  681000145500                     0     2018-04-28         43\n",
              "...           ...           ...                   ...            ...        ...\n",
              "15419   CA4001315  681008965100                   540     2021-03-13        120\n",
              "15420   CA4001315  681008965100                   540     2021-05-08         15\n",
              "15421   CA4001315  681008965100                   540     2021-05-22         60\n",
              "15422   CA4001315  681008965100                   540     2021-05-29         15\n",
              "15423   CA4001315  681008965100                   540     2021-06-26         90\n",
              "\n",
              "[15424 rows x 5 columns]"
            ]
          },
          "execution_count": 8,
          "metadata": {
            "tags": []
          },
          "output_type": "execute_result"
        }
      ],
      "source": [
        "df_shipment = pd.read_csv('result_shipment_only.csv')\n",
        "#df2 = pd.read_csv('result_shipment_only_2.csv')\n",
        "#df3 = pd.read_csv('result_shipment_only_3.csv')\n",
        "#df = pd.concat([df1, df2, df3])\n",
        "#df_shipment = df_shipment.assign(generic_cust_item_id=(df_shipment['UCH_LEVEL_G'].astype(str) + '_' + df_shipment['BASECODE'].astype(str)).astype('category').cat.codes)\n",
        "df_shipment.columns = [c.lower() for c in df_shipment.columns]\n",
        "#Converting fscl_wk_end_dt column to datetime format\n",
        "df_shipment['fscl_wk_end_dt'] = pd.to_datetime(df_shipment['fscl_wk_end_dt'])\n",
        "#df_shipment.set_index('fscl_wk_end_dt', inplace=True)\n",
        "\n",
        "df_cust_po = pd.read_csv('result_cust_po.csv')\n",
        "#df2 = pd.read_csv('result_shipment_only_2.csv')\n",
        "#df3 = pd.read_csv('result_shipment_only_3.csv')\n",
        "#df = pd.concat([df1, df2, df3])\n",
        "#df_cust_po = df_cust_po.assign(generic_cust_item_id=(df_cust_po['UCH_LEVEL_G'].astype(str) + '_' + df_cust_po['BASECODE'].astype(str)).astype('category').cat.codes)\n",
        "df_cust_po.columns = [c.lower() for c in df_cust_po.columns]\n",
        "#Converting fscl_wk_end_dt column to datetime format\n",
        "df_cust_po['fscl_wk_end_dt'] = pd.to_datetime(df_cust_po['fscl_wk_end_dt'])\n",
        "#df_cust_po.set_index('fscl_wk_end_dt', inplace=True)\n",
        "\n",
        "df_po_vs_shipment = pd.merge(df_shipment[['uch_level_g','basecode','fscl_wk_end_dt','sales_document','material','dlv_units']], df_cust_po[['uch_level_g','basecode','fscl_wk_end_dt','sales_document','material','total_units_ordered']], on=['uch_level_g','basecode','fscl_wk_end_dt','sales_document','material'], how=\"inner\")\n",
        "df_po_vs_shipment = df_po_vs_shipment.assign(generic_cust_item_id=(df_po_vs_shipment['uch_level_g'].astype(str) + '_' + df_po_vs_shipment['basecode'].astype(str)).astype('category').cat.codes)\n",
        "\n",
        "df_po_vs_shipment.set_index(['fscl_wk_end_dt'], inplace=True)\n",
        "df_po_vs_shipment.total_units_ordered = df_po_vs_shipment.total_units_ordered.astype(int)\n",
        "df_po_vs_shipment = df_po_vs_shipment[['uch_level_g','basecode','generic_cust_item_id', 'dlv_units']]\n",
        "df_po_vs_shipment.to_csv('df_po_vs_shipment.csv')\n",
        "\n",
        "df_po_vs_shipment_agg=df_po_vs_shipment.reset_index().groupby(['uch_level_g','basecode','generic_cust_item_id', 'fscl_wk_end_dt'])[[\"dlv_units\"]].agg([\"sum\"]).reset_index()\n",
        "df_po_vs_shipment_agg.columns = ['uch_level_g','basecode','generic_cust_item_id', 'fscl_wk_end_dt','dlv_units']\n",
        "#df_po_vs_shipment_agg.set_index('fscl_wk_end_dt', inplace=True)\n",
        "df_po_vs_shipment_agg"
      ]
    },
    {
      "cell_type": "code",
      "execution_count": null,
      "metadata": {
        "colab": {
          "base_uri": "https://localhost:8080/",
          "height": 450
        },
        "id": "b8vTp3CDTkqG",
        "outputId": "365d4335-5481-45b4-bf23-96ab84144892"
      },
      "outputs": [
        {
          "data": {
            "text/html": [
              "<div>\n",
              "<style scoped>\n",
              "    .dataframe tbody tr th:only-of-type {\n",
              "        vertical-align: middle;\n",
              "    }\n",
              "\n",
              "    .dataframe tbody tr th {\n",
              "        vertical-align: top;\n",
              "    }\n",
              "\n",
              "    .dataframe thead th {\n",
              "        text-align: right;\n",
              "    }\n",
              "</style>\n",
              "<table border=\"1\" class=\"dataframe\">\n",
              "  <thead>\n",
              "    <tr style=\"text-align: right;\">\n",
              "      <th></th>\n",
              "      <th>raw</th>\n",
              "    </tr>\n",
              "    <tr>\n",
              "      <th>dteday</th>\n",
              "      <th></th>\n",
              "    </tr>\n",
              "  </thead>\n",
              "  <tbody>\n",
              "    <tr>\n",
              "      <th>2017-12-02</th>\n",
              "      <td>12.000000000000000</td>\n",
              "    </tr>\n",
              "    <tr>\n",
              "      <th>2017-12-09</th>\n",
              "      <td>4.076923076923077</td>\n",
              "    </tr>\n",
              "    <tr>\n",
              "      <th>2017-12-16</th>\n",
              "      <td>4.076923076923077</td>\n",
              "    </tr>\n",
              "    <tr>\n",
              "      <th>2017-12-23</th>\n",
              "      <td>4.076923076923077</td>\n",
              "    </tr>\n",
              "    <tr>\n",
              "      <th>2017-12-30</th>\n",
              "      <td>4.076923076923077</td>\n",
              "    </tr>\n",
              "    <tr>\n",
              "      <th>...</th>\n",
              "      <td>...</td>\n",
              "    </tr>\n",
              "    <tr>\n",
              "      <th>2021-06-05</th>\n",
              "      <td>3.000000000000000</td>\n",
              "    </tr>\n",
              "    <tr>\n",
              "      <th>2021-06-12</th>\n",
              "      <td>4.076923076923077</td>\n",
              "    </tr>\n",
              "    <tr>\n",
              "      <th>2021-06-19</th>\n",
              "      <td>2.000000000000000</td>\n",
              "    </tr>\n",
              "    <tr>\n",
              "      <th>2021-06-26</th>\n",
              "      <td>4.076923076923077</td>\n",
              "    </tr>\n",
              "    <tr>\n",
              "      <th>2021-07-03</th>\n",
              "      <td>2.000000000000000</td>\n",
              "    </tr>\n",
              "  </tbody>\n",
              "</table>\n",
              "<p>188 rows × 1 columns</p>\n",
              "</div>"
            ],
            "text/plain": [
              "                          raw\n",
              "dteday                       \n",
              "2017-12-02 12.000000000000000\n",
              "2017-12-09  4.076923076923077\n",
              "2017-12-16  4.076923076923077\n",
              "2017-12-23  4.076923076923077\n",
              "2017-12-30  4.076923076923077\n",
              "...                       ...\n",
              "2021-06-05  3.000000000000000\n",
              "2021-06-12  4.076923076923077\n",
              "2021-06-19  2.000000000000000\n",
              "2021-06-26  4.076923076923077\n",
              "2021-07-03  2.000000000000000\n",
              "\n",
              "[188 rows x 1 columns]"
            ]
          },
          "execution_count": 74,
          "metadata": {
            "tags": []
          },
          "output_type": "execute_result"
        }
      ],
      "source": [
        "df_po_vs_shipment_agg.columns = ['uch_level_g','basecode','generic_cust_item_id','dteday','raw']\n",
        "df_po_vs_shipment_agg[df_po_vs_shipment_agg.generic_cust_item_id == 303]\n",
        "test_df = df_po_vs_shipment_agg[df_po_vs_shipment_agg.generic_cust_item_id == 303]\n",
        "test_df['dteday'] = pd.to_datetime(test_df['dteday'], format='%Y-%m-%d')\n",
        "test_df.index = test_df['dteday']\n",
        "test_df = test_df.drop('dteday',axis=1)\n",
        "test_df = test_df.asfreq('W-Sat')\n",
        "test_df = test_df[['raw']]\n",
        "test_df = test_df.fillna(test_df.mean())\n",
        "test_df['raw'] =  test_df['raw'].astype(float)\n",
        "test_df"
      ]
    },
    {
      "cell_type": "code",
      "execution_count": null,
      "metadata": {
        "colab": {
          "base_uri": "https://localhost:8080/",
          "height": 419
        },
        "id": "yzDpNCOmUZVd",
        "outputId": "95b84988-d29c-4054-ff0e-b2a16a989a67"
      },
      "outputs": [
        {
          "data": {
            "text/html": [
              "<div>\n",
              "<style scoped>\n",
              "    .dataframe tbody tr th:only-of-type {\n",
              "        vertical-align: middle;\n",
              "    }\n",
              "\n",
              "    .dataframe tbody tr th {\n",
              "        vertical-align: top;\n",
              "    }\n",
              "\n",
              "    .dataframe thead th {\n",
              "        text-align: right;\n",
              "    }\n",
              "</style>\n",
              "<table border=\"1\" class=\"dataframe\">\n",
              "  <thead>\n",
              "    <tr style=\"text-align: right;\">\n",
              "      <th></th>\n",
              "      <th>uch_level_g</th>\n",
              "      <th>basecode</th>\n",
              "      <th>generic_cust_item_id</th>\n",
              "      <th>dteday</th>\n",
              "      <th>raw</th>\n",
              "    </tr>\n",
              "  </thead>\n",
              "  <tbody>\n",
              "    <tr>\n",
              "      <th>9332</th>\n",
              "      <td>CA4000410</td>\n",
              "      <td>681000112500</td>\n",
              "      <td>303</td>\n",
              "      <td>2017-12-02</td>\n",
              "      <td>12</td>\n",
              "    </tr>\n",
              "    <tr>\n",
              "      <th>9333</th>\n",
              "      <td>CA4000410</td>\n",
              "      <td>681000112500</td>\n",
              "      <td>303</td>\n",
              "      <td>2018-01-06</td>\n",
              "      <td>8</td>\n",
              "    </tr>\n",
              "    <tr>\n",
              "      <th>9334</th>\n",
              "      <td>CA4000410</td>\n",
              "      <td>681000112500</td>\n",
              "      <td>303</td>\n",
              "      <td>2018-02-24</td>\n",
              "      <td>3</td>\n",
              "    </tr>\n",
              "    <tr>\n",
              "      <th>9335</th>\n",
              "      <td>CA4000410</td>\n",
              "      <td>681000112500</td>\n",
              "      <td>303</td>\n",
              "      <td>2018-03-24</td>\n",
              "      <td>8</td>\n",
              "    </tr>\n",
              "    <tr>\n",
              "      <th>9336</th>\n",
              "      <td>CA4000410</td>\n",
              "      <td>681000112500</td>\n",
              "      <td>303</td>\n",
              "      <td>2018-04-28</td>\n",
              "      <td>3</td>\n",
              "    </tr>\n",
              "    <tr>\n",
              "      <th>...</th>\n",
              "      <td>...</td>\n",
              "      <td>...</td>\n",
              "      <td>...</td>\n",
              "      <td>...</td>\n",
              "      <td>...</td>\n",
              "    </tr>\n",
              "    <tr>\n",
              "      <th>10107</th>\n",
              "      <td>CA4000410</td>\n",
              "      <td>681008959700</td>\n",
              "      <td>310</td>\n",
              "      <td>2021-06-05</td>\n",
              "      <td>27</td>\n",
              "    </tr>\n",
              "    <tr>\n",
              "      <th>10108</th>\n",
              "      <td>CA4000410</td>\n",
              "      <td>681008959700</td>\n",
              "      <td>310</td>\n",
              "      <td>2021-06-12</td>\n",
              "      <td>9</td>\n",
              "    </tr>\n",
              "    <tr>\n",
              "      <th>10109</th>\n",
              "      <td>CA4000410</td>\n",
              "      <td>681008959700</td>\n",
              "      <td>310</td>\n",
              "      <td>2021-06-19</td>\n",
              "      <td>19</td>\n",
              "    </tr>\n",
              "    <tr>\n",
              "      <th>10110</th>\n",
              "      <td>CA4000410</td>\n",
              "      <td>681008959700</td>\n",
              "      <td>310</td>\n",
              "      <td>2021-06-26</td>\n",
              "      <td>12</td>\n",
              "    </tr>\n",
              "    <tr>\n",
              "      <th>10111</th>\n",
              "      <td>CA4000410</td>\n",
              "      <td>681008959700</td>\n",
              "      <td>310</td>\n",
              "      <td>2021-07-03</td>\n",
              "      <td>21</td>\n",
              "    </tr>\n",
              "  </tbody>\n",
              "</table>\n",
              "<p>780 rows × 5 columns</p>\n",
              "</div>"
            ],
            "text/plain": [
              "      uch_level_g      basecode  generic_cust_item_id     dteday  raw\n",
              "9332    CA4000410  681000112500                   303 2017-12-02   12\n",
              "9333    CA4000410  681000112500                   303 2018-01-06    8\n",
              "9334    CA4000410  681000112500                   303 2018-02-24    3\n",
              "9335    CA4000410  681000112500                   303 2018-03-24    8\n",
              "9336    CA4000410  681000112500                   303 2018-04-28    3\n",
              "...           ...           ...                   ...        ...  ...\n",
              "10107   CA4000410  681008959700                   310 2021-06-05   27\n",
              "10108   CA4000410  681008959700                   310 2021-06-12    9\n",
              "10109   CA4000410  681008959700                   310 2021-06-19   19\n",
              "10110   CA4000410  681008959700                   310 2021-06-26   12\n",
              "10111   CA4000410  681008959700                   310 2021-07-03   21\n",
              "\n",
              "[780 rows x 5 columns]"
            ]
          },
          "execution_count": 17,
          "metadata": {
            "tags": []
          },
          "output_type": "execute_result"
        }
      ],
      "source": [
        "df_po_vs_shipment_agg[df_po_vs_shipment_agg.uch_level_g == 'CA4000410']"
      ]
    },
    {
      "cell_type": "code",
      "execution_count": null,
      "metadata": {
        "id": "ZHyCqt_JSlmE"
      },
      "outputs": [],
      "source": [
        "import luminaire\n",
        "from luminaire.model.window_density import WindowDensityHyperParams, WindowDensityModel\n",
        "from luminaire.exploration.data_exploration import DataExploration"
      ]
    },
    {
      "cell_type": "code",
      "execution_count": null,
      "metadata": {
        "colab": {
          "base_uri": "https://localhost:8080/",
          "height": 204
        },
        "id": "Y7bw26J4Slox",
        "outputId": "c0079b2b-b42f-4365-b0ea-593592747c82"
      },
      "outputs": [
        {
          "data": {
            "text/html": [
              "<div>\n",
              "<style scoped>\n",
              "    .dataframe tbody tr th:only-of-type {\n",
              "        vertical-align: middle;\n",
              "    }\n",
              "\n",
              "    .dataframe tbody tr th {\n",
              "        vertical-align: top;\n",
              "    }\n",
              "\n",
              "    .dataframe thead th {\n",
              "        text-align: right;\n",
              "    }\n",
              "</style>\n",
              "<table border=\"1\" class=\"dataframe\">\n",
              "  <thead>\n",
              "    <tr style=\"text-align: right;\">\n",
              "      <th></th>\n",
              "      <th>raw</th>\n",
              "      <th>interpolated</th>\n",
              "    </tr>\n",
              "  </thead>\n",
              "  <tbody>\n",
              "    <tr>\n",
              "      <th>2020-10-23</th>\n",
              "      <td>nan</td>\n",
              "      <td>3.957620263962401</td>\n",
              "    </tr>\n",
              "    <tr>\n",
              "      <th>2020-10-24</th>\n",
              "      <td>4.076923076923077</td>\n",
              "      <td>4.076923076923077</td>\n",
              "    </tr>\n",
              "    <tr>\n",
              "      <th>2020-10-25</th>\n",
              "      <td>nan</td>\n",
              "      <td>4.012251874562301</td>\n",
              "    </tr>\n",
              "    <tr>\n",
              "      <th>2020-10-26</th>\n",
              "      <td>nan</td>\n",
              "      <td>4.020773098776319</td>\n",
              "    </tr>\n",
              "    <tr>\n",
              "      <th>2020-10-27</th>\n",
              "      <td>nan</td>\n",
              "      <td>4.029294322990336</td>\n",
              "    </tr>\n",
              "  </tbody>\n",
              "</table>\n",
              "</div>"
            ],
            "text/plain": [
              "                         raw      interpolated\n",
              "2020-10-23               nan 3.957620263962401\n",
              "2020-10-24 4.076923076923077 4.076923076923077\n",
              "2020-10-25               nan 4.012251874562301\n",
              "2020-10-26               nan 4.020773098776319\n",
              "2020-10-27               nan 4.029294322990336"
            ]
          },
          "execution_count": 75,
          "metadata": {
            "tags": []
          },
          "output_type": "execute_result"
        }
      ],
      "source": [
        "# Without log transformation: is_log_transformed = False (Default)\n",
        "de = DataExploration(fill_rate=0.01#,is_log_transformed = True\n",
        "                     )\n",
        "test_df_2, profile = de.profile(df=test_df)  \n",
        "trend_change_list = list(profile['trend_change_list'])\n",
        "test_df_2.head()"
      ]
    },
    {
      "cell_type": "code",
      "execution_count": null,
      "metadata": {
        "colab": {
          "base_uri": "https://localhost:8080/",
          "height": 374
        },
        "id": "RqkqThnIXVuf",
        "outputId": "93185b5a-578a-43b9-bbe2-14a760fba8c0"
      },
      "outputs": [
        {
          "data": {
            "image/png": "[encoded data removed]",
            "text/plain": [
              "<Figure size 1152x432 with 1 Axes>"
            ]
          },
          "metadata": {
            "tags": []
          },
          "output_type": "display_data"
        }
      ],
      "source": [
        "trend_change_list = list(profile['trend_change_list'])\n",
        "change_point_list = list(profile['change_point_list'])\n",
        "trendline = test_df[test_df.index.isin(trend_change_list)]\n",
        "\n",
        "def change_point_plot(df, trend_change_list):\n",
        "    plt.figure(figsize=(16,6))\n",
        "    plt.plot(df['raw'], linestyle = '-')\n",
        "    \n",
        "    #plt.title('',fontsize=14)\n",
        "    for x in trend_change_list:\n",
        "        plt.axvline(x,lw=0.8, color='red')\n",
        "    plt.plot(trendline,lw=2, linestyle='dashed', color = 'green')    \n",
        "change_point_plot(test_df_2, trend_change_list)"
      ]
    },
    {
      "cell_type": "code",
      "execution_count": null,
      "metadata": {
        "colab": {
          "base_uri": "https://localhost:8080/"
        },
        "id": "Bl2zpzc-Y10U",
        "outputId": "60a89097-0bb1-48cf-9088-0bf6f100a48a"
      },
      "outputs": [
        {
          "name": "stdout",
          "output_type": "stream",
          "text": [
            " 90%|█████████ | 45/50 [02:22<00:18,  3.72s/it, best loss: 0.2153056953204977]"
          ]
        }
      ],
      "source": [
        "from luminaire.optimization.hyperparameter_optimization import HyperparameterOptimization\n",
        "op = HyperparameterOptimization(freq='D')\n",
        "optimz = op.run(data=test_df_2)\n",
        "print(optimz)"
      ]
    },
    {
      "cell_type": "code",
      "execution_count": null,
      "metadata": {
        "colab": {
          "background_save": true,
          "base_uri": "https://localhost:8080/"
        },
        "id": "gMv_JIukU314",
        "outputId": "b802b2f8-8868-4876-9d30-f390af05febe"
      },
      "outputs": [
        {
          "name": "stdout",
          "output_type": "stream",
          "text": [
            "None\n"
          ]
        }
      ],
      "source": [
        "from luminaire.exploration.data_exploration import DataExploration\n",
        "de_optimz = DataExploration(**optimz)\n",
        "test_df_2, bike_pre_prc = de_optimz.profile(test_df)\n",
        "print(test_df_2)"
      ]
    },
    {
      "cell_type": "code",
      "execution_count": null,
      "metadata": {
        "colab": {
          "background_save": true,
          "base_uri": "https://localhost:8080/"
        },
        "id": "FZcK7ptHSlu6",
        "outputId": "3c347376-684c-4083-f60e-3a4e3b218549"
      },
      "outputs": [
        {
          "data": {
            "text/plain": [
              "{'ErrorMessage': 'Too few observed data near the prediction date',\n",
              " 'success': False}"
            ]
          },
          "execution_count": null,
          "metadata": {},
          "output_type": "execute_result"
        }
      ],
      "source": [
        "bike_pre_prc"
      ]
    },
    {
      "cell_type": "code",
      "execution_count": null,
      "metadata": {
        "colab": {
          "base_uri": "https://localhost:8080/",
          "height": 450
        },
        "id": "sU2Lj_qgSlxt",
        "outputId": "07bc9345-d132-4971-ed59-92f5a2ac6f6a"
      },
      "outputs": [
        {
          "data": {
            "text/html": [
              "<div>\n",
              "<style scoped>\n",
              "    .dataframe tbody tr th:only-of-type {\n",
              "        vertical-align: middle;\n",
              "    }\n",
              "\n",
              "    .dataframe tbody tr th {\n",
              "        vertical-align: top;\n",
              "    }\n",
              "\n",
              "    .dataframe thead th {\n",
              "        text-align: right;\n",
              "    }\n",
              "</style>\n",
              "<table border=\"1\" class=\"dataframe\">\n",
              "  <thead>\n",
              "    <tr style=\"text-align: right;\">\n",
              "      <th></th>\n",
              "      <th>raw</th>\n",
              "    </tr>\n",
              "    <tr>\n",
              "      <th>dteday</th>\n",
              "      <th></th>\n",
              "    </tr>\n",
              "  </thead>\n",
              "  <tbody>\n",
              "    <tr>\n",
              "      <th>2017-12-02</th>\n",
              "      <td>12.000000000000000</td>\n",
              "    </tr>\n",
              "    <tr>\n",
              "      <th>2017-12-09</th>\n",
              "      <td>0.000000000000000</td>\n",
              "    </tr>\n",
              "    <tr>\n",
              "      <th>2017-12-16</th>\n",
              "      <td>0.000000000000000</td>\n",
              "    </tr>\n",
              "    <tr>\n",
              "      <th>2017-12-23</th>\n",
              "      <td>0.000000000000000</td>\n",
              "    </tr>\n",
              "    <tr>\n",
              "      <th>2017-12-30</th>\n",
              "      <td>0.000000000000000</td>\n",
              "    </tr>\n",
              "    <tr>\n",
              "      <th>...</th>\n",
              "      <td>...</td>\n",
              "    </tr>\n",
              "    <tr>\n",
              "      <th>2021-06-05</th>\n",
              "      <td>3.000000000000000</td>\n",
              "    </tr>\n",
              "    <tr>\n",
              "      <th>2021-06-12</th>\n",
              "      <td>0.000000000000000</td>\n",
              "    </tr>\n",
              "    <tr>\n",
              "      <th>2021-06-19</th>\n",
              "      <td>2.000000000000000</td>\n",
              "    </tr>\n",
              "    <tr>\n",
              "      <th>2021-06-26</th>\n",
              "      <td>0.000000000000000</td>\n",
              "    </tr>\n",
              "    <tr>\n",
              "      <th>2021-07-03</th>\n",
              "      <td>2.000000000000000</td>\n",
              "    </tr>\n",
              "  </tbody>\n",
              "</table>\n",
              "<p>188 rows × 1 columns</p>\n",
              "</div>"
            ],
            "text/plain": [
              "                          raw\n",
              "dteday                       \n",
              "2017-12-02 12.000000000000000\n",
              "2017-12-09  0.000000000000000\n",
              "2017-12-16  0.000000000000000\n",
              "2017-12-23  0.000000000000000\n",
              "2017-12-30  0.000000000000000\n",
              "...                       ...\n",
              "2021-06-05  3.000000000000000\n",
              "2021-06-12  0.000000000000000\n",
              "2021-06-19  2.000000000000000\n",
              "2021-06-26  0.000000000000000\n",
              "2021-07-03  2.000000000000000\n",
              "\n",
              "[188 rows x 1 columns]"
            ]
          },
          "execution_count": 73,
          "metadata": {
            "tags": []
          },
          "output_type": "execute_result"
        }
      ],
      "source": [
        "test_df"
      ]
    },
    {
      "cell_type": "code",
      "execution_count": null,
      "metadata": {
        "id": "u-GfeX1hSl0h"
      },
      "outputs": [],
      "source": [
        ""
      ]
    },
    {
      "cell_type": "code",
      "execution_count": null,
      "metadata": {
        "id": "AYVdymIoSl3j"
      },
      "outputs": [],
      "source": [
        ""
      ]
    },
    {
      "cell_type": "code",
      "execution_count": null,
      "metadata": {
        "id": "9cjBMocxSl6j"
      },
      "outputs": [],
      "source": [
        ""
      ]
    },
    {
      "cell_type": "code",
      "execution_count": null,
      "metadata": {
        "id": "SzVlbRxfSl9l"
      },
      "outputs": [],
      "source": [
        ""
      ]
    },
    {
      "cell_type": "code",
      "execution_count": null,
      "metadata": {
        "id": "gPwb_v0mSmBZ"
      },
      "outputs": [],
      "source": [
        ""
      ]
    }
  ],
  "metadata": {
    "colab": {
      "collapsed_sections": [],
      "name": "luminaire.ipynb",
      "provenance": []
    },
    "kernelspec": {
      "display_name": "Python 3",
      "name": "python3"
    },
    "language_info": {
      "name": "python"
    }
  },
  "nbformat": 4,
  "nbformat_minor": 0
}