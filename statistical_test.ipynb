{
  "nbformat": 4,
  "nbformat_minor": 0,
  "metadata": {
    "colab": {
      "name": "statistical_test.ipynb",
      "provenance": [],
      "collapsed_sections": []
    },
    "kernelspec": {
      "name": "python3",
      "display_name": "Python 3"
    },
    "language_info": {
      "name": "python"
    }
  },
  "cells": [
    {
      "cell_type": "code",
      "source": [
        "'''\n",
        "https://machinelearningmastery.com/statistical-hypothesis-tests-in-python-cheat-sheet/\n",
        "https://www.statisticshowto.com/probability-and-statistics/statistics-definitions/p-value/\n",
        "'''"
      ],
      "metadata": {
        "colab": {
          "base_uri": "https://localhost:8080/",
          "height": 36
        },
        "id": "OCjaAx7mTclE",
        "outputId": "f43c904f-533a-4146-f245-0d96ab7753bc"
      },
      "execution_count": 1,
      "outputs": [
        {
          "output_type": "execute_result",
          "data": {
            "text/plain": [
              "'\\nhttps://machinelearningmastery.com/statistical-hypothesis-tests-in-python-cheat-sheet/\\nhttps://www.statisticshowto.com/probability-and-statistics/statistics-definitions/p-value/\\n'"
            ],
            "application/vnd.google.colaboratory.intrinsic+json": {
              "type": "string"
            }
          },
          "metadata": {},
          "execution_count": 1
        }
      ]
    },
    {
      "cell_type": "markdown",
      "source": [
        "# **Normality Tests**\n",
        "# -----------------------------------\n",
        "# Shapiro-Wilk Test\n",
        "# D’Agostino’s K^2 Test\n",
        "# Anderson-Darling Test\n",
        "# \n",
        "#\n",
        "#\n",
        "# **Correlation Tests**\n",
        "# -------------------------------------\n",
        "# Pearson’s Correlation Coefficient\n",
        "# Spearman’s Rank Correlation\n",
        "# Kendall’s Rank Correlation\n",
        "# Chi-Squared Test\n",
        "#\n",
        "#\n",
        "#\n",
        "# **Stationary Tests**\n",
        "# -------------------------------------\n",
        "# Augmented Dickey-Fuller\n",
        "# Kwiatkowski-Phillips-Schmidt-Shin\n",
        "#\n",
        "#\n",
        "#\n",
        "# **Parametric Statistical Hypothesis Tests**\n",
        "# -------------------------------------\n",
        "# Student’s t-test\n",
        "# Paired Student’s t-test\n",
        "# Analysis of Variance Test (ANOVA)\n",
        "# Repeated Measures ANOVA Test\n",
        "#\n",
        "#\n",
        "#\n",
        "# **Nonparametric Statistical Hypothesis Tests**\n",
        "# -------------------------------------\n",
        "# Mann-Whitney U Test\n",
        "# Wilcoxon Signed-Rank Test\n",
        "# Kruskal-Wallis H Test\n",
        "# Friedman Test"
      ],
      "metadata": {
        "id": "QZFNcwYyJTux"
      }
    },
    {
      "cell_type": "markdown",
      "source": [
        "# **Normality Tests**\n",
        "# This section lists statistical tests that you can use to check if your data has a Gaussian distribution."
      ],
      "metadata": {
        "id": "EYy8GuAaNmkf"
      }
    },
    {
      "cell_type": "markdown",
      "source": [
        "# **Shapiro-Wilk Test**\n",
        "# Tests whether a data sample has a Gaussian distribution.\n",
        "\n",
        "# **Assumptions**\n",
        "\n",
        "# Observations in each sample are independent and identically distributed (iid).\n",
        "\n",
        "# **Interpretation**\n",
        "# H0: the sample has a Gaussian distribution.\n",
        "# H1: the sample does not have a Gaussian distribution.\n",
        "\n"
      ],
      "metadata": {
        "id": "9egJWa2fNukb"
      }
    },
    {
      "cell_type": "markdown",
      "source": [
        "# A small p (≤ 0.05), **reject** the null hypothesis. This is strong evidence that the null hypothesis is invalid.\n",
        "# A large p (> 0.05) means the alternate hypothesis is weak, so you **do not reject the null Hypothesis**."
      ],
      "metadata": {
        "id": "6sEz33gRVtxD"
      }
    },
    {
      "cell_type": "code",
      "source": [
        "from scipy.stats import shapiro\n",
        "data = [0.873, 2.817, 0.121, -0.945, -0.055, -1.436, 0.360, -1.478, -1.637, -1.869]\n",
        "stat, p = shapiro(data)\n",
        "print('stat=%.3f, p=%.3f' % (stat, p))\n",
        "if p > 0.05:\n",
        "\tprint('Null Hypothesis Accepted : Probably Gaussian')\n",
        "else:\n",
        "\tprint('Null Hypothesis Rejected : Probably not Gaussian')"
      ],
      "metadata": {
        "colab": {
          "base_uri": "https://localhost:8080/"
        },
        "id": "9e0jQLsFMpkH",
        "outputId": "0e4e45ac-35ae-4d44-a5b2-28f8a1e1e18b"
      },
      "execution_count": 2,
      "outputs": [
        {
          "output_type": "stream",
          "name": "stdout",
          "text": [
            "stat=0.895, p=0.193\n",
            "Null Hypothesis Accepted : Probably Gaussian\n"
          ]
        }
      ]
    },
    {
      "cell_type": "markdown",
      "source": [
        "# **D’Agostino’s K^2 Test**\n",
        "# Tests whether a data sample has a Gaussian distribution.\n",
        "\n",
        "# **Assumptions**\n",
        "\n",
        "# Observations in each sample are independent and identically distributed (iid).\n",
        "\n",
        "# **Interpretation**\n",
        "# H0: the sample has a Gaussian distribution.\n",
        "# H1: the sample does not have a Gaussian distribution."
      ],
      "metadata": {
        "id": "_ry1KPUfTGIv"
      }
    },
    {
      "cell_type": "code",
      "source": [
        "# Example of the D'Agostino's K^2 Normality Test\n",
        "from scipy.stats import normaltest\n",
        "data = [0.873, 2.817, 0.121, -0.945, -0.055, -1.436, 0.360, -1.478, -1.637, -1.869]\n",
        "stat, p = normaltest(data)\n",
        "print('stat=%.3f, p=%.3f' % (stat, p))\n",
        "if p > 0.05:\n",
        "\tprint('Null Hypothesis Accepted : Probably Gaussian')\n",
        "else:\n",
        "\tprint('Null Hypothesis Rejected : Probably not Gaussian')"
      ],
      "metadata": {
        "colab": {
          "base_uri": "https://localhost:8080/"
        },
        "id": "xvmRlejATPUE",
        "outputId": "98000bbc-db43-41ca-e410-7fa9d6e0c6c1"
      },
      "execution_count": 3,
      "outputs": [
        {
          "output_type": "stream",
          "name": "stdout",
          "text": [
            "stat=3.392, p=0.183\n",
            "Null Hypothesis Accepted : Probably Gaussian\n"
          ]
        },
        {
          "output_type": "stream",
          "name": "stderr",
          "text": [
            "/usr/local/lib/python3.7/dist-packages/scipy/stats/stats.py:1535: UserWarning: kurtosistest only valid for n>=20 ... continuing anyway, n=10\n",
            "  \"anyway, n=%i\" % int(n))\n"
          ]
        }
      ]
    },
    {
      "cell_type": "markdown",
      "source": [
        "# **Anderson-Darling Test**\n",
        "# Tests whether a data sample has a Gaussian distribution.\n",
        "\n",
        "# **Assumptions**\n",
        "\n",
        "# Observations in each sample are independent and identically distributed (iid).\n",
        "\n",
        "# **Interpretation**\n",
        "\n",
        "# H0: the sample has a Gaussian distribution.\n",
        "# H1: the sample does not have a Gaussian distribution."
      ],
      "metadata": {
        "id": "L8U2wvhATpfO"
      }
    },
    {
      "cell_type": "code",
      "source": [
        "# Example of the Anderson-Darling Normality Test\n",
        "from scipy.stats import anderson\n",
        "data = [0.873, 2.817, 0.121, -0.945, -0.055, -1.436, 0.360, -1.478, -1.637, -1.869]\n",
        "result = anderson(data)\n",
        "print('stat=%.3f' % (result.statistic))\n",
        "for i in range(len(result.critical_values)):\n",
        "\tsl, cv = result.significance_level[i], result.critical_values[i]\n",
        "\tif result.statistic < cv:\n",
        "\t\tprint('Null Hypothesis Accepted : Probably Gaussian at the %.1f%% level' % (sl))\n",
        "\telse:\n",
        "\t\tprint('Null Hypothesis Rejected : Probably not Gaussian at the %.1f%% level' % (sl))"
      ],
      "metadata": {
        "colab": {
          "base_uri": "https://localhost:8080/"
        },
        "id": "VrHmtgpVTyZQ",
        "outputId": "52c37fc7-17b0-4b92-d7c0-ccaaea8b1363"
      },
      "execution_count": 4,
      "outputs": [
        {
          "output_type": "stream",
          "name": "stdout",
          "text": [
            "stat=0.424\n",
            "Null Hypothesis Accepted : Probably Gaussian at the 15.0% level\n",
            "Null Hypothesis Accepted : Probably Gaussian at the 10.0% level\n",
            "Null Hypothesis Accepted : Probably Gaussian at the 5.0% level\n",
            "Null Hypothesis Accepted : Probably Gaussian at the 2.5% level\n",
            "Null Hypothesis Accepted : Probably Gaussian at the 1.0% level\n"
          ]
        }
      ]
    },
    {
      "cell_type": "markdown",
      "source": [
        "# **Correlation Tests**\n",
        "# This section lists statistical tests that you can use to check if two samples are related."
      ],
      "metadata": {
        "id": "A9bQSQNGT85S"
      }
    },
    {
      "cell_type": "markdown",
      "source": [
        "# **Pearson’s Correlation Coefficient**\n",
        "# Tests whether two samples have a linear relationship.\n",
        "\n",
        "# **Assumptions**\n",
        "\n",
        "# Observations in each sample are independent and identically distributed (iid).\n",
        "# Observations in each sample are normally distributed.\n",
        "# Observations in each sample have the same variance.\n",
        "\n",
        "# **Interpretation**\n",
        "\n",
        "# H0: the two samples are independent.\n",
        "# H1: there is a dependency between the samples."
      ],
      "metadata": {
        "id": "pUb8tnVNUAuU"
      }
    },
    {
      "cell_type": "code",
      "source": [
        "from scipy.stats import pearsonr\n",
        "data1 = [0.873, 2.817, 0.121, -0.945, -0.055, -1.436, 0.360, -1.478, -1.637, -1.869]\n",
        "data2 = [0.353, 3.517, 0.125, -7.545, -0.555, -1.536, 3.350, -1.578, -3.537, -1.579]\n",
        "stat, p = pearsonr(data1, data2)\n",
        "print('stat=%.3f, p=%.3f' % (stat, p))\n",
        "if p > 0.05:\n",
        "\tprint('Null Hypothesis Accepted : Probably independent')\n",
        "else:\n",
        "\tprint('Null Hypothesis Rejected : Probably dependent')"
      ],
      "metadata": {
        "colab": {
          "base_uri": "https://localhost:8080/"
        },
        "id": "3oQhNojnUd4u",
        "outputId": "e21d402c-1cb0-4d4b-9358-38d9fcf9f4fc"
      },
      "execution_count": 5,
      "outputs": [
        {
          "output_type": "stream",
          "name": "stdout",
          "text": [
            "stat=0.688, p=0.028\n",
            "Null Hypothesis Rejected : Probably dependent\n"
          ]
        }
      ]
    },
    {
      "cell_type": "markdown",
      "source": [
        "# **Spearman’s Rank Correlation**\n",
        "# Tests whether two samples have a monotonic relationship.\n",
        "\n",
        "# **Assumptions**\n",
        "\n",
        "# Observations in each sample are independent and identically distributed (iid).\n",
        "# Observations in each sample can be ranked.\n",
        "\n",
        "# **Interpretation**\n",
        "# H0: the two samples are independent.\n",
        "# H1: there is a dependency between the samples."
      ],
      "metadata": {
        "id": "wYnBqWA7Us0s"
      }
    },
    {
      "cell_type": "code",
      "source": [
        "# Example of the Spearman's Rank Correlation Test\n",
        "from scipy.stats import spearmanr\n",
        "data1 = [0.873, 2.817, 0.121, -0.945, -0.055, -1.436, 0.360, -1.478, -1.637, -1.869]\n",
        "data2 = [0.353, 3.517, 0.125, -7.545, -0.555, -1.536, 3.350, -1.578, -3.537, -1.579]\n",
        "stat, p = spearmanr(data1, data2)\n",
        "print('stat=%.3f, p=%.3f' % (stat, p))\n",
        "if p > 0.05:\n",
        "\tprint('Null Hypothesis Accepted : Probably independent')\n",
        "else:\n",
        "\tprint('Null Hypothesis Rejected : Probably dependent')"
      ],
      "metadata": {
        "colab": {
          "base_uri": "https://localhost:8080/"
        },
        "id": "hdB_bqZdVLfp",
        "outputId": "fdeec2e6-4668-49b0-ac62-a5b325ac5790"
      },
      "execution_count": 6,
      "outputs": [
        {
          "output_type": "stream",
          "name": "stdout",
          "text": [
            "stat=0.855, p=0.002\n",
            "Null Hypothesis Rejected : Probably dependent\n"
          ]
        }
      ]
    },
    {
      "cell_type": "markdown",
      "source": [
        "# **Kendall’s Rank Correlation**\n",
        "Tests whether two samples have a monotonic relationship.\n",
        "\n",
        "# **Assumptions**\n",
        "#Observations in each sample are independent and identically distributed (iid).\n",
        "#Observations in each sample can be ranked.\n",
        "\n",
        "# **Interpretation**\n",
        "# H0: the two samples are independent.\n",
        "#H1: there is a dependency between the samples."
      ],
      "metadata": {
        "id": "f4n_cOBFVRAS"
      }
    },
    {
      "cell_type": "code",
      "source": [
        "from scipy.stats import kendalltau\n",
        "data1 = [0.873, 2.817, 0.121, -0.945, -0.055, -1.436, 0.360, -1.478, -1.637, -1.869]\n",
        "data2 = [0.353, 3.517, 0.125, -7.545, -0.555, -1.536, 3.350, -1.578, -3.537, -1.579]\n",
        "stat, p = kendalltau(data1, data2)\n",
        "print('stat=%.3f, p=%.3f' % (stat, p))\n",
        "if p > 0.05:\n",
        "\tprint('Null Hypothesis Accepted : Probably independent')\n",
        "else:\n",
        "\tprint('Null Hypothesis Rejected : Probably dependent')"
      ],
      "metadata": {
        "colab": {
          "base_uri": "https://localhost:8080/"
        },
        "id": "ZfppIHonVf0H",
        "outputId": "ae7b40d6-c117-4542-d334-124a8ed5cd50"
      },
      "execution_count": 7,
      "outputs": [
        {
          "output_type": "stream",
          "name": "stdout",
          "text": [
            "stat=0.733, p=0.002\n",
            "Null Hypothesis Rejected : Probably dependent\n"
          ]
        }
      ]
    },
    {
      "cell_type": "markdown",
      "source": [
        "# **Chi-Squared Test**\n",
        "# Tests whether two categorical variables are related or independent.\n",
        "\n",
        "# **Assumptions**\n",
        "\n",
        "# Observations used in the calculation of the contingency table are independent.\n",
        "# 25 or more examples in each cell of the contingency table.\n",
        "\n",
        "# **Interpretation**\n",
        "# H0: the two samples are independent.\n",
        "# H1: there is a dependency between the samples."
      ],
      "metadata": {
        "id": "6iz-IS5PI-st"
      }
    },
    {
      "cell_type": "code",
      "source": [
        "from scipy.stats import chi2_contingency\n",
        "table = [[10, 20, 30],[6,  9,  17]]\n",
        "stat, p, dof, expected = chi2_contingency(table)\n",
        "print('stat=%.3f, p=%.3f' % (stat, p))\n",
        "if p > 0.05:\n",
        "\tprint('Null Hypothesis Accepted : Probably independent')\n",
        "else:\n",
        "\tprint('Null Hypothesis Rejected : Probably dependent')"
      ],
      "metadata": {
        "colab": {
          "base_uri": "https://localhost:8080/"
        },
        "id": "01_K20RwW5aI",
        "outputId": "e57494d3-336b-46af-914b-bd58b4f7d4d7"
      },
      "execution_count": 8,
      "outputs": [
        {
          "output_type": "stream",
          "name": "stdout",
          "text": [
            "stat=0.272, p=0.873\n",
            "Null Hypothesis Accepted : Probably independent\n"
          ]
        }
      ]
    },
    {
      "cell_type": "markdown",
      "source": [
        "# **Stationary Tests**\n",
        "# This section lists statistical tests that you can use to check if a time series is stationary or not."
      ],
      "metadata": {
        "id": "hgjeFUJ7XHKL"
      }
    },
    {
      "cell_type": "markdown",
      "source": [
        "# **Augmented Dickey-Fuller Unit Root Test**\n",
        "# Tests whether a time series has a unit root, e.g. has a trend or more generally is autoregressive.\n",
        "\n",
        "# **Assumptions**\n",
        "# Observations in are temporally ordered.\n",
        "\n",
        "# **Interpretation**\n",
        "# H0: a unit root is present (series is non-stationary).\n",
        "# H1: a unit root is not present (series is stationary)."
      ],
      "metadata": {
        "id": "4gNrtd2kXLAU"
      }
    },
    {
      "cell_type": "code",
      "source": [
        "from statsmodels.tsa.stattools import adfuller\n",
        "data = [0, 1, 2, 3, 4, 5, 6, 7, 8, 9]\n",
        "stat, p, lags, obs, crit, t = adfuller(data)\n",
        "print('stat=%.3f, p=%.3f' % (stat, p))\n",
        "if p > 0.05:\n",
        "\tprint('Null Hypothesis Accepted : Probably not Stationary')\n",
        "else:\n",
        "\tprint('Null Hypothesis Rejected : Probably Stationary')"
      ],
      "metadata": {
        "colab": {
          "base_uri": "https://localhost:8080/"
        },
        "id": "Ym1w0eu1Xam7",
        "outputId": "20c30600-b0d6-4229-f92a-aaed13395477"
      },
      "execution_count": 9,
      "outputs": [
        {
          "output_type": "stream",
          "name": "stdout",
          "text": [
            "stat=0.517, p=0.985\n",
            "Null Hypothesis Accepted : Probably not Stationary\n"
          ]
        },
        {
          "output_type": "stream",
          "name": "stderr",
          "text": [
            "/usr/local/lib/python3.7/dist-packages/statsmodels/tools/_testing.py:19: FutureWarning: pandas.util.testing is deprecated. Use the functions in the public API at pandas.testing instead.\n",
            "  import pandas.util.testing as tm\n"
          ]
        }
      ]
    },
    {
      "cell_type": "markdown",
      "source": [
        "# **Kwiatkowski-Phillips-Schmidt-Shin**\n",
        "#Tests whether a time series is trend stationary or not.\n",
        "\n",
        "# **Assumptions**\n",
        "# Observations in are temporally ordered.\n",
        "\n",
        "# **Interpretation**\n",
        "# H0: the time series is trend-stationary.\n",
        "# H1: the time series is not trend-stationary."
      ],
      "metadata": {
        "id": "dAc6mbzDXmOw"
      }
    },
    {
      "cell_type": "code",
      "source": [
        "from statsmodels.tsa.stattools import kpss\n",
        "data = [0, 1, 2, 3, 4, 5, 6, 7, 8, 9]\n",
        "stat, p, lags, crit = kpss(data)\n",
        "print('stat=%.3f, p=%.3f' % (stat, p))\n",
        "if p > 0.05:\n",
        "\tprint('Null Hypothesis Accepted : Probably Stationary')\n",
        "else:\n",
        "\tprint('Null Hypothesis Rejected : Probably not Stationary')"
      ],
      "metadata": {
        "colab": {
          "base_uri": "https://localhost:8080/"
        },
        "id": "-gCtiI72XlW-",
        "outputId": "d8b64785-998b-47c2-d828-993ee09c6ef1"
      },
      "execution_count": 10,
      "outputs": [
        {
          "output_type": "stream",
          "name": "stdout",
          "text": [
            "stat=0.410, p=0.073\n",
            "Null Hypothesis Accepted : Probably Stationary\n"
          ]
        },
        {
          "output_type": "stream",
          "name": "stderr",
          "text": [
            "/usr/local/lib/python3.7/dist-packages/statsmodels/tsa/stattools.py:1685: FutureWarning: The behavior of using lags=None will change in the next release. Currently lags=None is the same as lags='legacy', and so a sample-size lag length is used. After the next release, the default will change to be the same as lags='auto' which uses an automatic lag length selection method. To silence this warning, either use 'auto' or 'legacy'\n",
            "  warn(msg, FutureWarning)\n"
          ]
        }
      ]
    },
    {
      "cell_type": "markdown",
      "source": [
        "# **Parametric Statistical Hypothesis Tests**\n",
        "# This section lists statistical tests that you can use to compare data samples."
      ],
      "metadata": {
        "id": "cF_9WbRcX69Y"
      }
    },
    {
      "cell_type": "markdown",
      "source": [
        "# **Student’s t-test**\n",
        "# Tests whether the means of two independent samples are significantly different.\n",
        "\n",
        "# **Assumptions**\n",
        "# Observations in each sample are independent and identically distributed (iid).\n",
        "# Observations in each sample are normally distributed.\n",
        "# Observations in each sample have the same variance.\n",
        "\n",
        "# **Interpretation**\n",
        "# H0: the means of the samples are equal.\n",
        "# H1: the means of the samples are unequal."
      ],
      "metadata": {
        "id": "J6IZd8v5X_8M"
      }
    },
    {
      "cell_type": "code",
      "source": [
        "from scipy.stats import ttest_ind\n",
        "data1 = [0.873, 2.817, 0.121, -0.945, -0.055, -1.436, 0.360, -1.478, -1.637, -1.869]\n",
        "data2 = [1.142, -0.432, -0.938, -0.729, -0.846, -0.157, 0.500, 1.183, -1.075, -0.169]\n",
        "stat, p = ttest_ind(data1, data2)\n",
        "print('stat=%.3f, p=%.3f' % (stat, p))\n",
        "if p > 0.05:\n",
        "\tprint('Null Hypothesis Accepted : Probably the same distribution')\n",
        "else:\n",
        "\tprint('Null Hypothesis Rejected : Probably different distributions')"
      ],
      "metadata": {
        "colab": {
          "base_uri": "https://localhost:8080/"
        },
        "id": "QWF92t3PYJnI",
        "outputId": "adfa247d-6f9c-446a-e745-ac047c785e2a"
      },
      "execution_count": 11,
      "outputs": [
        {
          "output_type": "stream",
          "name": "stdout",
          "text": [
            "stat=-0.326, p=0.748\n",
            "Null Hypothesis Accepted : Probably the same distribution\n"
          ]
        }
      ]
    },
    {
      "cell_type": "markdown",
      "source": [
        "# **Paired Student’s t-test**\n",
        "# Tests whether the means of two paired samples are significantly different.\n",
        "\n",
        "# **Assumptions**\n",
        "# Observations in each sample are independent and identically distributed (iid).\n",
        "# Observations in each sample are normally distributed.\n",
        "# Observations in each sample have the same variance.\n",
        "# Observations across each sample are paired.\n",
        "\n",
        "# **Interpretation**\n",
        "# H0: the means of the samples are equal.\n",
        "# H1: the means of the samples are unequal."
      ],
      "metadata": {
        "id": "F_fjHOTOYnO-"
      }
    },
    {
      "cell_type": "code",
      "source": [
        "from scipy.stats import ttest_rel\n",
        "data1 = [0.873, 2.817, 0.121, -0.945, -0.055, -1.436, 0.360, -1.478, -1.637, -1.869]\n",
        "data2 = [1.142, -0.432, -0.938, -0.729, -0.846, -0.157, 0.500, 1.183, -1.075, -0.169]\n",
        "stat, p = ttest_rel(data1, data2)\n",
        "print('stat=%.3f, p=%.3f' % (stat, p))\n",
        "if p > 0.05:\n",
        "\tprint('Null Hypothesis Accepted : Probably the same distribution')\n",
        "else:\n",
        "\tprint('Null Hypothesis Rejected : Probably different distributions')"
      ],
      "metadata": {
        "colab": {
          "base_uri": "https://localhost:8080/"
        },
        "id": "MDicJhC0YxzG",
        "outputId": "b2994b1b-51bb-43de-9209-b9ce538855e5"
      },
      "execution_count": 12,
      "outputs": [
        {
          "output_type": "stream",
          "name": "stdout",
          "text": [
            "stat=-0.334, p=0.746\n",
            "Null Hypothesis Accepted : Probably the same distribution\n"
          ]
        }
      ]
    },
    {
      "cell_type": "markdown",
      "source": [
        "# **Analysis of Variance Test (ANOVA)**\n",
        "# Tests whether the means of two or more independent samples are significantly different.\n",
        "\n",
        "# **Assumptions**\n",
        "# Observations in each sample are independent and identically distributed (iid).\n",
        "# Observations in each sample are normally distributed.\n",
        "# Observations in each sample have the same variance.\n",
        "\n",
        "# **Interpretation**\n",
        "# H0: the means of the samples are equal.\n",
        "# H1: one or more of the means of the samples are unequal."
      ],
      "metadata": {
        "id": "Qg9KzE7HY-QU"
      }
    },
    {
      "cell_type": "code",
      "source": [
        "# Example of the Analysis of Variance Test\n",
        "from scipy.stats import f_oneway\n",
        "data1 = [0.873, 2.817, 0.121, -0.945, -0.055, -1.436, 0.360, -1.478, -1.637, -1.869]\n",
        "data2 = [1.142, -0.432, -0.938, -0.729, -0.846, -0.157, 0.500, 1.183, -1.075, -0.169]\n",
        "data3 = [-0.208, 0.696, 0.928, -1.148, -0.213, 0.229, 0.137, 0.269, -0.870, -1.204]\n",
        "stat, p = f_oneway(data1, data2, data3)\n",
        "print('stat=%.3f, p=%.3f' % (stat, p))\n",
        "if p > 0.05:\n",
        "\tprint('Null Hypothesis Accepted : Probably the same distribution')\n",
        "else:\n",
        "\tprint('Null Hypothesis Rejected : Probably different distributions')"
      ],
      "metadata": {
        "colab": {
          "base_uri": "https://localhost:8080/"
        },
        "id": "s0VAmbayZHRk",
        "outputId": "aeb0bbfc-bf86-4a1e-dbf6-579abcc85107"
      },
      "execution_count": 14,
      "outputs": [
        {
          "output_type": "stream",
          "name": "stdout",
          "text": [
            "stat=0.096, p=0.908\n",
            "Null Hypothesis Accepted : Probably the same distribution\n"
          ]
        }
      ]
    },
    {
      "cell_type": "markdown",
      "source": [
        "# **Repeated Measures ANOVA Test**\n",
        "# Tests whether the means of two or more paired samples are significantly different.\n",
        "\n",
        "# **Assumptions**\n",
        "# Observations in each sample are independent and identically distributed (iid).\n",
        "# Observations in each sample are normally distributed.\n",
        "# Observations in each sample have the same variance.\n",
        "# Observations across each sample are paired.\n",
        "\n",
        "# **Interpretation**\n",
        "# H0: the means of the samples are equal.\n",
        "# H1: one or more of the means of the samples are unequal.\n",
        "\n",
        "# **Currently not supported in Python**"
      ],
      "metadata": {
        "id": "4xUYgzACZRcC"
      }
    },
    {
      "cell_type": "markdown",
      "source": [
        "# **Nonparametric Statistical Hypothesis Tests**\n",
        "# **Mann-Whitney U Test**\n",
        "# Tests whether the distributions of two independent samples are equal or not.\n",
        "\n",
        "# **Assumptions**\n",
        "# Observations in each sample are independent and identically distributed (iid).\n",
        "# Observations in each sample can be ranked.\n",
        "\n",
        "# **Interpretation**\n",
        "# H0: the distributions of both samples are equal.\n",
        "# H1: the distributions of both samples are not equal."
      ],
      "metadata": {
        "id": "w44Eq1Q0Zg8E"
      }
    },
    {
      "cell_type": "code",
      "source": [
        "from scipy.stats import mannwhitneyu\n",
        "data1 = [0.873, 2.817, 0.121, -0.945, -0.055, -1.436, 0.360, -1.478, -1.637, -1.869]\n",
        "data2 = [1.142, -0.432, -0.938, -0.729, -0.846, -0.157, 0.500, 1.183, -1.075, -0.169]\n",
        "stat, p = mannwhitneyu(data1, data2)\n",
        "print('stat=%.3f, p=%.3f' % (stat, p))\n",
        "if p > 0.05:\n",
        "\tprint('Null Hypothesis Accepted : Probably the same distribution')\n",
        "else:\n",
        "\tprint('Null Hypothesis Rejected : Probably different distributions')"
      ],
      "metadata": {
        "colab": {
          "base_uri": "https://localhost:8080/"
        },
        "id": "2QMdKEujZsqs",
        "outputId": "19b88cb0-666c-4f39-cc01-337e2cdf8552"
      },
      "execution_count": 15,
      "outputs": [
        {
          "output_type": "stream",
          "name": "stdout",
          "text": [
            "stat=40.000, p=0.236\n",
            "Null Hypothesis Accepted : Probably the same distribution\n"
          ]
        }
      ]
    },
    {
      "cell_type": "markdown",
      "source": [
        "# **Wilcoxon Signed-Rank Test**\n",
        "# Tests whether the distributions of two paired samples are equal or not.\n",
        "\n",
        "# **Assumptions**\n",
        "# Observations in each sample are independent and identically distributed (iid).\n",
        "# Observations in each sample can be ranked.\n",
        "# Observations across each sample are paired.\n",
        "\n",
        "# **Interpretation**\n",
        "# H0: the distributions of both samples are equal.\n",
        "# H1: the distributions of both samples are not equal."
      ],
      "metadata": {
        "id": "qZPjD9rSZ5P7"
      }
    },
    {
      "cell_type": "code",
      "source": [
        "# Example of the Wilcoxon Signed-Rank Test\n",
        "from scipy.stats import wilcoxon\n",
        "data1 = [0.873, 2.817, 0.121, -0.945, -0.055, -1.436, 0.360, -1.478, -1.637, -1.869]\n",
        "data2 = [1.142, -0.432, -0.938, -0.729, -0.846, -0.157, 0.500, 1.183, -1.075, -0.169]\n",
        "stat, p = wilcoxon(data1, data2)\n",
        "print('stat=%.3f, p=%.3f' % (stat, p))\n",
        "if p > 0.05:\n",
        "\tprint('Null Hypothesis Accepted : Probably the same distribution')\n",
        "else:\n",
        "\tprint('Null Hypothesis Rejected : Probably different distributions')"
      ],
      "metadata": {
        "colab": {
          "base_uri": "https://localhost:8080/"
        },
        "id": "HBMcQDl1aBJh",
        "outputId": "9fd89fde-5daf-44e8-e929-e0e6d1d328a1"
      },
      "execution_count": 16,
      "outputs": [
        {
          "output_type": "stream",
          "name": "stdout",
          "text": [
            "stat=21.000, p=0.508\n",
            "Null Hypothesis Accepted : Probably the same distribution\n"
          ]
        }
      ]
    },
    {
      "cell_type": "markdown",
      "source": [
        "# **Kruskal-Wallis H Test**\n",
        "# Tests whether the distributions of two or more independent samples are equal or not.\n",
        "\n",
        "# **Assumptions**\n",
        "# Observations in each sample are independent and identically distributed (iid).\n",
        "# Observations in each sample can be ranked.\n",
        "\n",
        "# **Interpretation**\n",
        "# H0: the distributions of all samples are equal.\n",
        "# H1: the distributions of one or more samples are not equal."
      ],
      "metadata": {
        "id": "DsTXJauDaHmk"
      }
    },
    {
      "cell_type": "code",
      "source": [
        "from scipy.stats import kruskal\n",
        "data1 = [0.873, 2.817, 0.121, -0.945, -0.055, -1.436, 0.360, -1.478, -1.637, -1.869]\n",
        "data2 = [1.142, -0.432, -0.938, -0.729, -0.846, -0.157, 0.500, 1.183, -1.075, -0.169]\n",
        "stat, p = kruskal(data1, data2)\n",
        "print('stat=%.3f, p=%.3f' % (stat, p))\n",
        "if p > 0.05:\n",
        "\tprint('Null Hypothesis Accepted : Probably the same distribution')\n",
        "else:\n",
        "\tprint('Null Hypothesis Rejected : Probably different distributions')"
      ],
      "metadata": {
        "colab": {
          "base_uri": "https://localhost:8080/"
        },
        "id": "ZsYuwFMoaQQv",
        "outputId": "08ec4d03-54ba-4606-91d1-990bd788ed2e"
      },
      "execution_count": 17,
      "outputs": [
        {
          "output_type": "stream",
          "name": "stdout",
          "text": [
            "stat=0.571, p=0.450\n",
            "Null Hypothesis Accepted : Probably the same distribution\n"
          ]
        }
      ]
    },
    {
      "cell_type": "markdown",
      "source": [
        "# **Friedman Test**\n",
        "#Tests whether the distributions of two or more paired samples are equal or not.\n",
        "\n",
        "# **Assumptions**\n",
        "# Observations in each sample are independent and identically distributed (iid).\n",
        "# Observations in each sample can be ranked.\n",
        "# Observations across each sample are paired.\n",
        "\n",
        "# **Interpretation**\n",
        "# H0: the distributions of all samples are equal.\n",
        "# H1: the distributions of one or more samples are not equal."
      ],
      "metadata": {
        "id": "h51XPo2yaXDX"
      }
    },
    {
      "cell_type": "code",
      "source": [
        "# Example of the Friedman Test\n",
        "from scipy.stats import friedmanchisquare\n",
        "data1 = [0.873, 2.817, 0.121, -0.945, -0.055, -1.436, 0.360, -1.478, -1.637, -1.869]\n",
        "data2 = [1.142, -0.432, -0.938, -0.729, -0.846, -0.157, 0.500, 1.183, -1.075, -0.169]\n",
        "data3 = [-0.208, 0.696, 0.928, -1.148, -0.213, 0.229, 0.137, 0.269, -0.870, -1.204]\n",
        "stat, p = friedmanchisquare(data1, data2, data3)\n",
        "print('stat=%.3f, p=%.3f' % (stat, p))\n",
        "if p > 0.05:\n",
        "\tprint('Null Hypothesis Accepted : Probably the same distribution')\n",
        "else:\n",
        "\tprint('Null Hypothesis Accepted : Probably different distributions')"
      ],
      "metadata": {
        "colab": {
          "base_uri": "https://localhost:8080/"
        },
        "id": "d9kwJdoV0X46",
        "outputId": "8081bd9b-1994-4069-a335-a26f0e00aef5"
      },
      "execution_count": 1,
      "outputs": [
        {
          "output_type": "stream",
          "name": "stdout",
          "text": [
            "stat=0.800, p=0.670\n",
            "Null Hypothesis Accepted : Probably the same distribution\n"
          ]
        }
      ]
    },
    {
      "cell_type": "markdown",
      "source": [
        ""
      ],
      "metadata": {
        "id": "UbzYTQTF0fFj"
      }
    }
  ]
}