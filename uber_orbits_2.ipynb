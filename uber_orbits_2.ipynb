{
  "nbformat": 4,
  "nbformat_minor": 0,
  "metadata": {
    "colab": {
      "name": "uber_orbits_2.ipynb",
      "provenance": [],
      "collapsed_sections": []
    },
    "kernelspec": {
      "name": "python3",
      "display_name": "Python 3"
    },
    "language_info": {
      "name": "python"
    }
  },
  "cells": [
    {
      "cell_type": "code",
      "metadata": {
        "colab": {
          "base_uri": "https://localhost:8080/"
        },
        "id": "AlGLzMo2dO-N",
        "outputId": "64a30f86-051e-4f21-f3a5-3e83dd764864"
      },
      "source": [
        "!pip install orbit-ml==1.0.13\n",
        "!pip install fbprophet==0.7.1"
      ],
      "execution_count": null,
      "outputs": [
        {
          "output_type": "stream",
          "name": "stdout",
          "text": [
            "Requirement already satisfied: orbit-ml==1.0.13 in /usr/local/lib/python3.7/dist-packages (1.0.13)\n",
            "Requirement already satisfied: custom-inherit==2.3.1 in /usr/local/lib/python3.7/dist-packages (from orbit-ml==1.0.13) (2.3.1)\n",
            "Requirement already satisfied: pystan==2.19.1.1 in /usr/local/lib/python3.7/dist-packages (from orbit-ml==1.0.13) (2.19.1.1)\n",
            "Requirement already satisfied: seaborn>=0.10.0 in /usr/local/lib/python3.7/dist-packages (from orbit-ml==1.0.13) (0.11.1)\n",
            "Requirement already satisfied: tqdm in /usr/local/lib/python3.7/dist-packages (from orbit-ml==1.0.13) (4.62.0)\n",
            "Requirement already satisfied: scipy>=1.4.1 in /usr/local/lib/python3.7/dist-packages (from orbit-ml==1.0.13) (1.4.1)\n",
            "Requirement already satisfied: pyro-ppl>=1.4.0 in /usr/local/lib/python3.7/dist-packages (from orbit-ml==1.0.13) (1.7.0)\n",
            "Requirement already satisfied: numpy>=1.18.2 in /usr/local/lib/python3.7/dist-packages (from orbit-ml==1.0.13) (1.19.5)\n",
            "Requirement already satisfied: matplotlib==3.3.4 in /usr/local/lib/python3.7/dist-packages (from orbit-ml==1.0.13) (3.3.4)\n",
            "Requirement already satisfied: statsmodels>=0.11.1 in /usr/local/lib/python3.7/dist-packages (from orbit-ml==1.0.13) (0.12.2)\n",
            "Requirement already satisfied: torch in /usr/local/lib/python3.7/dist-packages (from orbit-ml==1.0.13) (1.9.0+cu102)\n",
            "Requirement already satisfied: pandas>=1.0.3 in /usr/local/lib/python3.7/dist-packages (from orbit-ml==1.0.13) (1.1.5)\n",
            "Requirement already satisfied: pillow>=6.2.0 in /usr/local/lib/python3.7/dist-packages (from matplotlib==3.3.4->orbit-ml==1.0.13) (7.1.2)\n",
            "Requirement already satisfied: cycler>=0.10 in /usr/local/lib/python3.7/dist-packages (from matplotlib==3.3.4->orbit-ml==1.0.13) (0.10.0)\n",
            "Requirement already satisfied: pyparsing!=2.0.4,!=2.1.2,!=2.1.6,>=2.0.3 in /usr/local/lib/python3.7/dist-packages (from matplotlib==3.3.4->orbit-ml==1.0.13) (2.4.7)\n",
            "Requirement already satisfied: python-dateutil>=2.1 in /usr/local/lib/python3.7/dist-packages (from matplotlib==3.3.4->orbit-ml==1.0.13) (2.8.2)\n",
            "Requirement already satisfied: kiwisolver>=1.0.1 in /usr/local/lib/python3.7/dist-packages (from matplotlib==3.3.4->orbit-ml==1.0.13) (1.3.1)\n",
            "Requirement already satisfied: Cython!=0.25.1,>=0.22 in /usr/local/lib/python3.7/dist-packages (from pystan==2.19.1.1->orbit-ml==1.0.13) (0.29.24)\n",
            "Requirement already satisfied: six in /usr/local/lib/python3.7/dist-packages (from cycler>=0.10->matplotlib==3.3.4->orbit-ml==1.0.13) (1.15.0)\n",
            "Requirement already satisfied: pytz>=2017.2 in /usr/local/lib/python3.7/dist-packages (from pandas>=1.0.3->orbit-ml==1.0.13) (2018.9)\n",
            "Requirement already satisfied: opt-einsum>=2.3.2 in /usr/local/lib/python3.7/dist-packages (from pyro-ppl>=1.4.0->orbit-ml==1.0.13) (3.3.0)\n",
            "Requirement already satisfied: pyro-api>=0.1.1 in /usr/local/lib/python3.7/dist-packages (from pyro-ppl>=1.4.0->orbit-ml==1.0.13) (0.1.2)\n",
            "Requirement already satisfied: patsy>=0.5 in /usr/local/lib/python3.7/dist-packages (from statsmodels>=0.11.1->orbit-ml==1.0.13) (0.5.1)\n",
            "Requirement already satisfied: typing-extensions in /usr/local/lib/python3.7/dist-packages (from torch->orbit-ml==1.0.13) (3.7.4.3)\n",
            "Requirement already satisfied: fbprophet==0.7.1 in /usr/local/lib/python3.7/dist-packages (0.7.1)\n",
            "Requirement already satisfied: Cython>=0.22 in /usr/local/lib/python3.7/dist-packages (from fbprophet==0.7.1) (0.29.24)\n",
            "Requirement already satisfied: cmdstanpy==0.9.5 in /usr/local/lib/python3.7/dist-packages (from fbprophet==0.7.1) (0.9.5)\n",
            "Requirement already satisfied: pystan>=2.14 in /usr/local/lib/python3.7/dist-packages (from fbprophet==0.7.1) (2.19.1.1)\n",
            "Requirement already satisfied: numpy>=1.15.4 in /usr/local/lib/python3.7/dist-packages (from fbprophet==0.7.1) (1.19.5)\n",
            "Requirement already satisfied: pandas>=1.0.4 in /usr/local/lib/python3.7/dist-packages (from fbprophet==0.7.1) (1.1.5)\n",
            "Requirement already satisfied: matplotlib>=2.0.0 in /usr/local/lib/python3.7/dist-packages (from fbprophet==0.7.1) (3.3.4)\n",
            "Requirement already satisfied: LunarCalendar>=0.0.9 in /usr/local/lib/python3.7/dist-packages (from fbprophet==0.7.1) (0.0.9)\n",
            "Requirement already satisfied: convertdate>=2.1.2 in /usr/local/lib/python3.7/dist-packages (from fbprophet==0.7.1) (2.3.2)\n",
            "Requirement already satisfied: holidays>=0.10.2 in /usr/local/lib/python3.7/dist-packages (from fbprophet==0.7.1) (0.10.5.2)\n",
            "Requirement already satisfied: setuptools-git>=1.2 in /usr/local/lib/python3.7/dist-packages (from fbprophet==0.7.1) (1.2)\n",
            "Requirement already satisfied: python-dateutil>=2.8.0 in /usr/local/lib/python3.7/dist-packages (from fbprophet==0.7.1) (2.8.2)\n",
            "Requirement already satisfied: tqdm>=4.36.1 in /usr/local/lib/python3.7/dist-packages (from fbprophet==0.7.1) (4.62.0)\n",
            "Requirement already satisfied: pytz>=2014.10 in /usr/local/lib/python3.7/dist-packages (from convertdate>=2.1.2->fbprophet==0.7.1) (2018.9)\n",
            "Requirement already satisfied: pymeeus<=1,>=0.3.13 in /usr/local/lib/python3.7/dist-packages (from convertdate>=2.1.2->fbprophet==0.7.1) (0.5.11)\n",
            "Requirement already satisfied: six in /usr/local/lib/python3.7/dist-packages (from holidays>=0.10.2->fbprophet==0.7.1) (1.15.0)\n",
            "Requirement already satisfied: hijri-converter in /usr/local/lib/python3.7/dist-packages (from holidays>=0.10.2->fbprophet==0.7.1) (2.1.3)\n",
            "Requirement already satisfied: korean-lunar-calendar in /usr/local/lib/python3.7/dist-packages (from holidays>=0.10.2->fbprophet==0.7.1) (0.2.1)\n",
            "Requirement already satisfied: ephem>=3.7.5.3 in /usr/local/lib/python3.7/dist-packages (from LunarCalendar>=0.0.9->fbprophet==0.7.1) (4.0.0.2)\n",
            "Requirement already satisfied: cycler>=0.10 in /usr/local/lib/python3.7/dist-packages (from matplotlib>=2.0.0->fbprophet==0.7.1) (0.10.0)\n",
            "Requirement already satisfied: kiwisolver>=1.0.1 in /usr/local/lib/python3.7/dist-packages (from matplotlib>=2.0.0->fbprophet==0.7.1) (1.3.1)\n",
            "Requirement already satisfied: pyparsing!=2.0.4,!=2.1.2,!=2.1.6,>=2.0.3 in /usr/local/lib/python3.7/dist-packages (from matplotlib>=2.0.0->fbprophet==0.7.1) (2.4.7)\n",
            "Requirement already satisfied: pillow>=6.2.0 in /usr/local/lib/python3.7/dist-packages (from matplotlib>=2.0.0->fbprophet==0.7.1) (7.1.2)\n"
          ]
        }
      ]
    },
    {
      "cell_type": "code",
      "metadata": {
        "id": "ANlddKuWduM1"
      },
      "source": [
        "import numpy as np\n",
        "import tqdm\n",
        "import pandas as pd\n",
        "import statsmodels.api as sm\n",
        "import inspect\n",
        "import random\n",
        "from fbprophet import Prophet\n",
        "from statsmodels.tsa.statespace.sarimax import SARIMAX\n",
        "\n",
        "import orbit\n",
        "from orbit.models.dlt import DLTMAP, DLTAggregated, DLTFull\n",
        "from orbit.utils.dataset import load_m3monthly\n",
        "from orbit.diagnostics.backtest import BackTester\n",
        "from orbit.diagnostics.metrics import smape"
      ],
      "execution_count": null,
      "outputs": []
    },
    {
      "cell_type": "code",
      "metadata": {
        "id": "bAzgggXVd0HP"
      },
      "source": [
        "seed=2021\n",
        "n_sample=10\n",
        "random.seed(seed)"
      ],
      "execution_count": null,
      "outputs": []
    },
    {
      "cell_type": "code",
      "metadata": {
        "colab": {
          "base_uri": "https://localhost:8080/"
        },
        "id": "jQL1e2Aod5cc",
        "outputId": "c874163d-d8d1-448c-99a8-d903850a9b23"
      },
      "source": [
        "data = load_m3monthly()\n",
        "unique_keys = data['key'].unique().tolist()\n",
        "if n_sample > 0:\n",
        "    sample_keys = random.sample(unique_keys, 10)\n",
        "    # just get the first 5 series for demo\n",
        "    data = data[data['key'].isin(sample_keys)].reset_index(drop=True)\n",
        "else:\n",
        "    sample_keys = unique_keys\n",
        "print(sample_keys)"
      ],
      "execution_count": null,
      "outputs": [
        {
          "output_type": "stream",
          "name": "stdout",
          "text": [
            "['N2229', 'N2691', 'N2516', 'N1968', 'N1908', 'N2702', 'N1472', 'N2310', 'N2372', 'N2578']\n"
          ]
        }
      ]
    },
    {
      "cell_type": "code",
      "metadata": {
        "colab": {
          "base_uri": "https://localhost:8080/"
        },
        "id": "1IPAcuVad5fk",
        "outputId": "48323fea-a5c6-4898-a6d6-2477ba70c72c"
      },
      "source": [
        "data.columns"
      ],
      "execution_count": null,
      "outputs": [
        {
          "output_type": "execute_result",
          "data": {
            "text/plain": [
              "Index(['key', 'value', 'date'], dtype='object')"
            ]
          },
          "metadata": {},
          "execution_count": 6
        }
      ]
    },
    {
      "cell_type": "code",
      "metadata": {
        "id": "G7xRTOJdd5i3"
      },
      "source": [
        "key_col='key'\n",
        "response_col='value'\n",
        "date_col='date'\n",
        "seasonality=12"
      ],
      "execution_count": null,
      "outputs": []
    },
    {
      "cell_type": "code",
      "metadata": {
        "id": "sLSOQJa4d5mB"
      },
      "source": [
        "\n",
        "backtest_args = {\n",
        "    'min_train_len': 1, # not useful; a placeholder\n",
        "    'incremental_len': 18,  # not useful; a placeholder\n",
        "    'forecast_len': 18,\n",
        "    'n_splits': 1,\n",
        "    'window_type': \"expanding\",\n",
        "}"
      ],
      "execution_count": null,
      "outputs": []
    },
    {
      "cell_type": "code",
      "metadata": {
        "id": "H_uGX8ILeOcg"
      },
      "source": [
        "class DLTMAPWrapper(object):\n",
        "    def __init__(self, response_col, date_col):\n",
        "        self.response_col = response_col\n",
        "        self.date_col = date_col\n",
        "        self.model =  DLTMAP(\n",
        "                         response_col=response_col,\n",
        "                         date_col=date_col,\n",
        "                         seasonality=52,\n",
        "                         seed=8888,\n",
        "                         estimator_type='stan-map', \n",
        "                        )\n",
        "        '''\n",
        "        DLT(\n",
        "            response_col=response_col,\n",
        "            date_col=date_col,\n",
        "            estimator='stan-map',\n",
        "            **kwargs)\n",
        "            '''\n",
        "       \n",
        "\n",
        "    def fit(self, df):\n",
        "        df = df.copy()\n",
        "        df[[self.response_col]] = df[[self.response_col]].apply(np.log1p)\n",
        "        self.model.fit(df)\n",
        "\n",
        "    def predict(self, df):\n",
        "        df = df.copy()\n",
        "        pred_df = self.model.predict(df)\n",
        "        pred_df['prediction'] = np.clip(np.expm1(pred_df['prediction']).values, 0, None)\n",
        "        return pred_df"
      ],
      "execution_count": null,
      "outputs": []
    },
    {
      "cell_type": "code",
      "metadata": {
        "id": "ERgf4UoteSsD"
      },
      "source": [
        "class SARIMAXWrapper(object):\n",
        "    def __init__(self, response_col, date_col, **kwargs):\n",
        "        kw_params = locals()['kwargs']\n",
        "        for key, value in kw_params.items():\n",
        "            setattr(self, key, value)\n",
        "        self.response_col = response_col\n",
        "        self.date_col = date_col\n",
        "        self.model = DLT(\n",
        "            response_col=response_col,\n",
        "            date_col=date_col,\n",
        "            estimator_type='stan-map',\n",
        "            **kwargs)        \n",
        "\n",
        "    def fit(self, df):\n",
        "\n",
        "        df_copy = df.copy()\n",
        "        infer_freq = pd.infer_freq(df_copy[self.date_col])\n",
        "        df_copy = df_copy.set_index(self.date_col)\n",
        "        df_copy = df_copy.asfreq(infer_freq)\n",
        "        endog = df_copy[self.response_col]\n",
        "        sig = inspect.signature(SARIMAX)\n",
        "        all_params = dict()\n",
        "        for key in sig.parameters.keys():\n",
        "            if hasattr(self, key):\n",
        "                all_params[key] = getattr(self, key)\n",
        "        self.df = df_copy\n",
        "        self.model = SARIMAX(endog=endog, **all_params).fit(disp=False)\n",
        "\n",
        "    def predict(self, df, **kwargs):\n",
        "        df_copy = df.copy()\n",
        "        infer_freq = pd.infer_freq(df_copy[self.date_col])\n",
        "        df_copy = df_copy.set_index(self.date_col)\n",
        "        df_copy = df_copy.asfreq(infer_freq)\n",
        "\n",
        "        pred_array = np.array(self.model.predict(start=df_copy.index[0],\n",
        "                                                 end=df_copy.index[-1],\n",
        "                                                 **kwargs))\n",
        "\n",
        "        out = pd.DataFrame({\n",
        "            self.date_col: df[self.date_col],\n",
        "            'prediction': pred_array\n",
        "        })\n",
        "        return out"
      ],
      "execution_count": null,
      "outputs": []
    },
    {
      "cell_type": "code",
      "metadata": {
        "id": "1vgLyiRqeXVM"
      },
      "source": [
        "\n",
        "class ProphetWrapper(object):\n",
        "    def __init__(self, response_col, date_col, **kwargs):\n",
        "        kw_params = locals()['kwargs']\n",
        "        for key, value in kw_params.items():\n",
        "            setattr(self, key, value)\n",
        "        self.response_col = response_col\n",
        "        self.date_col = date_col\n",
        "        self.model = Prophet(**kwargs)\n",
        "\n",
        "    def fit(self, df):\n",
        "        sig = inspect.signature(Prophet)\n",
        "        all_params = dict()\n",
        "        for key in sig.parameters.keys():\n",
        "            if hasattr(self, key):\n",
        "                all_params[key] = getattr(self, key)\n",
        "        object_type = type(self.model)\n",
        "        self.model = object_type(**all_params)\n",
        "\n",
        "        train_df = df.copy()\n",
        "        train_df = train_df.rename(columns={self.date_col: \"ds\", self.response_col: \"y\"})\n",
        "        self.model.fit(train_df)\n",
        "\n",
        "    def predict(self, df):\n",
        "        df = df.copy()\n",
        "        df = df.rename(columns={self.date_col: \"ds\"})\n",
        "        pred_df = self.model.predict(df)\n",
        "        pred_df = pred_df.rename(columns={'yhat': 'prediction', 'ds': self.date_col})\n",
        "        pred_df = pred_df[[self.date_col, 'prediction']]\n",
        "        return pred_df"
      ],
      "execution_count": null,
      "outputs": []
    },
    {
      "cell_type": "code",
      "metadata": {
        "colab": {
          "base_uri": "https://localhost:8080/",
          "height": 368
        },
        "id": "rV1E6YADebRk",
        "outputId": "8748758c-76a5-4cc5-abeb-4e1746d6265e"
      },
      "source": [
        "dlt = DLTMAPWrapper(\n",
        "    response_col=response_col,\n",
        "    date_col=date_col,\n",
        ")\n",
        "\n",
        "sarima = SARIMAXWrapper(\n",
        "    response_col=response_col,\n",
        "    date_col=date_col,\n",
        "    seasonality=seasonality,\n",
        "    seed=seed,\n",
        ")\n",
        "\n",
        "prophet = ProphetWrapper(\n",
        "    response_col=response_col,\n",
        "    date_col=date_col,\n",
        ")"
      ],
      "execution_count": null,
      "outputs": [
        {
          "output_type": "error",
          "ename": "TypeError",
          "evalue": "ignored",
          "traceback": [
            "\u001b[0;31m---------------------------------------------------------------------------\u001b[0m",
            "\u001b[0;31mTypeError\u001b[0m                                 Traceback (most recent call last)",
            "\u001b[0;32m<ipython-input-30-e2aa795026c8>\u001b[0m in \u001b[0;36m<module>\u001b[0;34m()\u001b[0m\n\u001b[1;32m      1\u001b[0m dlt = DLTMAPWrapper(\n\u001b[1;32m      2\u001b[0m     \u001b[0mresponse_col\u001b[0m\u001b[0;34m=\u001b[0m\u001b[0mresponse_col\u001b[0m\u001b[0;34m,\u001b[0m\u001b[0;34m\u001b[0m\u001b[0;34m\u001b[0m\u001b[0m\n\u001b[0;32m----> 3\u001b[0;31m     \u001b[0mdate_col\u001b[0m\u001b[0;34m=\u001b[0m\u001b[0mdate_col\u001b[0m\u001b[0;34m,\u001b[0m\u001b[0;34m\u001b[0m\u001b[0;34m\u001b[0m\u001b[0m\n\u001b[0m\u001b[1;32m      4\u001b[0m )\n\u001b[1;32m      5\u001b[0m \u001b[0;34m\u001b[0m\u001b[0m\n",
            "\u001b[0;32m<ipython-input-25-36d33bbaf349>\u001b[0m in \u001b[0;36m__init__\u001b[0;34m(self, response_col, date_col)\u001b[0m\n\u001b[1;32m      8\u001b[0m                          \u001b[0mseasonality\u001b[0m\u001b[0;34m=\u001b[0m\u001b[0;36m52\u001b[0m\u001b[0;34m,\u001b[0m\u001b[0;34m\u001b[0m\u001b[0;34m\u001b[0m\u001b[0m\n\u001b[1;32m      9\u001b[0m                          \u001b[0mseed\u001b[0m\u001b[0;34m=\u001b[0m\u001b[0;36m8888\u001b[0m\u001b[0;34m,\u001b[0m\u001b[0;34m\u001b[0m\u001b[0;34m\u001b[0m\u001b[0m\n\u001b[0;32m---> 10\u001b[0;31m                          \u001b[0mestimator_type\u001b[0m\u001b[0;34m=\u001b[0m\u001b[0;34m'stan-map'\u001b[0m\u001b[0;34m,\u001b[0m\u001b[0;34m\u001b[0m\u001b[0;34m\u001b[0m\u001b[0m\n\u001b[0m\u001b[1;32m     11\u001b[0m                         )\n\u001b[1;32m     12\u001b[0m         '''\n",
            "\u001b[0;32m/usr/local/lib/python3.7/dist-packages/orbit/models/ets.py\u001b[0m in \u001b[0;36m__init__\u001b[0;34m(self, estimator_type, **kwargs)\u001b[0m\n\u001b[1;32m    281\u001b[0m \u001b[0;34m\u001b[0m\u001b[0m\n\u001b[1;32m    282\u001b[0m     \u001b[0;32mdef\u001b[0m \u001b[0m__init__\u001b[0m\u001b[0;34m(\u001b[0m\u001b[0mself\u001b[0m\u001b[0;34m,\u001b[0m \u001b[0mestimator_type\u001b[0m\u001b[0;34m=\u001b[0m\u001b[0mStanEstimatorMAP\u001b[0m\u001b[0;34m,\u001b[0m \u001b[0;34m**\u001b[0m\u001b[0mkwargs\u001b[0m\u001b[0;34m)\u001b[0m\u001b[0;34m:\u001b[0m\u001b[0;34m\u001b[0m\u001b[0;34m\u001b[0m\u001b[0m\n\u001b[0;32m--> 283\u001b[0;31m         \u001b[0msuper\u001b[0m\u001b[0;34m(\u001b[0m\u001b[0;34m)\u001b[0m\u001b[0;34m.\u001b[0m\u001b[0m__init__\u001b[0m\u001b[0;34m(\u001b[0m\u001b[0mestimator_type\u001b[0m\u001b[0;34m=\u001b[0m\u001b[0mestimator_type\u001b[0m\u001b[0;34m,\u001b[0m \u001b[0;34m**\u001b[0m\u001b[0mkwargs\u001b[0m\u001b[0;34m)\u001b[0m\u001b[0;34m\u001b[0m\u001b[0;34m\u001b[0m\u001b[0m\n\u001b[0m\u001b[1;32m    284\u001b[0m \u001b[0;34m\u001b[0m\u001b[0m\n\u001b[1;32m    285\u001b[0m \u001b[0;34m\u001b[0m\u001b[0m\n",
            "\u001b[0;32m/usr/local/lib/python3.7/dist-packages/orbit/models/template.py\u001b[0m in \u001b[0;36m__init__\u001b[0;34m(self, n_bootstrap_draws, prediction_percentiles, **kwargs)\u001b[0m\n\u001b[1;32m    250\u001b[0m \u001b[0;34m\u001b[0m\u001b[0m\n\u001b[1;32m    251\u001b[0m     \u001b[0;32mdef\u001b[0m \u001b[0m__init__\u001b[0m\u001b[0;34m(\u001b[0m\u001b[0mself\u001b[0m\u001b[0;34m,\u001b[0m \u001b[0mn_bootstrap_draws\u001b[0m\u001b[0;34m=\u001b[0m\u001b[0;36m1e4\u001b[0m\u001b[0;34m,\u001b[0m \u001b[0mprediction_percentiles\u001b[0m\u001b[0;34m=\u001b[0m\u001b[0;32mNone\u001b[0m\u001b[0;34m,\u001b[0m \u001b[0;34m**\u001b[0m\u001b[0mkwargs\u001b[0m\u001b[0;34m)\u001b[0m\u001b[0;34m:\u001b[0m\u001b[0;34m\u001b[0m\u001b[0;34m\u001b[0m\u001b[0m\n\u001b[0;32m--> 252\u001b[0;31m         \u001b[0msuper\u001b[0m\u001b[0;34m(\u001b[0m\u001b[0;34m)\u001b[0m\u001b[0;34m.\u001b[0m\u001b[0m__init__\u001b[0m\u001b[0;34m(\u001b[0m\u001b[0;34m**\u001b[0m\u001b[0mkwargs\u001b[0m\u001b[0;34m)\u001b[0m\u001b[0;34m\u001b[0m\u001b[0;34m\u001b[0m\u001b[0m\n\u001b[0m\u001b[1;32m    253\u001b[0m \u001b[0;34m\u001b[0m\u001b[0m\n\u001b[1;32m    254\u001b[0m         \u001b[0;31m# n_bootstrap_draws here only to provide empirical prediction percentiles;\u001b[0m\u001b[0;34m\u001b[0m\u001b[0;34m\u001b[0m\u001b[0;34m\u001b[0m\u001b[0m\n",
            "\u001b[0;32m/usr/local/lib/python3.7/dist-packages/orbit/models/dlt.py\u001b[0m in \u001b[0;36m__init__\u001b[0;34m(self, regressor_col, regressor_sign, regressor_beta_prior, regressor_sigma_prior, regression_penalty, lasso_scale, auto_ridge_scale, slope_sm_input, period, damped_factor, global_trend_option, **kwargs)\u001b[0m\n\u001b[1;32m    142\u001b[0m         \u001b[0;31m# order matters and super constructor called after attributes are set\u001b[0m\u001b[0;34m\u001b[0m\u001b[0;34m\u001b[0m\u001b[0;34m\u001b[0m\u001b[0m\n\u001b[1;32m    143\u001b[0m         \u001b[0;31m# since we override _set_static_attributes()\u001b[0m\u001b[0;34m\u001b[0m\u001b[0;34m\u001b[0m\u001b[0;34m\u001b[0m\u001b[0m\n\u001b[0;32m--> 144\u001b[0;31m         \u001b[0msuper\u001b[0m\u001b[0;34m(\u001b[0m\u001b[0;34m)\u001b[0m\u001b[0;34m.\u001b[0m\u001b[0m__init__\u001b[0m\u001b[0;34m(\u001b[0m\u001b[0;34m**\u001b[0m\u001b[0mkwargs\u001b[0m\u001b[0;34m)\u001b[0m\u001b[0;34m\u001b[0m\u001b[0;34m\u001b[0m\u001b[0m\n\u001b[0m\u001b[1;32m    145\u001b[0m \u001b[0;34m\u001b[0m\u001b[0m\n\u001b[1;32m    146\u001b[0m     \u001b[0;32mdef\u001b[0m \u001b[0m_set_init_values\u001b[0m\u001b[0;34m(\u001b[0m\u001b[0mself\u001b[0m\u001b[0;34m)\u001b[0m\u001b[0;34m:\u001b[0m\u001b[0;34m\u001b[0m\u001b[0;34m\u001b[0m\u001b[0m\n",
            "\u001b[0;32m/usr/local/lib/python3.7/dist-packages/orbit/models/ets.py\u001b[0m in \u001b[0;36m__init__\u001b[0;34m(self, seasonality, seasonality_sm_input, level_sm_input, **kwargs)\u001b[0m\n\u001b[1;32m     36\u001b[0m \u001b[0;34m\u001b[0m\u001b[0m\n\u001b[1;32m     37\u001b[0m     \u001b[0;32mdef\u001b[0m \u001b[0m__init__\u001b[0m\u001b[0;34m(\u001b[0m\u001b[0mself\u001b[0m\u001b[0;34m,\u001b[0m \u001b[0mseasonality\u001b[0m\u001b[0;34m=\u001b[0m\u001b[0;32mNone\u001b[0m\u001b[0;34m,\u001b[0m \u001b[0mseasonality_sm_input\u001b[0m\u001b[0;34m=\u001b[0m\u001b[0;32mNone\u001b[0m\u001b[0;34m,\u001b[0m \u001b[0mlevel_sm_input\u001b[0m\u001b[0;34m=\u001b[0m\u001b[0;32mNone\u001b[0m\u001b[0;34m,\u001b[0m \u001b[0;34m**\u001b[0m\u001b[0mkwargs\u001b[0m\u001b[0;34m)\u001b[0m\u001b[0;34m:\u001b[0m\u001b[0;34m\u001b[0m\u001b[0;34m\u001b[0m\u001b[0m\n\u001b[0;32m---> 38\u001b[0;31m         \u001b[0msuper\u001b[0m\u001b[0;34m(\u001b[0m\u001b[0;34m)\u001b[0m\u001b[0;34m.\u001b[0m\u001b[0m__init__\u001b[0m\u001b[0;34m(\u001b[0m\u001b[0;34m**\u001b[0m\u001b[0mkwargs\u001b[0m\u001b[0;34m)\u001b[0m  \u001b[0;31m# create estimator in base class\u001b[0m\u001b[0;34m\u001b[0m\u001b[0;34m\u001b[0m\u001b[0m\n\u001b[0m\u001b[1;32m     39\u001b[0m         \u001b[0mself\u001b[0m\u001b[0;34m.\u001b[0m\u001b[0mseasonality\u001b[0m \u001b[0;34m=\u001b[0m \u001b[0mseasonality\u001b[0m\u001b[0;34m\u001b[0m\u001b[0;34m\u001b[0m\u001b[0m\n\u001b[1;32m     40\u001b[0m \u001b[0;34m\u001b[0m\u001b[0m\n",
            "\u001b[0;32m/usr/local/lib/python3.7/dist-packages/orbit/models/template.py\u001b[0m in \u001b[0;36m__init__\u001b[0;34m(self, response_col, date_col, estimator_type, **kwargs)\u001b[0m\n\u001b[1;32m     69\u001b[0m         \u001b[0;31m# basic estimator fields\u001b[0m\u001b[0;34m\u001b[0m\u001b[0;34m\u001b[0m\u001b[0;34m\u001b[0m\u001b[0m\n\u001b[1;32m     70\u001b[0m         \u001b[0mself\u001b[0m\u001b[0;34m.\u001b[0m\u001b[0mestimator_type\u001b[0m \u001b[0;34m=\u001b[0m \u001b[0mestimator_type\u001b[0m\u001b[0;34m\u001b[0m\u001b[0;34m\u001b[0m\u001b[0m\n\u001b[0;32m---> 71\u001b[0;31m         \u001b[0mself\u001b[0m\u001b[0;34m.\u001b[0m\u001b[0mestimator\u001b[0m \u001b[0;34m=\u001b[0m \u001b[0mself\u001b[0m\u001b[0;34m.\u001b[0m\u001b[0mestimator_type\u001b[0m\u001b[0;34m(\u001b[0m\u001b[0;34m**\u001b[0m\u001b[0mkwargs\u001b[0m\u001b[0;34m)\u001b[0m\u001b[0;34m\u001b[0m\u001b[0;34m\u001b[0m\u001b[0m\n\u001b[0m\u001b[1;32m     72\u001b[0m         \u001b[0mself\u001b[0m\u001b[0;34m.\u001b[0m\u001b[0mwith_mcmc\u001b[0m \u001b[0;34m=\u001b[0m \u001b[0;32mNone\u001b[0m\u001b[0;34m\u001b[0m\u001b[0;34m\u001b[0m\u001b[0m\n\u001b[1;32m     73\u001b[0m         \u001b[0;31m# set by ._set_init_values\u001b[0m\u001b[0;34m\u001b[0m\u001b[0;34m\u001b[0m\u001b[0;34m\u001b[0m\u001b[0m\n",
            "\u001b[0;31mTypeError\u001b[0m: 'str' object is not callable"
          ]
        }
      ]
    },
    {
      "cell_type": "code",
      "metadata": {
        "colab": {
          "base_uri": "https://localhost:8080/",
          "height": 406
        },
        "id": "LNt3riBnd5pA",
        "outputId": "e1193b94-3355-4e44-ce07-a556d74bca05"
      },
      "source": [
        "from orbit.utils.dataset import load_m4weekly\n",
        "data = load_m4weekly()\n",
        "data"
      ],
      "execution_count": null,
      "outputs": [
        {
          "output_type": "execute_result",
          "data": {
            "text/html": [
              "<div>\n",
              "<style scoped>\n",
              "    .dataframe tbody tr th:only-of-type {\n",
              "        vertical-align: middle;\n",
              "    }\n",
              "\n",
              "    .dataframe tbody tr th {\n",
              "        vertical-align: top;\n",
              "    }\n",
              "\n",
              "    .dataframe thead th {\n",
              "        text-align: right;\n",
              "    }\n",
              "</style>\n",
              "<table border=\"1\" class=\"dataframe\">\n",
              "  <thead>\n",
              "    <tr style=\"text-align: right;\">\n",
              "      <th></th>\n",
              "      <th>key</th>\n",
              "      <th>week_num</th>\n",
              "      <th>value</th>\n",
              "      <th>date</th>\n",
              "    </tr>\n",
              "  </thead>\n",
              "  <tbody>\n",
              "    <tr>\n",
              "      <th>0</th>\n",
              "      <td>W1</td>\n",
              "      <td>2</td>\n",
              "      <td>1089.20</td>\n",
              "      <td>1970-01-05</td>\n",
              "    </tr>\n",
              "    <tr>\n",
              "      <th>1</th>\n",
              "      <td>W1</td>\n",
              "      <td>3</td>\n",
              "      <td>1078.91</td>\n",
              "      <td>1970-01-12</td>\n",
              "    </tr>\n",
              "    <tr>\n",
              "      <th>2</th>\n",
              "      <td>W1</td>\n",
              "      <td>4</td>\n",
              "      <td>1079.88</td>\n",
              "      <td>1970-01-19</td>\n",
              "    </tr>\n",
              "    <tr>\n",
              "      <th>3</th>\n",
              "      <td>W1</td>\n",
              "      <td>5</td>\n",
              "      <td>1063.58</td>\n",
              "      <td>1970-01-26</td>\n",
              "    </tr>\n",
              "    <tr>\n",
              "      <th>4</th>\n",
              "      <td>W1</td>\n",
              "      <td>6</td>\n",
              "      <td>1060.61</td>\n",
              "      <td>1970-02-02</td>\n",
              "    </tr>\n",
              "    <tr>\n",
              "      <th>...</th>\n",
              "      <td>...</td>\n",
              "      <td>...</td>\n",
              "      <td>...</td>\n",
              "      <td>...</td>\n",
              "    </tr>\n",
              "    <tr>\n",
              "      <th>6101</th>\n",
              "      <td>W3</td>\n",
              "      <td>10</td>\n",
              "      <td>9760.70</td>\n",
              "      <td>2011-11-28</td>\n",
              "    </tr>\n",
              "    <tr>\n",
              "      <th>6102</th>\n",
              "      <td>W3</td>\n",
              "      <td>11</td>\n",
              "      <td>9968.20</td>\n",
              "      <td>2011-12-05</td>\n",
              "    </tr>\n",
              "    <tr>\n",
              "      <th>6103</th>\n",
              "      <td>W3</td>\n",
              "      <td>12</td>\n",
              "      <td>10089.10</td>\n",
              "      <td>2011-12-12</td>\n",
              "    </tr>\n",
              "    <tr>\n",
              "      <th>6104</th>\n",
              "      <td>W3</td>\n",
              "      <td>13</td>\n",
              "      <td>10005.90</td>\n",
              "      <td>2011-12-19</td>\n",
              "    </tr>\n",
              "    <tr>\n",
              "      <th>6105</th>\n",
              "      <td>W3</td>\n",
              "      <td>14</td>\n",
              "      <td>9823.30</td>\n",
              "      <td>2011-12-26</td>\n",
              "    </tr>\n",
              "  </tbody>\n",
              "</table>\n",
              "<p>6106 rows × 4 columns</p>\n",
              "</div>"
            ],
            "text/plain": [
              "     key  week_num     value       date\n",
              "0     W1         2   1089.20 1970-01-05\n",
              "1     W1         3   1078.91 1970-01-12\n",
              "2     W1         4   1079.88 1970-01-19\n",
              "3     W1         5   1063.58 1970-01-26\n",
              "4     W1         6   1060.61 1970-02-02\n",
              "...   ..       ...       ...        ...\n",
              "6101  W3        10   9760.70 2011-11-28\n",
              "6102  W3        11   9968.20 2011-12-05\n",
              "6103  W3        12  10089.10 2011-12-12\n",
              "6104  W3        13  10005.90 2011-12-19\n",
              "6105  W3        14   9823.30 2011-12-26\n",
              "\n",
              "[6106 rows x 4 columns]"
            ]
          },
          "metadata": {},
          "execution_count": 32
        }
      ]
    },
    {
      "cell_type": "code",
      "metadata": {
        "colab": {
          "base_uri": "https://localhost:8080/",
          "height": 406
        },
        "id": "1goApUexd5sX",
        "outputId": "0b5dc93f-4cd8-4b1f-a675-ef2842c300ef"
      },
      "source": [
        "from orbit.utils.dataset import load_electricity_demand\n",
        "data = load_electricity_demand()\n",
        "data"
      ],
      "execution_count": null,
      "outputs": [
        {
          "output_type": "execute_result",
          "data": {
            "text/html": [
              "<div>\n",
              "<style scoped>\n",
              "    .dataframe tbody tr th:only-of-type {\n",
              "        vertical-align: middle;\n",
              "    }\n",
              "\n",
              "    .dataframe tbody tr th {\n",
              "        vertical-align: top;\n",
              "    }\n",
              "\n",
              "    .dataframe thead th {\n",
              "        text-align: right;\n",
              "    }\n",
              "</style>\n",
              "<table border=\"1\" class=\"dataframe\">\n",
              "  <thead>\n",
              "    <tr style=\"text-align: right;\">\n",
              "      <th></th>\n",
              "      <th>date</th>\n",
              "      <th>electricity</th>\n",
              "    </tr>\n",
              "  </thead>\n",
              "  <tbody>\n",
              "    <tr>\n",
              "      <th>0</th>\n",
              "      <td>2000-01-01</td>\n",
              "      <td>12551.500000</td>\n",
              "    </tr>\n",
              "    <tr>\n",
              "      <th>1</th>\n",
              "      <td>2000-01-02</td>\n",
              "      <td>13377.041667</td>\n",
              "    </tr>\n",
              "    <tr>\n",
              "      <th>2</th>\n",
              "      <td>2000-01-03</td>\n",
              "      <td>15300.625000</td>\n",
              "    </tr>\n",
              "    <tr>\n",
              "      <th>3</th>\n",
              "      <td>2000-01-04</td>\n",
              "      <td>15582.750000</td>\n",
              "    </tr>\n",
              "    <tr>\n",
              "      <th>4</th>\n",
              "      <td>2000-01-05</td>\n",
              "      <td>15691.750000</td>\n",
              "    </tr>\n",
              "    <tr>\n",
              "      <th>...</th>\n",
              "      <td>...</td>\n",
              "      <td>...</td>\n",
              "    </tr>\n",
              "    <tr>\n",
              "      <th>3283</th>\n",
              "      <td>2008-12-27</td>\n",
              "      <td>22546.000000</td>\n",
              "    </tr>\n",
              "    <tr>\n",
              "      <th>3284</th>\n",
              "      <td>2008-12-28</td>\n",
              "      <td>20477.791667</td>\n",
              "    </tr>\n",
              "    <tr>\n",
              "      <th>3285</th>\n",
              "      <td>2008-12-29</td>\n",
              "      <td>23093.000000</td>\n",
              "    </tr>\n",
              "    <tr>\n",
              "      <th>3286</th>\n",
              "      <td>2008-12-30</td>\n",
              "      <td>23493.625000</td>\n",
              "    </tr>\n",
              "    <tr>\n",
              "      <th>3287</th>\n",
              "      <td>2008-12-31</td>\n",
              "      <td>22919.000000</td>\n",
              "    </tr>\n",
              "  </tbody>\n",
              "</table>\n",
              "<p>3288 rows × 2 columns</p>\n",
              "</div>"
            ],
            "text/plain": [
              "           date   electricity\n",
              "0    2000-01-01  12551.500000\n",
              "1    2000-01-02  13377.041667\n",
              "2    2000-01-03  15300.625000\n",
              "3    2000-01-04  15582.750000\n",
              "4    2000-01-05  15691.750000\n",
              "...         ...           ...\n",
              "3283 2008-12-27  22546.000000\n",
              "3284 2008-12-28  20477.791667\n",
              "3285 2008-12-29  23093.000000\n",
              "3286 2008-12-30  23493.625000\n",
              "3287 2008-12-31  22919.000000\n",
              "\n",
              "[3288 rows x 2 columns]"
            ]
          },
          "metadata": {},
          "execution_count": 33
        }
      ]
    },
    {
      "cell_type": "code",
      "metadata": {
        "id": "jF0XHfDfd5vv"
      },
      "source": [
        ""
      ],
      "execution_count": null,
      "outputs": []
    },
    {
      "cell_type": "code",
      "metadata": {
        "id": "WeGOa7CQd5zD"
      },
      "source": [
        ""
      ],
      "execution_count": null,
      "outputs": []
    },
    {
      "cell_type": "code",
      "metadata": {
        "id": "5dmXahetd52A"
      },
      "source": [
        ""
      ],
      "execution_count": null,
      "outputs": []
    },
    {
      "cell_type": "code",
      "metadata": {
        "id": "usc0Z22Qd55C"
      },
      "source": [
        ""
      ],
      "execution_count": null,
      "outputs": []
    },
    {
      "cell_type": "code",
      "metadata": {
        "id": "DezqXGm_d58t"
      },
      "source": [
        ""
      ],
      "execution_count": null,
      "outputs": []
    }
  ]
}