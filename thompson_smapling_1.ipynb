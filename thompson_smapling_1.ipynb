{
  "nbformat": 4,
  "nbformat_minor": 0,
  "metadata": {
    "colab": {
      "name": "thompson_smapling_1.ipynb",
      "provenance": [],
      "collapsed_sections": []
    },
    "kernelspec": {
      "name": "python3",
      "display_name": "Python 3"
    },
    "language_info": {
      "name": "python"
    }
  },
  "cells": [
    {
      "cell_type": "markdown",
      "source": [
        "Reinforcement Learning - Thompson Sampling & the Multi-Armed Bandit Problem\n",
        "In this notebook, we'll build a reinforcement learning-based artificial intelligence system that implements Thompson Sampling in order to solve an instance of the famous Multi-Armed Bandit Problem.\n",
        "\n",
        "**Scenario**\n",
        "Imagine that you are at a casino, and that you have 1000 dollar to play the slot machines.\n",
        "There are six slot machines available, and each turn playing a machine costs $1. \n",
        "The probability of winning on any given turn (which is called the conversion rate) is unknown, and varies from machine to machine. \n",
        "In order to maximize your chances of winning, you would like to be able to identify the slot machine that has the highest conversion rate as quickly as possible. \n",
        "How can you achieve this goal?"
      ],
      "metadata": {
        "id": "alSJB210nVJq"
      }
    },
    {
      "cell_type": "code",
      "source": [
        "#import libraries\n",
        "import numpy as np"
      ],
      "metadata": {
        "id": "WBU-craonYIt"
      },
      "execution_count": null,
      "outputs": []
    },
    {
      "cell_type": "code",
      "source": [
        "#Define the total number of turns (i.e., the number of times we will play a slot machine).\n",
        "#Remember, we have $1,000 available, and each turn costs $1. We thus have 1,000 turns.\n",
        "number_of_turns = 1000\n",
        "\n",
        "#define the total number of slot machines\n",
        "number_of_slot_machines = 6\n",
        "\n",
        "#Define arrays where we can keep track of our wins (positive rewards) \n",
        "#and losses (negative rewards) for each slot machine.\n",
        "number_of_positive_rewards = np.zeros(number_of_slot_machines)\n",
        "number_of_negative_rewards = np.zeros(number_of_slot_machines)\n",
        "\n",
        "#define a seed for the random number generator (to ensure that results are reproducible)\n",
        "np.random.seed(33)\n",
        "\n",
        "#create a random conversion rate between 1% and 15% for each slot machine\n",
        "conversion_rates = np.random.uniform(0.01, 0.15, number_of_slot_machines)\n",
        "\n",
        "#Show conversion rates for each slot machine. Remember that in a real-world scenario\n",
        "#the decision-maker would not know this information!\n",
        "for i in range(6):\n",
        "  print('Conversion rate for slot machine {0}: {1:.2%}'.format(i, conversion_rates[i]))"
      ],
      "metadata": {
        "colab": {
          "base_uri": "https://localhost:8080/"
        },
        "id": "WwCrNhAYm0Y_",
        "outputId": "2e5a7903-3a34-484e-bc8f-a9fe1c0c81ab"
      },
      "execution_count": null,
      "outputs": [
        {
          "output_type": "stream",
          "name": "stdout",
          "text": [
            "Conversion rate for slot machine 0: 4.48%\n",
            "Conversion rate for slot machine 1: 7.30%\n",
            "Conversion rate for slot machine 2: 6.75%\n",
            "Conversion rate for slot machine 3: 4.64%\n",
            "Conversion rate for slot machine 4: 13.19%\n",
            "Conversion rate for slot machine 5: 3.59%\n"
          ]
        }
      ]
    },
    {
      "cell_type": "code",
      "source": [
        "#define a seed for the random number generator (to ensure that results are reproducible)\n",
        "np.random.seed(55)\n",
        "\n",
        "#The data set is a matrix with one row for each turn, and one column for each slot machine.\n",
        "#Each item in the matrix represents the outcome of what would happen if we were to play a  \n",
        "#particular slot machine on that particular turn. A value of \"1\" indicates that we would win, \n",
        "#while a value of \"0\" indicates that we would lose. The number of \"wins\" for each slot machine\n",
        "#is determined by its conversion rate.\n",
        "outcomes = np.zeros((number_of_turns, number_of_slot_machines)) #create a two-dimensional numpy array, and fill it with zeros\n",
        "for turn_index in range(number_of_turns): #for each turn\n",
        "    for slot_machine_index in range(number_of_slot_machines): #for each slot machine\n",
        "        #Get a random number between 0.0 and 1.0.\n",
        "        #If the random number is less than or equal to this slot machine's conversion rate, then set the outcome to \"1\".\n",
        "        #Otherwise, the outcome will be \"0\" because the entire matrix was initially filled with zeros.\n",
        "        if np.random.rand() <= conversion_rates[slot_machine_index]:\n",
        "            outcomes[turn_index][slot_machine_index] = 1\n",
        "\n",
        "#display the first 15 rows of data\n",
        "print(outcomes[0:15, 0:6]) #this sort of indexing means \"rows 0 to 14\" (i.e., the first 15 rows) and \"columns 0 through 5\" (i.e., the first six columns)"
      ],
      "metadata": {
        "colab": {
          "base_uri": "https://localhost:8080/"
        },
        "id": "AGYuZJuNm0cA",
        "outputId": "7353f717-ad63-46f5-bfa1-be9f3fe065f6"
      },
      "execution_count": null,
      "outputs": [
        {
          "output_type": "stream",
          "name": "stdout",
          "text": [
            "[[0. 0. 0. 0. 0. 0.]\n",
            " [0. 1. 0. 0. 1. 0.]\n",
            " [1. 0. 0. 0. 0. 0.]\n",
            " [0. 0. 0. 0. 1. 0.]\n",
            " [0. 0. 0. 0. 0. 0.]\n",
            " [0. 0. 0. 1. 0. 0.]\n",
            " [0. 0. 0. 0. 0. 0.]\n",
            " [0. 0. 0. 0. 0. 0.]\n",
            " [0. 0. 0. 0. 0. 0.]\n",
            " [0. 0. 0. 0. 0. 0.]\n",
            " [0. 0. 0. 0. 0. 0.]\n",
            " [0. 0. 0. 0. 1. 0.]\n",
            " [0. 0. 0. 0. 0. 1.]\n",
            " [0. 0. 0. 0. 1. 0.]\n",
            " [0. 0. 0. 0. 0. 0.]]\n"
          ]
        }
      ]
    },
    {
      "cell_type": "code",
      "source": [
        "#show means (i.e., conversion rates) for each column (i.e., for each slot machine)\n",
        "for i in range(6):\n",
        "  print('Mean for column {0}: {1:.2%}'.format(i, np.mean(outcomes[:, i])))"
      ],
      "metadata": {
        "colab": {
          "base_uri": "https://localhost:8080/"
        },
        "id": "5ej1h1SGm0ei",
        "outputId": "f7d2b8e0-4212-4d9a-a773-2b69b70b59b0"
      },
      "execution_count": null,
      "outputs": [
        {
          "output_type": "stream",
          "name": "stdout",
          "text": [
            "Mean for column 0: 4.10%\n",
            "Mean for column 1: 7.10%\n",
            "Mean for column 2: 6.30%\n",
            "Mean for column 3: 4.90%\n",
            "Mean for column 4: 12.30%\n",
            "Mean for column 5: 3.40%\n"
          ]
        }
      ]
    },
    {
      "cell_type": "markdown",
      "source": [
        "Run the Simulation\n",
        "Let's simulate using Thompson Sampling to determine which slot machine to play for each turn..."
      ],
      "metadata": {
        "id": "hIgDc6CIn3Cr"
      }
    },
    {
      "cell_type": "code",
      "source": [
        "#for each turn\n",
        "for turn_index in range(number_of_turns):\n",
        "    index_of_machine_to_play = -1\n",
        "    max_beta = -1\n",
        "\n",
        "    #determine which slot machine to play for this turn\n",
        "    for slot_machine_index in range(number_of_slot_machines): #for each slot machine\n",
        "        #Define the shape parameters for the beta distribution. The shape will depend on the number\n",
        "        #of wins and losses that have thus far been observed for this particular slot machine.\n",
        "        a = number_of_positive_rewards[slot_machine_index] + 1\n",
        "        b = number_of_negative_rewards[slot_machine_index] + 1\n",
        "\n",
        "        #Get a random value from the beta distribution whose shape is defined by the number of\n",
        "        #wins and losses that have thus far been observed for this slot machine\n",
        "        random_beta = np.random.beta(a, b)\n",
        "\n",
        "        #if this is the largest beta value thus far observed for this iteration\n",
        "        if random_beta > max_beta:\n",
        "            max_beta = random_beta #update the maximum beta value thus far observed\n",
        "            index_of_machine_to_play = slot_machine_index #set the machine to play to the current machine\n",
        "    \n",
        "    #play the selected slot machine, and record whether we win or lose\n",
        "    if outcomes[turn_index][index_of_machine_to_play] == 1:\n",
        "        number_of_positive_rewards[index_of_machine_to_play] += 1\n",
        "    else:\n",
        "        number_of_negative_rewards[index_of_machine_to_play] += 1\n",
        "\n",
        "#compute and display the total number of times each slot machine was played\n",
        "number_of_times_played = number_of_positive_rewards + number_of_negative_rewards \n",
        "for slot_machine_index in range(number_of_slot_machines): #for each slot machine\n",
        "    print('Slot machine {0} was played {1} times'.format(slot_machine_index, number_of_times_played[slot_machine_index]))\n",
        "\n",
        "#identify and display the best slot machine to play\n",
        "print('\\nOverall Conclusion: The best slot machine to play is machine {}!'.format(np.argmax(number_of_times_played)))"
      ],
      "metadata": {
        "colab": {
          "base_uri": "https://localhost:8080/"
        },
        "id": "cTnONV78m0hd",
        "outputId": "e72ac0b1-ef3c-4208-cb29-30a2a92ef86a"
      },
      "execution_count": null,
      "outputs": [
        {
          "output_type": "stream",
          "name": "stdout",
          "text": [
            "Slot machine 0 was played 50.0 times\n",
            "Slot machine 1 was played 42.0 times\n",
            "Slot machine 2 was played 63.0 times\n",
            "Slot machine 3 was played 75.0 times\n",
            "Slot machine 4 was played 695.0 times\n",
            "Slot machine 5 was played 75.0 times\n",
            "\n",
            "Overall Conclusion: The best slot machine to play is machine 4!\n"
          ]
        }
      ]
    },
    {
      "cell_type": "markdown",
      "source": [
        "Compare the Performance of Thompson Sampling vs. a Random Sampling Strategy"
      ],
      "metadata": {
        "id": "2pnkHnEEn8-u"
      }
    },
    {
      "cell_type": "code",
      "source": [
        "#compute total number of wins using Thompson Sampling strategy\n",
        "total_wins_thompson_sampling = np.sum(number_of_positive_rewards)\n",
        "\n",
        "#determine how many times we would win if we randomly choose a slot machine to play for each turn\n",
        "total_wins_random_sampling = 0\n",
        "for turn_index in range(number_of_turns):\n",
        "  index_of_machine_to_play = np.random.randint(0, number_of_slot_machines) #randomly choose a machine to play\n",
        "  if outcomes[turn_index][index_of_machine_to_play] == 1:\n",
        "    total_wins_random_sampling += 1\n",
        "\n",
        "#display results\n",
        "print('Total wins with Thompson Sampling: {0:.0f}'.format(total_wins_thompson_sampling))\n",
        "print('Total wins with Random Sampling: {0:.0f}'.format(total_wins_random_sampling))"
      ],
      "metadata": {
        "colab": {
          "base_uri": "https://localhost:8080/"
        },
        "id": "MpKnxcDAm0kk",
        "outputId": "e799b14f-3162-4197-f1d7-6d6b237ba263"
      },
      "execution_count": null,
      "outputs": [
        {
          "output_type": "stream",
          "name": "stdout",
          "text": [
            "Total wins with Thompson Sampling: 92\n",
            "Total wins with Random Sampling: 59\n"
          ]
        }
      ]
    },
    {
      "cell_type": "markdown",
      "source": [
        "Maximizing profit"
      ],
      "metadata": {
        "id": "z8TgytYK-g6w"
      }
    },
    {
      "cell_type": "code",
      "source": [
        "#import required libraries\n",
        "import numpy as np\n",
        "import locale\n",
        "\n",
        "#set locale (for currency formatting)\n",
        "locale.setlocale(locale.LC_ALL, 'en_US.utf8')\n",
        "\n",
        "#define a seed for the random number generator (to ensure that results are reproducible)\n",
        "np.random.seed(367)\n",
        "\n",
        "#define a class to hold details about each advertising campaign\n",
        "class Advertising_Campaign():\n",
        "  #initialize the advertising campaign\n",
        "  def __init__(self, campaign_id):\n",
        "    self.id = campaign_id\n",
        "    #assign a random conversion rate between 1% and 20% for this campaign\n",
        "    self.conversion_rate = np.random.uniform(0.01, 0.2)\n",
        "    #assign a random amount of profit per successful sale for this campaign\n",
        "    self.average_profit_per_sale = np.random.uniform(100., 200.)\n",
        "    #track the number of successes and failures\n",
        "    self.sales = 0\n",
        "    self.no_sales = 0\n",
        "  \n",
        "  #a function that returns the total number of times this campaign has been tried\n",
        "  def total_trials(self):\n",
        "    return self.sales + self.no_sales\n",
        "  \n",
        "  #a function that returns the total profit thus far generated by this campaign\n",
        "  def total_profit(self):\n",
        "    return self.sales * self.average_profit_per_sale\n",
        "\n",
        "  #a function that returns the actual amount of profit per trial\n",
        "  def actual_profit_per_trial(self):\n",
        "    if self.total_trials() > 0:\n",
        "      return self.total_profit() / self.total_trials()\n",
        "    else:\n",
        "      return 0.\n",
        "\n",
        "  #a function that returns the expected (theoretical) amount of profit per trial\n",
        "  def expected_profit_per_trial(self):\n",
        "    return self.conversion_rate * self.average_profit_per_sale\n",
        "\n",
        "\n",
        "#define a function to try an advertising campaign on a customer\n",
        "def try_campaign(campaign):\n",
        "  if np.random.random() <= campaign.conversion_rate:\n",
        "    campaign.sales += 1\n",
        "  else:\n",
        "    campaign.no_sales += 1\n",
        "\n",
        "\n",
        "##### INITIALIZE THE ENVIRONMENT #####\n",
        "\n",
        "#define number of advertising campaigns\n",
        "number_of_advertising_campaigns = 8\n",
        "\n",
        "#define number of customers\n",
        "number_of_customers = 10000000\n",
        "\n",
        "#define a list to hold the advertising campaign objects\n",
        "campaigns = []\n",
        "\n",
        "#create all of the advertising campaigns\n",
        "for c in range(number_of_advertising_campaigns):\n",
        "  campaigns.append(Advertising_Campaign(c))\n",
        "  #print the expected profit per trial for the newly created campaign\n",
        "  print('Campaign {0}: Expected profit per trial = {1}'.format(campaigns[c].id, \n",
        "                                                               locale.currency(campaigns[c].expected_profit_per_trial(), grouping=True)))\n",
        "  "
      ],
      "metadata": {
        "colab": {
          "base_uri": "https://localhost:8080/"
        },
        "id": "Cr_ZC16mm0ns",
        "outputId": "de734a00-9804-4455-f1d0-ebe7a9075f0a"
      },
      "execution_count": null,
      "outputs": [
        {
          "output_type": "stream",
          "name": "stdout",
          "text": [
            "Campaign 0: Expected profit per trial = $3.07\n"
          ]
        }
      ]
    },
    {
      "cell_type": "code",
      "source": [
        ""
      ],
      "metadata": {
        "id": "KOElYEsVm0qj"
      },
      "execution_count": null,
      "outputs": []
    },
    {
      "cell_type": "code",
      "source": [
        ""
      ],
      "metadata": {
        "id": "_ytTbMShm0tv"
      },
      "execution_count": null,
      "outputs": []
    },
    {
      "cell_type": "code",
      "source": [
        ""
      ],
      "metadata": {
        "id": "7p7erPDMm0w7"
      },
      "execution_count": null,
      "outputs": []
    },
    {
      "cell_type": "code",
      "source": [
        ""
      ],
      "metadata": {
        "id": "REGxxvbgm00L"
      },
      "execution_count": null,
      "outputs": []
    },
    {
      "cell_type": "code",
      "source": [
        ""
      ],
      "metadata": {
        "id": "oZJnUUTZm03a"
      },
      "execution_count": null,
      "outputs": []
    },
    {
      "cell_type": "code",
      "source": [
        ""
      ],
      "metadata": {
        "id": "qXx8CJCWm06e"
      },
      "execution_count": null,
      "outputs": []
    }
  ]
}