{
  "nbformat": 4,
  "nbformat_minor": 0,
  "metadata": {
    "colab": {
      "name": "stack_implementation_using_list.ipynb",
      "provenance": [],
      "collapsed_sections": []
    },
    "kernelspec": {
      "name": "python3",
      "display_name": "Python 3"
    },
    "language_info": {
      "name": "python"
    }
  },
  "cells": [
    {
      "cell_type": "code",
      "source": [
        "class Stack:\n",
        "    \n",
        "    def __init__(self):\n",
        "        self.stack = []\n",
        "    \n",
        "    def push(self, item):\n",
        "        self.stack.append(item)\n",
        "    \n",
        "    def is_empty(self):\n",
        "        return len(self.stack) == 0\n",
        "    \n",
        "    def stack_size(self):\n",
        "        return len(self.stack)\n",
        "    \n",
        "    def peek(self):\n",
        "        if self.stack_size() > 0:\n",
        "            return self.stack[self.stack_size() - 1]\n",
        "        else:\n",
        "            print(\"Stack is empty\")\n",
        "            return None\n",
        "    \n",
        "    def pop(self):\n",
        "        if self.is_empty() == False:\n",
        "            self.stack.pop()\n",
        "        else:\n",
        "            print(\"Stack is empty\")"
      ],
      "metadata": {
        "id": "bvD641o-zYqK"
      },
      "execution_count": 14,
      "outputs": []
    },
    {
      "cell_type": "code",
      "source": [
        "my_stack = Stack()\n",
        "print(f\"Stack size : {my_stack.stack_size()}\")\n",
        "my_stack.push(1)\n",
        "my_stack.push(2)\n",
        "my_stack.push(3)\n",
        "print(f\"Stack size : {my_stack.stack_size()}\")\n",
        "print(f\"Last item in stack : {my_stack.peek()}\")\n",
        "my_stack.pop()\n",
        "my_stack.pop()\n",
        "my_stack.pop()\n",
        "my_stack.pop()\n",
        "print(f\"Stack size : {my_stack.stack_size()}\")\n",
        "print(f\"Last item in stack : {my_stack.peek()}\")\n"
      ],
      "metadata": {
        "colab": {
          "base_uri": "https://localhost:8080/"
        },
        "id": "vgfC6RijzYtA",
        "outputId": "65a5cceb-5edd-4602-d907-09f6a32f167a"
      },
      "execution_count": 15,
      "outputs": [
        {
          "output_type": "stream",
          "name": "stdout",
          "text": [
            "Stack size : 0\n",
            "Stack size : 3\n",
            "Last item in stack : 3\n",
            "Stack is empty\n",
            "Stack size : 0\n",
            "Stack is empty\n",
            "Last item in stack : None\n"
          ]
        }
      ]
    },
    {
      "cell_type": "code",
      "source": [
        ""
      ],
      "metadata": {
        "id": "hifNU3WwzYyk"
      },
      "execution_count": null,
      "outputs": []
    },
    {
      "cell_type": "code",
      "source": [
        ""
      ],
      "metadata": {
        "id": "p-kXdEwozY1M"
      },
      "execution_count": null,
      "outputs": []
    },
    {
      "cell_type": "code",
      "source": [
        ""
      ],
      "metadata": {
        "id": "kKRGH2hgzY35"
      },
      "execution_count": null,
      "outputs": []
    },
    {
      "cell_type": "code",
      "source": [
        ""
      ],
      "metadata": {
        "id": "J2-FioGyzY6l"
      },
      "execution_count": null,
      "outputs": []
    },
    {
      "cell_type": "code",
      "source": [
        ""
      ],
      "metadata": {
        "id": "Kwwf31n-zY9L"
      },
      "execution_count": null,
      "outputs": []
    },
    {
      "cell_type": "code",
      "source": [
        ""
      ],
      "metadata": {
        "id": "ouhwdwmZzZAO"
      },
      "execution_count": null,
      "outputs": []
    },
    {
      "cell_type": "code",
      "source": [
        ""
      ],
      "metadata": {
        "id": "ZO7RaWB4zZCu"
      },
      "execution_count": null,
      "outputs": []
    }
  ]
}