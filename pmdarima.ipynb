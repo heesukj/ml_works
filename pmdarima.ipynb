{
  "nbformat": 4,
  "nbformat_minor": 0,
  "metadata": {
    "colab": {
      "name": "pmdarima.ipynb",
      "provenance": [],
      "collapsed_sections": []
    },
    "kernelspec": {
      "name": "python3",
      "display_name": "Python 3"
    },
    "language_info": {
      "name": "python"
    }
  },
  "cells": [
    {
      "cell_type": "code",
      "metadata": {
        "colab": {
          "base_uri": "https://localhost:8080/"
        },
        "id": "SpYm0WJ1Bhdt",
        "outputId": "26b4bb2a-d226-440f-a33b-d8498fa19c92"
      },
      "source": [
        "! pip install pmdarima"
      ],
      "execution_count": null,
      "outputs": [
        {
          "output_type": "stream",
          "text": [
            "Collecting pmdarima\n",
            "\u001b[?25l  Downloading https://files.pythonhosted.org/packages/f4/c2/2a94bce6bba1deac3c0b16dbb14f28de0b9035e3211919cae8448455aa65/pmdarima-1.8.2-cp37-cp37m-manylinux1_x86_64.whl (1.5MB)\n",
            "\u001b[K     |████████████████████████████████| 1.5MB 2.9MB/s \n",
            "\u001b[?25hRequirement already satisfied: joblib>=0.11 in /usr/local/lib/python3.7/dist-packages (from pmdarima) (1.0.1)\n",
            "Requirement already satisfied: urllib3 in /usr/local/lib/python3.7/dist-packages (from pmdarima) (1.24.3)\n",
            "Requirement already satisfied: scikit-learn>=0.22 in /usr/local/lib/python3.7/dist-packages (from pmdarima) (0.22.2.post1)\n",
            "Collecting statsmodels!=0.12.0,>=0.11\n",
            "\u001b[?25l  Downloading https://files.pythonhosted.org/packages/da/69/8eef30a6237c54f3c0b524140e2975f4b1eea3489b45eb3339574fc8acee/statsmodels-0.12.2-cp37-cp37m-manylinux1_x86_64.whl (9.5MB)\n",
            "\u001b[K     |████████████████████████████████| 9.5MB 10.2MB/s \n",
            "\u001b[?25hRequirement already satisfied: Cython!=0.29.18,>=0.29 in /usr/local/lib/python3.7/dist-packages (from pmdarima) (0.29.23)\n",
            "Requirement already satisfied: pandas>=0.19 in /usr/local/lib/python3.7/dist-packages (from pmdarima) (1.1.5)\n",
            "Requirement already satisfied: scipy>=1.3.2 in /usr/local/lib/python3.7/dist-packages (from pmdarima) (1.4.1)\n",
            "Requirement already satisfied: setuptools!=50.0.0,>=38.6.0 in /usr/local/lib/python3.7/dist-packages (from pmdarima) (57.0.0)\n",
            "Requirement already satisfied: numpy~=1.19.0 in /usr/local/lib/python3.7/dist-packages (from pmdarima) (1.19.5)\n",
            "Requirement already satisfied: patsy>=0.5 in /usr/local/lib/python3.7/dist-packages (from statsmodels!=0.12.0,>=0.11->pmdarima) (0.5.1)\n",
            "Requirement already satisfied: pytz>=2017.2 in /usr/local/lib/python3.7/dist-packages (from pandas>=0.19->pmdarima) (2018.9)\n",
            "Requirement already satisfied: python-dateutil>=2.7.3 in /usr/local/lib/python3.7/dist-packages (from pandas>=0.19->pmdarima) (2.8.1)\n",
            "Requirement already satisfied: six in /usr/local/lib/python3.7/dist-packages (from patsy>=0.5->statsmodels!=0.12.0,>=0.11->pmdarima) (1.15.0)\n",
            "Installing collected packages: statsmodels, pmdarima\n",
            "  Found existing installation: statsmodels 0.10.2\n",
            "    Uninstalling statsmodels-0.10.2:\n",
            "      Successfully uninstalled statsmodels-0.10.2\n",
            "Successfully installed pmdarima-1.8.2 statsmodels-0.12.2\n"
          ],
          "name": "stdout"
        }
      ]
    },
    {
      "cell_type": "code",
      "metadata": {
        "id": "auyBeETCByiT"
      },
      "source": [
        "import numpy as np\n",
        "import matplotlib.pyplot as plt\n",
        "import seaborn as sns\n",
        "import pandas as pd\n",
        "import os\n",
        "import datetime\n",
        "import math\n",
        "import itertools\n",
        "\n",
        "from sklearn.preprocessing import MinMaxScaler, StandardScaler\n",
        "from sklearn.metrics import mean_squared_error, mean_absolute_error, r2_score\n",
        "from sklearn.model_selection import train_test_split\n",
        "from sklearn.model_selection import GridSearchCV\n",
        "\n",
        "from pmdarima.arima import ARIMA\n",
        "import pmdarima as pm\n",
        "\n",
        "pd.set_option('display.float_format', lambda x: '{:.15f}'.format(x))"
      ],
      "execution_count": null,
      "outputs": []
    },
    {
      "cell_type": "code",
      "metadata": {
        "colab": {
          "base_uri": "https://localhost:8080/",
          "height": 450
        },
        "id": "R172_n3vB6kG",
        "outputId": "9cb519e9-881a-489b-b6bc-d842178eee55"
      },
      "source": [
        "df = pd.read_csv('result_ppg_canada_sales.csv')\n",
        "\n",
        "df.columns = [c.lower() for c in df.columns]\n",
        "\n",
        "fact_col_list = ['total_curr_yr_sales_dollar', 'total_curr_yr_sales_units',\t'total_curr_yr_sales_lbs']\n",
        "for c in fact_col_list:\n",
        "    df[c] = df[c].astype(float)\n",
        "\n",
        "df['fscl_wk_end_dt'] = pd.to_datetime(df['fscl_wk_end_dt'])\n",
        "df['fscl_mth_end_dt'] = pd.to_datetime(df['fscl_mth_end_dt'])\n",
        "\n",
        "df = df.sort_values(by=['fscl_wk_end_dt','epm'])\n",
        "df.set_index('fscl_wk_end_dt', inplace=True)\n",
        "unique_epm_list = list(set(list(df.epm)))\n",
        "\n",
        "df_orig = df.copy()\n",
        "df = df[['epm','total_curr_yr_sales_lbs']]\n",
        "\n",
        "#Separate dates for future plotting\n",
        "train_dates = list(df[df.index <= '2020-12-26'].index)\n",
        "test_dates = list(df[df.index > '2020-12-26'].index)\n",
        "\n",
        "df"
      ],
      "execution_count": null,
      "outputs": [
        {
          "output_type": "execute_result",
          "data": {
            "text/html": [
              "<div>\n",
              "<style scoped>\n",
              "    .dataframe tbody tr th:only-of-type {\n",
              "        vertical-align: middle;\n",
              "    }\n",
              "\n",
              "    .dataframe tbody tr th {\n",
              "        vertical-align: top;\n",
              "    }\n",
              "\n",
              "    .dataframe thead th {\n",
              "        text-align: right;\n",
              "    }\n",
              "</style>\n",
              "<table border=\"1\" class=\"dataframe\">\n",
              "  <thead>\n",
              "    <tr style=\"text-align: right;\">\n",
              "      <th></th>\n",
              "      <th>epm</th>\n",
              "      <th>total_curr_yr_sales_lbs</th>\n",
              "    </tr>\n",
              "    <tr>\n",
              "      <th>fscl_wk_end_dt</th>\n",
              "      <th></th>\n",
              "      <th></th>\n",
              "    </tr>\n",
              "  </thead>\n",
              "  <tbody>\n",
              "    <tr>\n",
              "      <th>2017-01-14</th>\n",
              "      <td>NA01NCA1SCE</td>\n",
              "      <td>2562.559999999999945</td>\n",
              "    </tr>\n",
              "    <tr>\n",
              "      <th>2017-01-14</th>\n",
              "      <td>NA01NCBAKINGMM</td>\n",
              "      <td>63807.756959100006497</td>\n",
              "    </tr>\n",
              "    <tr>\n",
              "      <th>2017-01-14</th>\n",
              "      <td>NA01NCBBQSAUCE</td>\n",
              "      <td>128298.620999999999185</td>\n",
              "    </tr>\n",
              "    <tr>\n",
              "      <th>2017-01-14</th>\n",
              "      <td>NA01NCBEANS</td>\n",
              "      <td>839414.529800000018440</td>\n",
              "    </tr>\n",
              "    <tr>\n",
              "      <th>2017-01-14</th>\n",
              "      <td>NA01NCBRAVO</td>\n",
              "      <td>240612.152000000001863</td>\n",
              "    </tr>\n",
              "    <tr>\n",
              "      <th>...</th>\n",
              "      <td>...</td>\n",
              "      <td>...</td>\n",
              "    </tr>\n",
              "    <tr>\n",
              "      <th>2021-06-26</th>\n",
              "      <td>NA01NFSCSHELFS</td>\n",
              "      <td>3246.320000000000618</td>\n",
              "    </tr>\n",
              "    <tr>\n",
              "      <th>2021-06-26</th>\n",
              "      <td>NA01NFSCTBLPRD</td>\n",
              "      <td>166.669272000000007</td>\n",
              "    </tr>\n",
              "    <tr>\n",
              "      <th>2021-06-26</th>\n",
              "      <td>NA01NFSCTOMJU</td>\n",
              "      <td>5433.260800000000017</td>\n",
              "    </tr>\n",
              "    <tr>\n",
              "      <th>2021-06-26</th>\n",
              "      <td>NA01NFSCTOMPRO</td>\n",
              "      <td>16212.855999999999767</td>\n",
              "    </tr>\n",
              "    <tr>\n",
              "      <th>2021-06-26</th>\n",
              "      <td>NA01NMXBOOSTPD</td>\n",
              "      <td>7.224539740000000</td>\n",
              "    </tr>\n",
              "  </tbody>\n",
              "</table>\n",
              "<p>24437 rows × 2 columns</p>\n",
              "</div>"
            ],
            "text/plain": [
              "                           epm  total_curr_yr_sales_lbs\n",
              "fscl_wk_end_dt                                         \n",
              "2017-01-14         NA01NCA1SCE     2562.559999999999945\n",
              "2017-01-14      NA01NCBAKINGMM    63807.756959100006497\n",
              "2017-01-14      NA01NCBBQSAUCE   128298.620999999999185\n",
              "2017-01-14         NA01NCBEANS   839414.529800000018440\n",
              "2017-01-14         NA01NCBRAVO   240612.152000000001863\n",
              "...                        ...                      ...\n",
              "2021-06-26      NA01NFSCSHELFS     3246.320000000000618\n",
              "2021-06-26      NA01NFSCTBLPRD      166.669272000000007\n",
              "2021-06-26       NA01NFSCTOMJU     5433.260800000000017\n",
              "2021-06-26      NA01NFSCTOMPRO    16212.855999999999767\n",
              "2021-06-26      NA01NMXBOOSTPD        7.224539740000000\n",
              "\n",
              "[24437 rows x 2 columns]"
            ]
          },
          "metadata": {
            "tags": []
          },
          "execution_count": 4
        }
      ]
    },
    {
      "cell_type": "code",
      "metadata": {
        "colab": {
          "base_uri": "https://localhost:8080/"
        },
        "id": "2Q-XexBCCB7o",
        "outputId": "6dcce592-13d0-4db9-c5a5-3cda8faaadbb"
      },
      "source": [
        "epm_df = df[df.epm == 'NA01NCPNBTRSPR'][['total_curr_yr_sales_lbs']]\n",
        "# Using multiple features (predictors)\n",
        "total_curr_yr_sales_lbs_values = epm_df.values#.flatten()\n",
        "print(\"Shape of training data \" + str(total_curr_yr_sales_lbs_values.shape))\n",
        "\n",
        "train_value = epm_df.index.get_loc('2020-12-26')\n",
        "train, test = total_curr_yr_sales_lbs_values[0:train_value,:], total_curr_yr_sales_lbs_values[train_value + 1:,:]\n",
        "print(len(train), len(test))"
      ],
      "execution_count": null,
      "outputs": [
        {
          "output_type": "stream",
          "text": [
            "Shape of training data (233, 1)\n",
            "206 26\n"
          ],
          "name": "stdout"
        }
      ]
    },
    {
      "cell_type": "code",
      "metadata": {
        "colab": {
          "base_uri": "https://localhost:8080/",
          "height": 1000
        },
        "id": "i7jJRBnACmJm",
        "outputId": "f2934d50-2bb5-4613-810f-d037a64f18b4"
      },
      "source": [
        "# fitting a stepwise model:\n",
        "stepwise_fit = pm.auto_arima(epm_df, start_p=1, start_q=1, max_p=52, max_q=52, m=12,\n",
        "                             start_P=0, seasonal=True, d=1, D=1, trace=True,\n",
        "                             error_action='ignore',  # don't want to know if an order does not work\n",
        "                             suppress_warnings=True,  # don't want convergence warnings\n",
        "                             stepwise=True)  # set to stepwise\n",
        "\n",
        "stepwise_fit.summary()"
      ],
      "execution_count": null,
      "outputs": [
        {
          "output_type": "stream",
          "text": [
            "Performing stepwise search to minimize aic\n",
            " ARIMA(1,1,1)(0,1,1)[12]             : AIC=6374.558, Time=0.51 sec\n",
            " ARIMA(0,1,0)(0,1,0)[12]             : AIC=6533.655, Time=0.06 sec\n",
            " ARIMA(1,1,0)(1,1,0)[12]             : AIC=6444.619, Time=0.28 sec\n",
            " ARIMA(0,1,1)(0,1,1)[12]             : AIC=6374.554, Time=0.30 sec\n",
            " ARIMA(0,1,1)(0,1,0)[12]             : AIC=6450.765, Time=0.10 sec\n",
            " ARIMA(0,1,1)(1,1,1)[12]             : AIC=6375.737, Time=0.57 sec\n",
            " ARIMA(0,1,1)(0,1,2)[12]             : AIC=6375.643, Time=0.99 sec\n",
            " ARIMA(0,1,1)(1,1,0)[12]             : AIC=6411.346, Time=0.30 sec\n",
            " ARIMA(0,1,1)(1,1,2)[12]             : AIC=6376.546, Time=1.35 sec\n",
            " ARIMA(0,1,0)(0,1,1)[12]             : AIC=6426.660, Time=0.17 sec\n",
            " ARIMA(0,1,2)(0,1,1)[12]             : AIC=6371.322, Time=0.43 sec\n",
            " ARIMA(0,1,2)(0,1,0)[12]             : AIC=6452.198, Time=0.13 sec\n",
            " ARIMA(0,1,2)(1,1,1)[12]             : AIC=6372.646, Time=0.71 sec\n",
            " ARIMA(0,1,2)(0,1,2)[12]             : AIC=6372.594, Time=1.06 sec\n",
            " ARIMA(0,1,2)(1,1,0)[12]             : AIC=6407.837, Time=0.32 sec\n",
            " ARIMA(0,1,2)(1,1,2)[12]             : AIC=6373.769, Time=1.70 sec\n",
            " ARIMA(1,1,2)(0,1,1)[12]             : AIC=6372.035, Time=1.21 sec\n",
            " ARIMA(0,1,3)(0,1,1)[12]             : AIC=6368.937, Time=0.61 sec\n",
            " ARIMA(0,1,3)(0,1,0)[12]             : AIC=6455.779, Time=0.19 sec\n",
            " ARIMA(0,1,3)(1,1,1)[12]             : AIC=6370.263, Time=1.07 sec\n",
            " ARIMA(0,1,3)(0,1,2)[12]             : AIC=6370.214, Time=1.65 sec\n",
            " ARIMA(0,1,3)(1,1,0)[12]             : AIC=6408.240, Time=0.45 sec\n",
            " ARIMA(0,1,3)(1,1,2)[12]             : AIC=6371.243, Time=2.71 sec\n",
            " ARIMA(1,1,3)(0,1,1)[12]             : AIC=6366.662, Time=1.45 sec\n",
            " ARIMA(1,1,3)(0,1,0)[12]             : AIC=6457.622, Time=0.58 sec\n",
            " ARIMA(1,1,3)(1,1,1)[12]             : AIC=6368.564, Time=1.86 sec\n",
            " ARIMA(1,1,3)(0,1,2)[12]             : AIC=6368.556, Time=3.36 sec\n",
            " ARIMA(1,1,3)(1,1,0)[12]             : AIC=6407.822, Time=0.97 sec\n",
            " ARIMA(1,1,3)(1,1,2)[12]             : AIC=6369.827, Time=5.25 sec\n",
            " ARIMA(2,1,3)(0,1,1)[12]             : AIC=6368.349, Time=2.73 sec\n",
            " ARIMA(1,1,4)(0,1,1)[12]             : AIC=6367.859, Time=1.60 sec\n",
            " ARIMA(0,1,4)(0,1,1)[12]             : AIC=6371.689, Time=0.85 sec\n",
            " ARIMA(2,1,2)(0,1,1)[12]             : AIC=6370.259, Time=1.27 sec\n",
            " ARIMA(2,1,4)(0,1,1)[12]             : AIC=6368.095, Time=2.00 sec\n",
            " ARIMA(1,1,3)(0,1,1)[12] intercept   : AIC=6367.738, Time=1.58 sec\n",
            "\n",
            "Best model:  ARIMA(1,1,3)(0,1,1)[12]          \n",
            "Total fit time: 40.432 seconds\n"
          ],
          "name": "stdout"
        },
        {
          "output_type": "execute_result",
          "data": {
            "text/html": [
              "<table class=\"simpletable\">\n",
              "<caption>SARIMAX Results</caption>\n",
              "<tr>\n",
              "  <th>Dep. Variable:</th>                   <td>y</td>                <th>  No. Observations:  </th>    <td>233</td>   \n",
              "</tr>\n",
              "<tr>\n",
              "  <th>Model:</th>           <td>SARIMAX(1, 1, 3)x(0, 1, [1], 12)</td> <th>  Log Likelihood     </th> <td>-3177.331</td>\n",
              "</tr>\n",
              "<tr>\n",
              "  <th>Date:</th>                    <td>Tue, 13 Jul 2021</td>         <th>  AIC                </th> <td>6366.662</td> \n",
              "</tr>\n",
              "<tr>\n",
              "  <th>Time:</th>                        <td>22:45:42</td>             <th>  BIC                </th> <td>6387.023</td> \n",
              "</tr>\n",
              "<tr>\n",
              "  <th>Sample:</th>                          <td>0</td>                <th>  HQIC               </th> <td>6374.884</td> \n",
              "</tr>\n",
              "<tr>\n",
              "  <th></th>                              <td> - 233</td>              <th>                     </th>     <td> </td>    \n",
              "</tr>\n",
              "<tr>\n",
              "  <th>Covariance Type:</th>                <td>opg</td>               <th>                     </th>     <td> </td>    \n",
              "</tr>\n",
              "</table>\n",
              "<table class=\"simpletable\">\n",
              "<tr>\n",
              "      <td></td>        <th>coef</th>     <th>std err</th>      <th>z</th>      <th>P>|z|</th>  <th>[0.025</th>    <th>0.975]</th>  \n",
              "</tr>\n",
              "<tr>\n",
              "  <th>ar.L1</th>    <td>   -0.9275</td> <td>    0.134</td> <td>   -6.926</td> <td> 0.000</td> <td>   -1.190</td> <td>   -0.665</td>\n",
              "</tr>\n",
              "<tr>\n",
              "  <th>ma.L1</th>    <td>    0.3563</td> <td>    0.139</td> <td>    2.571</td> <td> 0.010</td> <td>    0.085</td> <td>    0.628</td>\n",
              "</tr>\n",
              "<tr>\n",
              "  <th>ma.L2</th>    <td>   -0.6154</td> <td>    0.125</td> <td>   -4.927</td> <td> 0.000</td> <td>   -0.860</td> <td>   -0.371</td>\n",
              "</tr>\n",
              "<tr>\n",
              "  <th>ma.L3</th>    <td>   -0.1772</td> <td>    0.098</td> <td>   -1.816</td> <td> 0.069</td> <td>   -0.368</td> <td>    0.014</td>\n",
              "</tr>\n",
              "<tr>\n",
              "  <th>ma.S.L12</th> <td>   -0.8747</td> <td>    0.087</td> <td>  -10.035</td> <td> 0.000</td> <td>   -1.046</td> <td>   -0.704</td>\n",
              "</tr>\n",
              "<tr>\n",
              "  <th>sigma2</th>   <td> 2.676e+11</td> <td> 1.69e-13</td> <td> 1.58e+24</td> <td> 0.000</td> <td> 2.68e+11</td> <td> 2.68e+11</td>\n",
              "</tr>\n",
              "</table>\n",
              "<table class=\"simpletable\">\n",
              "<tr>\n",
              "  <th>Ljung-Box (L1) (Q):</th>     <td>0.69</td> <th>  Jarque-Bera (JB):  </th> <td>18.09</td>\n",
              "</tr>\n",
              "<tr>\n",
              "  <th>Prob(Q):</th>                <td>0.41</td> <th>  Prob(JB):          </th> <td>0.00</td> \n",
              "</tr>\n",
              "<tr>\n",
              "  <th>Heteroskedasticity (H):</th> <td>0.47</td> <th>  Skew:              </th> <td>-0.23</td>\n",
              "</tr>\n",
              "<tr>\n",
              "  <th>Prob(H) (two-sided):</th>    <td>0.00</td> <th>  Kurtosis:          </th> <td>4.33</td> \n",
              "</tr>\n",
              "</table><br/><br/>Warnings:<br/>[1] Covariance matrix calculated using the outer product of gradients (complex-step).<br/>[2] Covariance matrix is singular or near-singular, with condition number 2.6e+40. Standard errors may be unstable."
            ],
            "text/plain": [
              "<class 'statsmodels.iolib.summary.Summary'>\n",
              "\"\"\"\n",
              "                                      SARIMAX Results                                       \n",
              "============================================================================================\n",
              "Dep. Variable:                                    y   No. Observations:                  233\n",
              "Model:             SARIMAX(1, 1, 3)x(0, 1, [1], 12)   Log Likelihood               -3177.331\n",
              "Date:                              Tue, 13 Jul 2021   AIC                           6366.662\n",
              "Time:                                      22:45:42   BIC                           6387.023\n",
              "Sample:                                           0   HQIC                          6374.884\n",
              "                                              - 233                                         \n",
              "Covariance Type:                                opg                                         \n",
              "==============================================================================\n",
              "                 coef    std err          z      P>|z|      [0.025      0.975]\n",
              "------------------------------------------------------------------------------\n",
              "ar.L1         -0.9275      0.134     -6.926      0.000      -1.190      -0.665\n",
              "ma.L1          0.3563      0.139      2.571      0.010       0.085       0.628\n",
              "ma.L2         -0.6154      0.125     -4.927      0.000      -0.860      -0.371\n",
              "ma.L3         -0.1772      0.098     -1.816      0.069      -0.368       0.014\n",
              "ma.S.L12      -0.8747      0.087    -10.035      0.000      -1.046      -0.704\n",
              "sigma2      2.676e+11   1.69e-13   1.58e+24      0.000    2.68e+11    2.68e+11\n",
              "===================================================================================\n",
              "Ljung-Box (L1) (Q):                   0.69   Jarque-Bera (JB):                18.09\n",
              "Prob(Q):                              0.41   Prob(JB):                         0.00\n",
              "Heteroskedasticity (H):               0.47   Skew:                            -0.23\n",
              "Prob(H) (two-sided):                  0.00   Kurtosis:                         4.33\n",
              "===================================================================================\n",
              "\n",
              "Warnings:\n",
              "[1] Covariance matrix calculated using the outer product of gradients (complex-step).\n",
              "[2] Covariance matrix is singular or near-singular, with condition number 2.6e+40. Standard errors may be unstable.\n",
              "\"\"\""
            ]
          },
          "metadata": {
            "tags": []
          },
          "execution_count": 10
        }
      ]
    },
    {
      "cell_type": "code",
      "metadata": {
        "colab": {
          "base_uri": "https://localhost:8080/"
        },
        "id": "ygc9fhUyDimo",
        "outputId": "37e6bc11-eaf6-4891-a523-13e36646a32d"
      },
      "source": [
        "next_2year = stepwise_fit.predict(n_periods=104)\n",
        "next_2year"
      ],
      "execution_count": null,
      "outputs": [
        {
          "output_type": "execute_result",
          "data": {
            "text/plain": [
              "array([1749231.45561385, 1662039.95707229, 1752932.06531406,\n",
              "       1798316.93724264, 1827137.00804022, 1941612.56223459,\n",
              "       1854933.56418985, 1811975.82762673, 1798585.73454051,\n",
              "       1702425.97849438, 1762032.10912439, 1677394.03078865,\n",
              "       1817789.49485754, 1719573.40569628, 1755180.06706795,\n",
              "       1851840.19235828, 1833104.31930161, 1991686.29223785,\n",
              "       1864100.18529006, 1859082.31341193, 1810504.36738487,\n",
              "       1746980.07287416, 1776317.99272642, 1719752.58566858,\n",
              "       1834111.66197529, 1760043.38122855, 1773253.82325708,\n",
              "       1890685.6323481 , 1852684.7734782 , 2029134.32431255,\n",
              "       1884976.68479057, 1895328.31030171, 1832495.71106494,\n",
              "       1782192.09208985, 1799268.31332013, 1754075.18846461,\n",
              "       1857886.88414517, 1793600.91763348, 1797738.61684699,\n",
              "       1923585.0669125 , 1877779.93273433, 2061467.66678671,\n",
              "       1910596.87399574, 1927174.70647835, 1858567.52535758,\n",
              "       1813619.62232445, 1825728.6106317 , 1785142.4147431 ,\n",
              "       1884681.35035077, 1824358.21434322, 1824820.53152342,\n",
              "       1954075.76555701, 1905109.10747854, 2091729.040657  ,\n",
              "       1938138.73917778, 1957238.81765647, 1886292.34455542,\n",
              "       1843514.05026684, 1853610.8048965 , 1814890.88300011,\n",
              "       1912698.91694721, 1853981.12965645, 1852954.54393639,\n",
              "       1983590.68158501, 1933343.28532429, 2121151.05686715,\n",
              "       1966459.0782462 , 1986580.92244739, 1914686.79857631,\n",
              "       1872787.41611865, 1882069.01179845, 1844105.12035945,\n",
              "       1941211.96338839, 1883144.50532564, 1881514.76275648,\n",
              "       2012710.30657808, 1961944.08131488, 2150233.04800148,\n",
              "       1995094.77828028, 2015630.54134319, 1943352.52269134,\n",
              "       1901809.18876476, 1910760.5623034 , 1873102.93996255,\n",
              "       1969925.72947481, 1912121.72078004, 1910247.63844598,\n",
              "       2041669.79856645, 1990693.39487839, 2179177.29445594,\n",
              "       2023858.23152535, 2044561.67375417, 1972128.13873767,\n",
              "       1930729.04061727, 1939546.64065992, 1902013.08840059,\n",
              "       1998720.80739746, 1941023.52244582, 1939050.45769815,\n",
              "       2070564.42042896, 2019502.87313854, 2208065.74032927,\n",
              "       2052673.4377922 , 2073444.80710836])"
            ]
          },
          "metadata": {
            "tags": []
          },
          "execution_count": 11
        }
      ]
    },
    {
      "cell_type": "code",
      "metadata": {
        "colab": {
          "base_uri": "https://localhost:8080/",
          "height": 293
        },
        "id": "P3fwfod5D0OV",
        "outputId": "412710fb-5eb3-4913-cc02-a3a3dbf88989"
      },
      "source": [
        "df_pred = pd.DataFrame(data=next_2year, columns=['pred_total_curr_yr_sales_lbs'])\n",
        "df_pred.head()\n",
        "df_pred.plot()"
      ],
      "execution_count": null,
      "outputs": [
        {
          "output_type": "execute_result",
          "data": {
            "text/plain": [
              "<matplotlib.axes._subplots.AxesSubplot at 0x7f73f0f5c590>"
            ]
          },
          "metadata": {
            "tags": []
          },
          "execution_count": 16
        },
        {
          "output_type": "display_data",
          "data": {
            "image/png": "[encoded data removed]",
            "text/plain": [
              "<Figure size 432x288 with 1 Axes>"
            ]
          },
          "metadata": {
            "tags": [],
            "needs_background": "light"
          }
        }
      ]
    },
    {
      "cell_type": "code",
      "metadata": {
        "colab": {
          "base_uri": "https://localhost:8080/",
          "height": 293
        },
        "id": "SKVb68DlEdq0",
        "outputId": "14c429b0-46a1-466b-8879-0702ac2cb781"
      },
      "source": [
        "df_total = epm_df.append(df_pred)\n",
        "df_total.plot()"
      ],
      "execution_count": null,
      "outputs": [
        {
          "output_type": "execute_result",
          "data": {
            "text/plain": [
              "<matplotlib.axes._subplots.AxesSubplot at 0x7f73f0883690>"
            ]
          },
          "metadata": {
            "tags": []
          },
          "execution_count": 19
        },
        {
          "output_type": "display_data",
          "data": {
            "image/png": "[encoded data removed]",
            "text/plain": [
              "<Figure size 432x288 with 1 Axes>"
            ]
          },
          "metadata": {
            "tags": [],
            "needs_background": "light"
          }
        }
      ]
    }
  ]
}