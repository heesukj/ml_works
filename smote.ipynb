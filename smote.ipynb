{
  "nbformat": 4,
  "nbformat_minor": 0,
  "metadata": {
    "colab": {
      "name": "smote.ipynb",
      "provenance": []
    },
    "kernelspec": {
      "name": "python3",
      "display_name": "Python 3"
    },
    "language_info": {
      "name": "python"
    }
  },
  "cells": [
    {
      "cell_type": "code",
      "execution_count": null,
      "metadata": {
        "colab": {
          "base_uri": "https://localhost:8080/"
        },
        "id": "ZGYKJtHnjatg",
        "outputId": "0e9c392d-01b2-4779-ca50-3c3cb569decc"
      },
      "outputs": [
        {
          "output_type": "stream",
          "name": "stdout",
          "text": [
            "Collecting category_encoders\n",
            "  Downloading category_encoders-2.3.0-py2.py3-none-any.whl (82 kB)\n",
            "\u001b[?25l\r\u001b[K     |████                            | 10 kB 12.0 MB/s eta 0:00:01\r\u001b[K     |████████                        | 20 kB 17.8 MB/s eta 0:00:01\r\u001b[K     |████████████                    | 30 kB 21.9 MB/s eta 0:00:01\r\u001b[K     |████████████████                | 40 kB 23.5 MB/s eta 0:00:01\r\u001b[K     |████████████████████            | 51 kB 21.7 MB/s eta 0:00:01\r\u001b[K     |████████████████████████        | 61 kB 17.9 MB/s eta 0:00:01\r\u001b[K     |████████████████████████████    | 71 kB 16.0 MB/s eta 0:00:01\r\u001b[K     |███████████████████████████████▉| 81 kB 16.3 MB/s eta 0:00:01\r\u001b[K     |████████████████████████████████| 82 kB 325 kB/s \n",
            "\u001b[?25hRequirement already satisfied: scipy>=1.0.0 in /usr/local/lib/python3.7/dist-packages (from category_encoders) (1.4.1)\n",
            "Requirement already satisfied: statsmodels>=0.9.0 in /usr/local/lib/python3.7/dist-packages (from category_encoders) (0.10.2)\n",
            "Requirement already satisfied: scikit-learn>=0.20.0 in /usr/local/lib/python3.7/dist-packages (from category_encoders) (1.0.1)\n",
            "Requirement already satisfied: numpy>=1.14.0 in /usr/local/lib/python3.7/dist-packages (from category_encoders) (1.19.5)\n",
            "Requirement already satisfied: patsy>=0.5.1 in /usr/local/lib/python3.7/dist-packages (from category_encoders) (0.5.2)\n",
            "Requirement already satisfied: pandas>=0.21.1 in /usr/local/lib/python3.7/dist-packages (from category_encoders) (1.1.5)\n",
            "Requirement already satisfied: python-dateutil>=2.7.3 in /usr/local/lib/python3.7/dist-packages (from pandas>=0.21.1->category_encoders) (2.8.2)\n",
            "Requirement already satisfied: pytz>=2017.2 in /usr/local/lib/python3.7/dist-packages (from pandas>=0.21.1->category_encoders) (2018.9)\n",
            "Requirement already satisfied: six in /usr/local/lib/python3.7/dist-packages (from patsy>=0.5.1->category_encoders) (1.15.0)\n",
            "Requirement already satisfied: joblib>=0.11 in /usr/local/lib/python3.7/dist-packages (from scikit-learn>=0.20.0->category_encoders) (1.1.0)\n",
            "Requirement already satisfied: threadpoolctl>=2.0.0 in /usr/local/lib/python3.7/dist-packages (from scikit-learn>=0.20.0->category_encoders) (3.0.0)\n",
            "Installing collected packages: category-encoders\n",
            "Successfully installed category-encoders-2.3.0\n",
            "Requirement already satisfied: imbalanced-learn in /usr/local/lib/python3.7/dist-packages (0.8.1)\n",
            "Requirement already satisfied: scikit-learn>=0.24 in /usr/local/lib/python3.7/dist-packages (from imbalanced-learn) (1.0.1)\n",
            "Requirement already satisfied: numpy>=1.13.3 in /usr/local/lib/python3.7/dist-packages (from imbalanced-learn) (1.19.5)\n",
            "Requirement already satisfied: scipy>=0.19.1 in /usr/local/lib/python3.7/dist-packages (from imbalanced-learn) (1.4.1)\n",
            "Requirement already satisfied: joblib>=0.11 in /usr/local/lib/python3.7/dist-packages (from imbalanced-learn) (1.1.0)\n",
            "Requirement already satisfied: threadpoolctl>=2.0.0 in /usr/local/lib/python3.7/dist-packages (from scikit-learn>=0.24->imbalanced-learn) (3.0.0)\n"
          ]
        }
      ],
      "source": [
        "!pip install category_encoders\n",
        "!pip install imbalanced-learn"
      ]
    },
    {
      "cell_type": "code",
      "source": [
        "from sklearn.datasets import load_iris\n",
        "from sklearn.tree import DecisionTreeClassifier\n",
        "from sklearn.tree import export_text\n",
        "import matplotlib.pyplot as plt\n",
        "import seaborn as sns\n",
        "from sklearn.tree import plot_tree\n",
        "%matplotlib inline\n",
        "import pandas as pd\n",
        "import numpy as np\n",
        "import category_encoders as ce\n",
        "\n",
        "from sklearn.model_selection import train_test_split\n",
        "from sklearn.metrics import f1_score, accuracy_score, precision_recall_curve, average_precision_score, roc_auc_score, roc_curve, precision_score, recall_score, precision_recall_curve, auc\n",
        "from sklearn.metrics import fbeta_score, precision_recall_fscore_support, PrecisionRecallDisplay, plot_precision_recall_curve, plot_roc_curve\n",
        "from sklearn import metrics \n",
        "from sklearn.metrics import classification_report, confusion_matrix\n",
        "from sklearn.model_selection import GridSearchCV, RandomizedSearchCV\n",
        "from sklearn.utils import resample\n",
        "from imblearn.under_sampling import RandomUnderSampler\n",
        "from imblearn.over_sampling import RandomOverSampler\n",
        "from sklearn.linear_model import LogisticRegression\n",
        "from imblearn.over_sampling import SMOTE\n"
      ],
      "metadata": {
        "colab": {
          "base_uri": "https://localhost:8080/"
        },
        "id": "rH08ivQAjdo9",
        "outputId": "43c86173-fe2d-44ed-8577-e650a128a0eb"
      },
      "execution_count": null,
      "outputs": [
        {
          "output_type": "stream",
          "name": "stderr",
          "text": [
            "/usr/local/lib/python3.7/dist-packages/statsmodels/tools/_testing.py:19: FutureWarning: pandas.util.testing is deprecated. Use the functions in the public API at pandas.testing instead.\n",
            "  import pandas.util.testing as tm\n"
          ]
        }
      ]
    },
    {
      "cell_type": "code",
      "source": [
        "df = pd.read_csv(\"term deposit data.csv\")\n",
        "df.subscribed_flag = df.subscribed_flag.map({'yes': 1, 'no': 0}).astype(int)\n",
        "orig_df = df.copy()\n",
        "df.head()\n",
        "\n",
        "encoder_job = ce.BinaryEncoder(cols=['job'],return_df=True)\n",
        "df = encoder_job.fit_transform(df)\n",
        "\n",
        "encoder_marital = ce.BinaryEncoder(cols=['marital'],return_df=True)\n",
        "df = encoder_marital.fit_transform(df)\n",
        "\n",
        "encoder_education = ce.BinaryEncoder(cols=['education'],return_df=True)\n",
        "df = encoder_education.fit_transform(df)\n",
        "\n",
        "encoder_default = ce.BinaryEncoder(cols=['default'],return_df=True)\n",
        "df = encoder_default.fit_transform(df)\n",
        "\n",
        "encoder_housing = ce.BinaryEncoder(cols=['housing'],return_df=True)\n",
        "df = encoder_housing.fit_transform(df)\n",
        "\n",
        "encoder_loan = ce.BinaryEncoder(cols=['loan'],return_df=True)\n",
        "df = encoder_loan.fit_transform(df)\n",
        "\n",
        "encoder_contact = ce.BinaryEncoder(cols=['contact'],return_df=True)\n",
        "df = encoder_contact.fit_transform(df)\n",
        "\n",
        "encoder_month = ce.BinaryEncoder(cols=['month'],return_df=True)\n",
        "df = encoder_month.fit_transform(df)\n",
        "\n",
        "encoder_day_of_week = ce.BinaryEncoder(cols=['day_of_week'],return_df=True)\n",
        "df = encoder_day_of_week.fit_transform(df)\n",
        "\n",
        "encoder_poutcome = ce.BinaryEncoder(cols=['poutcome'],return_df=True)\n",
        "df = encoder_poutcome.fit_transform(df)\n",
        "\n",
        "target_col = \"subscribed_flag\"\n",
        "X = df.loc[:, df.columns != target_col]\n",
        "y = df.loc[:, target_col]\n",
        "\n",
        "# setting up testing and training sets\n",
        "X_train, X_test, y_train, y_test = train_test_split(X, y, test_size=0.25, random_state=27, shuffle = False)\n",
        "\n",
        "sm = SMOTE(random_state=27)\n",
        "X_train, y_train = sm.fit_resample(X_train, y_train)\n",
        "\n",
        "smote = LogisticRegression(solver='liblinear').fit(X_train, y_train)\n",
        "\n",
        "smote_pred = smote.predict(X_test)\n",
        "\n",
        "print('accuracy ' + str(accuracy_score(y_test, smote_pred)))\n",
        "print('f1 score ' + str(f1_score(y_test, smote_pred)))\n",
        "print('recall score ' + str(recall_score(y_test, smote_pred)))"
      ],
      "metadata": {
        "colab": {
          "base_uri": "https://localhost:8080/"
        },
        "id": "CRcFd8GrjdsP",
        "outputId": "ecd2ab3a-4798-4583-86aa-f2d507315ce2"
      },
      "execution_count": null,
      "outputs": [
        {
          "output_type": "stream",
          "name": "stdout",
          "text": [
            "accuracy 0.741963678741381\n",
            "f1 score 0.14975999999999998\n",
            "recall score 0.08803611738148984\n"
          ]
        }
      ]
    },
    {
      "cell_type": "code",
      "source": [
        "df = pd.read_csv(\"term deposit data.csv\")\n",
        "df.subscribed_flag = df.subscribed_flag.map({'yes': 1, 'no': 0}).astype(int)\n",
        "orig_df = df.copy()\n",
        "df.head()\n",
        "\n",
        "encoder_job = ce.BinaryEncoder(cols=['job'],return_df=True)\n",
        "df = encoder_job.fit_transform(df)\n",
        "\n",
        "encoder_marital = ce.BinaryEncoder(cols=['marital'],return_df=True)\n",
        "df = encoder_marital.fit_transform(df)\n",
        "\n",
        "encoder_education = ce.BinaryEncoder(cols=['education'],return_df=True)\n",
        "df = encoder_education.fit_transform(df)\n",
        "\n",
        "encoder_default = ce.BinaryEncoder(cols=['default'],return_df=True)\n",
        "df = encoder_default.fit_transform(df)\n",
        "\n",
        "encoder_housing = ce.BinaryEncoder(cols=['housing'],return_df=True)\n",
        "df = encoder_housing.fit_transform(df)\n",
        "\n",
        "encoder_loan = ce.BinaryEncoder(cols=['loan'],return_df=True)\n",
        "df = encoder_loan.fit_transform(df)\n",
        "\n",
        "encoder_contact = ce.BinaryEncoder(cols=['contact'],return_df=True)\n",
        "df = encoder_contact.fit_transform(df)\n",
        "\n",
        "encoder_month = ce.BinaryEncoder(cols=['month'],return_df=True)\n",
        "df = encoder_month.fit_transform(df)\n",
        "\n",
        "encoder_day_of_week = ce.BinaryEncoder(cols=['day_of_week'],return_df=True)\n",
        "df = encoder_day_of_week.fit_transform(df)\n",
        "\n",
        "encoder_poutcome = ce.BinaryEncoder(cols=['poutcome'],return_df=True)\n",
        "df = encoder_poutcome.fit_transform(df)\n",
        "\n",
        "target_col = \"subscribed_flag\"\n",
        "X = df.loc[:, df.columns != target_col]\n",
        "y = df.loc[:, target_col]\n",
        "\n",
        "# setting up testing and training sets\n",
        "X_train, X_test, y_train, y_test = train_test_split(X, y, test_size=0.25, random_state=27)\n",
        "\n",
        "sm = SMOTE(random_state=27)\n",
        "X_train, y_train = sm.fit_resample(X_train, y_train)\n",
        "\n",
        "smote = LogisticRegression(solver='liblinear').fit(X_train, y_train)\n",
        "\n",
        "smote_pred = smote.predict(X_test)\n",
        "\n",
        "print('accuracy ' + str(accuracy_score(y_test, smote_pred)))\n",
        "print('f1 score ' + str(f1_score(y_test, smote_pred)))\n",
        "print('recall score ' + str(recall_score(y_test, smote_pred)))"
      ],
      "metadata": {
        "colab": {
          "base_uri": "https://localhost:8080/"
        },
        "id": "kfGAGe2pjduW",
        "outputId": "2e6dffaa-5a98-493d-99db-e2980736f3f3"
      },
      "execution_count": null,
      "outputs": [
        {
          "output_type": "stream",
          "name": "stdout",
          "text": [
            "accuracy 0.8989997086530057\n",
            "f1 score 0.5493934142114384\n",
            "recall score 0.526578073089701\n"
          ]
        }
      ]
    },
    {
      "cell_type": "code",
      "source": [
        "df = pd.read_csv(\"term deposit data.csv\")\n",
        "df.subscribed_flag = df.subscribed_flag.map({'yes': 1, 'no': 0}).astype(int)\n",
        "orig_df = df.copy()\n",
        "df.head()\n",
        "\n",
        "encoder_job = ce.BinaryEncoder(cols=['job'],return_df=True)\n",
        "df = encoder_job.fit_transform(df)\n",
        "\n",
        "encoder_marital = ce.BinaryEncoder(cols=['marital'],return_df=True)\n",
        "df = encoder_marital.fit_transform(df)\n",
        "\n",
        "encoder_education = ce.BinaryEncoder(cols=['education'],return_df=True)\n",
        "df = encoder_education.fit_transform(df)\n",
        "\n",
        "encoder_default = ce.BinaryEncoder(cols=['default'],return_df=True)\n",
        "df = encoder_default.fit_transform(df)\n",
        "\n",
        "encoder_housing = ce.BinaryEncoder(cols=['housing'],return_df=True)\n",
        "df = encoder_housing.fit_transform(df)\n",
        "\n",
        "encoder_loan = ce.BinaryEncoder(cols=['loan'],return_df=True)\n",
        "df = encoder_loan.fit_transform(df)\n",
        "\n",
        "encoder_contact = ce.BinaryEncoder(cols=['contact'],return_df=True)\n",
        "df = encoder_contact.fit_transform(df)\n",
        "\n",
        "encoder_month = ce.BinaryEncoder(cols=['month'],return_df=True)\n",
        "df = encoder_month.fit_transform(df)\n",
        "\n",
        "encoder_day_of_week = ce.BinaryEncoder(cols=['day_of_week'],return_df=True)\n",
        "df = encoder_day_of_week.fit_transform(df)\n",
        "\n",
        "encoder_poutcome = ce.BinaryEncoder(cols=['poutcome'],return_df=True)\n",
        "df = encoder_poutcome.fit_transform(df)\n",
        "\n",
        "target_col = \"subscribed_flag\"\n",
        "X = df.loc[:, df.columns != target_col]\n",
        "y = df.loc[:, target_col]\n",
        "\n",
        "# setting up testing and training sets\n",
        "X_train, X_test, y_train, y_test = train_test_split(X, y, test_size=0.25, random_state=27)\n",
        "\n",
        "sm = SMOTE(random_state=27)\n",
        "X_train, y_train = sm.fit_resample(X_train, y_train)\n",
        "\n",
        "smote = LogisticRegression().fit(X_train, y_train)\n",
        "\n",
        "smote_pred = smote.predict(X_test)\n",
        "\n",
        "print('accuracy ' + str(accuracy_score(y_test, smote_pred)))\n",
        "print('f1 score ' + str(f1_score(y_test, smote_pred)))\n",
        "print('recall score ' + str(recall_score(y_test, smote_pred)))"
      ],
      "metadata": {
        "colab": {
          "base_uri": "https://localhost:8080/"
        },
        "id": "oUGRXn18jdxd",
        "outputId": "813e8b63-32a4-4efa-db6a-db66612cc9c7"
      },
      "execution_count": null,
      "outputs": [
        {
          "output_type": "stream",
          "name": "stdout",
          "text": [
            "accuracy 0.8510245702631835\n",
            "f1 score 0.569826135726304\n",
            "recall score 0.8438538205980066\n"
          ]
        },
        {
          "output_type": "stream",
          "name": "stderr",
          "text": [
            "/usr/local/lib/python3.7/dist-packages/sklearn/linear_model/_logistic.py:818: ConvergenceWarning: lbfgs failed to converge (status=1):\n",
            "STOP: TOTAL NO. of ITERATIONS REACHED LIMIT.\n",
            "\n",
            "Increase the number of iterations (max_iter) or scale the data as shown in:\n",
            "    https://scikit-learn.org/stable/modules/preprocessing.html\n",
            "Please also refer to the documentation for alternative solver options:\n",
            "    https://scikit-learn.org/stable/modules/linear_model.html#logistic-regression\n",
            "  extra_warning_msg=_LOGISTIC_SOLVER_CONVERGENCE_MSG,\n"
          ]
        }
      ]
    },
    {
      "cell_type": "code",
      "source": [
        "df = pd.read_csv(\"term deposit data.csv\")\n",
        "df.subscribed_flag = df.subscribed_flag.map({'yes': 1, 'no': 0}).astype(int)\n",
        "orig_df = df.copy()\n",
        "df.head()\n",
        "\n",
        "encoder_job = ce.BinaryEncoder(cols=['job'],return_df=True)\n",
        "df = encoder_job.fit_transform(df)\n",
        "\n",
        "encoder_marital = ce.BinaryEncoder(cols=['marital'],return_df=True)\n",
        "df = encoder_marital.fit_transform(df)\n",
        "\n",
        "encoder_education = ce.BinaryEncoder(cols=['education'],return_df=True)\n",
        "df = encoder_education.fit_transform(df)\n",
        "\n",
        "encoder_default = ce.BinaryEncoder(cols=['default'],return_df=True)\n",
        "df = encoder_default.fit_transform(df)\n",
        "\n",
        "encoder_housing = ce.BinaryEncoder(cols=['housing'],return_df=True)\n",
        "df = encoder_housing.fit_transform(df)\n",
        "\n",
        "encoder_loan = ce.BinaryEncoder(cols=['loan'],return_df=True)\n",
        "df = encoder_loan.fit_transform(df)\n",
        "\n",
        "encoder_contact = ce.BinaryEncoder(cols=['contact'],return_df=True)\n",
        "df = encoder_contact.fit_transform(df)\n",
        "\n",
        "encoder_month = ce.BinaryEncoder(cols=['month'],return_df=True)\n",
        "df = encoder_month.fit_transform(df)\n",
        "\n",
        "encoder_day_of_week = ce.BinaryEncoder(cols=['day_of_week'],return_df=True)\n",
        "df = encoder_day_of_week.fit_transform(df)\n",
        "\n",
        "encoder_poutcome = ce.BinaryEncoder(cols=['poutcome'],return_df=True)\n",
        "df = encoder_poutcome.fit_transform(df)\n",
        "\n",
        "target_col = \"subscribed_flag\"\n",
        "X = df.loc[:, df.columns != target_col]\n",
        "y = df.loc[:, target_col]\n",
        "\n",
        "# setting up testing and training sets\n",
        "X_train, X_test, y_train, y_test = train_test_split(X, y, test_size=0.25, random_state=27, shuffle = False)\n",
        "\n",
        "sm = SMOTE(random_state=27)\n",
        "X_train, y_train = sm.fit_resample(X_train, y_train)\n",
        "\n",
        "smote = LogisticRegression().fit(X_train, y_train)\n",
        "\n",
        "smote_pred = smote.predict(X_test)\n",
        "\n",
        "print('accuracy ' + str(accuracy_score(y_test, smote_pred)))\n",
        "print('f1 score ' + str(f1_score(y_test, smote_pred)))\n",
        "print('recall score ' + str(recall_score(y_test, smote_pred)))"
      ],
      "metadata": {
        "colab": {
          "base_uri": "https://localhost:8080/"
        },
        "id": "RR4b5egXjd0U",
        "outputId": "9d7101be-3699-4354-bd92-4093247fd7b6"
      },
      "execution_count": null,
      "outputs": [
        {
          "output_type": "stream",
          "name": "stdout",
          "text": [
            "accuracy 0.625327765368554\n",
            "f1 score 0.4827031375703941\n",
            "recall score 0.6772009029345373\n"
          ]
        },
        {
          "output_type": "stream",
          "name": "stderr",
          "text": [
            "/usr/local/lib/python3.7/dist-packages/sklearn/linear_model/_logistic.py:818: ConvergenceWarning: lbfgs failed to converge (status=1):\n",
            "STOP: TOTAL NO. of ITERATIONS REACHED LIMIT.\n",
            "\n",
            "Increase the number of iterations (max_iter) or scale the data as shown in:\n",
            "    https://scikit-learn.org/stable/modules/preprocessing.html\n",
            "Please also refer to the documentation for alternative solver options:\n",
            "    https://scikit-learn.org/stable/modules/linear_model.html#logistic-regression\n",
            "  extra_warning_msg=_LOGISTIC_SOLVER_CONVERGENCE_MSG,\n"
          ]
        }
      ]
    },
    {
      "cell_type": "code",
      "source": [
        "df = pd.read_csv(\"term deposit data.csv\")\n",
        "df.subscribed_flag = df.subscribed_flag.map({'yes': 1, 'no': 0}).astype(int)\n",
        "orig_df = df.copy()\n",
        "df.head()\n",
        "\n",
        "encoder_job = ce.BinaryEncoder(cols=['job'],return_df=True)\n",
        "df = encoder_job.fit_transform(df)\n",
        "\n",
        "encoder_marital = ce.BinaryEncoder(cols=['marital'],return_df=True)\n",
        "df = encoder_marital.fit_transform(df)\n",
        "\n",
        "encoder_education = ce.BinaryEncoder(cols=['education'],return_df=True)\n",
        "df = encoder_education.fit_transform(df)\n",
        "\n",
        "encoder_default = ce.BinaryEncoder(cols=['default'],return_df=True)\n",
        "df = encoder_default.fit_transform(df)\n",
        "\n",
        "encoder_housing = ce.BinaryEncoder(cols=['housing'],return_df=True)\n",
        "df = encoder_housing.fit_transform(df)\n",
        "\n",
        "encoder_loan = ce.BinaryEncoder(cols=['loan'],return_df=True)\n",
        "df = encoder_loan.fit_transform(df)\n",
        "\n",
        "encoder_contact = ce.BinaryEncoder(cols=['contact'],return_df=True)\n",
        "df = encoder_contact.fit_transform(df)\n",
        "\n",
        "encoder_month = ce.BinaryEncoder(cols=['month'],return_df=True)\n",
        "df = encoder_month.fit_transform(df)\n",
        "\n",
        "encoder_day_of_week = ce.BinaryEncoder(cols=['day_of_week'],return_df=True)\n",
        "df = encoder_day_of_week.fit_transform(df)\n",
        "\n",
        "encoder_poutcome = ce.BinaryEncoder(cols=['poutcome'],return_df=True)\n",
        "df = encoder_poutcome.fit_transform(df)\n",
        "\n",
        "target_col = \"subscribed_flag\"\n",
        "X = df.loc[:, df.columns != target_col]\n",
        "y = df.loc[:, target_col]\n",
        "\n",
        "# setting up testing and training sets\n",
        "X_train, X_test, y_train, y_test = train_test_split(X, y, test_size=0.25, random_state=27, shuffle = False)\n",
        "\n",
        "sm = SMOTE(random_state=27)\n",
        "X_train, y_train = sm.fit_resample(X_train, y_train)\n",
        "\n",
        "smote = LogisticRegression(solver='saga',penalty='elasticnet', l1_ratio=.9).fit(X_train, y_train)\n",
        "\n",
        "smote_pred = smote.predict(X_test)\n",
        "\n",
        "print('accuracy ' + str(accuracy_score(y_test, smote_pred)))\n",
        "print('f1 score ' + str(f1_score(y_test, smote_pred)))\n",
        "print('recall score ' + str(recall_score(y_test, smote_pred)))"
      ],
      "metadata": {
        "colab": {
          "base_uri": "https://localhost:8080/"
        },
        "id": "B6aI0ci4jd3K",
        "outputId": "1dd55ab4-0d63-4e83-fd2f-f67f3e6daf56"
      },
      "execution_count": null,
      "outputs": [
        {
          "output_type": "stream",
          "name": "stdout",
          "text": [
            "accuracy 0.7198213071768477\n",
            "f1 score 0.5033568600447581\n",
            "recall score 0.5500376222723853\n"
          ]
        },
        {
          "output_type": "stream",
          "name": "stderr",
          "text": [
            "/usr/local/lib/python3.7/dist-packages/sklearn/linear_model/_sag.py:354: ConvergenceWarning: The max_iter was reached which means the coef_ did not converge\n",
            "  ConvergenceWarning,\n"
          ]
        }
      ]
    }
  ]
}