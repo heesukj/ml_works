{
  "nbformat": 4,
  "nbformat_minor": 0,
  "metadata": {
    "colab": {
      "name": "mlextend_feature_selection.ipynb",
      "provenance": [],
      "collapsed_sections": []
    },
    "kernelspec": {
      "name": "python3",
      "display_name": "Python 3"
    },
    "language_info": {
      "name": "python"
    }
  },
  "cells": [
    {
      "cell_type": "code",
      "metadata": {
        "id": "WHlWTP6AKZEo"
      },
      "source": [
        "import pandas as pd\n",
        "import numpy as np\n",
        "import os\n",
        "import sys\n",
        "import datetime\n",
        "import plotly.express as px\n",
        "import matplotlib.pyplot as plt\n",
        "import seaborn as sns\n",
        "from math import sqrt\n",
        "from datetime import datetime\n",
        "import itertools\n",
        "from sklearn.metrics import mean_squared_error, mean_absolute_error, r2_score\n",
        "from xgboost import plot_importance, plot_tree\n"
      ],
      "execution_count": null,
      "outputs": []
    },
    {
      "cell_type": "code",
      "metadata": {
        "colab": {
          "base_uri": "https://localhost:8080/",
          "height": 470
        },
        "id": "bdZw2DqvKjIr",
        "outputId": "64d6e420-4d15-4ded-b47e-555c48f1b793"
      },
      "source": [
        "# Reading the data from the file\n",
        "df = pd.read_csv('result_cc_consumption_1.csv')\n",
        "\n",
        "#Converting uch_level_g column to category so that, in next step we can encode it. ML algos want numeric values.\n",
        "df[\"UCH_LEVEL_G\"] = df[\"UCH_LEVEL_G\"].astype('category')\n",
        "df[\"UCH_LEVEL_G_CAT\"] = df[\"UCH_LEVEL_G\"].cat.codes\n",
        "\n",
        "#df[\"UCH_LEVEL_G\"] = ['div_' + str(i) for i in df['UCH_LEVEL_G']]\n",
        "#df['BASECODE'] = ['item_' + str(i) for i in df['BASECODE']]\n",
        "#df['time_series'] = df[['UCH_LEVEL_G', 'BASECODE']].apply(lambda x: '_'.join(x), axis=1)\n",
        "#df.drop(['UCH_LEVEL_G', 'BASECODE'], axis=1, inplace=True)\n",
        "\n",
        "#Converting column names in lower case\n",
        "df.columns = [c.lower() for c in df.columns]\n",
        "\n",
        "#Converting fscl_wk_end_dt column to datetime format\n",
        "df['fscl_wk_end_dt'] = pd.to_datetime(df['fscl_wk_end_dt'])\n",
        "\n",
        "# Adding a new feature column promo_ind\n",
        "df.loc[df.planned_ptc * .95 > df.suggested_ptc, 'promo_ind'] = 0\n",
        "df.loc[~(df.planned_ptc * .95 > df.suggested_ptc), 'promo_ind'] = 1\n",
        "df.promo_ind = df.promo_ind.astype(int)\n",
        "\n",
        "cust_basecode_max_sales_dt_df = df.groupby(['uch_level_g_cat','basecode'])['fscl_wk_end_dt'].agg([\"max\"]).reset_index()\n",
        "cust_basecode_max_sales_dt_df['max_sales_year'] = pd.DatetimeIndex(cust_basecode_max_sales_dt_df['max']).year\n",
        "\n",
        "now = datetime.now()\n",
        "year = now.year\n",
        "\n",
        "# Adding a new feature column promo_ind\n",
        "cust_basecode_max_sales_dt_df.loc[pd.DatetimeIndex(cust_basecode_max_sales_dt_df['max']).year >= year - 1, 'recent_year_flag'] = 1\n",
        "cust_basecode_max_sales_dt_df.loc[~(pd.DatetimeIndex(cust_basecode_max_sales_dt_df['max']).year >= year - 1), 'recent_year_flag'] = 0\n",
        "cust_basecode_max_sales_dt_df.recent_year_flag = cust_basecode_max_sales_dt_df.recent_year_flag.astype(int)\n",
        "df.set_index('fscl_wk_end_dt',inplace=True)\n",
        "cust_basecode_max_sales_dt_df\n",
        "\n",
        "# Getting unique combination of div and basecode\n",
        "# This dataset will be used to loop thru to run the model fir each combination, provided, they have sufficient number of records to process\n",
        "unique_comb_df = df[['uch_level_g_cat','basecode']].loc[:,['uch_level_g_cat','basecode']].reset_index().drop('fscl_wk_end_dt',axis=1).drop_duplicates().dropna()\n",
        "unique_comb_df['unique_id'] = unique_comb_df.uch_level_g_cat.astype(str) + '_' + unique_comb_df.basecode.astype(str)\n",
        "unique_comb_df.sort_values(by='uch_level_g_cat', ascending=True, inplace=True )\n",
        "unique_comb_df\n",
        "\n",
        "#Dropping no sales records, as souce has zero scan logic, the source data set comes with zero sales records.\n",
        "df = df.dropna()\n",
        "\n",
        "# extract features from date\n",
        "#df['month'] = [i.month for i in df['fscl_wk_end_dt']]\n",
        "#df['year'] = [i.year for i in df['fscl_wk_end_dt']]\n",
        "#df['day_of_year'] = [i.dayofyear for i in df['fscl_wk_end_dt']]\n",
        "df"
      ],
      "execution_count": null,
      "outputs": [
        {
          "output_type": "execute_result",
          "data": {
            "text/html": [
              "<div>\n",
              "<style scoped>\n",
              "    .dataframe tbody tr th:only-of-type {\n",
              "        vertical-align: middle;\n",
              "    }\n",
              "\n",
              "    .dataframe tbody tr th {\n",
              "        vertical-align: top;\n",
              "    }\n",
              "\n",
              "    .dataframe thead th {\n",
              "        text-align: right;\n",
              "    }\n",
              "</style>\n",
              "<table border=\"1\" class=\"dataframe\">\n",
              "  <thead>\n",
              "    <tr style=\"text-align: right;\">\n",
              "      <th></th>\n",
              "      <th>uch_level_g</th>\n",
              "      <th>basecode</th>\n",
              "      <th>suggested_ptc</th>\n",
              "      <th>planned_ptc</th>\n",
              "      <th>holiady_ind</th>\n",
              "      <th>curr_yr_sales_dollars</th>\n",
              "      <th>curr_yr_sales_units</th>\n",
              "      <th>ptc</th>\n",
              "      <th>selling_store_count</th>\n",
              "      <th>actual_str_cnt</th>\n",
              "      <th>selling_store_ratio</th>\n",
              "      <th>promotion_depth</th>\n",
              "      <th>lag_1_promotion_depth</th>\n",
              "      <th>lag_1_ptc</th>\n",
              "      <th>uch_level_g_cat</th>\n",
              "      <th>promo_ind</th>\n",
              "    </tr>\n",
              "    <tr>\n",
              "      <th>fscl_wk_end_dt</th>\n",
              "      <th></th>\n",
              "      <th></th>\n",
              "      <th></th>\n",
              "      <th></th>\n",
              "      <th></th>\n",
              "      <th></th>\n",
              "      <th></th>\n",
              "      <th></th>\n",
              "      <th></th>\n",
              "      <th></th>\n",
              "      <th></th>\n",
              "      <th></th>\n",
              "      <th></th>\n",
              "      <th></th>\n",
              "      <th></th>\n",
              "      <th></th>\n",
              "    </tr>\n",
              "  </thead>\n",
              "  <tbody>\n",
              "    <tr>\n",
              "      <th>2017-01-14</th>\n",
              "      <td>CA4000301</td>\n",
              "      <td>681000111700</td>\n",
              "      <td>4.32</td>\n",
              "      <td>4.99</td>\n",
              "      <td>0</td>\n",
              "      <td>19889.93</td>\n",
              "      <td>5326.0</td>\n",
              "      <td>3.734497</td>\n",
              "      <td>440</td>\n",
              "      <td>588</td>\n",
              "      <td>0.748299</td>\n",
              "      <td>1.155093</td>\n",
              "      <td>1.155093</td>\n",
              "      <td>4.99</td>\n",
              "      <td>0</td>\n",
              "      <td>0</td>\n",
              "    </tr>\n",
              "    <tr>\n",
              "      <th>2017-01-14</th>\n",
              "      <td>CA4000301</td>\n",
              "      <td>681000112500</td>\n",
              "      <td>4.32</td>\n",
              "      <td>4.99</td>\n",
              "      <td>0</td>\n",
              "      <td>76399.73</td>\n",
              "      <td>20544.0</td>\n",
              "      <td>3.718834</td>\n",
              "      <td>455</td>\n",
              "      <td>588</td>\n",
              "      <td>0.773810</td>\n",
              "      <td>1.155093</td>\n",
              "      <td>1.155093</td>\n",
              "      <td>4.99</td>\n",
              "      <td>0</td>\n",
              "      <td>0</td>\n",
              "    </tr>\n",
              "    <tr>\n",
              "      <th>2017-01-14</th>\n",
              "      <td>CA4000301</td>\n",
              "      <td>681000145500</td>\n",
              "      <td>3.04</td>\n",
              "      <td>4.49</td>\n",
              "      <td>0</td>\n",
              "      <td>31943.97</td>\n",
              "      <td>14343.0</td>\n",
              "      <td>2.227147</td>\n",
              "      <td>429</td>\n",
              "      <td>588</td>\n",
              "      <td>0.729592</td>\n",
              "      <td>1.476974</td>\n",
              "      <td>0.654605</td>\n",
              "      <td>1.99</td>\n",
              "      <td>0</td>\n",
              "      <td>0</td>\n",
              "    </tr>\n",
              "    <tr>\n",
              "      <th>2017-01-14</th>\n",
              "      <td>CA4000301</td>\n",
              "      <td>681000145900</td>\n",
              "      <td>3.04</td>\n",
              "      <td>4.49</td>\n",
              "      <td>0</td>\n",
              "      <td>23270.63</td>\n",
              "      <td>9537.0</td>\n",
              "      <td>2.440037</td>\n",
              "      <td>419</td>\n",
              "      <td>588</td>\n",
              "      <td>0.712585</td>\n",
              "      <td>1.476974</td>\n",
              "      <td>0.654605</td>\n",
              "      <td>1.99</td>\n",
              "      <td>0</td>\n",
              "      <td>0</td>\n",
              "    </tr>\n",
              "    <tr>\n",
              "      <th>2017-01-14</th>\n",
              "      <td>CA4000301</td>\n",
              "      <td>681000146500</td>\n",
              "      <td>3.04</td>\n",
              "      <td>4.49</td>\n",
              "      <td>0</td>\n",
              "      <td>22298.79</td>\n",
              "      <td>9607.0</td>\n",
              "      <td>2.321098</td>\n",
              "      <td>358</td>\n",
              "      <td>588</td>\n",
              "      <td>0.608844</td>\n",
              "      <td>1.476974</td>\n",
              "      <td>0.654605</td>\n",
              "      <td>1.99</td>\n",
              "      <td>0</td>\n",
              "      <td>0</td>\n",
              "    </tr>\n",
              "    <tr>\n",
              "      <th>...</th>\n",
              "      <td>...</td>\n",
              "      <td>...</td>\n",
              "      <td>...</td>\n",
              "      <td>...</td>\n",
              "      <td>...</td>\n",
              "      <td>...</td>\n",
              "      <td>...</td>\n",
              "      <td>...</td>\n",
              "      <td>...</td>\n",
              "      <td>...</td>\n",
              "      <td>...</td>\n",
              "      <td>...</td>\n",
              "      <td>...</td>\n",
              "      <td>...</td>\n",
              "      <td>...</td>\n",
              "      <td>...</td>\n",
              "    </tr>\n",
              "    <tr>\n",
              "      <th>2021-05-15</th>\n",
              "      <td>CA4001319</td>\n",
              "      <td>681009006400</td>\n",
              "      <td>5.76</td>\n",
              "      <td>5.99</td>\n",
              "      <td>0</td>\n",
              "      <td>21.89</td>\n",
              "      <td>11.0</td>\n",
              "      <td>1.990000</td>\n",
              "      <td>1</td>\n",
              "      <td>963</td>\n",
              "      <td>0.001038</td>\n",
              "      <td>1.039931</td>\n",
              "      <td>1.039931</td>\n",
              "      <td>5.99</td>\n",
              "      <td>24</td>\n",
              "      <td>1</td>\n",
              "    </tr>\n",
              "    <tr>\n",
              "      <th>2021-05-15</th>\n",
              "      <td>CA4001319</td>\n",
              "      <td>681009006400</td>\n",
              "      <td>5.76</td>\n",
              "      <td>6.46</td>\n",
              "      <td>0</td>\n",
              "      <td>83.27</td>\n",
              "      <td>13.0</td>\n",
              "      <td>6.405385</td>\n",
              "      <td>10</td>\n",
              "      <td>963</td>\n",
              "      <td>0.010384</td>\n",
              "      <td>1.121528</td>\n",
              "      <td>0.887153</td>\n",
              "      <td>5.11</td>\n",
              "      <td>24</td>\n",
              "      <td>0</td>\n",
              "    </tr>\n",
              "    <tr>\n",
              "      <th>2021-05-15</th>\n",
              "      <td>CA4001319</td>\n",
              "      <td>681009006600</td>\n",
              "      <td>4.32</td>\n",
              "      <td>5.40</td>\n",
              "      <td>0</td>\n",
              "      <td>100.13</td>\n",
              "      <td>17.0</td>\n",
              "      <td>5.890000</td>\n",
              "      <td>12</td>\n",
              "      <td>963</td>\n",
              "      <td>0.012461</td>\n",
              "      <td>1.250000</td>\n",
              "      <td>1.233796</td>\n",
              "      <td>5.33</td>\n",
              "      <td>24</td>\n",
              "      <td>0</td>\n",
              "    </tr>\n",
              "    <tr>\n",
              "      <th>2021-05-15</th>\n",
              "      <td>CA4001319</td>\n",
              "      <td>681009006600</td>\n",
              "      <td>4.32</td>\n",
              "      <td>4.49</td>\n",
              "      <td>0</td>\n",
              "      <td>111.58</td>\n",
              "      <td>45.0</td>\n",
              "      <td>2.479556</td>\n",
              "      <td>3</td>\n",
              "      <td>963</td>\n",
              "      <td>0.003115</td>\n",
              "      <td>1.039352</td>\n",
              "      <td>1.039352</td>\n",
              "      <td>4.49</td>\n",
              "      <td>24</td>\n",
              "      <td>1</td>\n",
              "    </tr>\n",
              "    <tr>\n",
              "      <th>2021-05-15</th>\n",
              "      <td>CA4001319</td>\n",
              "      <td>681009013200</td>\n",
              "      <td>4.32</td>\n",
              "      <td>4.99</td>\n",
              "      <td>0</td>\n",
              "      <td>12.58</td>\n",
              "      <td>2.0</td>\n",
              "      <td>6.290000</td>\n",
              "      <td>1</td>\n",
              "      <td>963</td>\n",
              "      <td>0.001038</td>\n",
              "      <td>1.155093</td>\n",
              "      <td>0.687500</td>\n",
              "      <td>2.97</td>\n",
              "      <td>24</td>\n",
              "      <td>0</td>\n",
              "    </tr>\n",
              "  </tbody>\n",
              "</table>\n",
              "<p>132347 rows × 16 columns</p>\n",
              "</div>"
            ],
            "text/plain": [
              "               uch_level_g      basecode  ...  uch_level_g_cat  promo_ind\n",
              "fscl_wk_end_dt                            ...                            \n",
              "2017-01-14       CA4000301  681000111700  ...                0          0\n",
              "2017-01-14       CA4000301  681000112500  ...                0          0\n",
              "2017-01-14       CA4000301  681000145500  ...                0          0\n",
              "2017-01-14       CA4000301  681000145900  ...                0          0\n",
              "2017-01-14       CA4000301  681000146500  ...                0          0\n",
              "...                    ...           ...  ...              ...        ...\n",
              "2021-05-15       CA4001319  681009006400  ...               24          1\n",
              "2021-05-15       CA4001319  681009006400  ...               24          0\n",
              "2021-05-15       CA4001319  681009006600  ...               24          0\n",
              "2021-05-15       CA4001319  681009006600  ...               24          1\n",
              "2021-05-15       CA4001319  681009013200  ...               24          0\n",
              "\n",
              "[132347 rows x 16 columns]"
            ]
          },
          "metadata": {
            "tags": []
          },
          "execution_count": 3
        }
      ]
    },
    {
      "cell_type": "code",
      "metadata": {
        "id": "sH_05jy5KrWj"
      },
      "source": [
        "from sklearn.manifold import TSNE\n",
        "tsne = TSNE()\n",
        "X_embedded = tsne.fit_transform(df[['holiady_ind','selling_store_ratio','promotion_depth','lag_1_promotion_depth','lag_1_ptc','promo_ind']])"
      ],
      "execution_count": null,
      "outputs": []
    },
    {
      "cell_type": "code",
      "metadata": {
        "id": "D69uIAxbyhTH"
      },
      "source": [
        ""
      ],
      "execution_count": null,
      "outputs": []
    },
    {
      "cell_type": "code",
      "metadata": {
        "colab": {
          "base_uri": "https://localhost:8080/",
          "height": 497
        },
        "id": "eIPTayUOMJUa",
        "outputId": "d9b80250-9805-4fca-8c73-bd63adf41022"
      },
      "source": [
        "sns.scatterplot(X_embedded[:,0], X_embedded[:,1], hue=df.curr_yr_sales_units, legend='full')"
      ],
      "execution_count": null,
      "outputs": [
        {
          "output_type": "stream",
          "text": [
            "/usr/local/lib/python3.7/dist-packages/seaborn/_decorators.py:43: FutureWarning:\n",
            "\n",
            "Pass the following variables as keyword args: x, y. From version 0.12, the only valid positional argument will be `data`, and passing other arguments without an explicit keyword will result in an error or misinterpretation.\n",
            "\n"
          ],
          "name": "stderr"
        },
        {
          "output_type": "execute_result",
          "data": {
            "text/plain": [
              "<matplotlib.axes._subplots.AxesSubplot at 0x7f542170b250>"
            ]
          },
          "metadata": {
            "tags": []
          },
          "execution_count": 10
        },
        {
          "output_type": "error",
          "ename": "ValueError",
          "evalue": "ignored",
          "traceback": [
            "\u001b[0;31m---------------------------------------------------------------------------\u001b[0m",
            "\u001b[0;31mValueError\u001b[0m                                Traceback (most recent call last)",
            "\u001b[0;32m/usr/local/lib/python3.7/dist-packages/IPython/core/formatters.py\u001b[0m in \u001b[0;36m__call__\u001b[0;34m(self, obj)\u001b[0m\n\u001b[1;32m    332\u001b[0m                 \u001b[0;32mpass\u001b[0m\u001b[0;34m\u001b[0m\u001b[0;34m\u001b[0m\u001b[0m\n\u001b[1;32m    333\u001b[0m             \u001b[0;32melse\u001b[0m\u001b[0;34m:\u001b[0m\u001b[0;34m\u001b[0m\u001b[0;34m\u001b[0m\u001b[0m\n\u001b[0;32m--> 334\u001b[0;31m                 \u001b[0;32mreturn\u001b[0m \u001b[0mprinter\u001b[0m\u001b[0;34m(\u001b[0m\u001b[0mobj\u001b[0m\u001b[0;34m)\u001b[0m\u001b[0;34m\u001b[0m\u001b[0;34m\u001b[0m\u001b[0m\n\u001b[0m\u001b[1;32m    335\u001b[0m             \u001b[0;31m# Finally look for special method names\u001b[0m\u001b[0;34m\u001b[0m\u001b[0;34m\u001b[0m\u001b[0;34m\u001b[0m\u001b[0m\n\u001b[1;32m    336\u001b[0m             \u001b[0mmethod\u001b[0m \u001b[0;34m=\u001b[0m \u001b[0mget_real_method\u001b[0m\u001b[0;34m(\u001b[0m\u001b[0mobj\u001b[0m\u001b[0;34m,\u001b[0m \u001b[0mself\u001b[0m\u001b[0;34m.\u001b[0m\u001b[0mprint_method\u001b[0m\u001b[0;34m)\u001b[0m\u001b[0;34m\u001b[0m\u001b[0;34m\u001b[0m\u001b[0m\n",
            "\u001b[0;32m/usr/local/lib/python3.7/dist-packages/IPython/core/pylabtools.py\u001b[0m in \u001b[0;36m<lambda>\u001b[0;34m(fig)\u001b[0m\n\u001b[1;32m    239\u001b[0m \u001b[0;34m\u001b[0m\u001b[0m\n\u001b[1;32m    240\u001b[0m     \u001b[0;32mif\u001b[0m \u001b[0;34m'png'\u001b[0m \u001b[0;32min\u001b[0m \u001b[0mformats\u001b[0m\u001b[0;34m:\u001b[0m\u001b[0;34m\u001b[0m\u001b[0;34m\u001b[0m\u001b[0m\n\u001b[0;32m--> 241\u001b[0;31m         \u001b[0mpng_formatter\u001b[0m\u001b[0;34m.\u001b[0m\u001b[0mfor_type\u001b[0m\u001b[0;34m(\u001b[0m\u001b[0mFigure\u001b[0m\u001b[0;34m,\u001b[0m \u001b[0;32mlambda\u001b[0m \u001b[0mfig\u001b[0m\u001b[0;34m:\u001b[0m \u001b[0mprint_figure\u001b[0m\u001b[0;34m(\u001b[0m\u001b[0mfig\u001b[0m\u001b[0;34m,\u001b[0m \u001b[0;34m'png'\u001b[0m\u001b[0;34m,\u001b[0m \u001b[0;34m**\u001b[0m\u001b[0mkwargs\u001b[0m\u001b[0;34m)\u001b[0m\u001b[0;34m)\u001b[0m\u001b[0;34m\u001b[0m\u001b[0;34m\u001b[0m\u001b[0m\n\u001b[0m\u001b[1;32m    242\u001b[0m     \u001b[0;32mif\u001b[0m \u001b[0;34m'retina'\u001b[0m \u001b[0;32min\u001b[0m \u001b[0mformats\u001b[0m \u001b[0;32mor\u001b[0m \u001b[0;34m'png2x'\u001b[0m \u001b[0;32min\u001b[0m \u001b[0mformats\u001b[0m\u001b[0;34m:\u001b[0m\u001b[0;34m\u001b[0m\u001b[0;34m\u001b[0m\u001b[0m\n\u001b[1;32m    243\u001b[0m         \u001b[0mpng_formatter\u001b[0m\u001b[0;34m.\u001b[0m\u001b[0mfor_type\u001b[0m\u001b[0;34m(\u001b[0m\u001b[0mFigure\u001b[0m\u001b[0;34m,\u001b[0m \u001b[0;32mlambda\u001b[0m \u001b[0mfig\u001b[0m\u001b[0;34m:\u001b[0m \u001b[0mretina_figure\u001b[0m\u001b[0;34m(\u001b[0m\u001b[0mfig\u001b[0m\u001b[0;34m,\u001b[0m \u001b[0;34m**\u001b[0m\u001b[0mkwargs\u001b[0m\u001b[0;34m)\u001b[0m\u001b[0;34m)\u001b[0m\u001b[0;34m\u001b[0m\u001b[0;34m\u001b[0m\u001b[0m\n",
            "\u001b[0;32m/usr/local/lib/python3.7/dist-packages/IPython/core/pylabtools.py\u001b[0m in \u001b[0;36mprint_figure\u001b[0;34m(fig, fmt, bbox_inches, **kwargs)\u001b[0m\n\u001b[1;32m    123\u001b[0m \u001b[0;34m\u001b[0m\u001b[0m\n\u001b[1;32m    124\u001b[0m     \u001b[0mbytes_io\u001b[0m \u001b[0;34m=\u001b[0m \u001b[0mBytesIO\u001b[0m\u001b[0;34m(\u001b[0m\u001b[0;34m)\u001b[0m\u001b[0;34m\u001b[0m\u001b[0;34m\u001b[0m\u001b[0m\n\u001b[0;32m--> 125\u001b[0;31m     \u001b[0mfig\u001b[0m\u001b[0;34m.\u001b[0m\u001b[0mcanvas\u001b[0m\u001b[0;34m.\u001b[0m\u001b[0mprint_figure\u001b[0m\u001b[0;34m(\u001b[0m\u001b[0mbytes_io\u001b[0m\u001b[0;34m,\u001b[0m \u001b[0;34m**\u001b[0m\u001b[0mkw\u001b[0m\u001b[0;34m)\u001b[0m\u001b[0;34m\u001b[0m\u001b[0;34m\u001b[0m\u001b[0m\n\u001b[0m\u001b[1;32m    126\u001b[0m     \u001b[0mdata\u001b[0m \u001b[0;34m=\u001b[0m \u001b[0mbytes_io\u001b[0m\u001b[0;34m.\u001b[0m\u001b[0mgetvalue\u001b[0m\u001b[0;34m(\u001b[0m\u001b[0;34m)\u001b[0m\u001b[0;34m\u001b[0m\u001b[0;34m\u001b[0m\u001b[0m\n\u001b[1;32m    127\u001b[0m     \u001b[0;32mif\u001b[0m \u001b[0mfmt\u001b[0m \u001b[0;34m==\u001b[0m \u001b[0;34m'svg'\u001b[0m\u001b[0;34m:\u001b[0m\u001b[0;34m\u001b[0m\u001b[0;34m\u001b[0m\u001b[0m\n",
            "\u001b[0;32m/usr/local/lib/python3.7/dist-packages/matplotlib/backend_bases.py\u001b[0m in \u001b[0;36mprint_figure\u001b[0;34m(self, filename, dpi, facecolor, edgecolor, orientation, format, bbox_inches, **kwargs)\u001b[0m\n\u001b[1;32m   2124\u001b[0m                     \u001b[0morientation\u001b[0m\u001b[0;34m=\u001b[0m\u001b[0morientation\u001b[0m\u001b[0;34m,\u001b[0m\u001b[0;34m\u001b[0m\u001b[0;34m\u001b[0m\u001b[0m\n\u001b[1;32m   2125\u001b[0m                     \u001b[0mbbox_inches_restore\u001b[0m\u001b[0;34m=\u001b[0m\u001b[0m_bbox_inches_restore\u001b[0m\u001b[0;34m,\u001b[0m\u001b[0;34m\u001b[0m\u001b[0;34m\u001b[0m\u001b[0m\n\u001b[0;32m-> 2126\u001b[0;31m                     **kwargs)\n\u001b[0m\u001b[1;32m   2127\u001b[0m             \u001b[0;32mfinally\u001b[0m\u001b[0;34m:\u001b[0m\u001b[0;34m\u001b[0m\u001b[0;34m\u001b[0m\u001b[0m\n\u001b[1;32m   2128\u001b[0m                 \u001b[0;32mif\u001b[0m \u001b[0mbbox_inches\u001b[0m \u001b[0;32mand\u001b[0m \u001b[0mrestore_bbox\u001b[0m\u001b[0;34m:\u001b[0m\u001b[0;34m\u001b[0m\u001b[0;34m\u001b[0m\u001b[0m\n",
            "\u001b[0;32m/usr/local/lib/python3.7/dist-packages/matplotlib/backends/backend_agg.py\u001b[0m in \u001b[0;36mprint_png\u001b[0;34m(self, filename_or_obj, metadata, pil_kwargs, *args, **kwargs)\u001b[0m\n\u001b[1;32m    512\u001b[0m         }\n\u001b[1;32m    513\u001b[0m \u001b[0;34m\u001b[0m\u001b[0m\n\u001b[0;32m--> 514\u001b[0;31m         \u001b[0mFigureCanvasAgg\u001b[0m\u001b[0;34m.\u001b[0m\u001b[0mdraw\u001b[0m\u001b[0;34m(\u001b[0m\u001b[0mself\u001b[0m\u001b[0;34m)\u001b[0m\u001b[0;34m\u001b[0m\u001b[0;34m\u001b[0m\u001b[0m\n\u001b[0m\u001b[1;32m    515\u001b[0m         \u001b[0;32mif\u001b[0m \u001b[0mpil_kwargs\u001b[0m \u001b[0;32mis\u001b[0m \u001b[0;32mnot\u001b[0m \u001b[0;32mNone\u001b[0m\u001b[0;34m:\u001b[0m\u001b[0;34m\u001b[0m\u001b[0;34m\u001b[0m\u001b[0m\n\u001b[1;32m    516\u001b[0m             \u001b[0;32mfrom\u001b[0m \u001b[0mPIL\u001b[0m \u001b[0;32mimport\u001b[0m \u001b[0mImage\u001b[0m\u001b[0;34m\u001b[0m\u001b[0;34m\u001b[0m\u001b[0m\n",
            "\u001b[0;32m/usr/local/lib/python3.7/dist-packages/matplotlib/backends/backend_agg.py\u001b[0m in \u001b[0;36mdraw\u001b[0;34m(self)\u001b[0m\n\u001b[1;32m    386\u001b[0m         \u001b[0mDraw\u001b[0m \u001b[0mthe\u001b[0m \u001b[0mfigure\u001b[0m \u001b[0musing\u001b[0m \u001b[0mthe\u001b[0m \u001b[0mrenderer\u001b[0m\u001b[0;34m.\u001b[0m\u001b[0;34m\u001b[0m\u001b[0;34m\u001b[0m\u001b[0m\n\u001b[1;32m    387\u001b[0m         \"\"\"\n\u001b[0;32m--> 388\u001b[0;31m         \u001b[0mself\u001b[0m\u001b[0;34m.\u001b[0m\u001b[0mrenderer\u001b[0m \u001b[0;34m=\u001b[0m \u001b[0mself\u001b[0m\u001b[0;34m.\u001b[0m\u001b[0mget_renderer\u001b[0m\u001b[0;34m(\u001b[0m\u001b[0mcleared\u001b[0m\u001b[0;34m=\u001b[0m\u001b[0;32mTrue\u001b[0m\u001b[0;34m)\u001b[0m\u001b[0;34m\u001b[0m\u001b[0;34m\u001b[0m\u001b[0m\n\u001b[0m\u001b[1;32m    389\u001b[0m         \u001b[0;31m# Acquire a lock on the shared font cache.\u001b[0m\u001b[0;34m\u001b[0m\u001b[0;34m\u001b[0m\u001b[0;34m\u001b[0m\u001b[0m\n\u001b[1;32m    390\u001b[0m         \u001b[0;32mwith\u001b[0m \u001b[0mRendererAgg\u001b[0m\u001b[0;34m.\u001b[0m\u001b[0mlock\u001b[0m\u001b[0;34m,\u001b[0m\u001b[0;31m \u001b[0m\u001b[0;31m\\\u001b[0m\u001b[0;34m\u001b[0m\u001b[0;34m\u001b[0m\u001b[0m\n",
            "\u001b[0;32m/usr/local/lib/python3.7/dist-packages/matplotlib/backends/backend_agg.py\u001b[0m in \u001b[0;36mget_renderer\u001b[0;34m(self, cleared)\u001b[0m\n\u001b[1;32m    402\u001b[0m                           and getattr(self, \"_lastKey\", None) == key)\n\u001b[1;32m    403\u001b[0m         \u001b[0;32mif\u001b[0m \u001b[0;32mnot\u001b[0m \u001b[0mreuse_renderer\u001b[0m\u001b[0;34m:\u001b[0m\u001b[0;34m\u001b[0m\u001b[0;34m\u001b[0m\u001b[0m\n\u001b[0;32m--> 404\u001b[0;31m             \u001b[0mself\u001b[0m\u001b[0;34m.\u001b[0m\u001b[0mrenderer\u001b[0m \u001b[0;34m=\u001b[0m \u001b[0mRendererAgg\u001b[0m\u001b[0;34m(\u001b[0m\u001b[0mw\u001b[0m\u001b[0;34m,\u001b[0m \u001b[0mh\u001b[0m\u001b[0;34m,\u001b[0m \u001b[0mself\u001b[0m\u001b[0;34m.\u001b[0m\u001b[0mfigure\u001b[0m\u001b[0;34m.\u001b[0m\u001b[0mdpi\u001b[0m\u001b[0;34m)\u001b[0m\u001b[0;34m\u001b[0m\u001b[0;34m\u001b[0m\u001b[0m\n\u001b[0m\u001b[1;32m    405\u001b[0m             \u001b[0mself\u001b[0m\u001b[0;34m.\u001b[0m\u001b[0m_lastKey\u001b[0m \u001b[0;34m=\u001b[0m \u001b[0mkey\u001b[0m\u001b[0;34m\u001b[0m\u001b[0;34m\u001b[0m\u001b[0m\n\u001b[1;32m    406\u001b[0m         \u001b[0;32melif\u001b[0m \u001b[0mcleared\u001b[0m\u001b[0;34m:\u001b[0m\u001b[0;34m\u001b[0m\u001b[0;34m\u001b[0m\u001b[0m\n",
            "\u001b[0;32m/usr/local/lib/python3.7/dist-packages/matplotlib/backends/backend_agg.py\u001b[0m in \u001b[0;36m__init__\u001b[0;34m(self, width, height, dpi)\u001b[0m\n\u001b[1;32m     90\u001b[0m         \u001b[0mself\u001b[0m\u001b[0;34m.\u001b[0m\u001b[0mwidth\u001b[0m \u001b[0;34m=\u001b[0m \u001b[0mwidth\u001b[0m\u001b[0;34m\u001b[0m\u001b[0;34m\u001b[0m\u001b[0m\n\u001b[1;32m     91\u001b[0m         \u001b[0mself\u001b[0m\u001b[0;34m.\u001b[0m\u001b[0mheight\u001b[0m \u001b[0;34m=\u001b[0m \u001b[0mheight\u001b[0m\u001b[0;34m\u001b[0m\u001b[0;34m\u001b[0m\u001b[0m\n\u001b[0;32m---> 92\u001b[0;31m         \u001b[0mself\u001b[0m\u001b[0;34m.\u001b[0m\u001b[0m_renderer\u001b[0m \u001b[0;34m=\u001b[0m \u001b[0m_RendererAgg\u001b[0m\u001b[0;34m(\u001b[0m\u001b[0mint\u001b[0m\u001b[0;34m(\u001b[0m\u001b[0mwidth\u001b[0m\u001b[0;34m)\u001b[0m\u001b[0;34m,\u001b[0m \u001b[0mint\u001b[0m\u001b[0;34m(\u001b[0m\u001b[0mheight\u001b[0m\u001b[0;34m)\u001b[0m\u001b[0;34m,\u001b[0m \u001b[0mdpi\u001b[0m\u001b[0;34m)\u001b[0m\u001b[0;34m\u001b[0m\u001b[0;34m\u001b[0m\u001b[0m\n\u001b[0m\u001b[1;32m     93\u001b[0m         \u001b[0mself\u001b[0m\u001b[0;34m.\u001b[0m\u001b[0m_filter_renderers\u001b[0m \u001b[0;34m=\u001b[0m \u001b[0;34m[\u001b[0m\u001b[0;34m]\u001b[0m\u001b[0;34m\u001b[0m\u001b[0;34m\u001b[0m\u001b[0m\n\u001b[1;32m     94\u001b[0m \u001b[0;34m\u001b[0m\u001b[0m\n",
            "\u001b[0;31mValueError\u001b[0m: Image size of 377x118568 pixels is too large. It must be less than 2^16 in each direction."
          ]
        },
        {
          "output_type": "display_data",
          "data": {
            "text/plain": [
              "<Figure size 432x288 with 1 Axes>"
            ]
          },
          "metadata": {
            "tags": [],
            "needs_background": "light"
          }
        }
      ]
    },
    {
      "cell_type": "code",
      "metadata": {
        "colab": {
          "base_uri": "https://localhost:8080/"
        },
        "id": "cDs2J0P9xIad",
        "outputId": "dd510f1f-94ef-4b59-be78-6d1a0c35949d"
      },
      "source": [
        "!pip install mlxtend  "
      ],
      "execution_count": null,
      "outputs": [
        {
          "output_type": "stream",
          "text": [
            "Requirement already satisfied: mlxtend in /usr/local/lib/python3.7/dist-packages (0.14.0)\n",
            "Requirement already satisfied: matplotlib>=1.5.1 in /usr/local/lib/python3.7/dist-packages (from mlxtend) (3.2.2)\n",
            "Requirement already satisfied: scikit-learn>=0.18 in /usr/local/lib/python3.7/dist-packages (from mlxtend) (0.22.2.post1)\n",
            "Requirement already satisfied: scipy>=0.17 in /usr/local/lib/python3.7/dist-packages (from mlxtend) (1.4.1)\n",
            "Requirement already satisfied: numpy>=1.10.4 in /usr/local/lib/python3.7/dist-packages (from mlxtend) (1.19.5)\n",
            "Requirement already satisfied: setuptools in /usr/local/lib/python3.7/dist-packages (from mlxtend) (57.0.0)\n",
            "Requirement already satisfied: pandas>=0.17.1 in /usr/local/lib/python3.7/dist-packages (from mlxtend) (1.1.5)\n",
            "Requirement already satisfied: cycler>=0.10 in /usr/local/lib/python3.7/dist-packages (from matplotlib>=1.5.1->mlxtend) (0.10.0)\n",
            "Requirement already satisfied: kiwisolver>=1.0.1 in /usr/local/lib/python3.7/dist-packages (from matplotlib>=1.5.1->mlxtend) (1.3.1)\n",
            "Requirement already satisfied: python-dateutil>=2.1 in /usr/local/lib/python3.7/dist-packages (from matplotlib>=1.5.1->mlxtend) (2.8.1)\n",
            "Requirement already satisfied: pyparsing!=2.0.4,!=2.1.2,!=2.1.6,>=2.0.1 in /usr/local/lib/python3.7/dist-packages (from matplotlib>=1.5.1->mlxtend) (2.4.7)\n",
            "Requirement already satisfied: joblib>=0.11 in /usr/local/lib/python3.7/dist-packages (from scikit-learn>=0.18->mlxtend) (1.0.1)\n",
            "Requirement already satisfied: pytz>=2017.2 in /usr/local/lib/python3.7/dist-packages (from pandas>=0.17.1->mlxtend) (2018.9)\n",
            "Requirement already satisfied: six in /usr/local/lib/python3.7/dist-packages (from cycler>=0.10->matplotlib>=1.5.1->mlxtend) (1.15.0)\n"
          ],
          "name": "stdout"
        }
      ]
    },
    {
      "cell_type": "code",
      "metadata": {
        "id": "HpKj-J_sxU4q"
      },
      "source": [
        "from sklearn.datasets import load_iris\n",
        "\n",
        "iris = load_iris()\n",
        "X = iris.data\n",
        "y = iris.target"
      ],
      "execution_count": null,
      "outputs": []
    },
    {
      "cell_type": "code",
      "metadata": {
        "colab": {
          "base_uri": "https://localhost:8080/"
        },
        "id": "vPTs3FtrxZ06",
        "outputId": "91e38fdb-b9b1-4a9c-a925-e041f2d36967"
      },
      "source": [
        "from mlxtend.feature_selection import ColumnSelector\n",
        "\n",
        "col_selector = ColumnSelector(cols=(0, 1))\n",
        "# col_selector.fit(X) # optional, does not do anything\n",
        "col_selector.transform(X).shape"
      ],
      "execution_count": null,
      "outputs": [
        {
          "output_type": "stream",
          "text": [
            "/usr/local/lib/python3.7/dist-packages/sklearn/externals/joblib/__init__.py:15: FutureWarning:\n",
            "\n",
            "sklearn.externals.joblib is deprecated in 0.21 and will be removed in 0.23. Please import this functionality directly from joblib, which can be installed with: pip install joblib. If this warning is raised when loading pickled models, you may need to re-serialize those models with scikit-learn 0.21+.\n",
            "\n"
          ],
          "name": "stderr"
        },
        {
          "output_type": "execute_result",
          "data": {
            "text/plain": [
              "(150, 2)"
            ]
          },
          "metadata": {
            "tags": []
          },
          "execution_count": 5
        }
      ]
    },
    {
      "cell_type": "code",
      "metadata": {
        "colab": {
          "base_uri": "https://localhost:8080/",
          "height": 419
        },
        "id": "S2SQyQIVxhdX",
        "outputId": "b4e5e901-5512-4ebf-970d-ff3e22942d52"
      },
      "source": [
        "import pandas as pd\n",
        "\n",
        "iris_df = pd.DataFrame(iris.data, columns=iris.feature_names)\n",
        "iris_df"
      ],
      "execution_count": null,
      "outputs": [
        {
          "output_type": "execute_result",
          "data": {
            "text/html": [
              "<div>\n",
              "<style scoped>\n",
              "    .dataframe tbody tr th:only-of-type {\n",
              "        vertical-align: middle;\n",
              "    }\n",
              "\n",
              "    .dataframe tbody tr th {\n",
              "        vertical-align: top;\n",
              "    }\n",
              "\n",
              "    .dataframe thead th {\n",
              "        text-align: right;\n",
              "    }\n",
              "</style>\n",
              "<table border=\"1\" class=\"dataframe\">\n",
              "  <thead>\n",
              "    <tr style=\"text-align: right;\">\n",
              "      <th></th>\n",
              "      <th>sepal length (cm)</th>\n",
              "      <th>sepal width (cm)</th>\n",
              "      <th>petal length (cm)</th>\n",
              "      <th>petal width (cm)</th>\n",
              "    </tr>\n",
              "  </thead>\n",
              "  <tbody>\n",
              "    <tr>\n",
              "      <th>0</th>\n",
              "      <td>5.1</td>\n",
              "      <td>3.5</td>\n",
              "      <td>1.4</td>\n",
              "      <td>0.2</td>\n",
              "    </tr>\n",
              "    <tr>\n",
              "      <th>1</th>\n",
              "      <td>4.9</td>\n",
              "      <td>3.0</td>\n",
              "      <td>1.4</td>\n",
              "      <td>0.2</td>\n",
              "    </tr>\n",
              "    <tr>\n",
              "      <th>2</th>\n",
              "      <td>4.7</td>\n",
              "      <td>3.2</td>\n",
              "      <td>1.3</td>\n",
              "      <td>0.2</td>\n",
              "    </tr>\n",
              "    <tr>\n",
              "      <th>3</th>\n",
              "      <td>4.6</td>\n",
              "      <td>3.1</td>\n",
              "      <td>1.5</td>\n",
              "      <td>0.2</td>\n",
              "    </tr>\n",
              "    <tr>\n",
              "      <th>4</th>\n",
              "      <td>5.0</td>\n",
              "      <td>3.6</td>\n",
              "      <td>1.4</td>\n",
              "      <td>0.2</td>\n",
              "    </tr>\n",
              "    <tr>\n",
              "      <th>...</th>\n",
              "      <td>...</td>\n",
              "      <td>...</td>\n",
              "      <td>...</td>\n",
              "      <td>...</td>\n",
              "    </tr>\n",
              "    <tr>\n",
              "      <th>145</th>\n",
              "      <td>6.7</td>\n",
              "      <td>3.0</td>\n",
              "      <td>5.2</td>\n",
              "      <td>2.3</td>\n",
              "    </tr>\n",
              "    <tr>\n",
              "      <th>146</th>\n",
              "      <td>6.3</td>\n",
              "      <td>2.5</td>\n",
              "      <td>5.0</td>\n",
              "      <td>1.9</td>\n",
              "    </tr>\n",
              "    <tr>\n",
              "      <th>147</th>\n",
              "      <td>6.5</td>\n",
              "      <td>3.0</td>\n",
              "      <td>5.2</td>\n",
              "      <td>2.0</td>\n",
              "    </tr>\n",
              "    <tr>\n",
              "      <th>148</th>\n",
              "      <td>6.2</td>\n",
              "      <td>3.4</td>\n",
              "      <td>5.4</td>\n",
              "      <td>2.3</td>\n",
              "    </tr>\n",
              "    <tr>\n",
              "      <th>149</th>\n",
              "      <td>5.9</td>\n",
              "      <td>3.0</td>\n",
              "      <td>5.1</td>\n",
              "      <td>1.8</td>\n",
              "    </tr>\n",
              "  </tbody>\n",
              "</table>\n",
              "<p>150 rows × 4 columns</p>\n",
              "</div>"
            ],
            "text/plain": [
              "     sepal length (cm)  sepal width (cm)  petal length (cm)  petal width (cm)\n",
              "0                  5.1               3.5                1.4               0.2\n",
              "1                  4.9               3.0                1.4               0.2\n",
              "2                  4.7               3.2                1.3               0.2\n",
              "3                  4.6               3.1                1.5               0.2\n",
              "4                  5.0               3.6                1.4               0.2\n",
              "..                 ...               ...                ...               ...\n",
              "145                6.7               3.0                5.2               2.3\n",
              "146                6.3               2.5                5.0               1.9\n",
              "147                6.5               3.0                5.2               2.0\n",
              "148                6.2               3.4                5.4               2.3\n",
              "149                5.9               3.0                5.1               1.8\n",
              "\n",
              "[150 rows x 4 columns]"
            ]
          },
          "metadata": {
            "tags": []
          },
          "execution_count": 7
        }
      ]
    },
    {
      "cell_type": "code",
      "metadata": {
        "colab": {
          "base_uri": "https://localhost:8080/"
        },
        "id": "uLCguquIxtnU",
        "outputId": "065be403-7a7b-427f-db31-145107cf8e86"
      },
      "source": [
        "col_selector = ColumnSelector(cols=(\"sepal length (cm)\", \"sepal width (cm)\"))\n",
        "col_selector.transform(iris_df).shape"
      ],
      "execution_count": null,
      "outputs": [
        {
          "output_type": "execute_result",
          "data": {
            "text/plain": [
              "(150, 2)"
            ]
          },
          "metadata": {
            "tags": []
          },
          "execution_count": 9
        }
      ]
    },
    {
      "cell_type": "code",
      "metadata": {
        "colab": {
          "base_uri": "https://localhost:8080/"
        },
        "id": "0woOdMW2xvq9",
        "outputId": "608cbadb-53c5-46bd-fa04-8be91e98f541"
      },
      "source": [
        "from sklearn.neighbors import KNeighborsClassifier\n",
        "from sklearn.preprocessing import StandardScaler\n",
        "from sklearn.pipeline import make_pipeline\n",
        "\n",
        "\n",
        "pipe = make_pipeline(StandardScaler(),\n",
        "                     ColumnSelector(cols=(0, 1)),\n",
        "                     KNeighborsClassifier())\n",
        "\n",
        "pipe.fit(X, y)\n",
        "pipe.score(X, y)"
      ],
      "execution_count": null,
      "outputs": [
        {
          "output_type": "execute_result",
          "data": {
            "text/plain": [
              "0.84"
            ]
          },
          "metadata": {
            "tags": []
          },
          "execution_count": 10
        }
      ]
    },
    {
      "cell_type": "code",
      "metadata": {
        "colab": {
          "base_uri": "https://localhost:8080/"
        },
        "id": "CjD3auZxx6ee",
        "outputId": "d8b1e7ee-3385-4239-ed8f-3fb8cd5bcd72"
      },
      "source": [
        "df.columns"
      ],
      "execution_count": null,
      "outputs": [
        {
          "output_type": "execute_result",
          "data": {
            "text/plain": [
              "Index(['uch_level_g', 'basecode', 'suggested_ptc', 'planned_ptc',\n",
              "       'holiady_ind', 'curr_yr_sales_dollars', 'curr_yr_sales_units', 'ptc',\n",
              "       'selling_store_count', 'actual_str_cnt', 'selling_store_ratio',\n",
              "       'promotion_depth', 'lag_1_promotion_depth', 'lag_1_ptc',\n",
              "       'uch_level_g_cat', 'promo_ind'],\n",
              "      dtype='object')"
            ]
          },
          "metadata": {
            "tags": []
          },
          "execution_count": 11
        }
      ]
    },
    {
      "cell_type": "code",
      "metadata": {
        "colab": {
          "base_uri": "https://localhost:8080/",
          "height": 100
        },
        "id": "PbUYRZPQzFO3",
        "outputId": "dff6e601-3a53-47b0-fa3e-6ec5507519a6"
      },
      "source": [
        "df[df.promotion_depth.isnull()]"
      ],
      "execution_count": null,
      "outputs": [
        {
          "output_type": "execute_result",
          "data": {
            "text/html": [
              "<div>\n",
              "<style scoped>\n",
              "    .dataframe tbody tr th:only-of-type {\n",
              "        vertical-align: middle;\n",
              "    }\n",
              "\n",
              "    .dataframe tbody tr th {\n",
              "        vertical-align: top;\n",
              "    }\n",
              "\n",
              "    .dataframe thead th {\n",
              "        text-align: right;\n",
              "    }\n",
              "</style>\n",
              "<table border=\"1\" class=\"dataframe\">\n",
              "  <thead>\n",
              "    <tr style=\"text-align: right;\">\n",
              "      <th></th>\n",
              "      <th>uch_level_g</th>\n",
              "      <th>basecode</th>\n",
              "      <th>suggested_ptc</th>\n",
              "      <th>planned_ptc</th>\n",
              "      <th>holiady_ind</th>\n",
              "      <th>curr_yr_sales_dollars</th>\n",
              "      <th>curr_yr_sales_units</th>\n",
              "      <th>ptc</th>\n",
              "      <th>selling_store_count</th>\n",
              "      <th>actual_str_cnt</th>\n",
              "      <th>selling_store_ratio</th>\n",
              "      <th>promotion_depth</th>\n",
              "      <th>lag_1_promotion_depth</th>\n",
              "      <th>lag_1_ptc</th>\n",
              "      <th>uch_level_g_cat</th>\n",
              "      <th>promo_ind</th>\n",
              "    </tr>\n",
              "    <tr>\n",
              "      <th>fscl_wk_end_dt</th>\n",
              "      <th></th>\n",
              "      <th></th>\n",
              "      <th></th>\n",
              "      <th></th>\n",
              "      <th></th>\n",
              "      <th></th>\n",
              "      <th></th>\n",
              "      <th></th>\n",
              "      <th></th>\n",
              "      <th></th>\n",
              "      <th></th>\n",
              "      <th></th>\n",
              "      <th></th>\n",
              "      <th></th>\n",
              "      <th></th>\n",
              "      <th></th>\n",
              "    </tr>\n",
              "  </thead>\n",
              "  <tbody>\n",
              "  </tbody>\n",
              "</table>\n",
              "</div>"
            ],
            "text/plain": [
              "Empty DataFrame\n",
              "Columns: [uch_level_g, basecode, suggested_ptc, planned_ptc, holiady_ind, curr_yr_sales_dollars, curr_yr_sales_units, ptc, selling_store_count, actual_str_cnt, selling_store_ratio, promotion_depth, lag_1_promotion_depth, lag_1_ptc, uch_level_g_cat, promo_ind]\n",
              "Index: []"
            ]
          },
          "metadata": {
            "tags": []
          },
          "execution_count": 25
        }
      ]
    },
    {
      "cell_type": "code",
      "metadata": {
        "id": "X9pAemX8xzqz"
      },
      "source": [
        "X = df[['basecode', 'suggested_ptc', 'planned_ptc',\n",
        "       'holiady_ind', 'selling_store_count', 'actual_str_cnt', 'selling_store_ratio',\n",
        "       'promotion_depth', 'lag_1_promotion_depth', 'lag_1_ptc',\n",
        "       'uch_level_g_cat', 'promo_ind']][(df.uch_level_g_cat == 24) & (df.basecode == 681008959100)]\n",
        "y = df[(df.uch_level_g_cat == 24) & (df.basecode == 681008959100)]['curr_yr_sales_units'].apply(lambda x: 1 if x <= df['curr_yr_sales_units'].median() else 0)\n",
        "X = X.reset_index().drop('fscl_wk_end_dt',1)\n",
        "y= y.reset_index().drop('fscl_wk_end_dt',1)"
      ],
      "execution_count": null,
      "outputs": []
    },
    {
      "cell_type": "code",
      "metadata": {
        "colab": {
          "base_uri": "https://localhost:8080/",
          "height": 419
        },
        "id": "slMpvkaR4Vge",
        "outputId": "3c526397-442f-4cc3-cbe2-bc0a96b99482"
      },
      "source": [
        "y"
      ],
      "execution_count": null,
      "outputs": [
        {
          "output_type": "execute_result",
          "data": {
            "text/html": [
              "<div>\n",
              "<style scoped>\n",
              "    .dataframe tbody tr th:only-of-type {\n",
              "        vertical-align: middle;\n",
              "    }\n",
              "\n",
              "    .dataframe tbody tr th {\n",
              "        vertical-align: top;\n",
              "    }\n",
              "\n",
              "    .dataframe thead th {\n",
              "        text-align: right;\n",
              "    }\n",
              "</style>\n",
              "<table border=\"1\" class=\"dataframe\">\n",
              "  <thead>\n",
              "    <tr style=\"text-align: right;\">\n",
              "      <th></th>\n",
              "      <th>curr_yr_sales_units</th>\n",
              "    </tr>\n",
              "  </thead>\n",
              "  <tbody>\n",
              "    <tr>\n",
              "      <th>0</th>\n",
              "      <td>0</td>\n",
              "    </tr>\n",
              "    <tr>\n",
              "      <th>1</th>\n",
              "      <td>0</td>\n",
              "    </tr>\n",
              "    <tr>\n",
              "      <th>2</th>\n",
              "      <td>0</td>\n",
              "    </tr>\n",
              "    <tr>\n",
              "      <th>3</th>\n",
              "      <td>0</td>\n",
              "    </tr>\n",
              "    <tr>\n",
              "      <th>4</th>\n",
              "      <td>0</td>\n",
              "    </tr>\n",
              "    <tr>\n",
              "      <th>...</th>\n",
              "      <td>...</td>\n",
              "    </tr>\n",
              "    <tr>\n",
              "      <th>132342</th>\n",
              "      <td>1</td>\n",
              "    </tr>\n",
              "    <tr>\n",
              "      <th>132343</th>\n",
              "      <td>1</td>\n",
              "    </tr>\n",
              "    <tr>\n",
              "      <th>132344</th>\n",
              "      <td>1</td>\n",
              "    </tr>\n",
              "    <tr>\n",
              "      <th>132345</th>\n",
              "      <td>1</td>\n",
              "    </tr>\n",
              "    <tr>\n",
              "      <th>132346</th>\n",
              "      <td>1</td>\n",
              "    </tr>\n",
              "  </tbody>\n",
              "</table>\n",
              "<p>132347 rows × 1 columns</p>\n",
              "</div>"
            ],
            "text/plain": [
              "        curr_yr_sales_units\n",
              "0                         0\n",
              "1                         0\n",
              "2                         0\n",
              "3                         0\n",
              "4                         0\n",
              "...                     ...\n",
              "132342                    1\n",
              "132343                    1\n",
              "132344                    1\n",
              "132345                    1\n",
              "132346                    1\n",
              "\n",
              "[132347 rows x 1 columns]"
            ]
          },
          "metadata": {
            "tags": []
          },
          "execution_count": 69
        }
      ]
    },
    {
      "cell_type": "code",
      "metadata": {
        "colab": {
          "base_uri": "https://localhost:8080/",
          "height": 358
        },
        "id": "Txd_VTAqyi8Y",
        "outputId": "da4f9524-219e-4873-8348-29a2cd3a515f"
      },
      "source": [
        "pipe = make_pipeline(StandardScaler(),\n",
        "                     ColumnSelector(cols=('basecode', 'suggested_ptc', 'planned_ptc',\n",
        "       'holiady_ind', 'selling_store_count', 'actual_str_cnt', 'selling_store_ratio',\n",
        "       'promotion_depth', 'lag_1_promotion_depth', 'lag_1_ptc',\n",
        "       'uch_level_g_cat', 'promo_ind')),\n",
        "                     KNeighborsClassifier())\n",
        "\n",
        "pipe.fit(X, y)\n",
        "pipe.score(X, y)"
      ],
      "execution_count": null,
      "outputs": [
        {
          "output_type": "error",
          "ename": "IndexError",
          "evalue": "ignored",
          "traceback": [
            "\u001b[0;31m---------------------------------------------------------------------------\u001b[0m",
            "\u001b[0;31mIndexError\u001b[0m                                Traceback (most recent call last)",
            "\u001b[0;32m<ipython-input-59-8712b0528f62>\u001b[0m in \u001b[0;36m<module>\u001b[0;34m()\u001b[0m\n\u001b[1;32m      6\u001b[0m                      KNeighborsClassifier())\n\u001b[1;32m      7\u001b[0m \u001b[0;34m\u001b[0m\u001b[0m\n\u001b[0;32m----> 8\u001b[0;31m \u001b[0mpipe\u001b[0m\u001b[0;34m.\u001b[0m\u001b[0mfit\u001b[0m\u001b[0;34m(\u001b[0m\u001b[0mX\u001b[0m\u001b[0;34m,\u001b[0m \u001b[0my\u001b[0m\u001b[0;34m)\u001b[0m\u001b[0;34m\u001b[0m\u001b[0;34m\u001b[0m\u001b[0m\n\u001b[0m\u001b[1;32m      9\u001b[0m \u001b[0mpipe\u001b[0m\u001b[0;34m.\u001b[0m\u001b[0mscore\u001b[0m\u001b[0;34m(\u001b[0m\u001b[0mX\u001b[0m\u001b[0;34m,\u001b[0m \u001b[0my\u001b[0m\u001b[0;34m)\u001b[0m\u001b[0;34m\u001b[0m\u001b[0;34m\u001b[0m\u001b[0m\n",
            "\u001b[0;32m/usr/local/lib/python3.7/dist-packages/sklearn/pipeline.py\u001b[0m in \u001b[0;36mfit\u001b[0;34m(self, X, y, **fit_params)\u001b[0m\n\u001b[1;32m    348\u001b[0m             \u001b[0mThis\u001b[0m \u001b[0mestimator\u001b[0m\u001b[0;34m\u001b[0m\u001b[0;34m\u001b[0m\u001b[0m\n\u001b[1;32m    349\u001b[0m         \"\"\"\n\u001b[0;32m--> 350\u001b[0;31m         \u001b[0mXt\u001b[0m\u001b[0;34m,\u001b[0m \u001b[0mfit_params\u001b[0m \u001b[0;34m=\u001b[0m \u001b[0mself\u001b[0m\u001b[0;34m.\u001b[0m\u001b[0m_fit\u001b[0m\u001b[0;34m(\u001b[0m\u001b[0mX\u001b[0m\u001b[0;34m,\u001b[0m \u001b[0my\u001b[0m\u001b[0;34m,\u001b[0m \u001b[0;34m**\u001b[0m\u001b[0mfit_params\u001b[0m\u001b[0;34m)\u001b[0m\u001b[0;34m\u001b[0m\u001b[0;34m\u001b[0m\u001b[0m\n\u001b[0m\u001b[1;32m    351\u001b[0m         with _print_elapsed_time('Pipeline',\n\u001b[1;32m    352\u001b[0m                                  self._log_message(len(self.steps) - 1)):\n",
            "\u001b[0;32m/usr/local/lib/python3.7/dist-packages/sklearn/pipeline.py\u001b[0m in \u001b[0;36m_fit\u001b[0;34m(self, X, y, **fit_params)\u001b[0m\n\u001b[1;32m    313\u001b[0m                 \u001b[0mmessage_clsname\u001b[0m\u001b[0;34m=\u001b[0m\u001b[0;34m'Pipeline'\u001b[0m\u001b[0;34m,\u001b[0m\u001b[0;34m\u001b[0m\u001b[0;34m\u001b[0m\u001b[0m\n\u001b[1;32m    314\u001b[0m                 \u001b[0mmessage\u001b[0m\u001b[0;34m=\u001b[0m\u001b[0mself\u001b[0m\u001b[0;34m.\u001b[0m\u001b[0m_log_message\u001b[0m\u001b[0;34m(\u001b[0m\u001b[0mstep_idx\u001b[0m\u001b[0;34m)\u001b[0m\u001b[0;34m,\u001b[0m\u001b[0;34m\u001b[0m\u001b[0;34m\u001b[0m\u001b[0m\n\u001b[0;32m--> 315\u001b[0;31m                 **fit_params_steps[name])\n\u001b[0m\u001b[1;32m    316\u001b[0m             \u001b[0;31m# Replace the transformer of the step with the fitted\u001b[0m\u001b[0;34m\u001b[0m\u001b[0;34m\u001b[0m\u001b[0;34m\u001b[0m\u001b[0m\n\u001b[1;32m    317\u001b[0m             \u001b[0;31m# transformer. This is necessary when loading the transformer\u001b[0m\u001b[0;34m\u001b[0m\u001b[0;34m\u001b[0m\u001b[0;34m\u001b[0m\u001b[0m\n",
            "\u001b[0;32m/usr/local/lib/python3.7/dist-packages/joblib/memory.py\u001b[0m in \u001b[0;36m__call__\u001b[0;34m(self, *args, **kwargs)\u001b[0m\n\u001b[1;32m    350\u001b[0m \u001b[0;34m\u001b[0m\u001b[0m\n\u001b[1;32m    351\u001b[0m     \u001b[0;32mdef\u001b[0m \u001b[0m__call__\u001b[0m\u001b[0;34m(\u001b[0m\u001b[0mself\u001b[0m\u001b[0;34m,\u001b[0m \u001b[0;34m*\u001b[0m\u001b[0margs\u001b[0m\u001b[0;34m,\u001b[0m \u001b[0;34m**\u001b[0m\u001b[0mkwargs\u001b[0m\u001b[0;34m)\u001b[0m\u001b[0;34m:\u001b[0m\u001b[0;34m\u001b[0m\u001b[0;34m\u001b[0m\u001b[0m\n\u001b[0;32m--> 352\u001b[0;31m         \u001b[0;32mreturn\u001b[0m \u001b[0mself\u001b[0m\u001b[0;34m.\u001b[0m\u001b[0mfunc\u001b[0m\u001b[0;34m(\u001b[0m\u001b[0;34m*\u001b[0m\u001b[0margs\u001b[0m\u001b[0;34m,\u001b[0m \u001b[0;34m**\u001b[0m\u001b[0mkwargs\u001b[0m\u001b[0;34m)\u001b[0m\u001b[0;34m\u001b[0m\u001b[0;34m\u001b[0m\u001b[0m\n\u001b[0m\u001b[1;32m    353\u001b[0m \u001b[0;34m\u001b[0m\u001b[0m\n\u001b[1;32m    354\u001b[0m     \u001b[0;32mdef\u001b[0m \u001b[0mcall_and_shelve\u001b[0m\u001b[0;34m(\u001b[0m\u001b[0mself\u001b[0m\u001b[0;34m,\u001b[0m \u001b[0;34m*\u001b[0m\u001b[0margs\u001b[0m\u001b[0;34m,\u001b[0m \u001b[0;34m**\u001b[0m\u001b[0mkwargs\u001b[0m\u001b[0;34m)\u001b[0m\u001b[0;34m:\u001b[0m\u001b[0;34m\u001b[0m\u001b[0;34m\u001b[0m\u001b[0m\n",
            "\u001b[0;32m/usr/local/lib/python3.7/dist-packages/sklearn/pipeline.py\u001b[0m in \u001b[0;36m_fit_transform_one\u001b[0;34m(transformer, X, y, weight, message_clsname, message, **fit_params)\u001b[0m\n\u001b[1;32m    726\u001b[0m     \u001b[0;32mwith\u001b[0m \u001b[0m_print_elapsed_time\u001b[0m\u001b[0;34m(\u001b[0m\u001b[0mmessage_clsname\u001b[0m\u001b[0;34m,\u001b[0m \u001b[0mmessage\u001b[0m\u001b[0;34m)\u001b[0m\u001b[0;34m:\u001b[0m\u001b[0;34m\u001b[0m\u001b[0;34m\u001b[0m\u001b[0m\n\u001b[1;32m    727\u001b[0m         \u001b[0;32mif\u001b[0m \u001b[0mhasattr\u001b[0m\u001b[0;34m(\u001b[0m\u001b[0mtransformer\u001b[0m\u001b[0;34m,\u001b[0m \u001b[0;34m'fit_transform'\u001b[0m\u001b[0;34m)\u001b[0m\u001b[0;34m:\u001b[0m\u001b[0;34m\u001b[0m\u001b[0;34m\u001b[0m\u001b[0m\n\u001b[0;32m--> 728\u001b[0;31m             \u001b[0mres\u001b[0m \u001b[0;34m=\u001b[0m \u001b[0mtransformer\u001b[0m\u001b[0;34m.\u001b[0m\u001b[0mfit_transform\u001b[0m\u001b[0;34m(\u001b[0m\u001b[0mX\u001b[0m\u001b[0;34m,\u001b[0m \u001b[0my\u001b[0m\u001b[0;34m,\u001b[0m \u001b[0;34m**\u001b[0m\u001b[0mfit_params\u001b[0m\u001b[0;34m)\u001b[0m\u001b[0;34m\u001b[0m\u001b[0;34m\u001b[0m\u001b[0m\n\u001b[0m\u001b[1;32m    729\u001b[0m         \u001b[0;32melse\u001b[0m\u001b[0;34m:\u001b[0m\u001b[0;34m\u001b[0m\u001b[0;34m\u001b[0m\u001b[0m\n\u001b[1;32m    730\u001b[0m             \u001b[0mres\u001b[0m \u001b[0;34m=\u001b[0m \u001b[0mtransformer\u001b[0m\u001b[0;34m.\u001b[0m\u001b[0mfit\u001b[0m\u001b[0;34m(\u001b[0m\u001b[0mX\u001b[0m\u001b[0;34m,\u001b[0m \u001b[0my\u001b[0m\u001b[0;34m,\u001b[0m \u001b[0;34m**\u001b[0m\u001b[0mfit_params\u001b[0m\u001b[0;34m)\u001b[0m\u001b[0;34m.\u001b[0m\u001b[0mtransform\u001b[0m\u001b[0;34m(\u001b[0m\u001b[0mX\u001b[0m\u001b[0;34m)\u001b[0m\u001b[0;34m\u001b[0m\u001b[0;34m\u001b[0m\u001b[0m\n",
            "\u001b[0;32m/usr/local/lib/python3.7/dist-packages/mlxtend/feature_selection/column_selector.py\u001b[0m in \u001b[0;36mfit_transform\u001b[0;34m(self, X, y)\u001b[0m\n\u001b[1;32m     57\u001b[0m \u001b[0;34m\u001b[0m\u001b[0m\n\u001b[1;32m     58\u001b[0m         \"\"\"\n\u001b[0;32m---> 59\u001b[0;31m         \u001b[0;32mreturn\u001b[0m \u001b[0mself\u001b[0m\u001b[0;34m.\u001b[0m\u001b[0mtransform\u001b[0m\u001b[0;34m(\u001b[0m\u001b[0mX\u001b[0m\u001b[0;34m=\u001b[0m\u001b[0mX\u001b[0m\u001b[0;34m,\u001b[0m \u001b[0my\u001b[0m\u001b[0;34m=\u001b[0m\u001b[0my\u001b[0m\u001b[0;34m)\u001b[0m\u001b[0;34m\u001b[0m\u001b[0;34m\u001b[0m\u001b[0m\n\u001b[0m\u001b[1;32m     60\u001b[0m \u001b[0;34m\u001b[0m\u001b[0m\n\u001b[1;32m     61\u001b[0m     \u001b[0;32mdef\u001b[0m \u001b[0mtransform\u001b[0m\u001b[0;34m(\u001b[0m\u001b[0mself\u001b[0m\u001b[0;34m,\u001b[0m \u001b[0mX\u001b[0m\u001b[0;34m,\u001b[0m \u001b[0my\u001b[0m\u001b[0;34m=\u001b[0m\u001b[0;32mNone\u001b[0m\u001b[0;34m)\u001b[0m\u001b[0;34m:\u001b[0m\u001b[0;34m\u001b[0m\u001b[0;34m\u001b[0m\u001b[0m\n",
            "\u001b[0;32m/usr/local/lib/python3.7/dist-packages/mlxtend/feature_selection/column_selector.py\u001b[0m in \u001b[0;36mtransform\u001b[0;34m(self, X, y)\u001b[0m\n\u001b[1;32m     80\u001b[0m             \u001b[0mt\u001b[0m \u001b[0;34m=\u001b[0m \u001b[0mX\u001b[0m\u001b[0;34m.\u001b[0m\u001b[0mloc\u001b[0m\u001b[0;34m[\u001b[0m\u001b[0;34m:\u001b[0m\u001b[0;34m,\u001b[0m \u001b[0mself\u001b[0m\u001b[0;34m.\u001b[0m\u001b[0mcols\u001b[0m\u001b[0;34m]\u001b[0m\u001b[0;34m.\u001b[0m\u001b[0mvalues\u001b[0m\u001b[0;34m\u001b[0m\u001b[0;34m\u001b[0m\u001b[0m\n\u001b[1;32m     81\u001b[0m         \u001b[0;32melse\u001b[0m\u001b[0;34m:\u001b[0m\u001b[0;34m\u001b[0m\u001b[0;34m\u001b[0m\u001b[0m\n\u001b[0;32m---> 82\u001b[0;31m             \u001b[0mt\u001b[0m \u001b[0;34m=\u001b[0m \u001b[0mX\u001b[0m\u001b[0;34m[\u001b[0m\u001b[0;34m:\u001b[0m\u001b[0;34m,\u001b[0m \u001b[0mself\u001b[0m\u001b[0;34m.\u001b[0m\u001b[0mcols\u001b[0m\u001b[0;34m]\u001b[0m\u001b[0;34m\u001b[0m\u001b[0;34m\u001b[0m\u001b[0m\n\u001b[0m\u001b[1;32m     83\u001b[0m \u001b[0;34m\u001b[0m\u001b[0m\n\u001b[1;32m     84\u001b[0m         \u001b[0;32mif\u001b[0m \u001b[0mt\u001b[0m\u001b[0;34m.\u001b[0m\u001b[0mshape\u001b[0m\u001b[0;34m[\u001b[0m\u001b[0;34m-\u001b[0m\u001b[0;36m1\u001b[0m\u001b[0;34m]\u001b[0m \u001b[0;34m==\u001b[0m \u001b[0;36m1\u001b[0m \u001b[0;32mand\u001b[0m \u001b[0mself\u001b[0m\u001b[0;34m.\u001b[0m\u001b[0mdrop_axis\u001b[0m\u001b[0;34m:\u001b[0m\u001b[0;34m\u001b[0m\u001b[0;34m\u001b[0m\u001b[0m\n",
            "\u001b[0;31mIndexError\u001b[0m: only integers, slices (`:`), ellipsis (`...`), numpy.newaxis (`None`) and integer or boolean arrays are valid indices"
          ]
        }
      ]
    },
    {
      "cell_type": "code",
      "metadata": {
        "colab": {
          "base_uri": "https://localhost:8080/"
        },
        "id": "tQRZcWlD2NCm",
        "outputId": "da96aafa-36a8-4659-9da1-56cb65b9c37b"
      },
      "source": [
        "from itertools import combinations\n",
        "\n",
        "all_comb = []\n",
        "for size in range(1, len(X.columns)):\n",
        "    all_comb += list(combinations(range(X.shape[1]), r=size))\n",
        "print(all_comb)"
      ],
      "execution_count": null,
      "outputs": [
        {
          "output_type": "stream",
          "text": [
            "[(0,), (1,), (2,), (3,), (4,), (5,), (6,), (7,), (8,), (9,), (10,), (11,), (0, 1), (0, 2), (0, 3), (0, 4), (0, 5), (0, 6), (0, 7), (0, 8), (0, 9), (0, 10), (0, 11), (1, 2), (1, 3), (1, 4), (1, 5), (1, 6), (1, 7), (1, 8), (1, 9), (1, 10), (1, 11), (2, 3), (2, 4), (2, 5), (2, 6), (2, 7), (2, 8), (2, 9), (2, 10), (2, 11), (3, 4), (3, 5), (3, 6), (3, 7), (3, 8), (3, 9), (3, 10), (3, 11), (4, 5), (4, 6), (4, 7), (4, 8), (4, 9), (4, 10), (4, 11), (5, 6), (5, 7), (5, 8), (5, 9), (5, 10), (5, 11), (6, 7), (6, 8), (6, 9), (6, 10), (6, 11), (7, 8), (7, 9), (7, 10), (7, 11), (8, 9), (8, 10), (8, 11), (9, 10), (9, 11), (10, 11), (0, 1, 2), (0, 1, 3), (0, 1, 4), (0, 1, 5), (0, 1, 6), (0, 1, 7), (0, 1, 8), (0, 1, 9), (0, 1, 10), (0, 1, 11), (0, 2, 3), (0, 2, 4), (0, 2, 5), (0, 2, 6), (0, 2, 7), (0, 2, 8), (0, 2, 9), (0, 2, 10), (0, 2, 11), (0, 3, 4), (0, 3, 5), (0, 3, 6), (0, 3, 7), (0, 3, 8), (0, 3, 9), (0, 3, 10), (0, 3, 11), (0, 4, 5), (0, 4, 6), (0, 4, 7), (0, 4, 8), (0, 4, 9), (0, 4, 10), (0, 4, 11), (0, 5, 6), (0, 5, 7), (0, 5, 8), (0, 5, 9), (0, 5, 10), (0, 5, 11), (0, 6, 7), (0, 6, 8), (0, 6, 9), (0, 6, 10), (0, 6, 11), (0, 7, 8), (0, 7, 9), (0, 7, 10), (0, 7, 11), (0, 8, 9), (0, 8, 10), (0, 8, 11), (0, 9, 10), (0, 9, 11), (0, 10, 11), (1, 2, 3), (1, 2, 4), (1, 2, 5), (1, 2, 6), (1, 2, 7), (1, 2, 8), (1, 2, 9), (1, 2, 10), (1, 2, 11), (1, 3, 4), (1, 3, 5), (1, 3, 6), (1, 3, 7), (1, 3, 8), (1, 3, 9), (1, 3, 10), (1, 3, 11), (1, 4, 5), (1, 4, 6), (1, 4, 7), (1, 4, 8), (1, 4, 9), (1, 4, 10), (1, 4, 11), (1, 5, 6), (1, 5, 7), (1, 5, 8), (1, 5, 9), (1, 5, 10), (1, 5, 11), (1, 6, 7), (1, 6, 8), (1, 6, 9), (1, 6, 10), (1, 6, 11), (1, 7, 8), (1, 7, 9), (1, 7, 10), (1, 7, 11), (1, 8, 9), (1, 8, 10), (1, 8, 11), (1, 9, 10), (1, 9, 11), (1, 10, 11), (2, 3, 4), (2, 3, 5), (2, 3, 6), (2, 3, 7), (2, 3, 8), (2, 3, 9), (2, 3, 10), (2, 3, 11), (2, 4, 5), (2, 4, 6), (2, 4, 7), (2, 4, 8), (2, 4, 9), (2, 4, 10), (2, 4, 11), (2, 5, 6), (2, 5, 7), (2, 5, 8), (2, 5, 9), (2, 5, 10), (2, 5, 11), (2, 6, 7), (2, 6, 8), (2, 6, 9), (2, 6, 10), (2, 6, 11), (2, 7, 8), (2, 7, 9), (2, 7, 10), (2, 7, 11), (2, 8, 9), (2, 8, 10), (2, 8, 11), (2, 9, 10), (2, 9, 11), (2, 10, 11), (3, 4, 5), (3, 4, 6), (3, 4, 7), (3, 4, 8), (3, 4, 9), (3, 4, 10), (3, 4, 11), (3, 5, 6), (3, 5, 7), (3, 5, 8), (3, 5, 9), (3, 5, 10), (3, 5, 11), (3, 6, 7), (3, 6, 8), (3, 6, 9), (3, 6, 10), (3, 6, 11), (3, 7, 8), (3, 7, 9), (3, 7, 10), (3, 7, 11), (3, 8, 9), (3, 8, 10), (3, 8, 11), (3, 9, 10), (3, 9, 11), (3, 10, 11), (4, 5, 6), (4, 5, 7), (4, 5, 8), (4, 5, 9), (4, 5, 10), (4, 5, 11), (4, 6, 7), (4, 6, 8), (4, 6, 9), (4, 6, 10), (4, 6, 11), (4, 7, 8), (4, 7, 9), (4, 7, 10), (4, 7, 11), (4, 8, 9), (4, 8, 10), (4, 8, 11), (4, 9, 10), (4, 9, 11), (4, 10, 11), (5, 6, 7), (5, 6, 8), (5, 6, 9), (5, 6, 10), (5, 6, 11), (5, 7, 8), (5, 7, 9), (5, 7, 10), (5, 7, 11), (5, 8, 9), (5, 8, 10), (5, 8, 11), (5, 9, 10), (5, 9, 11), (5, 10, 11), (6, 7, 8), (6, 7, 9), (6, 7, 10), (6, 7, 11), (6, 8, 9), (6, 8, 10), (6, 8, 11), (6, 9, 10), (6, 9, 11), (6, 10, 11), (7, 8, 9), (7, 8, 10), (7, 8, 11), (7, 9, 10), (7, 9, 11), (7, 10, 11), (8, 9, 10), (8, 9, 11), (8, 10, 11), (9, 10, 11), (0, 1, 2, 3), (0, 1, 2, 4), (0, 1, 2, 5), (0, 1, 2, 6), (0, 1, 2, 7), (0, 1, 2, 8), (0, 1, 2, 9), (0, 1, 2, 10), (0, 1, 2, 11), (0, 1, 3, 4), (0, 1, 3, 5), (0, 1, 3, 6), (0, 1, 3, 7), (0, 1, 3, 8), (0, 1, 3, 9), (0, 1, 3, 10), (0, 1, 3, 11), (0, 1, 4, 5), (0, 1, 4, 6), (0, 1, 4, 7), (0, 1, 4, 8), (0, 1, 4, 9), (0, 1, 4, 10), (0, 1, 4, 11), (0, 1, 5, 6), (0, 1, 5, 7), (0, 1, 5, 8), (0, 1, 5, 9), (0, 1, 5, 10), (0, 1, 5, 11), (0, 1, 6, 7), (0, 1, 6, 8), (0, 1, 6, 9), (0, 1, 6, 10), (0, 1, 6, 11), (0, 1, 7, 8), (0, 1, 7, 9), (0, 1, 7, 10), (0, 1, 7, 11), (0, 1, 8, 9), (0, 1, 8, 10), (0, 1, 8, 11), (0, 1, 9, 10), (0, 1, 9, 11), (0, 1, 10, 11), (0, 2, 3, 4), (0, 2, 3, 5), (0, 2, 3, 6), (0, 2, 3, 7), (0, 2, 3, 8), (0, 2, 3, 9), (0, 2, 3, 10), (0, 2, 3, 11), (0, 2, 4, 5), (0, 2, 4, 6), (0, 2, 4, 7), (0, 2, 4, 8), (0, 2, 4, 9), (0, 2, 4, 10), (0, 2, 4, 11), (0, 2, 5, 6), (0, 2, 5, 7), (0, 2, 5, 8), (0, 2, 5, 9), (0, 2, 5, 10), (0, 2, 5, 11), (0, 2, 6, 7), (0, 2, 6, 8), (0, 2, 6, 9), (0, 2, 6, 10), (0, 2, 6, 11), (0, 2, 7, 8), (0, 2, 7, 9), (0, 2, 7, 10), (0, 2, 7, 11), (0, 2, 8, 9), (0, 2, 8, 10), (0, 2, 8, 11), (0, 2, 9, 10), (0, 2, 9, 11), (0, 2, 10, 11), (0, 3, 4, 5), (0, 3, 4, 6), (0, 3, 4, 7), (0, 3, 4, 8), (0, 3, 4, 9), (0, 3, 4, 10), (0, 3, 4, 11), (0, 3, 5, 6), (0, 3, 5, 7), (0, 3, 5, 8), (0, 3, 5, 9), (0, 3, 5, 10), (0, 3, 5, 11), (0, 3, 6, 7), (0, 3, 6, 8), (0, 3, 6, 9), (0, 3, 6, 10), (0, 3, 6, 11), (0, 3, 7, 8), (0, 3, 7, 9), (0, 3, 7, 10), (0, 3, 7, 11), (0, 3, 8, 9), (0, 3, 8, 10), (0, 3, 8, 11), (0, 3, 9, 10), (0, 3, 9, 11), (0, 3, 10, 11), (0, 4, 5, 6), (0, 4, 5, 7), (0, 4, 5, 8), (0, 4, 5, 9), (0, 4, 5, 10), (0, 4, 5, 11), (0, 4, 6, 7), (0, 4, 6, 8), (0, 4, 6, 9), (0, 4, 6, 10), (0, 4, 6, 11), (0, 4, 7, 8), (0, 4, 7, 9), (0, 4, 7, 10), (0, 4, 7, 11), (0, 4, 8, 9), (0, 4, 8, 10), (0, 4, 8, 11), (0, 4, 9, 10), (0, 4, 9, 11), (0, 4, 10, 11), (0, 5, 6, 7), (0, 5, 6, 8), (0, 5, 6, 9), (0, 5, 6, 10), (0, 5, 6, 11), (0, 5, 7, 8), (0, 5, 7, 9), (0, 5, 7, 10), (0, 5, 7, 11), (0, 5, 8, 9), (0, 5, 8, 10), (0, 5, 8, 11), (0, 5, 9, 10), (0, 5, 9, 11), (0, 5, 10, 11), (0, 6, 7, 8), (0, 6, 7, 9), (0, 6, 7, 10), (0, 6, 7, 11), (0, 6, 8, 9), (0, 6, 8, 10), (0, 6, 8, 11), (0, 6, 9, 10), (0, 6, 9, 11), (0, 6, 10, 11), (0, 7, 8, 9), (0, 7, 8, 10), (0, 7, 8, 11), (0, 7, 9, 10), (0, 7, 9, 11), (0, 7, 10, 11), (0, 8, 9, 10), (0, 8, 9, 11), (0, 8, 10, 11), (0, 9, 10, 11), (1, 2, 3, 4), (1, 2, 3, 5), (1, 2, 3, 6), (1, 2, 3, 7), (1, 2, 3, 8), (1, 2, 3, 9), (1, 2, 3, 10), (1, 2, 3, 11), (1, 2, 4, 5), (1, 2, 4, 6), (1, 2, 4, 7), (1, 2, 4, 8), (1, 2, 4, 9), (1, 2, 4, 10), (1, 2, 4, 11), (1, 2, 5, 6), (1, 2, 5, 7), (1, 2, 5, 8), (1, 2, 5, 9), (1, 2, 5, 10), (1, 2, 5, 11), (1, 2, 6, 7), (1, 2, 6, 8), (1, 2, 6, 9), (1, 2, 6, 10), (1, 2, 6, 11), (1, 2, 7, 8), (1, 2, 7, 9), (1, 2, 7, 10), (1, 2, 7, 11), (1, 2, 8, 9), (1, 2, 8, 10), (1, 2, 8, 11), (1, 2, 9, 10), (1, 2, 9, 11), (1, 2, 10, 11), (1, 3, 4, 5), (1, 3, 4, 6), (1, 3, 4, 7), (1, 3, 4, 8), (1, 3, 4, 9), (1, 3, 4, 10), (1, 3, 4, 11), (1, 3, 5, 6), (1, 3, 5, 7), (1, 3, 5, 8), (1, 3, 5, 9), (1, 3, 5, 10), (1, 3, 5, 11), (1, 3, 6, 7), (1, 3, 6, 8), (1, 3, 6, 9), (1, 3, 6, 10), (1, 3, 6, 11), (1, 3, 7, 8), (1, 3, 7, 9), (1, 3, 7, 10), (1, 3, 7, 11), (1, 3, 8, 9), (1, 3, 8, 10), (1, 3, 8, 11), (1, 3, 9, 10), (1, 3, 9, 11), (1, 3, 10, 11), (1, 4, 5, 6), (1, 4, 5, 7), (1, 4, 5, 8), (1, 4, 5, 9), (1, 4, 5, 10), (1, 4, 5, 11), (1, 4, 6, 7), (1, 4, 6, 8), (1, 4, 6, 9), (1, 4, 6, 10), (1, 4, 6, 11), (1, 4, 7, 8), (1, 4, 7, 9), (1, 4, 7, 10), (1, 4, 7, 11), (1, 4, 8, 9), (1, 4, 8, 10), (1, 4, 8, 11), (1, 4, 9, 10), (1, 4, 9, 11), (1, 4, 10, 11), (1, 5, 6, 7), (1, 5, 6, 8), (1, 5, 6, 9), (1, 5, 6, 10), (1, 5, 6, 11), (1, 5, 7, 8), (1, 5, 7, 9), (1, 5, 7, 10), (1, 5, 7, 11), (1, 5, 8, 9), (1, 5, 8, 10), (1, 5, 8, 11), (1, 5, 9, 10), (1, 5, 9, 11), (1, 5, 10, 11), (1, 6, 7, 8), (1, 6, 7, 9), (1, 6, 7, 10), (1, 6, 7, 11), (1, 6, 8, 9), (1, 6, 8, 10), (1, 6, 8, 11), (1, 6, 9, 10), (1, 6, 9, 11), (1, 6, 10, 11), (1, 7, 8, 9), (1, 7, 8, 10), (1, 7, 8, 11), (1, 7, 9, 10), (1, 7, 9, 11), (1, 7, 10, 11), (1, 8, 9, 10), (1, 8, 9, 11), (1, 8, 10, 11), (1, 9, 10, 11), (2, 3, 4, 5), (2, 3, 4, 6), (2, 3, 4, 7), (2, 3, 4, 8), (2, 3, 4, 9), (2, 3, 4, 10), (2, 3, 4, 11), (2, 3, 5, 6), (2, 3, 5, 7), (2, 3, 5, 8), (2, 3, 5, 9), (2, 3, 5, 10), (2, 3, 5, 11), (2, 3, 6, 7), (2, 3, 6, 8), (2, 3, 6, 9), (2, 3, 6, 10), (2, 3, 6, 11), (2, 3, 7, 8), (2, 3, 7, 9), (2, 3, 7, 10), (2, 3, 7, 11), (2, 3, 8, 9), (2, 3, 8, 10), (2, 3, 8, 11), (2, 3, 9, 10), (2, 3, 9, 11), (2, 3, 10, 11), (2, 4, 5, 6), (2, 4, 5, 7), (2, 4, 5, 8), (2, 4, 5, 9), (2, 4, 5, 10), (2, 4, 5, 11), (2, 4, 6, 7), (2, 4, 6, 8), (2, 4, 6, 9), (2, 4, 6, 10), (2, 4, 6, 11), (2, 4, 7, 8), (2, 4, 7, 9), (2, 4, 7, 10), (2, 4, 7, 11), (2, 4, 8, 9), (2, 4, 8, 10), (2, 4, 8, 11), (2, 4, 9, 10), (2, 4, 9, 11), (2, 4, 10, 11), (2, 5, 6, 7), (2, 5, 6, 8), (2, 5, 6, 9), (2, 5, 6, 10), (2, 5, 6, 11), (2, 5, 7, 8), (2, 5, 7, 9), (2, 5, 7, 10), (2, 5, 7, 11), (2, 5, 8, 9), (2, 5, 8, 10), (2, 5, 8, 11), (2, 5, 9, 10), (2, 5, 9, 11), (2, 5, 10, 11), (2, 6, 7, 8), (2, 6, 7, 9), (2, 6, 7, 10), (2, 6, 7, 11), (2, 6, 8, 9), (2, 6, 8, 10), (2, 6, 8, 11), (2, 6, 9, 10), (2, 6, 9, 11), (2, 6, 10, 11), (2, 7, 8, 9), (2, 7, 8, 10), (2, 7, 8, 11), (2, 7, 9, 10), (2, 7, 9, 11), (2, 7, 10, 11), (2, 8, 9, 10), (2, 8, 9, 11), (2, 8, 10, 11), (2, 9, 10, 11), (3, 4, 5, 6), (3, 4, 5, 7), (3, 4, 5, 8), (3, 4, 5, 9), (3, 4, 5, 10), (3, 4, 5, 11), (3, 4, 6, 7), (3, 4, 6, 8), (3, 4, 6, 9), (3, 4, 6, 10), (3, 4, 6, 11), (3, 4, 7, 8), (3, 4, 7, 9), (3, 4, 7, 10), (3, 4, 7, 11), (3, 4, 8, 9), (3, 4, 8, 10), (3, 4, 8, 11), (3, 4, 9, 10), (3, 4, 9, 11), (3, 4, 10, 11), (3, 5, 6, 7), (3, 5, 6, 8), (3, 5, 6, 9), (3, 5, 6, 10), (3, 5, 6, 11), (3, 5, 7, 8), (3, 5, 7, 9), (3, 5, 7, 10), (3, 5, 7, 11), (3, 5, 8, 9), (3, 5, 8, 10), (3, 5, 8, 11), (3, 5, 9, 10), (3, 5, 9, 11), (3, 5, 10, 11), (3, 6, 7, 8), (3, 6, 7, 9), (3, 6, 7, 10), (3, 6, 7, 11), (3, 6, 8, 9), (3, 6, 8, 10), (3, 6, 8, 11), (3, 6, 9, 10), (3, 6, 9, 11), (3, 6, 10, 11), (3, 7, 8, 9), (3, 7, 8, 10), (3, 7, 8, 11), (3, 7, 9, 10), (3, 7, 9, 11), (3, 7, 10, 11), (3, 8, 9, 10), (3, 8, 9, 11), (3, 8, 10, 11), (3, 9, 10, 11), (4, 5, 6, 7), (4, 5, 6, 8), (4, 5, 6, 9), (4, 5, 6, 10), (4, 5, 6, 11), (4, 5, 7, 8), (4, 5, 7, 9), (4, 5, 7, 10), (4, 5, 7, 11), (4, 5, 8, 9), (4, 5, 8, 10), (4, 5, 8, 11), (4, 5, 9, 10), (4, 5, 9, 11), (4, 5, 10, 11), (4, 6, 7, 8), (4, 6, 7, 9), (4, 6, 7, 10), (4, 6, 7, 11), (4, 6, 8, 9), (4, 6, 8, 10), (4, 6, 8, 11), (4, 6, 9, 10), (4, 6, 9, 11), (4, 6, 10, 11), (4, 7, 8, 9), (4, 7, 8, 10), (4, 7, 8, 11), (4, 7, 9, 10), (4, 7, 9, 11), (4, 7, 10, 11), (4, 8, 9, 10), (4, 8, 9, 11), (4, 8, 10, 11), (4, 9, 10, 11), (5, 6, 7, 8), (5, 6, 7, 9), (5, 6, 7, 10), (5, 6, 7, 11), (5, 6, 8, 9), (5, 6, 8, 10), (5, 6, 8, 11), (5, 6, 9, 10), (5, 6, 9, 11), (5, 6, 10, 11), (5, 7, 8, 9), (5, 7, 8, 10), (5, 7, 8, 11), (5, 7, 9, 10), (5, 7, 9, 11), (5, 7, 10, 11), (5, 8, 9, 10), (5, 8, 9, 11), (5, 8, 10, 11), (5, 9, 10, 11), (6, 7, 8, 9), (6, 7, 8, 10), (6, 7, 8, 11), (6, 7, 9, 10), (6, 7, 9, 11), (6, 7, 10, 11), (6, 8, 9, 10), (6, 8, 9, 11), (6, 8, 10, 11), (6, 9, 10, 11), (7, 8, 9, 10), (7, 8, 9, 11), (7, 8, 10, 11), (7, 9, 10, 11), (8, 9, 10, 11), (0, 1, 2, 3, 4), (0, 1, 2, 3, 5), (0, 1, 2, 3, 6), (0, 1, 2, 3, 7), (0, 1, 2, 3, 8), (0, 1, 2, 3, 9), (0, 1, 2, 3, 10), (0, 1, 2, 3, 11), (0, 1, 2, 4, 5), (0, 1, 2, 4, 6), (0, 1, 2, 4, 7), (0, 1, 2, 4, 8), (0, 1, 2, 4, 9), (0, 1, 2, 4, 10), (0, 1, 2, 4, 11), (0, 1, 2, 5, 6), (0, 1, 2, 5, 7), (0, 1, 2, 5, 8), (0, 1, 2, 5, 9), (0, 1, 2, 5, 10), (0, 1, 2, 5, 11), (0, 1, 2, 6, 7), (0, 1, 2, 6, 8), (0, 1, 2, 6, 9), (0, 1, 2, 6, 10), (0, 1, 2, 6, 11), (0, 1, 2, 7, 8), (0, 1, 2, 7, 9), (0, 1, 2, 7, 10), (0, 1, 2, 7, 11), (0, 1, 2, 8, 9), (0, 1, 2, 8, 10), (0, 1, 2, 8, 11), (0, 1, 2, 9, 10), (0, 1, 2, 9, 11), (0, 1, 2, 10, 11), (0, 1, 3, 4, 5), (0, 1, 3, 4, 6), (0, 1, 3, 4, 7), (0, 1, 3, 4, 8), (0, 1, 3, 4, 9), (0, 1, 3, 4, 10), (0, 1, 3, 4, 11), (0, 1, 3, 5, 6), (0, 1, 3, 5, 7), (0, 1, 3, 5, 8), (0, 1, 3, 5, 9), (0, 1, 3, 5, 10), (0, 1, 3, 5, 11), (0, 1, 3, 6, 7), (0, 1, 3, 6, 8), (0, 1, 3, 6, 9), (0, 1, 3, 6, 10), (0, 1, 3, 6, 11), (0, 1, 3, 7, 8), (0, 1, 3, 7, 9), (0, 1, 3, 7, 10), (0, 1, 3, 7, 11), (0, 1, 3, 8, 9), (0, 1, 3, 8, 10), (0, 1, 3, 8, 11), (0, 1, 3, 9, 10), (0, 1, 3, 9, 11), (0, 1, 3, 10, 11), (0, 1, 4, 5, 6), (0, 1, 4, 5, 7), (0, 1, 4, 5, 8), (0, 1, 4, 5, 9), (0, 1, 4, 5, 10), (0, 1, 4, 5, 11), (0, 1, 4, 6, 7), (0, 1, 4, 6, 8), (0, 1, 4, 6, 9), (0, 1, 4, 6, 10), (0, 1, 4, 6, 11), (0, 1, 4, 7, 8), (0, 1, 4, 7, 9), (0, 1, 4, 7, 10), (0, 1, 4, 7, 11), (0, 1, 4, 8, 9), (0, 1, 4, 8, 10), (0, 1, 4, 8, 11), (0, 1, 4, 9, 10), (0, 1, 4, 9, 11), (0, 1, 4, 10, 11), (0, 1, 5, 6, 7), (0, 1, 5, 6, 8), (0, 1, 5, 6, 9), (0, 1, 5, 6, 10), (0, 1, 5, 6, 11), (0, 1, 5, 7, 8), (0, 1, 5, 7, 9), (0, 1, 5, 7, 10), (0, 1, 5, 7, 11), (0, 1, 5, 8, 9), (0, 1, 5, 8, 10), (0, 1, 5, 8, 11), (0, 1, 5, 9, 10), (0, 1, 5, 9, 11), (0, 1, 5, 10, 11), (0, 1, 6, 7, 8), (0, 1, 6, 7, 9), (0, 1, 6, 7, 10), (0, 1, 6, 7, 11), (0, 1, 6, 8, 9), (0, 1, 6, 8, 10), (0, 1, 6, 8, 11), (0, 1, 6, 9, 10), (0, 1, 6, 9, 11), (0, 1, 6, 10, 11), (0, 1, 7, 8, 9), (0, 1, 7, 8, 10), (0, 1, 7, 8, 11), (0, 1, 7, 9, 10), (0, 1, 7, 9, 11), (0, 1, 7, 10, 11), (0, 1, 8, 9, 10), (0, 1, 8, 9, 11), (0, 1, 8, 10, 11), (0, 1, 9, 10, 11), (0, 2, 3, 4, 5), (0, 2, 3, 4, 6), (0, 2, 3, 4, 7), (0, 2, 3, 4, 8), (0, 2, 3, 4, 9), (0, 2, 3, 4, 10), (0, 2, 3, 4, 11), (0, 2, 3, 5, 6), (0, 2, 3, 5, 7), (0, 2, 3, 5, 8), (0, 2, 3, 5, 9), (0, 2, 3, 5, 10), (0, 2, 3, 5, 11), (0, 2, 3, 6, 7), (0, 2, 3, 6, 8), (0, 2, 3, 6, 9), (0, 2, 3, 6, 10), (0, 2, 3, 6, 11), (0, 2, 3, 7, 8), (0, 2, 3, 7, 9), (0, 2, 3, 7, 10), (0, 2, 3, 7, 11), (0, 2, 3, 8, 9), (0, 2, 3, 8, 10), (0, 2, 3, 8, 11), (0, 2, 3, 9, 10), (0, 2, 3, 9, 11), (0, 2, 3, 10, 11), (0, 2, 4, 5, 6), (0, 2, 4, 5, 7), (0, 2, 4, 5, 8), (0, 2, 4, 5, 9), (0, 2, 4, 5, 10), (0, 2, 4, 5, 11), (0, 2, 4, 6, 7), (0, 2, 4, 6, 8), (0, 2, 4, 6, 9), (0, 2, 4, 6, 10), (0, 2, 4, 6, 11), (0, 2, 4, 7, 8), (0, 2, 4, 7, 9), (0, 2, 4, 7, 10), (0, 2, 4, 7, 11), (0, 2, 4, 8, 9), (0, 2, 4, 8, 10), (0, 2, 4, 8, 11), (0, 2, 4, 9, 10), (0, 2, 4, 9, 11), (0, 2, 4, 10, 11), (0, 2, 5, 6, 7), (0, 2, 5, 6, 8), (0, 2, 5, 6, 9), (0, 2, 5, 6, 10), (0, 2, 5, 6, 11), (0, 2, 5, 7, 8), (0, 2, 5, 7, 9), (0, 2, 5, 7, 10), (0, 2, 5, 7, 11), (0, 2, 5, 8, 9), (0, 2, 5, 8, 10), (0, 2, 5, 8, 11), (0, 2, 5, 9, 10), (0, 2, 5, 9, 11), (0, 2, 5, 10, 11), (0, 2, 6, 7, 8), (0, 2, 6, 7, 9), (0, 2, 6, 7, 10), (0, 2, 6, 7, 11), (0, 2, 6, 8, 9), (0, 2, 6, 8, 10), (0, 2, 6, 8, 11), (0, 2, 6, 9, 10), (0, 2, 6, 9, 11), (0, 2, 6, 10, 11), (0, 2, 7, 8, 9), (0, 2, 7, 8, 10), (0, 2, 7, 8, 11), (0, 2, 7, 9, 10), (0, 2, 7, 9, 11), (0, 2, 7, 10, 11), (0, 2, 8, 9, 10), (0, 2, 8, 9, 11), (0, 2, 8, 10, 11), (0, 2, 9, 10, 11), (0, 3, 4, 5, 6), (0, 3, 4, 5, 7), (0, 3, 4, 5, 8), (0, 3, 4, 5, 9), (0, 3, 4, 5, 10), (0, 3, 4, 5, 11), (0, 3, 4, 6, 7), (0, 3, 4, 6, 8), (0, 3, 4, 6, 9), (0, 3, 4, 6, 10), (0, 3, 4, 6, 11), (0, 3, 4, 7, 8), (0, 3, 4, 7, 9), (0, 3, 4, 7, 10), (0, 3, 4, 7, 11), (0, 3, 4, 8, 9), (0, 3, 4, 8, 10), (0, 3, 4, 8, 11), (0, 3, 4, 9, 10), (0, 3, 4, 9, 11), (0, 3, 4, 10, 11), (0, 3, 5, 6, 7), (0, 3, 5, 6, 8), (0, 3, 5, 6, 9), (0, 3, 5, 6, 10), (0, 3, 5, 6, 11), (0, 3, 5, 7, 8), (0, 3, 5, 7, 9), (0, 3, 5, 7, 10), (0, 3, 5, 7, 11), (0, 3, 5, 8, 9), (0, 3, 5, 8, 10), (0, 3, 5, 8, 11), (0, 3, 5, 9, 10), (0, 3, 5, 9, 11), (0, 3, 5, 10, 11), (0, 3, 6, 7, 8), (0, 3, 6, 7, 9), (0, 3, 6, 7, 10), (0, 3, 6, 7, 11), (0, 3, 6, 8, 9), (0, 3, 6, 8, 10), (0, 3, 6, 8, 11), (0, 3, 6, 9, 10), (0, 3, 6, 9, 11), (0, 3, 6, 10, 11), (0, 3, 7, 8, 9), (0, 3, 7, 8, 10), (0, 3, 7, 8, 11), (0, 3, 7, 9, 10), (0, 3, 7, 9, 11), (0, 3, 7, 10, 11), (0, 3, 8, 9, 10), (0, 3, 8, 9, 11), (0, 3, 8, 10, 11), (0, 3, 9, 10, 11), (0, 4, 5, 6, 7), (0, 4, 5, 6, 8), (0, 4, 5, 6, 9), (0, 4, 5, 6, 10), (0, 4, 5, 6, 11), (0, 4, 5, 7, 8), (0, 4, 5, 7, 9), (0, 4, 5, 7, 10), (0, 4, 5, 7, 11), (0, 4, 5, 8, 9), (0, 4, 5, 8, 10), (0, 4, 5, 8, 11), (0, 4, 5, 9, 10), (0, 4, 5, 9, 11), (0, 4, 5, 10, 11), (0, 4, 6, 7, 8), (0, 4, 6, 7, 9), (0, 4, 6, 7, 10), (0, 4, 6, 7, 11), (0, 4, 6, 8, 9), (0, 4, 6, 8, 10), (0, 4, 6, 8, 11), (0, 4, 6, 9, 10), (0, 4, 6, 9, 11), (0, 4, 6, 10, 11), (0, 4, 7, 8, 9), (0, 4, 7, 8, 10), (0, 4, 7, 8, 11), (0, 4, 7, 9, 10), (0, 4, 7, 9, 11), (0, 4, 7, 10, 11), (0, 4, 8, 9, 10), (0, 4, 8, 9, 11), (0, 4, 8, 10, 11), (0, 4, 9, 10, 11), (0, 5, 6, 7, 8), (0, 5, 6, 7, 9), (0, 5, 6, 7, 10), (0, 5, 6, 7, 11), (0, 5, 6, 8, 9), (0, 5, 6, 8, 10), (0, 5, 6, 8, 11), (0, 5, 6, 9, 10), (0, 5, 6, 9, 11), (0, 5, 6, 10, 11), (0, 5, 7, 8, 9), (0, 5, 7, 8, 10), (0, 5, 7, 8, 11), (0, 5, 7, 9, 10), (0, 5, 7, 9, 11), (0, 5, 7, 10, 11), (0, 5, 8, 9, 10), (0, 5, 8, 9, 11), (0, 5, 8, 10, 11), (0, 5, 9, 10, 11), (0, 6, 7, 8, 9), (0, 6, 7, 8, 10), (0, 6, 7, 8, 11), (0, 6, 7, 9, 10), (0, 6, 7, 9, 11), (0, 6, 7, 10, 11), (0, 6, 8, 9, 10), (0, 6, 8, 9, 11), (0, 6, 8, 10, 11), (0, 6, 9, 10, 11), (0, 7, 8, 9, 10), (0, 7, 8, 9, 11), (0, 7, 8, 10, 11), (0, 7, 9, 10, 11), (0, 8, 9, 10, 11), (1, 2, 3, 4, 5), (1, 2, 3, 4, 6), (1, 2, 3, 4, 7), (1, 2, 3, 4, 8), (1, 2, 3, 4, 9), (1, 2, 3, 4, 10), (1, 2, 3, 4, 11), (1, 2, 3, 5, 6), (1, 2, 3, 5, 7), (1, 2, 3, 5, 8), (1, 2, 3, 5, 9), (1, 2, 3, 5, 10), (1, 2, 3, 5, 11), (1, 2, 3, 6, 7), (1, 2, 3, 6, 8), (1, 2, 3, 6, 9), (1, 2, 3, 6, 10), (1, 2, 3, 6, 11), (1, 2, 3, 7, 8), (1, 2, 3, 7, 9), (1, 2, 3, 7, 10), (1, 2, 3, 7, 11), (1, 2, 3, 8, 9), (1, 2, 3, 8, 10), (1, 2, 3, 8, 11), (1, 2, 3, 9, 10), (1, 2, 3, 9, 11), (1, 2, 3, 10, 11), (1, 2, 4, 5, 6), (1, 2, 4, 5, 7), (1, 2, 4, 5, 8), (1, 2, 4, 5, 9), (1, 2, 4, 5, 10), (1, 2, 4, 5, 11), (1, 2, 4, 6, 7), (1, 2, 4, 6, 8), (1, 2, 4, 6, 9), (1, 2, 4, 6, 10), (1, 2, 4, 6, 11), (1, 2, 4, 7, 8), (1, 2, 4, 7, 9), (1, 2, 4, 7, 10), (1, 2, 4, 7, 11), (1, 2, 4, 8, 9), (1, 2, 4, 8, 10), (1, 2, 4, 8, 11), (1, 2, 4, 9, 10), (1, 2, 4, 9, 11), (1, 2, 4, 10, 11), (1, 2, 5, 6, 7), (1, 2, 5, 6, 8), (1, 2, 5, 6, 9), (1, 2, 5, 6, 10), (1, 2, 5, 6, 11), (1, 2, 5, 7, 8), (1, 2, 5, 7, 9), (1, 2, 5, 7, 10), (1, 2, 5, 7, 11), (1, 2, 5, 8, 9), (1, 2, 5, 8, 10), (1, 2, 5, 8, 11), (1, 2, 5, 9, 10), (1, 2, 5, 9, 11), (1, 2, 5, 10, 11), (1, 2, 6, 7, 8), (1, 2, 6, 7, 9), (1, 2, 6, 7, 10), (1, 2, 6, 7, 11), (1, 2, 6, 8, 9), (1, 2, 6, 8, 10), (1, 2, 6, 8, 11), (1, 2, 6, 9, 10), (1, 2, 6, 9, 11), (1, 2, 6, 10, 11), (1, 2, 7, 8, 9), (1, 2, 7, 8, 10), (1, 2, 7, 8, 11), (1, 2, 7, 9, 10), (1, 2, 7, 9, 11), (1, 2, 7, 10, 11), (1, 2, 8, 9, 10), (1, 2, 8, 9, 11), (1, 2, 8, 10, 11), (1, 2, 9, 10, 11), (1, 3, 4, 5, 6), (1, 3, 4, 5, 7), (1, 3, 4, 5, 8), (1, 3, 4, 5, 9), (1, 3, 4, 5, 10), (1, 3, 4, 5, 11), (1, 3, 4, 6, 7), (1, 3, 4, 6, 8), (1, 3, 4, 6, 9), (1, 3, 4, 6, 10), (1, 3, 4, 6, 11), (1, 3, 4, 7, 8), (1, 3, 4, 7, 9), (1, 3, 4, 7, 10), (1, 3, 4, 7, 11), (1, 3, 4, 8, 9), (1, 3, 4, 8, 10), (1, 3, 4, 8, 11), (1, 3, 4, 9, 10), (1, 3, 4, 9, 11), (1, 3, 4, 10, 11), (1, 3, 5, 6, 7), (1, 3, 5, 6, 8), (1, 3, 5, 6, 9), (1, 3, 5, 6, 10), (1, 3, 5, 6, 11), (1, 3, 5, 7, 8), (1, 3, 5, 7, 9), (1, 3, 5, 7, 10), (1, 3, 5, 7, 11), (1, 3, 5, 8, 9), (1, 3, 5, 8, 10), (1, 3, 5, 8, 11), (1, 3, 5, 9, 10), (1, 3, 5, 9, 11), (1, 3, 5, 10, 11), (1, 3, 6, 7, 8), (1, 3, 6, 7, 9), (1, 3, 6, 7, 10), (1, 3, 6, 7, 11), (1, 3, 6, 8, 9), (1, 3, 6, 8, 10), (1, 3, 6, 8, 11), (1, 3, 6, 9, 10), (1, 3, 6, 9, 11), (1, 3, 6, 10, 11), (1, 3, 7, 8, 9), (1, 3, 7, 8, 10), (1, 3, 7, 8, 11), (1, 3, 7, 9, 10), (1, 3, 7, 9, 11), (1, 3, 7, 10, 11), (1, 3, 8, 9, 10), (1, 3, 8, 9, 11), (1, 3, 8, 10, 11), (1, 3, 9, 10, 11), (1, 4, 5, 6, 7), (1, 4, 5, 6, 8), (1, 4, 5, 6, 9), (1, 4, 5, 6, 10), (1, 4, 5, 6, 11), (1, 4, 5, 7, 8), (1, 4, 5, 7, 9), (1, 4, 5, 7, 10), (1, 4, 5, 7, 11), (1, 4, 5, 8, 9), (1, 4, 5, 8, 10), (1, 4, 5, 8, 11), (1, 4, 5, 9, 10), (1, 4, 5, 9, 11), (1, 4, 5, 10, 11), (1, 4, 6, 7, 8), (1, 4, 6, 7, 9), (1, 4, 6, 7, 10), (1, 4, 6, 7, 11), (1, 4, 6, 8, 9), (1, 4, 6, 8, 10), (1, 4, 6, 8, 11), (1, 4, 6, 9, 10), (1, 4, 6, 9, 11), (1, 4, 6, 10, 11), (1, 4, 7, 8, 9), (1, 4, 7, 8, 10), (1, 4, 7, 8, 11), (1, 4, 7, 9, 10), (1, 4, 7, 9, 11), (1, 4, 7, 10, 11), (1, 4, 8, 9, 10), (1, 4, 8, 9, 11), (1, 4, 8, 10, 11), (1, 4, 9, 10, 11), (1, 5, 6, 7, 8), (1, 5, 6, 7, 9), (1, 5, 6, 7, 10), (1, 5, 6, 7, 11), (1, 5, 6, 8, 9), (1, 5, 6, 8, 10), (1, 5, 6, 8, 11), (1, 5, 6, 9, 10), (1, 5, 6, 9, 11), (1, 5, 6, 10, 11), (1, 5, 7, 8, 9), (1, 5, 7, 8, 10), (1, 5, 7, 8, 11), (1, 5, 7, 9, 10), (1, 5, 7, 9, 11), (1, 5, 7, 10, 11), (1, 5, 8, 9, 10), (1, 5, 8, 9, 11), (1, 5, 8, 10, 11), (1, 5, 9, 10, 11), (1, 6, 7, 8, 9), (1, 6, 7, 8, 10), (1, 6, 7, 8, 11), (1, 6, 7, 9, 10), (1, 6, 7, 9, 11), (1, 6, 7, 10, 11), (1, 6, 8, 9, 10), (1, 6, 8, 9, 11), (1, 6, 8, 10, 11), (1, 6, 9, 10, 11), (1, 7, 8, 9, 10), (1, 7, 8, 9, 11), (1, 7, 8, 10, 11), (1, 7, 9, 10, 11), (1, 8, 9, 10, 11), (2, 3, 4, 5, 6), (2, 3, 4, 5, 7), (2, 3, 4, 5, 8), (2, 3, 4, 5, 9), (2, 3, 4, 5, 10), (2, 3, 4, 5, 11), (2, 3, 4, 6, 7), (2, 3, 4, 6, 8), (2, 3, 4, 6, 9), (2, 3, 4, 6, 10), (2, 3, 4, 6, 11), (2, 3, 4, 7, 8), (2, 3, 4, 7, 9), (2, 3, 4, 7, 10), (2, 3, 4, 7, 11), (2, 3, 4, 8, 9), (2, 3, 4, 8, 10), (2, 3, 4, 8, 11), (2, 3, 4, 9, 10), (2, 3, 4, 9, 11), (2, 3, 4, 10, 11), (2, 3, 5, 6, 7), (2, 3, 5, 6, 8), (2, 3, 5, 6, 9), (2, 3, 5, 6, 10), (2, 3, 5, 6, 11), (2, 3, 5, 7, 8), (2, 3, 5, 7, 9), (2, 3, 5, 7, 10), (2, 3, 5, 7, 11), (2, 3, 5, 8, 9), (2, 3, 5, 8, 10), (2, 3, 5, 8, 11), (2, 3, 5, 9, 10), (2, 3, 5, 9, 11), (2, 3, 5, 10, 11), (2, 3, 6, 7, 8), (2, 3, 6, 7, 9), (2, 3, 6, 7, 10), (2, 3, 6, 7, 11), (2, 3, 6, 8, 9), (2, 3, 6, 8, 10), (2, 3, 6, 8, 11), (2, 3, 6, 9, 10), (2, 3, 6, 9, 11), (2, 3, 6, 10, 11), (2, 3, 7, 8, 9), (2, 3, 7, 8, 10), (2, 3, 7, 8, 11), (2, 3, 7, 9, 10), (2, 3, 7, 9, 11), (2, 3, 7, 10, 11), (2, 3, 8, 9, 10), (2, 3, 8, 9, 11), (2, 3, 8, 10, 11), (2, 3, 9, 10, 11), (2, 4, 5, 6, 7), (2, 4, 5, 6, 8), (2, 4, 5, 6, 9), (2, 4, 5, 6, 10), (2, 4, 5, 6, 11), (2, 4, 5, 7, 8), (2, 4, 5, 7, 9), (2, 4, 5, 7, 10), (2, 4, 5, 7, 11), (2, 4, 5, 8, 9), (2, 4, 5, 8, 10), (2, 4, 5, 8, 11), (2, 4, 5, 9, 10), (2, 4, 5, 9, 11), (2, 4, 5, 10, 11), (2, 4, 6, 7, 8), (2, 4, 6, 7, 9), (2, 4, 6, 7, 10), (2, 4, 6, 7, 11), (2, 4, 6, 8, 9), (2, 4, 6, 8, 10), (2, 4, 6, 8, 11), (2, 4, 6, 9, 10), (2, 4, 6, 9, 11), (2, 4, 6, 10, 11), (2, 4, 7, 8, 9), (2, 4, 7, 8, 10), (2, 4, 7, 8, 11), (2, 4, 7, 9, 10), (2, 4, 7, 9, 11), (2, 4, 7, 10, 11), (2, 4, 8, 9, 10), (2, 4, 8, 9, 11), (2, 4, 8, 10, 11), (2, 4, 9, 10, 11), (2, 5, 6, 7, 8), (2, 5, 6, 7, 9), (2, 5, 6, 7, 10), (2, 5, 6, 7, 11), (2, 5, 6, 8, 9), (2, 5, 6, 8, 10), (2, 5, 6, 8, 11), (2, 5, 6, 9, 10), (2, 5, 6, 9, 11), (2, 5, 6, 10, 11), (2, 5, 7, 8, 9), (2, 5, 7, 8, 10), (2, 5, 7, 8, 11), (2, 5, 7, 9, 10), (2, 5, 7, 9, 11), (2, 5, 7, 10, 11), (2, 5, 8, 9, 10), (2, 5, 8, 9, 11), (2, 5, 8, 10, 11), (2, 5, 9, 10, 11), (2, 6, 7, 8, 9), (2, 6, 7, 8, 10), (2, 6, 7, 8, 11), (2, 6, 7, 9, 10), (2, 6, 7, 9, 11), (2, 6, 7, 10, 11), (2, 6, 8, 9, 10), (2, 6, 8, 9, 11), (2, 6, 8, 10, 11), (2, 6, 9, 10, 11), (2, 7, 8, 9, 10), (2, 7, 8, 9, 11), (2, 7, 8, 10, 11), (2, 7, 9, 10, 11), (2, 8, 9, 10, 11), (3, 4, 5, 6, 7), (3, 4, 5, 6, 8), (3, 4, 5, 6, 9), (3, 4, 5, 6, 10), (3, 4, 5, 6, 11), (3, 4, 5, 7, 8), (3, 4, 5, 7, 9), (3, 4, 5, 7, 10), (3, 4, 5, 7, 11), (3, 4, 5, 8, 9), (3, 4, 5, 8, 10), (3, 4, 5, 8, 11), (3, 4, 5, 9, 10), (3, 4, 5, 9, 11), (3, 4, 5, 10, 11), (3, 4, 6, 7, 8), (3, 4, 6, 7, 9), (3, 4, 6, 7, 10), (3, 4, 6, 7, 11), (3, 4, 6, 8, 9), (3, 4, 6, 8, 10), (3, 4, 6, 8, 11), (3, 4, 6, 9, 10), (3, 4, 6, 9, 11), (3, 4, 6, 10, 11), (3, 4, 7, 8, 9), (3, 4, 7, 8, 10), (3, 4, 7, 8, 11), (3, 4, 7, 9, 10), (3, 4, 7, 9, 11), (3, 4, 7, 10, 11), (3, 4, 8, 9, 10), (3, 4, 8, 9, 11), (3, 4, 8, 10, 11), (3, 4, 9, 10, 11), (3, 5, 6, 7, 8), (3, 5, 6, 7, 9), (3, 5, 6, 7, 10), (3, 5, 6, 7, 11), (3, 5, 6, 8, 9), (3, 5, 6, 8, 10), (3, 5, 6, 8, 11), (3, 5, 6, 9, 10), (3, 5, 6, 9, 11), (3, 5, 6, 10, 11), (3, 5, 7, 8, 9), (3, 5, 7, 8, 10), (3, 5, 7, 8, 11), (3, 5, 7, 9, 10), (3, 5, 7, 9, 11), (3, 5, 7, 10, 11), (3, 5, 8, 9, 10), (3, 5, 8, 9, 11), (3, 5, 8, 10, 11), (3, 5, 9, 10, 11), (3, 6, 7, 8, 9), (3, 6, 7, 8, 10), (3, 6, 7, 8, 11), (3, 6, 7, 9, 10), (3, 6, 7, 9, 11), (3, 6, 7, 10, 11), (3, 6, 8, 9, 10), (3, 6, 8, 9, 11), (3, 6, 8, 10, 11), (3, 6, 9, 10, 11), (3, 7, 8, 9, 10), (3, 7, 8, 9, 11), (3, 7, 8, 10, 11), (3, 7, 9, 10, 11), (3, 8, 9, 10, 11), (4, 5, 6, 7, 8), (4, 5, 6, 7, 9), (4, 5, 6, 7, 10), (4, 5, 6, 7, 11), (4, 5, 6, 8, 9), (4, 5, 6, 8, 10), (4, 5, 6, 8, 11), (4, 5, 6, 9, 10), (4, 5, 6, 9, 11), (4, 5, 6, 10, 11), (4, 5, 7, 8, 9), (4, 5, 7, 8, 10), (4, 5, 7, 8, 11), (4, 5, 7, 9, 10), (4, 5, 7, 9, 11), (4, 5, 7, 10, 11), (4, 5, 8, 9, 10), (4, 5, 8, 9, 11), (4, 5, 8, 10, 11), (4, 5, 9, 10, 11), (4, 6, 7, 8, 9), (4, 6, 7, 8, 10), (4, 6, 7, 8, 11), (4, 6, 7, 9, 10), (4, 6, 7, 9, 11), (4, 6, 7, 10, 11), (4, 6, 8, 9, 10), (4, 6, 8, 9, 11), (4, 6, 8, 10, 11), (4, 6, 9, 10, 11), (4, 7, 8, 9, 10), (4, 7, 8, 9, 11), (4, 7, 8, 10, 11), (4, 7, 9, 10, 11), (4, 8, 9, 10, 11), (5, 6, 7, 8, 9), (5, 6, 7, 8, 10), (5, 6, 7, 8, 11), (5, 6, 7, 9, 10), (5, 6, 7, 9, 11), (5, 6, 7, 10, 11), (5, 6, 8, 9, 10), (5, 6, 8, 9, 11), (5, 6, 8, 10, 11), (5, 6, 9, 10, 11), (5, 7, 8, 9, 10), (5, 7, 8, 9, 11), (5, 7, 8, 10, 11), (5, 7, 9, 10, 11), (5, 8, 9, 10, 11), (6, 7, 8, 9, 10), (6, 7, 8, 9, 11), (6, 7, 8, 10, 11), (6, 7, 9, 10, 11), (6, 8, 9, 10, 11), (7, 8, 9, 10, 11), (0, 1, 2, 3, 4, 5), (0, 1, 2, 3, 4, 6), (0, 1, 2, 3, 4, 7), (0, 1, 2, 3, 4, 8), (0, 1, 2, 3, 4, 9), (0, 1, 2, 3, 4, 10), (0, 1, 2, 3, 4, 11), (0, 1, 2, 3, 5, 6), (0, 1, 2, 3, 5, 7), (0, 1, 2, 3, 5, 8), (0, 1, 2, 3, 5, 9), (0, 1, 2, 3, 5, 10), (0, 1, 2, 3, 5, 11), (0, 1, 2, 3, 6, 7), (0, 1, 2, 3, 6, 8), (0, 1, 2, 3, 6, 9), (0, 1, 2, 3, 6, 10), (0, 1, 2, 3, 6, 11), (0, 1, 2, 3, 7, 8), (0, 1, 2, 3, 7, 9), (0, 1, 2, 3, 7, 10), (0, 1, 2, 3, 7, 11), (0, 1, 2, 3, 8, 9), (0, 1, 2, 3, 8, 10), (0, 1, 2, 3, 8, 11), (0, 1, 2, 3, 9, 10), (0, 1, 2, 3, 9, 11), (0, 1, 2, 3, 10, 11), (0, 1, 2, 4, 5, 6), (0, 1, 2, 4, 5, 7), (0, 1, 2, 4, 5, 8), (0, 1, 2, 4, 5, 9), (0, 1, 2, 4, 5, 10), (0, 1, 2, 4, 5, 11), (0, 1, 2, 4, 6, 7), (0, 1, 2, 4, 6, 8), (0, 1, 2, 4, 6, 9), (0, 1, 2, 4, 6, 10), (0, 1, 2, 4, 6, 11), (0, 1, 2, 4, 7, 8), (0, 1, 2, 4, 7, 9), (0, 1, 2, 4, 7, 10), (0, 1, 2, 4, 7, 11), (0, 1, 2, 4, 8, 9), (0, 1, 2, 4, 8, 10), (0, 1, 2, 4, 8, 11), (0, 1, 2, 4, 9, 10), (0, 1, 2, 4, 9, 11), (0, 1, 2, 4, 10, 11), (0, 1, 2, 5, 6, 7), (0, 1, 2, 5, 6, 8), (0, 1, 2, 5, 6, 9), (0, 1, 2, 5, 6, 10), (0, 1, 2, 5, 6, 11), (0, 1, 2, 5, 7, 8), (0, 1, 2, 5, 7, 9), (0, 1, 2, 5, 7, 10), (0, 1, 2, 5, 7, 11), (0, 1, 2, 5, 8, 9), (0, 1, 2, 5, 8, 10), (0, 1, 2, 5, 8, 11), (0, 1, 2, 5, 9, 10), (0, 1, 2, 5, 9, 11), (0, 1, 2, 5, 10, 11), (0, 1, 2, 6, 7, 8), (0, 1, 2, 6, 7, 9), (0, 1, 2, 6, 7, 10), (0, 1, 2, 6, 7, 11), (0, 1, 2, 6, 8, 9), (0, 1, 2, 6, 8, 10), (0, 1, 2, 6, 8, 11), (0, 1, 2, 6, 9, 10), (0, 1, 2, 6, 9, 11), (0, 1, 2, 6, 10, 11), (0, 1, 2, 7, 8, 9), (0, 1, 2, 7, 8, 10), (0, 1, 2, 7, 8, 11), (0, 1, 2, 7, 9, 10), (0, 1, 2, 7, 9, 11), (0, 1, 2, 7, 10, 11), (0, 1, 2, 8, 9, 10), (0, 1, 2, 8, 9, 11), (0, 1, 2, 8, 10, 11), (0, 1, 2, 9, 10, 11), (0, 1, 3, 4, 5, 6), (0, 1, 3, 4, 5, 7), (0, 1, 3, 4, 5, 8), (0, 1, 3, 4, 5, 9), (0, 1, 3, 4, 5, 10), (0, 1, 3, 4, 5, 11), (0, 1, 3, 4, 6, 7), (0, 1, 3, 4, 6, 8), (0, 1, 3, 4, 6, 9), (0, 1, 3, 4, 6, 10), (0, 1, 3, 4, 6, 11), (0, 1, 3, 4, 7, 8), (0, 1, 3, 4, 7, 9), (0, 1, 3, 4, 7, 10), (0, 1, 3, 4, 7, 11), (0, 1, 3, 4, 8, 9), (0, 1, 3, 4, 8, 10), (0, 1, 3, 4, 8, 11), (0, 1, 3, 4, 9, 10), (0, 1, 3, 4, 9, 11), (0, 1, 3, 4, 10, 11), (0, 1, 3, 5, 6, 7), (0, 1, 3, 5, 6, 8), (0, 1, 3, 5, 6, 9), (0, 1, 3, 5, 6, 10), (0, 1, 3, 5, 6, 11), (0, 1, 3, 5, 7, 8), (0, 1, 3, 5, 7, 9), (0, 1, 3, 5, 7, 10), (0, 1, 3, 5, 7, 11), (0, 1, 3, 5, 8, 9), (0, 1, 3, 5, 8, 10), (0, 1, 3, 5, 8, 11), (0, 1, 3, 5, 9, 10), (0, 1, 3, 5, 9, 11), (0, 1, 3, 5, 10, 11), (0, 1, 3, 6, 7, 8), (0, 1, 3, 6, 7, 9), (0, 1, 3, 6, 7, 10), (0, 1, 3, 6, 7, 11), (0, 1, 3, 6, 8, 9), (0, 1, 3, 6, 8, 10), (0, 1, 3, 6, 8, 11), (0, 1, 3, 6, 9, 10), (0, 1, 3, 6, 9, 11), (0, 1, 3, 6, 10, 11), (0, 1, 3, 7, 8, 9), (0, 1, 3, 7, 8, 10), (0, 1, 3, 7, 8, 11), (0, 1, 3, 7, 9, 10), (0, 1, 3, 7, 9, 11), (0, 1, 3, 7, 10, 11), (0, 1, 3, 8, 9, 10), (0, 1, 3, 8, 9, 11), (0, 1, 3, 8, 10, 11), (0, 1, 3, 9, 10, 11), (0, 1, 4, 5, 6, 7), (0, 1, 4, 5, 6, 8), (0, 1, 4, 5, 6, 9), (0, 1, 4, 5, 6, 10), (0, 1, 4, 5, 6, 11), (0, 1, 4, 5, 7, 8), (0, 1, 4, 5, 7, 9), (0, 1, 4, 5, 7, 10), (0, 1, 4, 5, 7, 11), (0, 1, 4, 5, 8, 9), (0, 1, 4, 5, 8, 10), (0, 1, 4, 5, 8, 11), (0, 1, 4, 5, 9, 10), (0, 1, 4, 5, 9, 11), (0, 1, 4, 5, 10, 11), (0, 1, 4, 6, 7, 8), (0, 1, 4, 6, 7, 9), (0, 1, 4, 6, 7, 10), (0, 1, 4, 6, 7, 11), (0, 1, 4, 6, 8, 9), (0, 1, 4, 6, 8, 10), (0, 1, 4, 6, 8, 11), (0, 1, 4, 6, 9, 10), (0, 1, 4, 6, 9, 11), (0, 1, 4, 6, 10, 11), (0, 1, 4, 7, 8, 9), (0, 1, 4, 7, 8, 10), (0, 1, 4, 7, 8, 11), (0, 1, 4, 7, 9, 10), (0, 1, 4, 7, 9, 11), (0, 1, 4, 7, 10, 11), (0, 1, 4, 8, 9, 10), (0, 1, 4, 8, 9, 11), (0, 1, 4, 8, 10, 11), (0, 1, 4, 9, 10, 11), (0, 1, 5, 6, 7, 8), (0, 1, 5, 6, 7, 9), (0, 1, 5, 6, 7, 10), (0, 1, 5, 6, 7, 11), (0, 1, 5, 6, 8, 9), (0, 1, 5, 6, 8, 10), (0, 1, 5, 6, 8, 11), (0, 1, 5, 6, 9, 10), (0, 1, 5, 6, 9, 11), (0, 1, 5, 6, 10, 11), (0, 1, 5, 7, 8, 9), (0, 1, 5, 7, 8, 10), (0, 1, 5, 7, 8, 11), (0, 1, 5, 7, 9, 10), (0, 1, 5, 7, 9, 11), (0, 1, 5, 7, 10, 11), (0, 1, 5, 8, 9, 10), (0, 1, 5, 8, 9, 11), (0, 1, 5, 8, 10, 11), (0, 1, 5, 9, 10, 11), (0, 1, 6, 7, 8, 9), (0, 1, 6, 7, 8, 10), (0, 1, 6, 7, 8, 11), (0, 1, 6, 7, 9, 10), (0, 1, 6, 7, 9, 11), (0, 1, 6, 7, 10, 11), (0, 1, 6, 8, 9, 10), (0, 1, 6, 8, 9, 11), (0, 1, 6, 8, 10, 11), (0, 1, 6, 9, 10, 11), (0, 1, 7, 8, 9, 10), (0, 1, 7, 8, 9, 11), (0, 1, 7, 8, 10, 11), (0, 1, 7, 9, 10, 11), (0, 1, 8, 9, 10, 11), (0, 2, 3, 4, 5, 6), (0, 2, 3, 4, 5, 7), (0, 2, 3, 4, 5, 8), (0, 2, 3, 4, 5, 9), (0, 2, 3, 4, 5, 10), (0, 2, 3, 4, 5, 11), (0, 2, 3, 4, 6, 7), (0, 2, 3, 4, 6, 8), (0, 2, 3, 4, 6, 9), (0, 2, 3, 4, 6, 10), (0, 2, 3, 4, 6, 11), (0, 2, 3, 4, 7, 8), (0, 2, 3, 4, 7, 9), (0, 2, 3, 4, 7, 10), (0, 2, 3, 4, 7, 11), (0, 2, 3, 4, 8, 9), (0, 2, 3, 4, 8, 10), (0, 2, 3, 4, 8, 11), (0, 2, 3, 4, 9, 10), (0, 2, 3, 4, 9, 11), (0, 2, 3, 4, 10, 11), (0, 2, 3, 5, 6, 7), (0, 2, 3, 5, 6, 8), (0, 2, 3, 5, 6, 9), (0, 2, 3, 5, 6, 10), (0, 2, 3, 5, 6, 11), (0, 2, 3, 5, 7, 8), (0, 2, 3, 5, 7, 9), (0, 2, 3, 5, 7, 10), (0, 2, 3, 5, 7, 11), (0, 2, 3, 5, 8, 9), (0, 2, 3, 5, 8, 10), (0, 2, 3, 5, 8, 11), (0, 2, 3, 5, 9, 10), (0, 2, 3, 5, 9, 11), (0, 2, 3, 5, 10, 11), (0, 2, 3, 6, 7, 8), (0, 2, 3, 6, 7, 9), (0, 2, 3, 6, 7, 10), (0, 2, 3, 6, 7, 11), (0, 2, 3, 6, 8, 9), (0, 2, 3, 6, 8, 10), (0, 2, 3, 6, 8, 11), (0, 2, 3, 6, 9, 10), (0, 2, 3, 6, 9, 11), (0, 2, 3, 6, 10, 11), (0, 2, 3, 7, 8, 9), (0, 2, 3, 7, 8, 10), (0, 2, 3, 7, 8, 11), (0, 2, 3, 7, 9, 10), (0, 2, 3, 7, 9, 11), (0, 2, 3, 7, 10, 11), (0, 2, 3, 8, 9, 10), (0, 2, 3, 8, 9, 11), (0, 2, 3, 8, 10, 11), (0, 2, 3, 9, 10, 11), (0, 2, 4, 5, 6, 7), (0, 2, 4, 5, 6, 8), (0, 2, 4, 5, 6, 9), (0, 2, 4, 5, 6, 10), (0, 2, 4, 5, 6, 11), (0, 2, 4, 5, 7, 8), (0, 2, 4, 5, 7, 9), (0, 2, 4, 5, 7, 10), (0, 2, 4, 5, 7, 11), (0, 2, 4, 5, 8, 9), (0, 2, 4, 5, 8, 10), (0, 2, 4, 5, 8, 11), (0, 2, 4, 5, 9, 10), (0, 2, 4, 5, 9, 11), (0, 2, 4, 5, 10, 11), (0, 2, 4, 6, 7, 8), (0, 2, 4, 6, 7, 9), (0, 2, 4, 6, 7, 10), (0, 2, 4, 6, 7, 11), (0, 2, 4, 6, 8, 9), (0, 2, 4, 6, 8, 10), (0, 2, 4, 6, 8, 11), (0, 2, 4, 6, 9, 10), (0, 2, 4, 6, 9, 11), (0, 2, 4, 6, 10, 11), (0, 2, 4, 7, 8, 9), (0, 2, 4, 7, 8, 10), (0, 2, 4, 7, 8, 11), (0, 2, 4, 7, 9, 10), (0, 2, 4, 7, 9, 11), (0, 2, 4, 7, 10, 11), (0, 2, 4, 8, 9, 10), (0, 2, 4, 8, 9, 11), (0, 2, 4, 8, 10, 11), (0, 2, 4, 9, 10, 11), (0, 2, 5, 6, 7, 8), (0, 2, 5, 6, 7, 9), (0, 2, 5, 6, 7, 10), (0, 2, 5, 6, 7, 11), (0, 2, 5, 6, 8, 9), (0, 2, 5, 6, 8, 10), (0, 2, 5, 6, 8, 11), (0, 2, 5, 6, 9, 10), (0, 2, 5, 6, 9, 11), (0, 2, 5, 6, 10, 11), (0, 2, 5, 7, 8, 9), (0, 2, 5, 7, 8, 10), (0, 2, 5, 7, 8, 11), (0, 2, 5, 7, 9, 10), (0, 2, 5, 7, 9, 11), (0, 2, 5, 7, 10, 11), (0, 2, 5, 8, 9, 10), (0, 2, 5, 8, 9, 11), (0, 2, 5, 8, 10, 11), (0, 2, 5, 9, 10, 11), (0, 2, 6, 7, 8, 9), (0, 2, 6, 7, 8, 10), (0, 2, 6, 7, 8, 11), (0, 2, 6, 7, 9, 10), (0, 2, 6, 7, 9, 11), (0, 2, 6, 7, 10, 11), (0, 2, 6, 8, 9, 10), (0, 2, 6, 8, 9, 11), (0, 2, 6, 8, 10, 11), (0, 2, 6, 9, 10, 11), (0, 2, 7, 8, 9, 10), (0, 2, 7, 8, 9, 11), (0, 2, 7, 8, 10, 11), (0, 2, 7, 9, 10, 11), (0, 2, 8, 9, 10, 11), (0, 3, 4, 5, 6, 7), (0, 3, 4, 5, 6, 8), (0, 3, 4, 5, 6, 9), (0, 3, 4, 5, 6, 10), (0, 3, 4, 5, 6, 11), (0, 3, 4, 5, 7, 8), (0, 3, 4, 5, 7, 9), (0, 3, 4, 5, 7, 10), (0, 3, 4, 5, 7, 11), (0, 3, 4, 5, 8, 9), (0, 3, 4, 5, 8, 10), (0, 3, 4, 5, 8, 11), (0, 3, 4, 5, 9, 10), (0, 3, 4, 5, 9, 11), (0, 3, 4, 5, 10, 11), (0, 3, 4, 6, 7, 8), (0, 3, 4, 6, 7, 9), (0, 3, 4, 6, 7, 10), (0, 3, 4, 6, 7, 11), (0, 3, 4, 6, 8, 9), (0, 3, 4, 6, 8, 10), (0, 3, 4, 6, 8, 11), (0, 3, 4, 6, 9, 10), (0, 3, 4, 6, 9, 11), (0, 3, 4, 6, 10, 11), (0, 3, 4, 7, 8, 9), (0, 3, 4, 7, 8, 10), (0, 3, 4, 7, 8, 11), (0, 3, 4, 7, 9, 10), (0, 3, 4, 7, 9, 11), (0, 3, 4, 7, 10, 11), (0, 3, 4, 8, 9, 10), (0, 3, 4, 8, 9, 11), (0, 3, 4, 8, 10, 11), (0, 3, 4, 9, 10, 11), (0, 3, 5, 6, 7, 8), (0, 3, 5, 6, 7, 9), (0, 3, 5, 6, 7, 10), (0, 3, 5, 6, 7, 11), (0, 3, 5, 6, 8, 9), (0, 3, 5, 6, 8, 10), (0, 3, 5, 6, 8, 11), (0, 3, 5, 6, 9, 10), (0, 3, 5, 6, 9, 11), (0, 3, 5, 6, 10, 11), (0, 3, 5, 7, 8, 9), (0, 3, 5, 7, 8, 10), (0, 3, 5, 7, 8, 11), (0, 3, 5, 7, 9, 10), (0, 3, 5, 7, 9, 11), (0, 3, 5, 7, 10, 11), (0, 3, 5, 8, 9, 10), (0, 3, 5, 8, 9, 11), (0, 3, 5, 8, 10, 11), (0, 3, 5, 9, 10, 11), (0, 3, 6, 7, 8, 9), (0, 3, 6, 7, 8, 10), (0, 3, 6, 7, 8, 11), (0, 3, 6, 7, 9, 10), (0, 3, 6, 7, 9, 11), (0, 3, 6, 7, 10, 11), (0, 3, 6, 8, 9, 10), (0, 3, 6, 8, 9, 11), (0, 3, 6, 8, 10, 11), (0, 3, 6, 9, 10, 11), (0, 3, 7, 8, 9, 10), (0, 3, 7, 8, 9, 11), (0, 3, 7, 8, 10, 11), (0, 3, 7, 9, 10, 11), (0, 3, 8, 9, 10, 11), (0, 4, 5, 6, 7, 8), (0, 4, 5, 6, 7, 9), (0, 4, 5, 6, 7, 10), (0, 4, 5, 6, 7, 11), (0, 4, 5, 6, 8, 9), (0, 4, 5, 6, 8, 10), (0, 4, 5, 6, 8, 11), (0, 4, 5, 6, 9, 10), (0, 4, 5, 6, 9, 11), (0, 4, 5, 6, 10, 11), (0, 4, 5, 7, 8, 9), (0, 4, 5, 7, 8, 10), (0, 4, 5, 7, 8, 11), (0, 4, 5, 7, 9, 10), (0, 4, 5, 7, 9, 11), (0, 4, 5, 7, 10, 11), (0, 4, 5, 8, 9, 10), (0, 4, 5, 8, 9, 11), (0, 4, 5, 8, 10, 11), (0, 4, 5, 9, 10, 11), (0, 4, 6, 7, 8, 9), (0, 4, 6, 7, 8, 10), (0, 4, 6, 7, 8, 11), (0, 4, 6, 7, 9, 10), (0, 4, 6, 7, 9, 11), (0, 4, 6, 7, 10, 11), (0, 4, 6, 8, 9, 10), (0, 4, 6, 8, 9, 11), (0, 4, 6, 8, 10, 11), (0, 4, 6, 9, 10, 11), (0, 4, 7, 8, 9, 10), (0, 4, 7, 8, 9, 11), (0, 4, 7, 8, 10, 11), (0, 4, 7, 9, 10, 11), (0, 4, 8, 9, 10, 11), (0, 5, 6, 7, 8, 9), (0, 5, 6, 7, 8, 10), (0, 5, 6, 7, 8, 11), (0, 5, 6, 7, 9, 10), (0, 5, 6, 7, 9, 11), (0, 5, 6, 7, 10, 11), (0, 5, 6, 8, 9, 10), (0, 5, 6, 8, 9, 11), (0, 5, 6, 8, 10, 11), (0, 5, 6, 9, 10, 11), (0, 5, 7, 8, 9, 10), (0, 5, 7, 8, 9, 11), (0, 5, 7, 8, 10, 11), (0, 5, 7, 9, 10, 11), (0, 5, 8, 9, 10, 11), (0, 6, 7, 8, 9, 10), (0, 6, 7, 8, 9, 11), (0, 6, 7, 8, 10, 11), (0, 6, 7, 9, 10, 11), (0, 6, 8, 9, 10, 11), (0, 7, 8, 9, 10, 11), (1, 2, 3, 4, 5, 6), (1, 2, 3, 4, 5, 7), (1, 2, 3, 4, 5, 8), (1, 2, 3, 4, 5, 9), (1, 2, 3, 4, 5, 10), (1, 2, 3, 4, 5, 11), (1, 2, 3, 4, 6, 7), (1, 2, 3, 4, 6, 8), (1, 2, 3, 4, 6, 9), (1, 2, 3, 4, 6, 10), (1, 2, 3, 4, 6, 11), (1, 2, 3, 4, 7, 8), (1, 2, 3, 4, 7, 9), (1, 2, 3, 4, 7, 10), (1, 2, 3, 4, 7, 11), (1, 2, 3, 4, 8, 9), (1, 2, 3, 4, 8, 10), (1, 2, 3, 4, 8, 11), (1, 2, 3, 4, 9, 10), (1, 2, 3, 4, 9, 11), (1, 2, 3, 4, 10, 11), (1, 2, 3, 5, 6, 7), (1, 2, 3, 5, 6, 8), (1, 2, 3, 5, 6, 9), (1, 2, 3, 5, 6, 10), (1, 2, 3, 5, 6, 11), (1, 2, 3, 5, 7, 8), (1, 2, 3, 5, 7, 9), (1, 2, 3, 5, 7, 10), (1, 2, 3, 5, 7, 11), (1, 2, 3, 5, 8, 9), (1, 2, 3, 5, 8, 10), (1, 2, 3, 5, 8, 11), (1, 2, 3, 5, 9, 10), (1, 2, 3, 5, 9, 11), (1, 2, 3, 5, 10, 11), (1, 2, 3, 6, 7, 8), (1, 2, 3, 6, 7, 9), (1, 2, 3, 6, 7, 10), (1, 2, 3, 6, 7, 11), (1, 2, 3, 6, 8, 9), (1, 2, 3, 6, 8, 10), (1, 2, 3, 6, 8, 11), (1, 2, 3, 6, 9, 10), (1, 2, 3, 6, 9, 11), (1, 2, 3, 6, 10, 11), (1, 2, 3, 7, 8, 9), (1, 2, 3, 7, 8, 10), (1, 2, 3, 7, 8, 11), (1, 2, 3, 7, 9, 10), (1, 2, 3, 7, 9, 11), (1, 2, 3, 7, 10, 11), (1, 2, 3, 8, 9, 10), (1, 2, 3, 8, 9, 11), (1, 2, 3, 8, 10, 11), (1, 2, 3, 9, 10, 11), (1, 2, 4, 5, 6, 7), (1, 2, 4, 5, 6, 8), (1, 2, 4, 5, 6, 9), (1, 2, 4, 5, 6, 10), (1, 2, 4, 5, 6, 11), (1, 2, 4, 5, 7, 8), (1, 2, 4, 5, 7, 9), (1, 2, 4, 5, 7, 10), (1, 2, 4, 5, 7, 11), (1, 2, 4, 5, 8, 9), (1, 2, 4, 5, 8, 10), (1, 2, 4, 5, 8, 11), (1, 2, 4, 5, 9, 10), (1, 2, 4, 5, 9, 11), (1, 2, 4, 5, 10, 11), (1, 2, 4, 6, 7, 8), (1, 2, 4, 6, 7, 9), (1, 2, 4, 6, 7, 10), (1, 2, 4, 6, 7, 11), (1, 2, 4, 6, 8, 9), (1, 2, 4, 6, 8, 10), (1, 2, 4, 6, 8, 11), (1, 2, 4, 6, 9, 10), (1, 2, 4, 6, 9, 11), (1, 2, 4, 6, 10, 11), (1, 2, 4, 7, 8, 9), (1, 2, 4, 7, 8, 10), (1, 2, 4, 7, 8, 11), (1, 2, 4, 7, 9, 10), (1, 2, 4, 7, 9, 11), (1, 2, 4, 7, 10, 11), (1, 2, 4, 8, 9, 10), (1, 2, 4, 8, 9, 11), (1, 2, 4, 8, 10, 11), (1, 2, 4, 9, 10, 11), (1, 2, 5, 6, 7, 8), (1, 2, 5, 6, 7, 9), (1, 2, 5, 6, 7, 10), (1, 2, 5, 6, 7, 11), (1, 2, 5, 6, 8, 9), (1, 2, 5, 6, 8, 10), (1, 2, 5, 6, 8, 11), (1, 2, 5, 6, 9, 10), (1, 2, 5, 6, 9, 11), (1, 2, 5, 6, 10, 11), (1, 2, 5, 7, 8, 9), (1, 2, 5, 7, 8, 10), (1, 2, 5, 7, 8, 11), (1, 2, 5, 7, 9, 10), (1, 2, 5, 7, 9, 11), (1, 2, 5, 7, 10, 11), (1, 2, 5, 8, 9, 10), (1, 2, 5, 8, 9, 11), (1, 2, 5, 8, 10, 11), (1, 2, 5, 9, 10, 11), (1, 2, 6, 7, 8, 9), (1, 2, 6, 7, 8, 10), (1, 2, 6, 7, 8, 11), (1, 2, 6, 7, 9, 10), (1, 2, 6, 7, 9, 11), (1, 2, 6, 7, 10, 11), (1, 2, 6, 8, 9, 10), (1, 2, 6, 8, 9, 11), (1, 2, 6, 8, 10, 11), (1, 2, 6, 9, 10, 11), (1, 2, 7, 8, 9, 10), (1, 2, 7, 8, 9, 11), (1, 2, 7, 8, 10, 11), (1, 2, 7, 9, 10, 11), (1, 2, 8, 9, 10, 11), (1, 3, 4, 5, 6, 7), (1, 3, 4, 5, 6, 8), (1, 3, 4, 5, 6, 9), (1, 3, 4, 5, 6, 10), (1, 3, 4, 5, 6, 11), (1, 3, 4, 5, 7, 8), (1, 3, 4, 5, 7, 9), (1, 3, 4, 5, 7, 10), (1, 3, 4, 5, 7, 11), (1, 3, 4, 5, 8, 9), (1, 3, 4, 5, 8, 10), (1, 3, 4, 5, 8, 11), (1, 3, 4, 5, 9, 10), (1, 3, 4, 5, 9, 11), (1, 3, 4, 5, 10, 11), (1, 3, 4, 6, 7, 8), (1, 3, 4, 6, 7, 9), (1, 3, 4, 6, 7, 10), (1, 3, 4, 6, 7, 11), (1, 3, 4, 6, 8, 9), (1, 3, 4, 6, 8, 10), (1, 3, 4, 6, 8, 11), (1, 3, 4, 6, 9, 10), (1, 3, 4, 6, 9, 11), (1, 3, 4, 6, 10, 11), (1, 3, 4, 7, 8, 9), (1, 3, 4, 7, 8, 10), (1, 3, 4, 7, 8, 11), (1, 3, 4, 7, 9, 10), (1, 3, 4, 7, 9, 11), (1, 3, 4, 7, 10, 11), (1, 3, 4, 8, 9, 10), (1, 3, 4, 8, 9, 11), (1, 3, 4, 8, 10, 11), (1, 3, 4, 9, 10, 11), (1, 3, 5, 6, 7, 8), (1, 3, 5, 6, 7, 9), (1, 3, 5, 6, 7, 10), (1, 3, 5, 6, 7, 11), (1, 3, 5, 6, 8, 9), (1, 3, 5, 6, 8, 10), (1, 3, 5, 6, 8, 11), (1, 3, 5, 6, 9, 10), (1, 3, 5, 6, 9, 11), (1, 3, 5, 6, 10, 11), (1, 3, 5, 7, 8, 9), (1, 3, 5, 7, 8, 10), (1, 3, 5, 7, 8, 11), (1, 3, 5, 7, 9, 10), (1, 3, 5, 7, 9, 11), (1, 3, 5, 7, 10, 11), (1, 3, 5, 8, 9, 10), (1, 3, 5, 8, 9, 11), (1, 3, 5, 8, 10, 11), (1, 3, 5, 9, 10, 11), (1, 3, 6, 7, 8, 9), (1, 3, 6, 7, 8, 10), (1, 3, 6, 7, 8, 11), (1, 3, 6, 7, 9, 10), (1, 3, 6, 7, 9, 11), (1, 3, 6, 7, 10, 11), (1, 3, 6, 8, 9, 10), (1, 3, 6, 8, 9, 11), (1, 3, 6, 8, 10, 11), (1, 3, 6, 9, 10, 11), (1, 3, 7, 8, 9, 10), (1, 3, 7, 8, 9, 11), (1, 3, 7, 8, 10, 11), (1, 3, 7, 9, 10, 11), (1, 3, 8, 9, 10, 11), (1, 4, 5, 6, 7, 8), (1, 4, 5, 6, 7, 9), (1, 4, 5, 6, 7, 10), (1, 4, 5, 6, 7, 11), (1, 4, 5, 6, 8, 9), (1, 4, 5, 6, 8, 10), (1, 4, 5, 6, 8, 11), (1, 4, 5, 6, 9, 10), (1, 4, 5, 6, 9, 11), (1, 4, 5, 6, 10, 11), (1, 4, 5, 7, 8, 9), (1, 4, 5, 7, 8, 10), (1, 4, 5, 7, 8, 11), (1, 4, 5, 7, 9, 10), (1, 4, 5, 7, 9, 11), (1, 4, 5, 7, 10, 11), (1, 4, 5, 8, 9, 10), (1, 4, 5, 8, 9, 11), (1, 4, 5, 8, 10, 11), (1, 4, 5, 9, 10, 11), (1, 4, 6, 7, 8, 9), (1, 4, 6, 7, 8, 10), (1, 4, 6, 7, 8, 11), (1, 4, 6, 7, 9, 10), (1, 4, 6, 7, 9, 11), (1, 4, 6, 7, 10, 11), (1, 4, 6, 8, 9, 10), (1, 4, 6, 8, 9, 11), (1, 4, 6, 8, 10, 11), (1, 4, 6, 9, 10, 11), (1, 4, 7, 8, 9, 10), (1, 4, 7, 8, 9, 11), (1, 4, 7, 8, 10, 11), (1, 4, 7, 9, 10, 11), (1, 4, 8, 9, 10, 11), (1, 5, 6, 7, 8, 9), (1, 5, 6, 7, 8, 10), (1, 5, 6, 7, 8, 11), (1, 5, 6, 7, 9, 10), (1, 5, 6, 7, 9, 11), (1, 5, 6, 7, 10, 11), (1, 5, 6, 8, 9, 10), (1, 5, 6, 8, 9, 11), (1, 5, 6, 8, 10, 11), (1, 5, 6, 9, 10, 11), (1, 5, 7, 8, 9, 10), (1, 5, 7, 8, 9, 11), (1, 5, 7, 8, 10, 11), (1, 5, 7, 9, 10, 11), (1, 5, 8, 9, 10, 11), (1, 6, 7, 8, 9, 10), (1, 6, 7, 8, 9, 11), (1, 6, 7, 8, 10, 11), (1, 6, 7, 9, 10, 11), (1, 6, 8, 9, 10, 11), (1, 7, 8, 9, 10, 11), (2, 3, 4, 5, 6, 7), (2, 3, 4, 5, 6, 8), (2, 3, 4, 5, 6, 9), (2, 3, 4, 5, 6, 10), (2, 3, 4, 5, 6, 11), (2, 3, 4, 5, 7, 8), (2, 3, 4, 5, 7, 9), (2, 3, 4, 5, 7, 10), (2, 3, 4, 5, 7, 11), (2, 3, 4, 5, 8, 9), (2, 3, 4, 5, 8, 10), (2, 3, 4, 5, 8, 11), (2, 3, 4, 5, 9, 10), (2, 3, 4, 5, 9, 11), (2, 3, 4, 5, 10, 11), (2, 3, 4, 6, 7, 8), (2, 3, 4, 6, 7, 9), (2, 3, 4, 6, 7, 10), (2, 3, 4, 6, 7, 11), (2, 3, 4, 6, 8, 9), (2, 3, 4, 6, 8, 10), (2, 3, 4, 6, 8, 11), (2, 3, 4, 6, 9, 10), (2, 3, 4, 6, 9, 11), (2, 3, 4, 6, 10, 11), (2, 3, 4, 7, 8, 9), (2, 3, 4, 7, 8, 10), (2, 3, 4, 7, 8, 11), (2, 3, 4, 7, 9, 10), (2, 3, 4, 7, 9, 11), (2, 3, 4, 7, 10, 11), (2, 3, 4, 8, 9, 10), (2, 3, 4, 8, 9, 11), (2, 3, 4, 8, 10, 11), (2, 3, 4, 9, 10, 11), (2, 3, 5, 6, 7, 8), (2, 3, 5, 6, 7, 9), (2, 3, 5, 6, 7, 10), (2, 3, 5, 6, 7, 11), (2, 3, 5, 6, 8, 9), (2, 3, 5, 6, 8, 10), (2, 3, 5, 6, 8, 11), (2, 3, 5, 6, 9, 10), (2, 3, 5, 6, 9, 11), (2, 3, 5, 6, 10, 11), (2, 3, 5, 7, 8, 9), (2, 3, 5, 7, 8, 10), (2, 3, 5, 7, 8, 11), (2, 3, 5, 7, 9, 10), (2, 3, 5, 7, 9, 11), (2, 3, 5, 7, 10, 11), (2, 3, 5, 8, 9, 10), (2, 3, 5, 8, 9, 11), (2, 3, 5, 8, 10, 11), (2, 3, 5, 9, 10, 11), (2, 3, 6, 7, 8, 9), (2, 3, 6, 7, 8, 10), (2, 3, 6, 7, 8, 11), (2, 3, 6, 7, 9, 10), (2, 3, 6, 7, 9, 11), (2, 3, 6, 7, 10, 11), (2, 3, 6, 8, 9, 10), (2, 3, 6, 8, 9, 11), (2, 3, 6, 8, 10, 11), (2, 3, 6, 9, 10, 11), (2, 3, 7, 8, 9, 10), (2, 3, 7, 8, 9, 11), (2, 3, 7, 8, 10, 11), (2, 3, 7, 9, 10, 11), (2, 3, 8, 9, 10, 11), (2, 4, 5, 6, 7, 8), (2, 4, 5, 6, 7, 9), (2, 4, 5, 6, 7, 10), (2, 4, 5, 6, 7, 11), (2, 4, 5, 6, 8, 9), (2, 4, 5, 6, 8, 10), (2, 4, 5, 6, 8, 11), (2, 4, 5, 6, 9, 10), (2, 4, 5, 6, 9, 11), (2, 4, 5, 6, 10, 11), (2, 4, 5, 7, 8, 9), (2, 4, 5, 7, 8, 10), (2, 4, 5, 7, 8, 11), (2, 4, 5, 7, 9, 10), (2, 4, 5, 7, 9, 11), (2, 4, 5, 7, 10, 11), (2, 4, 5, 8, 9, 10), (2, 4, 5, 8, 9, 11), (2, 4, 5, 8, 10, 11), (2, 4, 5, 9, 10, 11), (2, 4, 6, 7, 8, 9), (2, 4, 6, 7, 8, 10), (2, 4, 6, 7, 8, 11), (2, 4, 6, 7, 9, 10), (2, 4, 6, 7, 9, 11), (2, 4, 6, 7, 10, 11), (2, 4, 6, 8, 9, 10), (2, 4, 6, 8, 9, 11), (2, 4, 6, 8, 10, 11), (2, 4, 6, 9, 10, 11), (2, 4, 7, 8, 9, 10), (2, 4, 7, 8, 9, 11), (2, 4, 7, 8, 10, 11), (2, 4, 7, 9, 10, 11), (2, 4, 8, 9, 10, 11), (2, 5, 6, 7, 8, 9), (2, 5, 6, 7, 8, 10), (2, 5, 6, 7, 8, 11), (2, 5, 6, 7, 9, 10), (2, 5, 6, 7, 9, 11), (2, 5, 6, 7, 10, 11), (2, 5, 6, 8, 9, 10), (2, 5, 6, 8, 9, 11), (2, 5, 6, 8, 10, 11), (2, 5, 6, 9, 10, 11), (2, 5, 7, 8, 9, 10), (2, 5, 7, 8, 9, 11), (2, 5, 7, 8, 10, 11), (2, 5, 7, 9, 10, 11), (2, 5, 8, 9, 10, 11), (2, 6, 7, 8, 9, 10), (2, 6, 7, 8, 9, 11), (2, 6, 7, 8, 10, 11), (2, 6, 7, 9, 10, 11), (2, 6, 8, 9, 10, 11), (2, 7, 8, 9, 10, 11), (3, 4, 5, 6, 7, 8), (3, 4, 5, 6, 7, 9), (3, 4, 5, 6, 7, 10), (3, 4, 5, 6, 7, 11), (3, 4, 5, 6, 8, 9), (3, 4, 5, 6, 8, 10), (3, 4, 5, 6, 8, 11), (3, 4, 5, 6, 9, 10), (3, 4, 5, 6, 9, 11), (3, 4, 5, 6, 10, 11), (3, 4, 5, 7, 8, 9), (3, 4, 5, 7, 8, 10), (3, 4, 5, 7, 8, 11), (3, 4, 5, 7, 9, 10), (3, 4, 5, 7, 9, 11), (3, 4, 5, 7, 10, 11), (3, 4, 5, 8, 9, 10), (3, 4, 5, 8, 9, 11), (3, 4, 5, 8, 10, 11), (3, 4, 5, 9, 10, 11), (3, 4, 6, 7, 8, 9), (3, 4, 6, 7, 8, 10), (3, 4, 6, 7, 8, 11), (3, 4, 6, 7, 9, 10), (3, 4, 6, 7, 9, 11), (3, 4, 6, 7, 10, 11), (3, 4, 6, 8, 9, 10), (3, 4, 6, 8, 9, 11), (3, 4, 6, 8, 10, 11), (3, 4, 6, 9, 10, 11), (3, 4, 7, 8, 9, 10), (3, 4, 7, 8, 9, 11), (3, 4, 7, 8, 10, 11), (3, 4, 7, 9, 10, 11), (3, 4, 8, 9, 10, 11), (3, 5, 6, 7, 8, 9), (3, 5, 6, 7, 8, 10), (3, 5, 6, 7, 8, 11), (3, 5, 6, 7, 9, 10), (3, 5, 6, 7, 9, 11), (3, 5, 6, 7, 10, 11), (3, 5, 6, 8, 9, 10), (3, 5, 6, 8, 9, 11), (3, 5, 6, 8, 10, 11), (3, 5, 6, 9, 10, 11), (3, 5, 7, 8, 9, 10), (3, 5, 7, 8, 9, 11), (3, 5, 7, 8, 10, 11), (3, 5, 7, 9, 10, 11), (3, 5, 8, 9, 10, 11), (3, 6, 7, 8, 9, 10), (3, 6, 7, 8, 9, 11), (3, 6, 7, 8, 10, 11), (3, 6, 7, 9, 10, 11), (3, 6, 8, 9, 10, 11), (3, 7, 8, 9, 10, 11), (4, 5, 6, 7, 8, 9), (4, 5, 6, 7, 8, 10), (4, 5, 6, 7, 8, 11), (4, 5, 6, 7, 9, 10), (4, 5, 6, 7, 9, 11), (4, 5, 6, 7, 10, 11), (4, 5, 6, 8, 9, 10), (4, 5, 6, 8, 9, 11), (4, 5, 6, 8, 10, 11), (4, 5, 6, 9, 10, 11), (4, 5, 7, 8, 9, 10), (4, 5, 7, 8, 9, 11), (4, 5, 7, 8, 10, 11), (4, 5, 7, 9, 10, 11), (4, 5, 8, 9, 10, 11), (4, 6, 7, 8, 9, 10), (4, 6, 7, 8, 9, 11), (4, 6, 7, 8, 10, 11), (4, 6, 7, 9, 10, 11), (4, 6, 8, 9, 10, 11), (4, 7, 8, 9, 10, 11), (5, 6, 7, 8, 9, 10), (5, 6, 7, 8, 9, 11), (5, 6, 7, 8, 10, 11), (5, 6, 7, 9, 10, 11), (5, 6, 8, 9, 10, 11), (5, 7, 8, 9, 10, 11), (6, 7, 8, 9, 10, 11), (0, 1, 2, 3, 4, 5, 6), (0, 1, 2, 3, 4, 5, 7), (0, 1, 2, 3, 4, 5, 8), (0, 1, 2, 3, 4, 5, 9), (0, 1, 2, 3, 4, 5, 10), (0, 1, 2, 3, 4, 5, 11), (0, 1, 2, 3, 4, 6, 7), (0, 1, 2, 3, 4, 6, 8), (0, 1, 2, 3, 4, 6, 9), (0, 1, 2, 3, 4, 6, 10), (0, 1, 2, 3, 4, 6, 11), (0, 1, 2, 3, 4, 7, 8), (0, 1, 2, 3, 4, 7, 9), (0, 1, 2, 3, 4, 7, 10), (0, 1, 2, 3, 4, 7, 11), (0, 1, 2, 3, 4, 8, 9), (0, 1, 2, 3, 4, 8, 10), (0, 1, 2, 3, 4, 8, 11), (0, 1, 2, 3, 4, 9, 10), (0, 1, 2, 3, 4, 9, 11), (0, 1, 2, 3, 4, 10, 11), (0, 1, 2, 3, 5, 6, 7), (0, 1, 2, 3, 5, 6, 8), (0, 1, 2, 3, 5, 6, 9), (0, 1, 2, 3, 5, 6, 10), (0, 1, 2, 3, 5, 6, 11), (0, 1, 2, 3, 5, 7, 8), (0, 1, 2, 3, 5, 7, 9), (0, 1, 2, 3, 5, 7, 10), (0, 1, 2, 3, 5, 7, 11), (0, 1, 2, 3, 5, 8, 9), (0, 1, 2, 3, 5, 8, 10), (0, 1, 2, 3, 5, 8, 11), (0, 1, 2, 3, 5, 9, 10), (0, 1, 2, 3, 5, 9, 11), (0, 1, 2, 3, 5, 10, 11), (0, 1, 2, 3, 6, 7, 8), (0, 1, 2, 3, 6, 7, 9), (0, 1, 2, 3, 6, 7, 10), (0, 1, 2, 3, 6, 7, 11), (0, 1, 2, 3, 6, 8, 9), (0, 1, 2, 3, 6, 8, 10), (0, 1, 2, 3, 6, 8, 11), (0, 1, 2, 3, 6, 9, 10), (0, 1, 2, 3, 6, 9, 11), (0, 1, 2, 3, 6, 10, 11), (0, 1, 2, 3, 7, 8, 9), (0, 1, 2, 3, 7, 8, 10), (0, 1, 2, 3, 7, 8, 11), (0, 1, 2, 3, 7, 9, 10), (0, 1, 2, 3, 7, 9, 11), (0, 1, 2, 3, 7, 10, 11), (0, 1, 2, 3, 8, 9, 10), (0, 1, 2, 3, 8, 9, 11), (0, 1, 2, 3, 8, 10, 11), (0, 1, 2, 3, 9, 10, 11), (0, 1, 2, 4, 5, 6, 7), (0, 1, 2, 4, 5, 6, 8), (0, 1, 2, 4, 5, 6, 9), (0, 1, 2, 4, 5, 6, 10), (0, 1, 2, 4, 5, 6, 11), (0, 1, 2, 4, 5, 7, 8), (0, 1, 2, 4, 5, 7, 9), (0, 1, 2, 4, 5, 7, 10), (0, 1, 2, 4, 5, 7, 11), (0, 1, 2, 4, 5, 8, 9), (0, 1, 2, 4, 5, 8, 10), (0, 1, 2, 4, 5, 8, 11), (0, 1, 2, 4, 5, 9, 10), (0, 1, 2, 4, 5, 9, 11), (0, 1, 2, 4, 5, 10, 11), (0, 1, 2, 4, 6, 7, 8), (0, 1, 2, 4, 6, 7, 9), (0, 1, 2, 4, 6, 7, 10), (0, 1, 2, 4, 6, 7, 11), (0, 1, 2, 4, 6, 8, 9), (0, 1, 2, 4, 6, 8, 10), (0, 1, 2, 4, 6, 8, 11), (0, 1, 2, 4, 6, 9, 10), (0, 1, 2, 4, 6, 9, 11), (0, 1, 2, 4, 6, 10, 11), (0, 1, 2, 4, 7, 8, 9), (0, 1, 2, 4, 7, 8, 10), (0, 1, 2, 4, 7, 8, 11), (0, 1, 2, 4, 7, 9, 10), (0, 1, 2, 4, 7, 9, 11), (0, 1, 2, 4, 7, 10, 11), (0, 1, 2, 4, 8, 9, 10), (0, 1, 2, 4, 8, 9, 11), (0, 1, 2, 4, 8, 10, 11), (0, 1, 2, 4, 9, 10, 11), (0, 1, 2, 5, 6, 7, 8), (0, 1, 2, 5, 6, 7, 9), (0, 1, 2, 5, 6, 7, 10), (0, 1, 2, 5, 6, 7, 11), (0, 1, 2, 5, 6, 8, 9), (0, 1, 2, 5, 6, 8, 10), (0, 1, 2, 5, 6, 8, 11), (0, 1, 2, 5, 6, 9, 10), (0, 1, 2, 5, 6, 9, 11), (0, 1, 2, 5, 6, 10, 11), (0, 1, 2, 5, 7, 8, 9), (0, 1, 2, 5, 7, 8, 10), (0, 1, 2, 5, 7, 8, 11), (0, 1, 2, 5, 7, 9, 10), (0, 1, 2, 5, 7, 9, 11), (0, 1, 2, 5, 7, 10, 11), (0, 1, 2, 5, 8, 9, 10), (0, 1, 2, 5, 8, 9, 11), (0, 1, 2, 5, 8, 10, 11), (0, 1, 2, 5, 9, 10, 11), (0, 1, 2, 6, 7, 8, 9), (0, 1, 2, 6, 7, 8, 10), (0, 1, 2, 6, 7, 8, 11), (0, 1, 2, 6, 7, 9, 10), (0, 1, 2, 6, 7, 9, 11), (0, 1, 2, 6, 7, 10, 11), (0, 1, 2, 6, 8, 9, 10), (0, 1, 2, 6, 8, 9, 11), (0, 1, 2, 6, 8, 10, 11), (0, 1, 2, 6, 9, 10, 11), (0, 1, 2, 7, 8, 9, 10), (0, 1, 2, 7, 8, 9, 11), (0, 1, 2, 7, 8, 10, 11), (0, 1, 2, 7, 9, 10, 11), (0, 1, 2, 8, 9, 10, 11), (0, 1, 3, 4, 5, 6, 7), (0, 1, 3, 4, 5, 6, 8), (0, 1, 3, 4, 5, 6, 9), (0, 1, 3, 4, 5, 6, 10), (0, 1, 3, 4, 5, 6, 11), (0, 1, 3, 4, 5, 7, 8), (0, 1, 3, 4, 5, 7, 9), (0, 1, 3, 4, 5, 7, 10), (0, 1, 3, 4, 5, 7, 11), (0, 1, 3, 4, 5, 8, 9), (0, 1, 3, 4, 5, 8, 10), (0, 1, 3, 4, 5, 8, 11), (0, 1, 3, 4, 5, 9, 10), (0, 1, 3, 4, 5, 9, 11), (0, 1, 3, 4, 5, 10, 11), (0, 1, 3, 4, 6, 7, 8), (0, 1, 3, 4, 6, 7, 9), (0, 1, 3, 4, 6, 7, 10), (0, 1, 3, 4, 6, 7, 11), (0, 1, 3, 4, 6, 8, 9), (0, 1, 3, 4, 6, 8, 10), (0, 1, 3, 4, 6, 8, 11), (0, 1, 3, 4, 6, 9, 10), (0, 1, 3, 4, 6, 9, 11), (0, 1, 3, 4, 6, 10, 11), (0, 1, 3, 4, 7, 8, 9), (0, 1, 3, 4, 7, 8, 10), (0, 1, 3, 4, 7, 8, 11), (0, 1, 3, 4, 7, 9, 10), (0, 1, 3, 4, 7, 9, 11), (0, 1, 3, 4, 7, 10, 11), (0, 1, 3, 4, 8, 9, 10), (0, 1, 3, 4, 8, 9, 11), (0, 1, 3, 4, 8, 10, 11), (0, 1, 3, 4, 9, 10, 11), (0, 1, 3, 5, 6, 7, 8), (0, 1, 3, 5, 6, 7, 9), (0, 1, 3, 5, 6, 7, 10), (0, 1, 3, 5, 6, 7, 11), (0, 1, 3, 5, 6, 8, 9), (0, 1, 3, 5, 6, 8, 10), (0, 1, 3, 5, 6, 8, 11), (0, 1, 3, 5, 6, 9, 10), (0, 1, 3, 5, 6, 9, 11), (0, 1, 3, 5, 6, 10, 11), (0, 1, 3, 5, 7, 8, 9), (0, 1, 3, 5, 7, 8, 10), (0, 1, 3, 5, 7, 8, 11), (0, 1, 3, 5, 7, 9, 10), (0, 1, 3, 5, 7, 9, 11), (0, 1, 3, 5, 7, 10, 11), (0, 1, 3, 5, 8, 9, 10), (0, 1, 3, 5, 8, 9, 11), (0, 1, 3, 5, 8, 10, 11), (0, 1, 3, 5, 9, 10, 11), (0, 1, 3, 6, 7, 8, 9), (0, 1, 3, 6, 7, 8, 10), (0, 1, 3, 6, 7, 8, 11), (0, 1, 3, 6, 7, 9, 10), (0, 1, 3, 6, 7, 9, 11), (0, 1, 3, 6, 7, 10, 11), (0, 1, 3, 6, 8, 9, 10), (0, 1, 3, 6, 8, 9, 11), (0, 1, 3, 6, 8, 10, 11), (0, 1, 3, 6, 9, 10, 11), (0, 1, 3, 7, 8, 9, 10), (0, 1, 3, 7, 8, 9, 11), (0, 1, 3, 7, 8, 10, 11), (0, 1, 3, 7, 9, 10, 11), (0, 1, 3, 8, 9, 10, 11), (0, 1, 4, 5, 6, 7, 8), (0, 1, 4, 5, 6, 7, 9), (0, 1, 4, 5, 6, 7, 10), (0, 1, 4, 5, 6, 7, 11), (0, 1, 4, 5, 6, 8, 9), (0, 1, 4, 5, 6, 8, 10), (0, 1, 4, 5, 6, 8, 11), (0, 1, 4, 5, 6, 9, 10), (0, 1, 4, 5, 6, 9, 11), (0, 1, 4, 5, 6, 10, 11), (0, 1, 4, 5, 7, 8, 9), (0, 1, 4, 5, 7, 8, 10), (0, 1, 4, 5, 7, 8, 11), (0, 1, 4, 5, 7, 9, 10), (0, 1, 4, 5, 7, 9, 11), (0, 1, 4, 5, 7, 10, 11), (0, 1, 4, 5, 8, 9, 10), (0, 1, 4, 5, 8, 9, 11), (0, 1, 4, 5, 8, 10, 11), (0, 1, 4, 5, 9, 10, 11), (0, 1, 4, 6, 7, 8, 9), (0, 1, 4, 6, 7, 8, 10), (0, 1, 4, 6, 7, 8, 11), (0, 1, 4, 6, 7, 9, 10), (0, 1, 4, 6, 7, 9, 11), (0, 1, 4, 6, 7, 10, 11), (0, 1, 4, 6, 8, 9, 10), (0, 1, 4, 6, 8, 9, 11), (0, 1, 4, 6, 8, 10, 11), (0, 1, 4, 6, 9, 10, 11), (0, 1, 4, 7, 8, 9, 10), (0, 1, 4, 7, 8, 9, 11), (0, 1, 4, 7, 8, 10, 11), (0, 1, 4, 7, 9, 10, 11), (0, 1, 4, 8, 9, 10, 11), (0, 1, 5, 6, 7, 8, 9), (0, 1, 5, 6, 7, 8, 10), (0, 1, 5, 6, 7, 8, 11), (0, 1, 5, 6, 7, 9, 10), (0, 1, 5, 6, 7, 9, 11), (0, 1, 5, 6, 7, 10, 11), (0, 1, 5, 6, 8, 9, 10), (0, 1, 5, 6, 8, 9, 11), (0, 1, 5, 6, 8, 10, 11), (0, 1, 5, 6, 9, 10, 11), (0, 1, 5, 7, 8, 9, 10), (0, 1, 5, 7, 8, 9, 11), (0, 1, 5, 7, 8, 10, 11), (0, 1, 5, 7, 9, 10, 11), (0, 1, 5, 8, 9, 10, 11), (0, 1, 6, 7, 8, 9, 10), (0, 1, 6, 7, 8, 9, 11), (0, 1, 6, 7, 8, 10, 11), (0, 1, 6, 7, 9, 10, 11), (0, 1, 6, 8, 9, 10, 11), (0, 1, 7, 8, 9, 10, 11), (0, 2, 3, 4, 5, 6, 7), (0, 2, 3, 4, 5, 6, 8), (0, 2, 3, 4, 5, 6, 9), (0, 2, 3, 4, 5, 6, 10), (0, 2, 3, 4, 5, 6, 11), (0, 2, 3, 4, 5, 7, 8), (0, 2, 3, 4, 5, 7, 9), (0, 2, 3, 4, 5, 7, 10), (0, 2, 3, 4, 5, 7, 11), (0, 2, 3, 4, 5, 8, 9), (0, 2, 3, 4, 5, 8, 10), (0, 2, 3, 4, 5, 8, 11), (0, 2, 3, 4, 5, 9, 10), (0, 2, 3, 4, 5, 9, 11), (0, 2, 3, 4, 5, 10, 11), (0, 2, 3, 4, 6, 7, 8), (0, 2, 3, 4, 6, 7, 9), (0, 2, 3, 4, 6, 7, 10), (0, 2, 3, 4, 6, 7, 11), (0, 2, 3, 4, 6, 8, 9), (0, 2, 3, 4, 6, 8, 10), (0, 2, 3, 4, 6, 8, 11), (0, 2, 3, 4, 6, 9, 10), (0, 2, 3, 4, 6, 9, 11), (0, 2, 3, 4, 6, 10, 11), (0, 2, 3, 4, 7, 8, 9), (0, 2, 3, 4, 7, 8, 10), (0, 2, 3, 4, 7, 8, 11), (0, 2, 3, 4, 7, 9, 10), (0, 2, 3, 4, 7, 9, 11), (0, 2, 3, 4, 7, 10, 11), (0, 2, 3, 4, 8, 9, 10), (0, 2, 3, 4, 8, 9, 11), (0, 2, 3, 4, 8, 10, 11), (0, 2, 3, 4, 9, 10, 11), (0, 2, 3, 5, 6, 7, 8), (0, 2, 3, 5, 6, 7, 9), (0, 2, 3, 5, 6, 7, 10), (0, 2, 3, 5, 6, 7, 11), (0, 2, 3, 5, 6, 8, 9), (0, 2, 3, 5, 6, 8, 10), (0, 2, 3, 5, 6, 8, 11), (0, 2, 3, 5, 6, 9, 10), (0, 2, 3, 5, 6, 9, 11), (0, 2, 3, 5, 6, 10, 11), (0, 2, 3, 5, 7, 8, 9), (0, 2, 3, 5, 7, 8, 10), (0, 2, 3, 5, 7, 8, 11), (0, 2, 3, 5, 7, 9, 10), (0, 2, 3, 5, 7, 9, 11), (0, 2, 3, 5, 7, 10, 11), (0, 2, 3, 5, 8, 9, 10), (0, 2, 3, 5, 8, 9, 11), (0, 2, 3, 5, 8, 10, 11), (0, 2, 3, 5, 9, 10, 11), (0, 2, 3, 6, 7, 8, 9), (0, 2, 3, 6, 7, 8, 10), (0, 2, 3, 6, 7, 8, 11), (0, 2, 3, 6, 7, 9, 10), (0, 2, 3, 6, 7, 9, 11), (0, 2, 3, 6, 7, 10, 11), (0, 2, 3, 6, 8, 9, 10), (0, 2, 3, 6, 8, 9, 11), (0, 2, 3, 6, 8, 10, 11), (0, 2, 3, 6, 9, 10, 11), (0, 2, 3, 7, 8, 9, 10), (0, 2, 3, 7, 8, 9, 11), (0, 2, 3, 7, 8, 10, 11), (0, 2, 3, 7, 9, 10, 11), (0, 2, 3, 8, 9, 10, 11), (0, 2, 4, 5, 6, 7, 8), (0, 2, 4, 5, 6, 7, 9), (0, 2, 4, 5, 6, 7, 10), (0, 2, 4, 5, 6, 7, 11), (0, 2, 4, 5, 6, 8, 9), (0, 2, 4, 5, 6, 8, 10), (0, 2, 4, 5, 6, 8, 11), (0, 2, 4, 5, 6, 9, 10), (0, 2, 4, 5, 6, 9, 11), (0, 2, 4, 5, 6, 10, 11), (0, 2, 4, 5, 7, 8, 9), (0, 2, 4, 5, 7, 8, 10), (0, 2, 4, 5, 7, 8, 11), (0, 2, 4, 5, 7, 9, 10), (0, 2, 4, 5, 7, 9, 11), (0, 2, 4, 5, 7, 10, 11), (0, 2, 4, 5, 8, 9, 10), (0, 2, 4, 5, 8, 9, 11), (0, 2, 4, 5, 8, 10, 11), (0, 2, 4, 5, 9, 10, 11), (0, 2, 4, 6, 7, 8, 9), (0, 2, 4, 6, 7, 8, 10), (0, 2, 4, 6, 7, 8, 11), (0, 2, 4, 6, 7, 9, 10), (0, 2, 4, 6, 7, 9, 11), (0, 2, 4, 6, 7, 10, 11), (0, 2, 4, 6, 8, 9, 10), (0, 2, 4, 6, 8, 9, 11), (0, 2, 4, 6, 8, 10, 11), (0, 2, 4, 6, 9, 10, 11), (0, 2, 4, 7, 8, 9, 10), (0, 2, 4, 7, 8, 9, 11), (0, 2, 4, 7, 8, 10, 11), (0, 2, 4, 7, 9, 10, 11), (0, 2, 4, 8, 9, 10, 11), (0, 2, 5, 6, 7, 8, 9), (0, 2, 5, 6, 7, 8, 10), (0, 2, 5, 6, 7, 8, 11), (0, 2, 5, 6, 7, 9, 10), (0, 2, 5, 6, 7, 9, 11), (0, 2, 5, 6, 7, 10, 11), (0, 2, 5, 6, 8, 9, 10), (0, 2, 5, 6, 8, 9, 11), (0, 2, 5, 6, 8, 10, 11), (0, 2, 5, 6, 9, 10, 11), (0, 2, 5, 7, 8, 9, 10), (0, 2, 5, 7, 8, 9, 11), (0, 2, 5, 7, 8, 10, 11), (0, 2, 5, 7, 9, 10, 11), (0, 2, 5, 8, 9, 10, 11), (0, 2, 6, 7, 8, 9, 10), (0, 2, 6, 7, 8, 9, 11), (0, 2, 6, 7, 8, 10, 11), (0, 2, 6, 7, 9, 10, 11), (0, 2, 6, 8, 9, 10, 11), (0, 2, 7, 8, 9, 10, 11), (0, 3, 4, 5, 6, 7, 8), (0, 3, 4, 5, 6, 7, 9), (0, 3, 4, 5, 6, 7, 10), (0, 3, 4, 5, 6, 7, 11), (0, 3, 4, 5, 6, 8, 9), (0, 3, 4, 5, 6, 8, 10), (0, 3, 4, 5, 6, 8, 11), (0, 3, 4, 5, 6, 9, 10), (0, 3, 4, 5, 6, 9, 11), (0, 3, 4, 5, 6, 10, 11), (0, 3, 4, 5, 7, 8, 9), (0, 3, 4, 5, 7, 8, 10), (0, 3, 4, 5, 7, 8, 11), (0, 3, 4, 5, 7, 9, 10), (0, 3, 4, 5, 7, 9, 11), (0, 3, 4, 5, 7, 10, 11), (0, 3, 4, 5, 8, 9, 10), (0, 3, 4, 5, 8, 9, 11), (0, 3, 4, 5, 8, 10, 11), (0, 3, 4, 5, 9, 10, 11), (0, 3, 4, 6, 7, 8, 9), (0, 3, 4, 6, 7, 8, 10), (0, 3, 4, 6, 7, 8, 11), (0, 3, 4, 6, 7, 9, 10), (0, 3, 4, 6, 7, 9, 11), (0, 3, 4, 6, 7, 10, 11), (0, 3, 4, 6, 8, 9, 10), (0, 3, 4, 6, 8, 9, 11), (0, 3, 4, 6, 8, 10, 11), (0, 3, 4, 6, 9, 10, 11), (0, 3, 4, 7, 8, 9, 10), (0, 3, 4, 7, 8, 9, 11), (0, 3, 4, 7, 8, 10, 11), (0, 3, 4, 7, 9, 10, 11), (0, 3, 4, 8, 9, 10, 11), (0, 3, 5, 6, 7, 8, 9), (0, 3, 5, 6, 7, 8, 10), (0, 3, 5, 6, 7, 8, 11), (0, 3, 5, 6, 7, 9, 10), (0, 3, 5, 6, 7, 9, 11), (0, 3, 5, 6, 7, 10, 11), (0, 3, 5, 6, 8, 9, 10), (0, 3, 5, 6, 8, 9, 11), (0, 3, 5, 6, 8, 10, 11), (0, 3, 5, 6, 9, 10, 11), (0, 3, 5, 7, 8, 9, 10), (0, 3, 5, 7, 8, 9, 11), (0, 3, 5, 7, 8, 10, 11), (0, 3, 5, 7, 9, 10, 11), (0, 3, 5, 8, 9, 10, 11), (0, 3, 6, 7, 8, 9, 10), (0, 3, 6, 7, 8, 9, 11), (0, 3, 6, 7, 8, 10, 11), (0, 3, 6, 7, 9, 10, 11), (0, 3, 6, 8, 9, 10, 11), (0, 3, 7, 8, 9, 10, 11), (0, 4, 5, 6, 7, 8, 9), (0, 4, 5, 6, 7, 8, 10), (0, 4, 5, 6, 7, 8, 11), (0, 4, 5, 6, 7, 9, 10), (0, 4, 5, 6, 7, 9, 11), (0, 4, 5, 6, 7, 10, 11), (0, 4, 5, 6, 8, 9, 10), (0, 4, 5, 6, 8, 9, 11), (0, 4, 5, 6, 8, 10, 11), (0, 4, 5, 6, 9, 10, 11), (0, 4, 5, 7, 8, 9, 10), (0, 4, 5, 7, 8, 9, 11), (0, 4, 5, 7, 8, 10, 11), (0, 4, 5, 7, 9, 10, 11), (0, 4, 5, 8, 9, 10, 11), (0, 4, 6, 7, 8, 9, 10), (0, 4, 6, 7, 8, 9, 11), (0, 4, 6, 7, 8, 10, 11), (0, 4, 6, 7, 9, 10, 11), (0, 4, 6, 8, 9, 10, 11), (0, 4, 7, 8, 9, 10, 11), (0, 5, 6, 7, 8, 9, 10), (0, 5, 6, 7, 8, 9, 11), (0, 5, 6, 7, 8, 10, 11), (0, 5, 6, 7, 9, 10, 11), (0, 5, 6, 8, 9, 10, 11), (0, 5, 7, 8, 9, 10, 11), (0, 6, 7, 8, 9, 10, 11), (1, 2, 3, 4, 5, 6, 7), (1, 2, 3, 4, 5, 6, 8), (1, 2, 3, 4, 5, 6, 9), (1, 2, 3, 4, 5, 6, 10), (1, 2, 3, 4, 5, 6, 11), (1, 2, 3, 4, 5, 7, 8), (1, 2, 3, 4, 5, 7, 9), (1, 2, 3, 4, 5, 7, 10), (1, 2, 3, 4, 5, 7, 11), (1, 2, 3, 4, 5, 8, 9), (1, 2, 3, 4, 5, 8, 10), (1, 2, 3, 4, 5, 8, 11), (1, 2, 3, 4, 5, 9, 10), (1, 2, 3, 4, 5, 9, 11), (1, 2, 3, 4, 5, 10, 11), (1, 2, 3, 4, 6, 7, 8), (1, 2, 3, 4, 6, 7, 9), (1, 2, 3, 4, 6, 7, 10), (1, 2, 3, 4, 6, 7, 11), (1, 2, 3, 4, 6, 8, 9), (1, 2, 3, 4, 6, 8, 10), (1, 2, 3, 4, 6, 8, 11), (1, 2, 3, 4, 6, 9, 10), (1, 2, 3, 4, 6, 9, 11), (1, 2, 3, 4, 6, 10, 11), (1, 2, 3, 4, 7, 8, 9), (1, 2, 3, 4, 7, 8, 10), (1, 2, 3, 4, 7, 8, 11), (1, 2, 3, 4, 7, 9, 10), (1, 2, 3, 4, 7, 9, 11), (1, 2, 3, 4, 7, 10, 11), (1, 2, 3, 4, 8, 9, 10), (1, 2, 3, 4, 8, 9, 11), (1, 2, 3, 4, 8, 10, 11), (1, 2, 3, 4, 9, 10, 11), (1, 2, 3, 5, 6, 7, 8), (1, 2, 3, 5, 6, 7, 9), (1, 2, 3, 5, 6, 7, 10), (1, 2, 3, 5, 6, 7, 11), (1, 2, 3, 5, 6, 8, 9), (1, 2, 3, 5, 6, 8, 10), (1, 2, 3, 5, 6, 8, 11), (1, 2, 3, 5, 6, 9, 10), (1, 2, 3, 5, 6, 9, 11), (1, 2, 3, 5, 6, 10, 11), (1, 2, 3, 5, 7, 8, 9), (1, 2, 3, 5, 7, 8, 10), (1, 2, 3, 5, 7, 8, 11), (1, 2, 3, 5, 7, 9, 10), (1, 2, 3, 5, 7, 9, 11), (1, 2, 3, 5, 7, 10, 11), (1, 2, 3, 5, 8, 9, 10), (1, 2, 3, 5, 8, 9, 11), (1, 2, 3, 5, 8, 10, 11), (1, 2, 3, 5, 9, 10, 11), (1, 2, 3, 6, 7, 8, 9), (1, 2, 3, 6, 7, 8, 10), (1, 2, 3, 6, 7, 8, 11), (1, 2, 3, 6, 7, 9, 10), (1, 2, 3, 6, 7, 9, 11), (1, 2, 3, 6, 7, 10, 11), (1, 2, 3, 6, 8, 9, 10), (1, 2, 3, 6, 8, 9, 11), (1, 2, 3, 6, 8, 10, 11), (1, 2, 3, 6, 9, 10, 11), (1, 2, 3, 7, 8, 9, 10), (1, 2, 3, 7, 8, 9, 11), (1, 2, 3, 7, 8, 10, 11), (1, 2, 3, 7, 9, 10, 11), (1, 2, 3, 8, 9, 10, 11), (1, 2, 4, 5, 6, 7, 8), (1, 2, 4, 5, 6, 7, 9), (1, 2, 4, 5, 6, 7, 10), (1, 2, 4, 5, 6, 7, 11), (1, 2, 4, 5, 6, 8, 9), (1, 2, 4, 5, 6, 8, 10), (1, 2, 4, 5, 6, 8, 11), (1, 2, 4, 5, 6, 9, 10), (1, 2, 4, 5, 6, 9, 11), (1, 2, 4, 5, 6, 10, 11), (1, 2, 4, 5, 7, 8, 9), (1, 2, 4, 5, 7, 8, 10), (1, 2, 4, 5, 7, 8, 11), (1, 2, 4, 5, 7, 9, 10), (1, 2, 4, 5, 7, 9, 11), (1, 2, 4, 5, 7, 10, 11), (1, 2, 4, 5, 8, 9, 10), (1, 2, 4, 5, 8, 9, 11), (1, 2, 4, 5, 8, 10, 11), (1, 2, 4, 5, 9, 10, 11), (1, 2, 4, 6, 7, 8, 9), (1, 2, 4, 6, 7, 8, 10), (1, 2, 4, 6, 7, 8, 11), (1, 2, 4, 6, 7, 9, 10), (1, 2, 4, 6, 7, 9, 11), (1, 2, 4, 6, 7, 10, 11), (1, 2, 4, 6, 8, 9, 10), (1, 2, 4, 6, 8, 9, 11), (1, 2, 4, 6, 8, 10, 11), (1, 2, 4, 6, 9, 10, 11), (1, 2, 4, 7, 8, 9, 10), (1, 2, 4, 7, 8, 9, 11), (1, 2, 4, 7, 8, 10, 11), (1, 2, 4, 7, 9, 10, 11), (1, 2, 4, 8, 9, 10, 11), (1, 2, 5, 6, 7, 8, 9), (1, 2, 5, 6, 7, 8, 10), (1, 2, 5, 6, 7, 8, 11), (1, 2, 5, 6, 7, 9, 10), (1, 2, 5, 6, 7, 9, 11), (1, 2, 5, 6, 7, 10, 11), (1, 2, 5, 6, 8, 9, 10), (1, 2, 5, 6, 8, 9, 11), (1, 2, 5, 6, 8, 10, 11), (1, 2, 5, 6, 9, 10, 11), (1, 2, 5, 7, 8, 9, 10), (1, 2, 5, 7, 8, 9, 11), (1, 2, 5, 7, 8, 10, 11), (1, 2, 5, 7, 9, 10, 11), (1, 2, 5, 8, 9, 10, 11), (1, 2, 6, 7, 8, 9, 10), (1, 2, 6, 7, 8, 9, 11), (1, 2, 6, 7, 8, 10, 11), (1, 2, 6, 7, 9, 10, 11), (1, 2, 6, 8, 9, 10, 11), (1, 2, 7, 8, 9, 10, 11), (1, 3, 4, 5, 6, 7, 8), (1, 3, 4, 5, 6, 7, 9), (1, 3, 4, 5, 6, 7, 10), (1, 3, 4, 5, 6, 7, 11), (1, 3, 4, 5, 6, 8, 9), (1, 3, 4, 5, 6, 8, 10), (1, 3, 4, 5, 6, 8, 11), (1, 3, 4, 5, 6, 9, 10), (1, 3, 4, 5, 6, 9, 11), (1, 3, 4, 5, 6, 10, 11), (1, 3, 4, 5, 7, 8, 9), (1, 3, 4, 5, 7, 8, 10), (1, 3, 4, 5, 7, 8, 11), (1, 3, 4, 5, 7, 9, 10), (1, 3, 4, 5, 7, 9, 11), (1, 3, 4, 5, 7, 10, 11), (1, 3, 4, 5, 8, 9, 10), (1, 3, 4, 5, 8, 9, 11), (1, 3, 4, 5, 8, 10, 11), (1, 3, 4, 5, 9, 10, 11), (1, 3, 4, 6, 7, 8, 9), (1, 3, 4, 6, 7, 8, 10), (1, 3, 4, 6, 7, 8, 11), (1, 3, 4, 6, 7, 9, 10), (1, 3, 4, 6, 7, 9, 11), (1, 3, 4, 6, 7, 10, 11), (1, 3, 4, 6, 8, 9, 10), (1, 3, 4, 6, 8, 9, 11), (1, 3, 4, 6, 8, 10, 11), (1, 3, 4, 6, 9, 10, 11), (1, 3, 4, 7, 8, 9, 10), (1, 3, 4, 7, 8, 9, 11), (1, 3, 4, 7, 8, 10, 11), (1, 3, 4, 7, 9, 10, 11), (1, 3, 4, 8, 9, 10, 11), (1, 3, 5, 6, 7, 8, 9), (1, 3, 5, 6, 7, 8, 10), (1, 3, 5, 6, 7, 8, 11), (1, 3, 5, 6, 7, 9, 10), (1, 3, 5, 6, 7, 9, 11), (1, 3, 5, 6, 7, 10, 11), (1, 3, 5, 6, 8, 9, 10), (1, 3, 5, 6, 8, 9, 11), (1, 3, 5, 6, 8, 10, 11), (1, 3, 5, 6, 9, 10, 11), (1, 3, 5, 7, 8, 9, 10), (1, 3, 5, 7, 8, 9, 11), (1, 3, 5, 7, 8, 10, 11), (1, 3, 5, 7, 9, 10, 11), (1, 3, 5, 8, 9, 10, 11), (1, 3, 6, 7, 8, 9, 10), (1, 3, 6, 7, 8, 9, 11), (1, 3, 6, 7, 8, 10, 11), (1, 3, 6, 7, 9, 10, 11), (1, 3, 6, 8, 9, 10, 11), (1, 3, 7, 8, 9, 10, 11), (1, 4, 5, 6, 7, 8, 9), (1, 4, 5, 6, 7, 8, 10), (1, 4, 5, 6, 7, 8, 11), (1, 4, 5, 6, 7, 9, 10), (1, 4, 5, 6, 7, 9, 11), (1, 4, 5, 6, 7, 10, 11), (1, 4, 5, 6, 8, 9, 10), (1, 4, 5, 6, 8, 9, 11), (1, 4, 5, 6, 8, 10, 11), (1, 4, 5, 6, 9, 10, 11), (1, 4, 5, 7, 8, 9, 10), (1, 4, 5, 7, 8, 9, 11), (1, 4, 5, 7, 8, 10, 11), (1, 4, 5, 7, 9, 10, 11), (1, 4, 5, 8, 9, 10, 11), (1, 4, 6, 7, 8, 9, 10), (1, 4, 6, 7, 8, 9, 11), (1, 4, 6, 7, 8, 10, 11), (1, 4, 6, 7, 9, 10, 11), (1, 4, 6, 8, 9, 10, 11), (1, 4, 7, 8, 9, 10, 11), (1, 5, 6, 7, 8, 9, 10), (1, 5, 6, 7, 8, 9, 11), (1, 5, 6, 7, 8, 10, 11), (1, 5, 6, 7, 9, 10, 11), (1, 5, 6, 8, 9, 10, 11), (1, 5, 7, 8, 9, 10, 11), (1, 6, 7, 8, 9, 10, 11), (2, 3, 4, 5, 6, 7, 8), (2, 3, 4, 5, 6, 7, 9), (2, 3, 4, 5, 6, 7, 10), (2, 3, 4, 5, 6, 7, 11), (2, 3, 4, 5, 6, 8, 9), (2, 3, 4, 5, 6, 8, 10), (2, 3, 4, 5, 6, 8, 11), (2, 3, 4, 5, 6, 9, 10), (2, 3, 4, 5, 6, 9, 11), (2, 3, 4, 5, 6, 10, 11), (2, 3, 4, 5, 7, 8, 9), (2, 3, 4, 5, 7, 8, 10), (2, 3, 4, 5, 7, 8, 11), (2, 3, 4, 5, 7, 9, 10), (2, 3, 4, 5, 7, 9, 11), (2, 3, 4, 5, 7, 10, 11), (2, 3, 4, 5, 8, 9, 10), (2, 3, 4, 5, 8, 9, 11), (2, 3, 4, 5, 8, 10, 11), (2, 3, 4, 5, 9, 10, 11), (2, 3, 4, 6, 7, 8, 9), (2, 3, 4, 6, 7, 8, 10), (2, 3, 4, 6, 7, 8, 11), (2, 3, 4, 6, 7, 9, 10), (2, 3, 4, 6, 7, 9, 11), (2, 3, 4, 6, 7, 10, 11), (2, 3, 4, 6, 8, 9, 10), (2, 3, 4, 6, 8, 9, 11), (2, 3, 4, 6, 8, 10, 11), (2, 3, 4, 6, 9, 10, 11), (2, 3, 4, 7, 8, 9, 10), (2, 3, 4, 7, 8, 9, 11), (2, 3, 4, 7, 8, 10, 11), (2, 3, 4, 7, 9, 10, 11), (2, 3, 4, 8, 9, 10, 11), (2, 3, 5, 6, 7, 8, 9), (2, 3, 5, 6, 7, 8, 10), (2, 3, 5, 6, 7, 8, 11), (2, 3, 5, 6, 7, 9, 10), (2, 3, 5, 6, 7, 9, 11), (2, 3, 5, 6, 7, 10, 11), (2, 3, 5, 6, 8, 9, 10), (2, 3, 5, 6, 8, 9, 11), (2, 3, 5, 6, 8, 10, 11), (2, 3, 5, 6, 9, 10, 11), (2, 3, 5, 7, 8, 9, 10), (2, 3, 5, 7, 8, 9, 11), (2, 3, 5, 7, 8, 10, 11), (2, 3, 5, 7, 9, 10, 11), (2, 3, 5, 8, 9, 10, 11), (2, 3, 6, 7, 8, 9, 10), (2, 3, 6, 7, 8, 9, 11), (2, 3, 6, 7, 8, 10, 11), (2, 3, 6, 7, 9, 10, 11), (2, 3, 6, 8, 9, 10, 11), (2, 3, 7, 8, 9, 10, 11), (2, 4, 5, 6, 7, 8, 9), (2, 4, 5, 6, 7, 8, 10), (2, 4, 5, 6, 7, 8, 11), (2, 4, 5, 6, 7, 9, 10), (2, 4, 5, 6, 7, 9, 11), (2, 4, 5, 6, 7, 10, 11), (2, 4, 5, 6, 8, 9, 10), (2, 4, 5, 6, 8, 9, 11), (2, 4, 5, 6, 8, 10, 11), (2, 4, 5, 6, 9, 10, 11), (2, 4, 5, 7, 8, 9, 10), (2, 4, 5, 7, 8, 9, 11), (2, 4, 5, 7, 8, 10, 11), (2, 4, 5, 7, 9, 10, 11), (2, 4, 5, 8, 9, 10, 11), (2, 4, 6, 7, 8, 9, 10), (2, 4, 6, 7, 8, 9, 11), (2, 4, 6, 7, 8, 10, 11), (2, 4, 6, 7, 9, 10, 11), (2, 4, 6, 8, 9, 10, 11), (2, 4, 7, 8, 9, 10, 11), (2, 5, 6, 7, 8, 9, 10), (2, 5, 6, 7, 8, 9, 11), (2, 5, 6, 7, 8, 10, 11), (2, 5, 6, 7, 9, 10, 11), (2, 5, 6, 8, 9, 10, 11), (2, 5, 7, 8, 9, 10, 11), (2, 6, 7, 8, 9, 10, 11), (3, 4, 5, 6, 7, 8, 9), (3, 4, 5, 6, 7, 8, 10), (3, 4, 5, 6, 7, 8, 11), (3, 4, 5, 6, 7, 9, 10), (3, 4, 5, 6, 7, 9, 11), (3, 4, 5, 6, 7, 10, 11), (3, 4, 5, 6, 8, 9, 10), (3, 4, 5, 6, 8, 9, 11), (3, 4, 5, 6, 8, 10, 11), (3, 4, 5, 6, 9, 10, 11), (3, 4, 5, 7, 8, 9, 10), (3, 4, 5, 7, 8, 9, 11), (3, 4, 5, 7, 8, 10, 11), (3, 4, 5, 7, 9, 10, 11), (3, 4, 5, 8, 9, 10, 11), (3, 4, 6, 7, 8, 9, 10), (3, 4, 6, 7, 8, 9, 11), (3, 4, 6, 7, 8, 10, 11), (3, 4, 6, 7, 9, 10, 11), (3, 4, 6, 8, 9, 10, 11), (3, 4, 7, 8, 9, 10, 11), (3, 5, 6, 7, 8, 9, 10), (3, 5, 6, 7, 8, 9, 11), (3, 5, 6, 7, 8, 10, 11), (3, 5, 6, 7, 9, 10, 11), (3, 5, 6, 8, 9, 10, 11), (3, 5, 7, 8, 9, 10, 11), (3, 6, 7, 8, 9, 10, 11), (4, 5, 6, 7, 8, 9, 10), (4, 5, 6, 7, 8, 9, 11), (4, 5, 6, 7, 8, 10, 11), (4, 5, 6, 7, 9, 10, 11), (4, 5, 6, 8, 9, 10, 11), (4, 5, 7, 8, 9, 10, 11), (4, 6, 7, 8, 9, 10, 11), (5, 6, 7, 8, 9, 10, 11), (0, 1, 2, 3, 4, 5, 6, 7), (0, 1, 2, 3, 4, 5, 6, 8), (0, 1, 2, 3, 4, 5, 6, 9), (0, 1, 2, 3, 4, 5, 6, 10), (0, 1, 2, 3, 4, 5, 6, 11), (0, 1, 2, 3, 4, 5, 7, 8), (0, 1, 2, 3, 4, 5, 7, 9), (0, 1, 2, 3, 4, 5, 7, 10), (0, 1, 2, 3, 4, 5, 7, 11), (0, 1, 2, 3, 4, 5, 8, 9), (0, 1, 2, 3, 4, 5, 8, 10), (0, 1, 2, 3, 4, 5, 8, 11), (0, 1, 2, 3, 4, 5, 9, 10), (0, 1, 2, 3, 4, 5, 9, 11), (0, 1, 2, 3, 4, 5, 10, 11), (0, 1, 2, 3, 4, 6, 7, 8), (0, 1, 2, 3, 4, 6, 7, 9), (0, 1, 2, 3, 4, 6, 7, 10), (0, 1, 2, 3, 4, 6, 7, 11), (0, 1, 2, 3, 4, 6, 8, 9), (0, 1, 2, 3, 4, 6, 8, 10), (0, 1, 2, 3, 4, 6, 8, 11), (0, 1, 2, 3, 4, 6, 9, 10), (0, 1, 2, 3, 4, 6, 9, 11), (0, 1, 2, 3, 4, 6, 10, 11), (0, 1, 2, 3, 4, 7, 8, 9), (0, 1, 2, 3, 4, 7, 8, 10), (0, 1, 2, 3, 4, 7, 8, 11), (0, 1, 2, 3, 4, 7, 9, 10), (0, 1, 2, 3, 4, 7, 9, 11), (0, 1, 2, 3, 4, 7, 10, 11), (0, 1, 2, 3, 4, 8, 9, 10), (0, 1, 2, 3, 4, 8, 9, 11), (0, 1, 2, 3, 4, 8, 10, 11), (0, 1, 2, 3, 4, 9, 10, 11), (0, 1, 2, 3, 5, 6, 7, 8), (0, 1, 2, 3, 5, 6, 7, 9), (0, 1, 2, 3, 5, 6, 7, 10), (0, 1, 2, 3, 5, 6, 7, 11), (0, 1, 2, 3, 5, 6, 8, 9), (0, 1, 2, 3, 5, 6, 8, 10), (0, 1, 2, 3, 5, 6, 8, 11), (0, 1, 2, 3, 5, 6, 9, 10), (0, 1, 2, 3, 5, 6, 9, 11), (0, 1, 2, 3, 5, 6, 10, 11), (0, 1, 2, 3, 5, 7, 8, 9), (0, 1, 2, 3, 5, 7, 8, 10), (0, 1, 2, 3, 5, 7, 8, 11), (0, 1, 2, 3, 5, 7, 9, 10), (0, 1, 2, 3, 5, 7, 9, 11), (0, 1, 2, 3, 5, 7, 10, 11), (0, 1, 2, 3, 5, 8, 9, 10), (0, 1, 2, 3, 5, 8, 9, 11), (0, 1, 2, 3, 5, 8, 10, 11), (0, 1, 2, 3, 5, 9, 10, 11), (0, 1, 2, 3, 6, 7, 8, 9), (0, 1, 2, 3, 6, 7, 8, 10), (0, 1, 2, 3, 6, 7, 8, 11), (0, 1, 2, 3, 6, 7, 9, 10), (0, 1, 2, 3, 6, 7, 9, 11), (0, 1, 2, 3, 6, 7, 10, 11), (0, 1, 2, 3, 6, 8, 9, 10), (0, 1, 2, 3, 6, 8, 9, 11), (0, 1, 2, 3, 6, 8, 10, 11), (0, 1, 2, 3, 6, 9, 10, 11), (0, 1, 2, 3, 7, 8, 9, 10), (0, 1, 2, 3, 7, 8, 9, 11), (0, 1, 2, 3, 7, 8, 10, 11), (0, 1, 2, 3, 7, 9, 10, 11), (0, 1, 2, 3, 8, 9, 10, 11), (0, 1, 2, 4, 5, 6, 7, 8), (0, 1, 2, 4, 5, 6, 7, 9), (0, 1, 2, 4, 5, 6, 7, 10), (0, 1, 2, 4, 5, 6, 7, 11), (0, 1, 2, 4, 5, 6, 8, 9), (0, 1, 2, 4, 5, 6, 8, 10), (0, 1, 2, 4, 5, 6, 8, 11), (0, 1, 2, 4, 5, 6, 9, 10), (0, 1, 2, 4, 5, 6, 9, 11), (0, 1, 2, 4, 5, 6, 10, 11), (0, 1, 2, 4, 5, 7, 8, 9), (0, 1, 2, 4, 5, 7, 8, 10), (0, 1, 2, 4, 5, 7, 8, 11), (0, 1, 2, 4, 5, 7, 9, 10), (0, 1, 2, 4, 5, 7, 9, 11), (0, 1, 2, 4, 5, 7, 10, 11), (0, 1, 2, 4, 5, 8, 9, 10), (0, 1, 2, 4, 5, 8, 9, 11), (0, 1, 2, 4, 5, 8, 10, 11), (0, 1, 2, 4, 5, 9, 10, 11), (0, 1, 2, 4, 6, 7, 8, 9), (0, 1, 2, 4, 6, 7, 8, 10), (0, 1, 2, 4, 6, 7, 8, 11), (0, 1, 2, 4, 6, 7, 9, 10), (0, 1, 2, 4, 6, 7, 9, 11), (0, 1, 2, 4, 6, 7, 10, 11), (0, 1, 2, 4, 6, 8, 9, 10), (0, 1, 2, 4, 6, 8, 9, 11), (0, 1, 2, 4, 6, 8, 10, 11), (0, 1, 2, 4, 6, 9, 10, 11), (0, 1, 2, 4, 7, 8, 9, 10), (0, 1, 2, 4, 7, 8, 9, 11), (0, 1, 2, 4, 7, 8, 10, 11), (0, 1, 2, 4, 7, 9, 10, 11), (0, 1, 2, 4, 8, 9, 10, 11), (0, 1, 2, 5, 6, 7, 8, 9), (0, 1, 2, 5, 6, 7, 8, 10), (0, 1, 2, 5, 6, 7, 8, 11), (0, 1, 2, 5, 6, 7, 9, 10), (0, 1, 2, 5, 6, 7, 9, 11), (0, 1, 2, 5, 6, 7, 10, 11), (0, 1, 2, 5, 6, 8, 9, 10), (0, 1, 2, 5, 6, 8, 9, 11), (0, 1, 2, 5, 6, 8, 10, 11), (0, 1, 2, 5, 6, 9, 10, 11), (0, 1, 2, 5, 7, 8, 9, 10), (0, 1, 2, 5, 7, 8, 9, 11), (0, 1, 2, 5, 7, 8, 10, 11), (0, 1, 2, 5, 7, 9, 10, 11), (0, 1, 2, 5, 8, 9, 10, 11), (0, 1, 2, 6, 7, 8, 9, 10), (0, 1, 2, 6, 7, 8, 9, 11), (0, 1, 2, 6, 7, 8, 10, 11), (0, 1, 2, 6, 7, 9, 10, 11), (0, 1, 2, 6, 8, 9, 10, 11), (0, 1, 2, 7, 8, 9, 10, 11), (0, 1, 3, 4, 5, 6, 7, 8), (0, 1, 3, 4, 5, 6, 7, 9), (0, 1, 3, 4, 5, 6, 7, 10), (0, 1, 3, 4, 5, 6, 7, 11), (0, 1, 3, 4, 5, 6, 8, 9), (0, 1, 3, 4, 5, 6, 8, 10), (0, 1, 3, 4, 5, 6, 8, 11), (0, 1, 3, 4, 5, 6, 9, 10), (0, 1, 3, 4, 5, 6, 9, 11), (0, 1, 3, 4, 5, 6, 10, 11), (0, 1, 3, 4, 5, 7, 8, 9), (0, 1, 3, 4, 5, 7, 8, 10), (0, 1, 3, 4, 5, 7, 8, 11), (0, 1, 3, 4, 5, 7, 9, 10), (0, 1, 3, 4, 5, 7, 9, 11), (0, 1, 3, 4, 5, 7, 10, 11), (0, 1, 3, 4, 5, 8, 9, 10), (0, 1, 3, 4, 5, 8, 9, 11), (0, 1, 3, 4, 5, 8, 10, 11), (0, 1, 3, 4, 5, 9, 10, 11), (0, 1, 3, 4, 6, 7, 8, 9), (0, 1, 3, 4, 6, 7, 8, 10), (0, 1, 3, 4, 6, 7, 8, 11), (0, 1, 3, 4, 6, 7, 9, 10), (0, 1, 3, 4, 6, 7, 9, 11), (0, 1, 3, 4, 6, 7, 10, 11), (0, 1, 3, 4, 6, 8, 9, 10), (0, 1, 3, 4, 6, 8, 9, 11), (0, 1, 3, 4, 6, 8, 10, 11), (0, 1, 3, 4, 6, 9, 10, 11), (0, 1, 3, 4, 7, 8, 9, 10), (0, 1, 3, 4, 7, 8, 9, 11), (0, 1, 3, 4, 7, 8, 10, 11), (0, 1, 3, 4, 7, 9, 10, 11), (0, 1, 3, 4, 8, 9, 10, 11), (0, 1, 3, 5, 6, 7, 8, 9), (0, 1, 3, 5, 6, 7, 8, 10), (0, 1, 3, 5, 6, 7, 8, 11), (0, 1, 3, 5, 6, 7, 9, 10), (0, 1, 3, 5, 6, 7, 9, 11), (0, 1, 3, 5, 6, 7, 10, 11), (0, 1, 3, 5, 6, 8, 9, 10), (0, 1, 3, 5, 6, 8, 9, 11), (0, 1, 3, 5, 6, 8, 10, 11), (0, 1, 3, 5, 6, 9, 10, 11), (0, 1, 3, 5, 7, 8, 9, 10), (0, 1, 3, 5, 7, 8, 9, 11), (0, 1, 3, 5, 7, 8, 10, 11), (0, 1, 3, 5, 7, 9, 10, 11), (0, 1, 3, 5, 8, 9, 10, 11), (0, 1, 3, 6, 7, 8, 9, 10), (0, 1, 3, 6, 7, 8, 9, 11), (0, 1, 3, 6, 7, 8, 10, 11), (0, 1, 3, 6, 7, 9, 10, 11), (0, 1, 3, 6, 8, 9, 10, 11), (0, 1, 3, 7, 8, 9, 10, 11), (0, 1, 4, 5, 6, 7, 8, 9), (0, 1, 4, 5, 6, 7, 8, 10), (0, 1, 4, 5, 6, 7, 8, 11), (0, 1, 4, 5, 6, 7, 9, 10), (0, 1, 4, 5, 6, 7, 9, 11), (0, 1, 4, 5, 6, 7, 10, 11), (0, 1, 4, 5, 6, 8, 9, 10), (0, 1, 4, 5, 6, 8, 9, 11), (0, 1, 4, 5, 6, 8, 10, 11), (0, 1, 4, 5, 6, 9, 10, 11), (0, 1, 4, 5, 7, 8, 9, 10), (0, 1, 4, 5, 7, 8, 9, 11), (0, 1, 4, 5, 7, 8, 10, 11), (0, 1, 4, 5, 7, 9, 10, 11), (0, 1, 4, 5, 8, 9, 10, 11), (0, 1, 4, 6, 7, 8, 9, 10), (0, 1, 4, 6, 7, 8, 9, 11), (0, 1, 4, 6, 7, 8, 10, 11), (0, 1, 4, 6, 7, 9, 10, 11), (0, 1, 4, 6, 8, 9, 10, 11), (0, 1, 4, 7, 8, 9, 10, 11), (0, 1, 5, 6, 7, 8, 9, 10), (0, 1, 5, 6, 7, 8, 9, 11), (0, 1, 5, 6, 7, 8, 10, 11), (0, 1, 5, 6, 7, 9, 10, 11), (0, 1, 5, 6, 8, 9, 10, 11), (0, 1, 5, 7, 8, 9, 10, 11), (0, 1, 6, 7, 8, 9, 10, 11), (0, 2, 3, 4, 5, 6, 7, 8), (0, 2, 3, 4, 5, 6, 7, 9), (0, 2, 3, 4, 5, 6, 7, 10), (0, 2, 3, 4, 5, 6, 7, 11), (0, 2, 3, 4, 5, 6, 8, 9), (0, 2, 3, 4, 5, 6, 8, 10), (0, 2, 3, 4, 5, 6, 8, 11), (0, 2, 3, 4, 5, 6, 9, 10), (0, 2, 3, 4, 5, 6, 9, 11), (0, 2, 3, 4, 5, 6, 10, 11), (0, 2, 3, 4, 5, 7, 8, 9), (0, 2, 3, 4, 5, 7, 8, 10), (0, 2, 3, 4, 5, 7, 8, 11), (0, 2, 3, 4, 5, 7, 9, 10), (0, 2, 3, 4, 5, 7, 9, 11), (0, 2, 3, 4, 5, 7, 10, 11), (0, 2, 3, 4, 5, 8, 9, 10), (0, 2, 3, 4, 5, 8, 9, 11), (0, 2, 3, 4, 5, 8, 10, 11), (0, 2, 3, 4, 5, 9, 10, 11), (0, 2, 3, 4, 6, 7, 8, 9), (0, 2, 3, 4, 6, 7, 8, 10), (0, 2, 3, 4, 6, 7, 8, 11), (0, 2, 3, 4, 6, 7, 9, 10), (0, 2, 3, 4, 6, 7, 9, 11), (0, 2, 3, 4, 6, 7, 10, 11), (0, 2, 3, 4, 6, 8, 9, 10), (0, 2, 3, 4, 6, 8, 9, 11), (0, 2, 3, 4, 6, 8, 10, 11), (0, 2, 3, 4, 6, 9, 10, 11), (0, 2, 3, 4, 7, 8, 9, 10), (0, 2, 3, 4, 7, 8, 9, 11), (0, 2, 3, 4, 7, 8, 10, 11), (0, 2, 3, 4, 7, 9, 10, 11), (0, 2, 3, 4, 8, 9, 10, 11), (0, 2, 3, 5, 6, 7, 8, 9), (0, 2, 3, 5, 6, 7, 8, 10), (0, 2, 3, 5, 6, 7, 8, 11), (0, 2, 3, 5, 6, 7, 9, 10), (0, 2, 3, 5, 6, 7, 9, 11), (0, 2, 3, 5, 6, 7, 10, 11), (0, 2, 3, 5, 6, 8, 9, 10), (0, 2, 3, 5, 6, 8, 9, 11), (0, 2, 3, 5, 6, 8, 10, 11), (0, 2, 3, 5, 6, 9, 10, 11), (0, 2, 3, 5, 7, 8, 9, 10), (0, 2, 3, 5, 7, 8, 9, 11), (0, 2, 3, 5, 7, 8, 10, 11), (0, 2, 3, 5, 7, 9, 10, 11), (0, 2, 3, 5, 8, 9, 10, 11), (0, 2, 3, 6, 7, 8, 9, 10), (0, 2, 3, 6, 7, 8, 9, 11), (0, 2, 3, 6, 7, 8, 10, 11), (0, 2, 3, 6, 7, 9, 10, 11), (0, 2, 3, 6, 8, 9, 10, 11), (0, 2, 3, 7, 8, 9, 10, 11), (0, 2, 4, 5, 6, 7, 8, 9), (0, 2, 4, 5, 6, 7, 8, 10), (0, 2, 4, 5, 6, 7, 8, 11), (0, 2, 4, 5, 6, 7, 9, 10), (0, 2, 4, 5, 6, 7, 9, 11), (0, 2, 4, 5, 6, 7, 10, 11), (0, 2, 4, 5, 6, 8, 9, 10), (0, 2, 4, 5, 6, 8, 9, 11), (0, 2, 4, 5, 6, 8, 10, 11), (0, 2, 4, 5, 6, 9, 10, 11), (0, 2, 4, 5, 7, 8, 9, 10), (0, 2, 4, 5, 7, 8, 9, 11), (0, 2, 4, 5, 7, 8, 10, 11), (0, 2, 4, 5, 7, 9, 10, 11), (0, 2, 4, 5, 8, 9, 10, 11), (0, 2, 4, 6, 7, 8, 9, 10), (0, 2, 4, 6, 7, 8, 9, 11), (0, 2, 4, 6, 7, 8, 10, 11), (0, 2, 4, 6, 7, 9, 10, 11), (0, 2, 4, 6, 8, 9, 10, 11), (0, 2, 4, 7, 8, 9, 10, 11), (0, 2, 5, 6, 7, 8, 9, 10), (0, 2, 5, 6, 7, 8, 9, 11), (0, 2, 5, 6, 7, 8, 10, 11), (0, 2, 5, 6, 7, 9, 10, 11), (0, 2, 5, 6, 8, 9, 10, 11), (0, 2, 5, 7, 8, 9, 10, 11), (0, 2, 6, 7, 8, 9, 10, 11), (0, 3, 4, 5, 6, 7, 8, 9), (0, 3, 4, 5, 6, 7, 8, 10), (0, 3, 4, 5, 6, 7, 8, 11), (0, 3, 4, 5, 6, 7, 9, 10), (0, 3, 4, 5, 6, 7, 9, 11), (0, 3, 4, 5, 6, 7, 10, 11), (0, 3, 4, 5, 6, 8, 9, 10), (0, 3, 4, 5, 6, 8, 9, 11), (0, 3, 4, 5, 6, 8, 10, 11), (0, 3, 4, 5, 6, 9, 10, 11), (0, 3, 4, 5, 7, 8, 9, 10), (0, 3, 4, 5, 7, 8, 9, 11), (0, 3, 4, 5, 7, 8, 10, 11), (0, 3, 4, 5, 7, 9, 10, 11), (0, 3, 4, 5, 8, 9, 10, 11), (0, 3, 4, 6, 7, 8, 9, 10), (0, 3, 4, 6, 7, 8, 9, 11), (0, 3, 4, 6, 7, 8, 10, 11), (0, 3, 4, 6, 7, 9, 10, 11), (0, 3, 4, 6, 8, 9, 10, 11), (0, 3, 4, 7, 8, 9, 10, 11), (0, 3, 5, 6, 7, 8, 9, 10), (0, 3, 5, 6, 7, 8, 9, 11), (0, 3, 5, 6, 7, 8, 10, 11), (0, 3, 5, 6, 7, 9, 10, 11), (0, 3, 5, 6, 8, 9, 10, 11), (0, 3, 5, 7, 8, 9, 10, 11), (0, 3, 6, 7, 8, 9, 10, 11), (0, 4, 5, 6, 7, 8, 9, 10), (0, 4, 5, 6, 7, 8, 9, 11), (0, 4, 5, 6, 7, 8, 10, 11), (0, 4, 5, 6, 7, 9, 10, 11), (0, 4, 5, 6, 8, 9, 10, 11), (0, 4, 5, 7, 8, 9, 10, 11), (0, 4, 6, 7, 8, 9, 10, 11), (0, 5, 6, 7, 8, 9, 10, 11), (1, 2, 3, 4, 5, 6, 7, 8), (1, 2, 3, 4, 5, 6, 7, 9), (1, 2, 3, 4, 5, 6, 7, 10), (1, 2, 3, 4, 5, 6, 7, 11), (1, 2, 3, 4, 5, 6, 8, 9), (1, 2, 3, 4, 5, 6, 8, 10), (1, 2, 3, 4, 5, 6, 8, 11), (1, 2, 3, 4, 5, 6, 9, 10), (1, 2, 3, 4, 5, 6, 9, 11), (1, 2, 3, 4, 5, 6, 10, 11), (1, 2, 3, 4, 5, 7, 8, 9), (1, 2, 3, 4, 5, 7, 8, 10), (1, 2, 3, 4, 5, 7, 8, 11), (1, 2, 3, 4, 5, 7, 9, 10), (1, 2, 3, 4, 5, 7, 9, 11), (1, 2, 3, 4, 5, 7, 10, 11), (1, 2, 3, 4, 5, 8, 9, 10), (1, 2, 3, 4, 5, 8, 9, 11), (1, 2, 3, 4, 5, 8, 10, 11), (1, 2, 3, 4, 5, 9, 10, 11), (1, 2, 3, 4, 6, 7, 8, 9), (1, 2, 3, 4, 6, 7, 8, 10), (1, 2, 3, 4, 6, 7, 8, 11), (1, 2, 3, 4, 6, 7, 9, 10), (1, 2, 3, 4, 6, 7, 9, 11), (1, 2, 3, 4, 6, 7, 10, 11), (1, 2, 3, 4, 6, 8, 9, 10), (1, 2, 3, 4, 6, 8, 9, 11), (1, 2, 3, 4, 6, 8, 10, 11), (1, 2, 3, 4, 6, 9, 10, 11), (1, 2, 3, 4, 7, 8, 9, 10), (1, 2, 3, 4, 7, 8, 9, 11), (1, 2, 3, 4, 7, 8, 10, 11), (1, 2, 3, 4, 7, 9, 10, 11), (1, 2, 3, 4, 8, 9, 10, 11), (1, 2, 3, 5, 6, 7, 8, 9), (1, 2, 3, 5, 6, 7, 8, 10), (1, 2, 3, 5, 6, 7, 8, 11), (1, 2, 3, 5, 6, 7, 9, 10), (1, 2, 3, 5, 6, 7, 9, 11), (1, 2, 3, 5, 6, 7, 10, 11), (1, 2, 3, 5, 6, 8, 9, 10), (1, 2, 3, 5, 6, 8, 9, 11), (1, 2, 3, 5, 6, 8, 10, 11), (1, 2, 3, 5, 6, 9, 10, 11), (1, 2, 3, 5, 7, 8, 9, 10), (1, 2, 3, 5, 7, 8, 9, 11), (1, 2, 3, 5, 7, 8, 10, 11), (1, 2, 3, 5, 7, 9, 10, 11), (1, 2, 3, 5, 8, 9, 10, 11), (1, 2, 3, 6, 7, 8, 9, 10), (1, 2, 3, 6, 7, 8, 9, 11), (1, 2, 3, 6, 7, 8, 10, 11), (1, 2, 3, 6, 7, 9, 10, 11), (1, 2, 3, 6, 8, 9, 10, 11), (1, 2, 3, 7, 8, 9, 10, 11), (1, 2, 4, 5, 6, 7, 8, 9), (1, 2, 4, 5, 6, 7, 8, 10), (1, 2, 4, 5, 6, 7, 8, 11), (1, 2, 4, 5, 6, 7, 9, 10), (1, 2, 4, 5, 6, 7, 9, 11), (1, 2, 4, 5, 6, 7, 10, 11), (1, 2, 4, 5, 6, 8, 9, 10), (1, 2, 4, 5, 6, 8, 9, 11), (1, 2, 4, 5, 6, 8, 10, 11), (1, 2, 4, 5, 6, 9, 10, 11), (1, 2, 4, 5, 7, 8, 9, 10), (1, 2, 4, 5, 7, 8, 9, 11), (1, 2, 4, 5, 7, 8, 10, 11), (1, 2, 4, 5, 7, 9, 10, 11), (1, 2, 4, 5, 8, 9, 10, 11), (1, 2, 4, 6, 7, 8, 9, 10), (1, 2, 4, 6, 7, 8, 9, 11), (1, 2, 4, 6, 7, 8, 10, 11), (1, 2, 4, 6, 7, 9, 10, 11), (1, 2, 4, 6, 8, 9, 10, 11), (1, 2, 4, 7, 8, 9, 10, 11), (1, 2, 5, 6, 7, 8, 9, 10), (1, 2, 5, 6, 7, 8, 9, 11), (1, 2, 5, 6, 7, 8, 10, 11), (1, 2, 5, 6, 7, 9, 10, 11), (1, 2, 5, 6, 8, 9, 10, 11), (1, 2, 5, 7, 8, 9, 10, 11), (1, 2, 6, 7, 8, 9, 10, 11), (1, 3, 4, 5, 6, 7, 8, 9), (1, 3, 4, 5, 6, 7, 8, 10), (1, 3, 4, 5, 6, 7, 8, 11), (1, 3, 4, 5, 6, 7, 9, 10), (1, 3, 4, 5, 6, 7, 9, 11), (1, 3, 4, 5, 6, 7, 10, 11), (1, 3, 4, 5, 6, 8, 9, 10), (1, 3, 4, 5, 6, 8, 9, 11), (1, 3, 4, 5, 6, 8, 10, 11), (1, 3, 4, 5, 6, 9, 10, 11), (1, 3, 4, 5, 7, 8, 9, 10), (1, 3, 4, 5, 7, 8, 9, 11), (1, 3, 4, 5, 7, 8, 10, 11), (1, 3, 4, 5, 7, 9, 10, 11), (1, 3, 4, 5, 8, 9, 10, 11), (1, 3, 4, 6, 7, 8, 9, 10), (1, 3, 4, 6, 7, 8, 9, 11), (1, 3, 4, 6, 7, 8, 10, 11), (1, 3, 4, 6, 7, 9, 10, 11), (1, 3, 4, 6, 8, 9, 10, 11), (1, 3, 4, 7, 8, 9, 10, 11), (1, 3, 5, 6, 7, 8, 9, 10), (1, 3, 5, 6, 7, 8, 9, 11), (1, 3, 5, 6, 7, 8, 10, 11), (1, 3, 5, 6, 7, 9, 10, 11), (1, 3, 5, 6, 8, 9, 10, 11), (1, 3, 5, 7, 8, 9, 10, 11), (1, 3, 6, 7, 8, 9, 10, 11), (1, 4, 5, 6, 7, 8, 9, 10), (1, 4, 5, 6, 7, 8, 9, 11), (1, 4, 5, 6, 7, 8, 10, 11), (1, 4, 5, 6, 7, 9, 10, 11), (1, 4, 5, 6, 8, 9, 10, 11), (1, 4, 5, 7, 8, 9, 10, 11), (1, 4, 6, 7, 8, 9, 10, 11), (1, 5, 6, 7, 8, 9, 10, 11), (2, 3, 4, 5, 6, 7, 8, 9), (2, 3, 4, 5, 6, 7, 8, 10), (2, 3, 4, 5, 6, 7, 8, 11), (2, 3, 4, 5, 6, 7, 9, 10), (2, 3, 4, 5, 6, 7, 9, 11), (2, 3, 4, 5, 6, 7, 10, 11), (2, 3, 4, 5, 6, 8, 9, 10), (2, 3, 4, 5, 6, 8, 9, 11), (2, 3, 4, 5, 6, 8, 10, 11), (2, 3, 4, 5, 6, 9, 10, 11), (2, 3, 4, 5, 7, 8, 9, 10), (2, 3, 4, 5, 7, 8, 9, 11), (2, 3, 4, 5, 7, 8, 10, 11), (2, 3, 4, 5, 7, 9, 10, 11), (2, 3, 4, 5, 8, 9, 10, 11), (2, 3, 4, 6, 7, 8, 9, 10), (2, 3, 4, 6, 7, 8, 9, 11), (2, 3, 4, 6, 7, 8, 10, 11), (2, 3, 4, 6, 7, 9, 10, 11), (2, 3, 4, 6, 8, 9, 10, 11), (2, 3, 4, 7, 8, 9, 10, 11), (2, 3, 5, 6, 7, 8, 9, 10), (2, 3, 5, 6, 7, 8, 9, 11), (2, 3, 5, 6, 7, 8, 10, 11), (2, 3, 5, 6, 7, 9, 10, 11), (2, 3, 5, 6, 8, 9, 10, 11), (2, 3, 5, 7, 8, 9, 10, 11), (2, 3, 6, 7, 8, 9, 10, 11), (2, 4, 5, 6, 7, 8, 9, 10), (2, 4, 5, 6, 7, 8, 9, 11), (2, 4, 5, 6, 7, 8, 10, 11), (2, 4, 5, 6, 7, 9, 10, 11), (2, 4, 5, 6, 8, 9, 10, 11), (2, 4, 5, 7, 8, 9, 10, 11), (2, 4, 6, 7, 8, 9, 10, 11), (2, 5, 6, 7, 8, 9, 10, 11), (3, 4, 5, 6, 7, 8, 9, 10), (3, 4, 5, 6, 7, 8, 9, 11), (3, 4, 5, 6, 7, 8, 10, 11), (3, 4, 5, 6, 7, 9, 10, 11), (3, 4, 5, 6, 8, 9, 10, 11), (3, 4, 5, 7, 8, 9, 10, 11), (3, 4, 6, 7, 8, 9, 10, 11), (3, 5, 6, 7, 8, 9, 10, 11), (4, 5, 6, 7, 8, 9, 10, 11), (0, 1, 2, 3, 4, 5, 6, 7, 8), (0, 1, 2, 3, 4, 5, 6, 7, 9), (0, 1, 2, 3, 4, 5, 6, 7, 10), (0, 1, 2, 3, 4, 5, 6, 7, 11), (0, 1, 2, 3, 4, 5, 6, 8, 9), (0, 1, 2, 3, 4, 5, 6, 8, 10), (0, 1, 2, 3, 4, 5, 6, 8, 11), (0, 1, 2, 3, 4, 5, 6, 9, 10), (0, 1, 2, 3, 4, 5, 6, 9, 11), (0, 1, 2, 3, 4, 5, 6, 10, 11), (0, 1, 2, 3, 4, 5, 7, 8, 9), (0, 1, 2, 3, 4, 5, 7, 8, 10), (0, 1, 2, 3, 4, 5, 7, 8, 11), (0, 1, 2, 3, 4, 5, 7, 9, 10), (0, 1, 2, 3, 4, 5, 7, 9, 11), (0, 1, 2, 3, 4, 5, 7, 10, 11), (0, 1, 2, 3, 4, 5, 8, 9, 10), (0, 1, 2, 3, 4, 5, 8, 9, 11), (0, 1, 2, 3, 4, 5, 8, 10, 11), (0, 1, 2, 3, 4, 5, 9, 10, 11), (0, 1, 2, 3, 4, 6, 7, 8, 9), (0, 1, 2, 3, 4, 6, 7, 8, 10), (0, 1, 2, 3, 4, 6, 7, 8, 11), (0, 1, 2, 3, 4, 6, 7, 9, 10), (0, 1, 2, 3, 4, 6, 7, 9, 11), (0, 1, 2, 3, 4, 6, 7, 10, 11), (0, 1, 2, 3, 4, 6, 8, 9, 10), (0, 1, 2, 3, 4, 6, 8, 9, 11), (0, 1, 2, 3, 4, 6, 8, 10, 11), (0, 1, 2, 3, 4, 6, 9, 10, 11), (0, 1, 2, 3, 4, 7, 8, 9, 10), (0, 1, 2, 3, 4, 7, 8, 9, 11), (0, 1, 2, 3, 4, 7, 8, 10, 11), (0, 1, 2, 3, 4, 7, 9, 10, 11), (0, 1, 2, 3, 4, 8, 9, 10, 11), (0, 1, 2, 3, 5, 6, 7, 8, 9), (0, 1, 2, 3, 5, 6, 7, 8, 10), (0, 1, 2, 3, 5, 6, 7, 8, 11), (0, 1, 2, 3, 5, 6, 7, 9, 10), (0, 1, 2, 3, 5, 6, 7, 9, 11), (0, 1, 2, 3, 5, 6, 7, 10, 11), (0, 1, 2, 3, 5, 6, 8, 9, 10), (0, 1, 2, 3, 5, 6, 8, 9, 11), (0, 1, 2, 3, 5, 6, 8, 10, 11), (0, 1, 2, 3, 5, 6, 9, 10, 11), (0, 1, 2, 3, 5, 7, 8, 9, 10), (0, 1, 2, 3, 5, 7, 8, 9, 11), (0, 1, 2, 3, 5, 7, 8, 10, 11), (0, 1, 2, 3, 5, 7, 9, 10, 11), (0, 1, 2, 3, 5, 8, 9, 10, 11), (0, 1, 2, 3, 6, 7, 8, 9, 10), (0, 1, 2, 3, 6, 7, 8, 9, 11), (0, 1, 2, 3, 6, 7, 8, 10, 11), (0, 1, 2, 3, 6, 7, 9, 10, 11), (0, 1, 2, 3, 6, 8, 9, 10, 11), (0, 1, 2, 3, 7, 8, 9, 10, 11), (0, 1, 2, 4, 5, 6, 7, 8, 9), (0, 1, 2, 4, 5, 6, 7, 8, 10), (0, 1, 2, 4, 5, 6, 7, 8, 11), (0, 1, 2, 4, 5, 6, 7, 9, 10), (0, 1, 2, 4, 5, 6, 7, 9, 11), (0, 1, 2, 4, 5, 6, 7, 10, 11), (0, 1, 2, 4, 5, 6, 8, 9, 10), (0, 1, 2, 4, 5, 6, 8, 9, 11), (0, 1, 2, 4, 5, 6, 8, 10, 11), (0, 1, 2, 4, 5, 6, 9, 10, 11), (0, 1, 2, 4, 5, 7, 8, 9, 10), (0, 1, 2, 4, 5, 7, 8, 9, 11), (0, 1, 2, 4, 5, 7, 8, 10, 11), (0, 1, 2, 4, 5, 7, 9, 10, 11), (0, 1, 2, 4, 5, 8, 9, 10, 11), (0, 1, 2, 4, 6, 7, 8, 9, 10), (0, 1, 2, 4, 6, 7, 8, 9, 11), (0, 1, 2, 4, 6, 7, 8, 10, 11), (0, 1, 2, 4, 6, 7, 9, 10, 11), (0, 1, 2, 4, 6, 8, 9, 10, 11), (0, 1, 2, 4, 7, 8, 9, 10, 11), (0, 1, 2, 5, 6, 7, 8, 9, 10), (0, 1, 2, 5, 6, 7, 8, 9, 11), (0, 1, 2, 5, 6, 7, 8, 10, 11), (0, 1, 2, 5, 6, 7, 9, 10, 11), (0, 1, 2, 5, 6, 8, 9, 10, 11), (0, 1, 2, 5, 7, 8, 9, 10, 11), (0, 1, 2, 6, 7, 8, 9, 10, 11), (0, 1, 3, 4, 5, 6, 7, 8, 9), (0, 1, 3, 4, 5, 6, 7, 8, 10), (0, 1, 3, 4, 5, 6, 7, 8, 11), (0, 1, 3, 4, 5, 6, 7, 9, 10), (0, 1, 3, 4, 5, 6, 7, 9, 11), (0, 1, 3, 4, 5, 6, 7, 10, 11), (0, 1, 3, 4, 5, 6, 8, 9, 10), (0, 1, 3, 4, 5, 6, 8, 9, 11), (0, 1, 3, 4, 5, 6, 8, 10, 11), (0, 1, 3, 4, 5, 6, 9, 10, 11), (0, 1, 3, 4, 5, 7, 8, 9, 10), (0, 1, 3, 4, 5, 7, 8, 9, 11), (0, 1, 3, 4, 5, 7, 8, 10, 11), (0, 1, 3, 4, 5, 7, 9, 10, 11), (0, 1, 3, 4, 5, 8, 9, 10, 11), (0, 1, 3, 4, 6, 7, 8, 9, 10), (0, 1, 3, 4, 6, 7, 8, 9, 11), (0, 1, 3, 4, 6, 7, 8, 10, 11), (0, 1, 3, 4, 6, 7, 9, 10, 11), (0, 1, 3, 4, 6, 8, 9, 10, 11), (0, 1, 3, 4, 7, 8, 9, 10, 11), (0, 1, 3, 5, 6, 7, 8, 9, 10), (0, 1, 3, 5, 6, 7, 8, 9, 11), (0, 1, 3, 5, 6, 7, 8, 10, 11), (0, 1, 3, 5, 6, 7, 9, 10, 11), (0, 1, 3, 5, 6, 8, 9, 10, 11), (0, 1, 3, 5, 7, 8, 9, 10, 11), (0, 1, 3, 6, 7, 8, 9, 10, 11), (0, 1, 4, 5, 6, 7, 8, 9, 10), (0, 1, 4, 5, 6, 7, 8, 9, 11), (0, 1, 4, 5, 6, 7, 8, 10, 11), (0, 1, 4, 5, 6, 7, 9, 10, 11), (0, 1, 4, 5, 6, 8, 9, 10, 11), (0, 1, 4, 5, 7, 8, 9, 10, 11), (0, 1, 4, 6, 7, 8, 9, 10, 11), (0, 1, 5, 6, 7, 8, 9, 10, 11), (0, 2, 3, 4, 5, 6, 7, 8, 9), (0, 2, 3, 4, 5, 6, 7, 8, 10), (0, 2, 3, 4, 5, 6, 7, 8, 11), (0, 2, 3, 4, 5, 6, 7, 9, 10), (0, 2, 3, 4, 5, 6, 7, 9, 11), (0, 2, 3, 4, 5, 6, 7, 10, 11), (0, 2, 3, 4, 5, 6, 8, 9, 10), (0, 2, 3, 4, 5, 6, 8, 9, 11), (0, 2, 3, 4, 5, 6, 8, 10, 11), (0, 2, 3, 4, 5, 6, 9, 10, 11), (0, 2, 3, 4, 5, 7, 8, 9, 10), (0, 2, 3, 4, 5, 7, 8, 9, 11), (0, 2, 3, 4, 5, 7, 8, 10, 11), (0, 2, 3, 4, 5, 7, 9, 10, 11), (0, 2, 3, 4, 5, 8, 9, 10, 11), (0, 2, 3, 4, 6, 7, 8, 9, 10), (0, 2, 3, 4, 6, 7, 8, 9, 11), (0, 2, 3, 4, 6, 7, 8, 10, 11), (0, 2, 3, 4, 6, 7, 9, 10, 11), (0, 2, 3, 4, 6, 8, 9, 10, 11), (0, 2, 3, 4, 7, 8, 9, 10, 11), (0, 2, 3, 5, 6, 7, 8, 9, 10), (0, 2, 3, 5, 6, 7, 8, 9, 11), (0, 2, 3, 5, 6, 7, 8, 10, 11), (0, 2, 3, 5, 6, 7, 9, 10, 11), (0, 2, 3, 5, 6, 8, 9, 10, 11), (0, 2, 3, 5, 7, 8, 9, 10, 11), (0, 2, 3, 6, 7, 8, 9, 10, 11), (0, 2, 4, 5, 6, 7, 8, 9, 10), (0, 2, 4, 5, 6, 7, 8, 9, 11), (0, 2, 4, 5, 6, 7, 8, 10, 11), (0, 2, 4, 5, 6, 7, 9, 10, 11), (0, 2, 4, 5, 6, 8, 9, 10, 11), (0, 2, 4, 5, 7, 8, 9, 10, 11), (0, 2, 4, 6, 7, 8, 9, 10, 11), (0, 2, 5, 6, 7, 8, 9, 10, 11), (0, 3, 4, 5, 6, 7, 8, 9, 10), (0, 3, 4, 5, 6, 7, 8, 9, 11), (0, 3, 4, 5, 6, 7, 8, 10, 11), (0, 3, 4, 5, 6, 7, 9, 10, 11), (0, 3, 4, 5, 6, 8, 9, 10, 11), (0, 3, 4, 5, 7, 8, 9, 10, 11), (0, 3, 4, 6, 7, 8, 9, 10, 11), (0, 3, 5, 6, 7, 8, 9, 10, 11), (0, 4, 5, 6, 7, 8, 9, 10, 11), (1, 2, 3, 4, 5, 6, 7, 8, 9), (1, 2, 3, 4, 5, 6, 7, 8, 10), (1, 2, 3, 4, 5, 6, 7, 8, 11), (1, 2, 3, 4, 5, 6, 7, 9, 10), (1, 2, 3, 4, 5, 6, 7, 9, 11), (1, 2, 3, 4, 5, 6, 7, 10, 11), (1, 2, 3, 4, 5, 6, 8, 9, 10), (1, 2, 3, 4, 5, 6, 8, 9, 11), (1, 2, 3, 4, 5, 6, 8, 10, 11), (1, 2, 3, 4, 5, 6, 9, 10, 11), (1, 2, 3, 4, 5, 7, 8, 9, 10), (1, 2, 3, 4, 5, 7, 8, 9, 11), (1, 2, 3, 4, 5, 7, 8, 10, 11), (1, 2, 3, 4, 5, 7, 9, 10, 11), (1, 2, 3, 4, 5, 8, 9, 10, 11), (1, 2, 3, 4, 6, 7, 8, 9, 10), (1, 2, 3, 4, 6, 7, 8, 9, 11), (1, 2, 3, 4, 6, 7, 8, 10, 11), (1, 2, 3, 4, 6, 7, 9, 10, 11), (1, 2, 3, 4, 6, 8, 9, 10, 11), (1, 2, 3, 4, 7, 8, 9, 10, 11), (1, 2, 3, 5, 6, 7, 8, 9, 10), (1, 2, 3, 5, 6, 7, 8, 9, 11), (1, 2, 3, 5, 6, 7, 8, 10, 11), (1, 2, 3, 5, 6, 7, 9, 10, 11), (1, 2, 3, 5, 6, 8, 9, 10, 11), (1, 2, 3, 5, 7, 8, 9, 10, 11), (1, 2, 3, 6, 7, 8, 9, 10, 11), (1, 2, 4, 5, 6, 7, 8, 9, 10), (1, 2, 4, 5, 6, 7, 8, 9, 11), (1, 2, 4, 5, 6, 7, 8, 10, 11), (1, 2, 4, 5, 6, 7, 9, 10, 11), (1, 2, 4, 5, 6, 8, 9, 10, 11), (1, 2, 4, 5, 7, 8, 9, 10, 11), (1, 2, 4, 6, 7, 8, 9, 10, 11), (1, 2, 5, 6, 7, 8, 9, 10, 11), (1, 3, 4, 5, 6, 7, 8, 9, 10), (1, 3, 4, 5, 6, 7, 8, 9, 11), (1, 3, 4, 5, 6, 7, 8, 10, 11), (1, 3, 4, 5, 6, 7, 9, 10, 11), (1, 3, 4, 5, 6, 8, 9, 10, 11), (1, 3, 4, 5, 7, 8, 9, 10, 11), (1, 3, 4, 6, 7, 8, 9, 10, 11), (1, 3, 5, 6, 7, 8, 9, 10, 11), (1, 4, 5, 6, 7, 8, 9, 10, 11), (2, 3, 4, 5, 6, 7, 8, 9, 10), (2, 3, 4, 5, 6, 7, 8, 9, 11), (2, 3, 4, 5, 6, 7, 8, 10, 11), (2, 3, 4, 5, 6, 7, 9, 10, 11), (2, 3, 4, 5, 6, 8, 9, 10, 11), (2, 3, 4, 5, 7, 8, 9, 10, 11), (2, 3, 4, 6, 7, 8, 9, 10, 11), (2, 3, 5, 6, 7, 8, 9, 10, 11), (2, 4, 5, 6, 7, 8, 9, 10, 11), (3, 4, 5, 6, 7, 8, 9, 10, 11), (0, 1, 2, 3, 4, 5, 6, 7, 8, 9), (0, 1, 2, 3, 4, 5, 6, 7, 8, 10), (0, 1, 2, 3, 4, 5, 6, 7, 8, 11), (0, 1, 2, 3, 4, 5, 6, 7, 9, 10), (0, 1, 2, 3, 4, 5, 6, 7, 9, 11), (0, 1, 2, 3, 4, 5, 6, 7, 10, 11), (0, 1, 2, 3, 4, 5, 6, 8, 9, 10), (0, 1, 2, 3, 4, 5, 6, 8, 9, 11), (0, 1, 2, 3, 4, 5, 6, 8, 10, 11), (0, 1, 2, 3, 4, 5, 6, 9, 10, 11), (0, 1, 2, 3, 4, 5, 7, 8, 9, 10), (0, 1, 2, 3, 4, 5, 7, 8, 9, 11), (0, 1, 2, 3, 4, 5, 7, 8, 10, 11), (0, 1, 2, 3, 4, 5, 7, 9, 10, 11), (0, 1, 2, 3, 4, 5, 8, 9, 10, 11), (0, 1, 2, 3, 4, 6, 7, 8, 9, 10), (0, 1, 2, 3, 4, 6, 7, 8, 9, 11), (0, 1, 2, 3, 4, 6, 7, 8, 10, 11), (0, 1, 2, 3, 4, 6, 7, 9, 10, 11), (0, 1, 2, 3, 4, 6, 8, 9, 10, 11), (0, 1, 2, 3, 4, 7, 8, 9, 10, 11), (0, 1, 2, 3, 5, 6, 7, 8, 9, 10), (0, 1, 2, 3, 5, 6, 7, 8, 9, 11), (0, 1, 2, 3, 5, 6, 7, 8, 10, 11), (0, 1, 2, 3, 5, 6, 7, 9, 10, 11), (0, 1, 2, 3, 5, 6, 8, 9, 10, 11), (0, 1, 2, 3, 5, 7, 8, 9, 10, 11), (0, 1, 2, 3, 6, 7, 8, 9, 10, 11), (0, 1, 2, 4, 5, 6, 7, 8, 9, 10), (0, 1, 2, 4, 5, 6, 7, 8, 9, 11), (0, 1, 2, 4, 5, 6, 7, 8, 10, 11), (0, 1, 2, 4, 5, 6, 7, 9, 10, 11), (0, 1, 2, 4, 5, 6, 8, 9, 10, 11), (0, 1, 2, 4, 5, 7, 8, 9, 10, 11), (0, 1, 2, 4, 6, 7, 8, 9, 10, 11), (0, 1, 2, 5, 6, 7, 8, 9, 10, 11), (0, 1, 3, 4, 5, 6, 7, 8, 9, 10), (0, 1, 3, 4, 5, 6, 7, 8, 9, 11), (0, 1, 3, 4, 5, 6, 7, 8, 10, 11), (0, 1, 3, 4, 5, 6, 7, 9, 10, 11), (0, 1, 3, 4, 5, 6, 8, 9, 10, 11), (0, 1, 3, 4, 5, 7, 8, 9, 10, 11), (0, 1, 3, 4, 6, 7, 8, 9, 10, 11), (0, 1, 3, 5, 6, 7, 8, 9, 10, 11), (0, 1, 4, 5, 6, 7, 8, 9, 10, 11), (0, 2, 3, 4, 5, 6, 7, 8, 9, 10), (0, 2, 3, 4, 5, 6, 7, 8, 9, 11), (0, 2, 3, 4, 5, 6, 7, 8, 10, 11), (0, 2, 3, 4, 5, 6, 7, 9, 10, 11), (0, 2, 3, 4, 5, 6, 8, 9, 10, 11), (0, 2, 3, 4, 5, 7, 8, 9, 10, 11), (0, 2, 3, 4, 6, 7, 8, 9, 10, 11), (0, 2, 3, 5, 6, 7, 8, 9, 10, 11), (0, 2, 4, 5, 6, 7, 8, 9, 10, 11), (0, 3, 4, 5, 6, 7, 8, 9, 10, 11), (1, 2, 3, 4, 5, 6, 7, 8, 9, 10), (1, 2, 3, 4, 5, 6, 7, 8, 9, 11), (1, 2, 3, 4, 5, 6, 7, 8, 10, 11), (1, 2, 3, 4, 5, 6, 7, 9, 10, 11), (1, 2, 3, 4, 5, 6, 8, 9, 10, 11), (1, 2, 3, 4, 5, 7, 8, 9, 10, 11), (1, 2, 3, 4, 6, 7, 8, 9, 10, 11), (1, 2, 3, 5, 6, 7, 8, 9, 10, 11), (1, 2, 4, 5, 6, 7, 8, 9, 10, 11), (1, 3, 4, 5, 6, 7, 8, 9, 10, 11), (2, 3, 4, 5, 6, 7, 8, 9, 10, 11), (0, 1, 2, 3, 4, 5, 6, 7, 8, 9, 10), (0, 1, 2, 3, 4, 5, 6, 7, 8, 9, 11), (0, 1, 2, 3, 4, 5, 6, 7, 8, 10, 11), (0, 1, 2, 3, 4, 5, 6, 7, 9, 10, 11), (0, 1, 2, 3, 4, 5, 6, 8, 9, 10, 11), (0, 1, 2, 3, 4, 5, 7, 8, 9, 10, 11), (0, 1, 2, 3, 4, 6, 7, 8, 9, 10, 11), (0, 1, 2, 3, 5, 6, 7, 8, 9, 10, 11), (0, 1, 2, 4, 5, 6, 7, 8, 9, 10, 11), (0, 1, 3, 4, 5, 6, 7, 8, 9, 10, 11), (0, 2, 3, 4, 5, 6, 7, 8, 9, 10, 11), (1, 2, 3, 4, 5, 6, 7, 8, 9, 10, 11)]\n"
          ],
          "name": "stdout"
        }
      ]
    },
    {
      "cell_type": "code",
      "metadata": {
        "colab": {
          "base_uri": "https://localhost:8080/"
        },
        "id": "RuGuibbW2QTi",
        "outputId": "19ccd0eb-82cb-4b18-8b32-82e03be3dd5f"
      },
      "source": [
        "from mlxtend.feature_selection import ColumnSelector\n",
        "from sklearn.neighbors import KNeighborsClassifier\n",
        "from sklearn.preprocessing import StandardScaler\n",
        "from sklearn.model_selection import GridSearchCV\n",
        "from sklearn.pipeline import make_pipeline\n",
        "\n",
        "pipe = make_pipeline(StandardScaler(),\n",
        "                     ColumnSelector(),\n",
        "                     KNeighborsClassifier())\n",
        "\n",
        "param_grid = {'columnselector__cols': all_comb,\n",
        "              'kneighborsclassifier__n_neighbors': list(range(1, 11))}\n",
        "\n",
        "grid = GridSearchCV(pipe, param_grid, cv=5, n_jobs=-1)\n",
        "grid.fit(X, y)\n",
        "print('Best parameters:', grid.best_params_)\n",
        "print('Best performance:', grid.best_score_)"
      ],
      "execution_count": null,
      "outputs": [
        {
          "output_type": "stream",
          "text": [
            "/usr/local/lib/python3.7/dist-packages/sklearn/externals/joblib/__init__.py:15: FutureWarning:\n",
            "\n",
            "sklearn.externals.joblib is deprecated in 0.21 and will be removed in 0.23. Please import this functionality directly from joblib, which can be installed with: pip install joblib. If this warning is raised when loading pickled models, you may need to re-serialize those models with scikit-learn 0.21+.\n",
            "\n"
          ],
          "name": "stderr"
        },
        {
          "output_type": "stream",
          "text": [
            "Best parameters: {'columnselector__cols': (0,), 'kneighborsclassifier__n_neighbors': 1}\n",
            "Best performance: 1.0\n"
          ],
          "name": "stdout"
        },
        {
          "output_type": "stream",
          "text": [
            "/usr/local/lib/python3.7/dist-packages/sklearn/pipeline.py:354: DataConversionWarning:\n",
            "\n",
            "A column-vector y was passed when a 1d array was expected. Please change the shape of y to (n_samples, ), for example using ravel().\n",
            "\n"
          ],
          "name": "stderr"
        }
      ]
    },
    {
      "cell_type": "code",
      "metadata": {
        "colab": {
          "base_uri": "https://localhost:8080/"
        },
        "id": "lpLBlFNcB3XL",
        "outputId": "7a4568b8-771a-4c00-d377-28b705be5ffc"
      },
      "source": [
        "print('Best parameters:', grid.best_params_)\n",
        "print('Best performance:', grid.best_score_)"
      ],
      "execution_count": null,
      "outputs": [
        {
          "output_type": "stream",
          "text": [
            "Best parameters: {'columnselector__cols': (0,), 'kneighborsclassifier__n_neighbors': 1}\n",
            "Best performance: 1.0\n"
          ],
          "name": "stdout"
        }
      ]
    },
    {
      "cell_type": "code",
      "metadata": {
        "colab": {
          "base_uri": "https://localhost:8080/",
          "height": 439
        },
        "id": "DWWApSrW2x29",
        "outputId": "8db72ed7-2f0f-4885-efe3-70e17326cc7d"
      },
      "source": [
        "!pip install featuretools"
      ],
      "execution_count": null,
      "outputs": [
        {
          "output_type": "execute_result",
          "data": {
            "text/html": [
              "<div>\n",
              "<style scoped>\n",
              "    .dataframe tbody tr th:only-of-type {\n",
              "        vertical-align: middle;\n",
              "    }\n",
              "\n",
              "    .dataframe tbody tr th {\n",
              "        vertical-align: top;\n",
              "    }\n",
              "\n",
              "    .dataframe thead th {\n",
              "        text-align: right;\n",
              "    }\n",
              "</style>\n",
              "<table border=\"1\" class=\"dataframe\">\n",
              "  <thead>\n",
              "    <tr style=\"text-align: right;\">\n",
              "      <th></th>\n",
              "      <th>basecode</th>\n",
              "      <th>suggested_ptc</th>\n",
              "      <th>planned_ptc</th>\n",
              "      <th>holiady_ind</th>\n",
              "      <th>selling_store_count</th>\n",
              "      <th>actual_str_cnt</th>\n",
              "      <th>selling_store_ratio</th>\n",
              "      <th>promotion_depth</th>\n",
              "      <th>lag_1_promotion_depth</th>\n",
              "      <th>lag_1_ptc</th>\n",
              "      <th>uch_level_g_cat</th>\n",
              "      <th>promo_ind</th>\n",
              "    </tr>\n",
              "  </thead>\n",
              "  <tbody>\n",
              "    <tr>\n",
              "      <th>0</th>\n",
              "      <td>681000111700</td>\n",
              "      <td>4.32</td>\n",
              "      <td>4.99</td>\n",
              "      <td>0</td>\n",
              "      <td>440</td>\n",
              "      <td>588</td>\n",
              "      <td>0.748299</td>\n",
              "      <td>1.155093</td>\n",
              "      <td>1.155093</td>\n",
              "      <td>4.99</td>\n",
              "      <td>0</td>\n",
              "      <td>0</td>\n",
              "    </tr>\n",
              "    <tr>\n",
              "      <th>1</th>\n",
              "      <td>681000112500</td>\n",
              "      <td>4.32</td>\n",
              "      <td>4.99</td>\n",
              "      <td>0</td>\n",
              "      <td>455</td>\n",
              "      <td>588</td>\n",
              "      <td>0.773810</td>\n",
              "      <td>1.155093</td>\n",
              "      <td>1.155093</td>\n",
              "      <td>4.99</td>\n",
              "      <td>0</td>\n",
              "      <td>0</td>\n",
              "    </tr>\n",
              "    <tr>\n",
              "      <th>2</th>\n",
              "      <td>681000145500</td>\n",
              "      <td>3.04</td>\n",
              "      <td>4.49</td>\n",
              "      <td>0</td>\n",
              "      <td>429</td>\n",
              "      <td>588</td>\n",
              "      <td>0.729592</td>\n",
              "      <td>1.476974</td>\n",
              "      <td>0.654605</td>\n",
              "      <td>1.99</td>\n",
              "      <td>0</td>\n",
              "      <td>0</td>\n",
              "    </tr>\n",
              "    <tr>\n",
              "      <th>3</th>\n",
              "      <td>681000145900</td>\n",
              "      <td>3.04</td>\n",
              "      <td>4.49</td>\n",
              "      <td>0</td>\n",
              "      <td>419</td>\n",
              "      <td>588</td>\n",
              "      <td>0.712585</td>\n",
              "      <td>1.476974</td>\n",
              "      <td>0.654605</td>\n",
              "      <td>1.99</td>\n",
              "      <td>0</td>\n",
              "      <td>0</td>\n",
              "    </tr>\n",
              "    <tr>\n",
              "      <th>4</th>\n",
              "      <td>681000146500</td>\n",
              "      <td>3.04</td>\n",
              "      <td>4.49</td>\n",
              "      <td>0</td>\n",
              "      <td>358</td>\n",
              "      <td>588</td>\n",
              "      <td>0.608844</td>\n",
              "      <td>1.476974</td>\n",
              "      <td>0.654605</td>\n",
              "      <td>1.99</td>\n",
              "      <td>0</td>\n",
              "      <td>0</td>\n",
              "    </tr>\n",
              "    <tr>\n",
              "      <th>...</th>\n",
              "      <td>...</td>\n",
              "      <td>...</td>\n",
              "      <td>...</td>\n",
              "      <td>...</td>\n",
              "      <td>...</td>\n",
              "      <td>...</td>\n",
              "      <td>...</td>\n",
              "      <td>...</td>\n",
              "      <td>...</td>\n",
              "      <td>...</td>\n",
              "      <td>...</td>\n",
              "      <td>...</td>\n",
              "    </tr>\n",
              "    <tr>\n",
              "      <th>132342</th>\n",
              "      <td>681009006400</td>\n",
              "      <td>5.76</td>\n",
              "      <td>5.99</td>\n",
              "      <td>0</td>\n",
              "      <td>1</td>\n",
              "      <td>963</td>\n",
              "      <td>0.001038</td>\n",
              "      <td>1.039931</td>\n",
              "      <td>1.039931</td>\n",
              "      <td>5.99</td>\n",
              "      <td>24</td>\n",
              "      <td>1</td>\n",
              "    </tr>\n",
              "    <tr>\n",
              "      <th>132343</th>\n",
              "      <td>681009006400</td>\n",
              "      <td>5.76</td>\n",
              "      <td>6.46</td>\n",
              "      <td>0</td>\n",
              "      <td>10</td>\n",
              "      <td>963</td>\n",
              "      <td>0.010384</td>\n",
              "      <td>1.121528</td>\n",
              "      <td>0.887153</td>\n",
              "      <td>5.11</td>\n",
              "      <td>24</td>\n",
              "      <td>0</td>\n",
              "    </tr>\n",
              "    <tr>\n",
              "      <th>132344</th>\n",
              "      <td>681009006600</td>\n",
              "      <td>4.32</td>\n",
              "      <td>5.40</td>\n",
              "      <td>0</td>\n",
              "      <td>12</td>\n",
              "      <td>963</td>\n",
              "      <td>0.012461</td>\n",
              "      <td>1.250000</td>\n",
              "      <td>1.233796</td>\n",
              "      <td>5.33</td>\n",
              "      <td>24</td>\n",
              "      <td>0</td>\n",
              "    </tr>\n",
              "    <tr>\n",
              "      <th>132345</th>\n",
              "      <td>681009006600</td>\n",
              "      <td>4.32</td>\n",
              "      <td>4.49</td>\n",
              "      <td>0</td>\n",
              "      <td>3</td>\n",
              "      <td>963</td>\n",
              "      <td>0.003115</td>\n",
              "      <td>1.039352</td>\n",
              "      <td>1.039352</td>\n",
              "      <td>4.49</td>\n",
              "      <td>24</td>\n",
              "      <td>1</td>\n",
              "    </tr>\n",
              "    <tr>\n",
              "      <th>132346</th>\n",
              "      <td>681009013200</td>\n",
              "      <td>4.32</td>\n",
              "      <td>4.99</td>\n",
              "      <td>0</td>\n",
              "      <td>1</td>\n",
              "      <td>963</td>\n",
              "      <td>0.001038</td>\n",
              "      <td>1.155093</td>\n",
              "      <td>0.687500</td>\n",
              "      <td>2.97</td>\n",
              "      <td>24</td>\n",
              "      <td>0</td>\n",
              "    </tr>\n",
              "  </tbody>\n",
              "</table>\n",
              "<p>132347 rows × 12 columns</p>\n",
              "</div>"
            ],
            "text/plain": [
              "            basecode  suggested_ptc  ...  uch_level_g_cat  promo_ind\n",
              "0       681000111700           4.32  ...                0          0\n",
              "1       681000112500           4.32  ...                0          0\n",
              "2       681000145500           3.04  ...                0          0\n",
              "3       681000145900           3.04  ...                0          0\n",
              "4       681000146500           3.04  ...                0          0\n",
              "...              ...            ...  ...              ...        ...\n",
              "132342  681009006400           5.76  ...               24          1\n",
              "132343  681009006400           5.76  ...               24          0\n",
              "132344  681009006600           4.32  ...               24          0\n",
              "132345  681009006600           4.32  ...               24          1\n",
              "132346  681009013200           4.32  ...               24          0\n",
              "\n",
              "[132347 rows x 12 columns]"
            ]
          },
          "metadata": {
            "tags": []
          },
          "execution_count": 62
        }
      ]
    }
  ]
}